{
 "cells": [
  {
   "cell_type": "markdown",
   "metadata": {},
   "source": [
    "# Human Trafficking\n",
    "\n",
    "Estes dados consistem em informações sobre vítimas identificadas e relatadas de tráfico humano. As variáveis captam informações do perfil sociodemográfico das vítimas, o processo de tráfico (como meios de controle utilizados nas vítimas) e tipo de exploração.\n",
    "\n",
    "Este conjunto de dados pode ser baixado do site da [*Counter Trafficking Data Collaborative*](https://www.ctdatacollaborative.org/) por qualquer pessoa interessada em realizar suas próprias análises. O conjunto de dados globais combina dados de diversos parceiros e é submetido a duas fases de desidentificação de dados. Primeiramente todos os nomes e detalhes de identificação são removidos dos dados antes da combinação e, após a combinação os dados são k-anonimizados (k=11).\n",
    "\n",
    "K-anonimização (*K-anonymization*) é uma técnica de anonimização de dados que redige casos caindo em conjuntos com menos de k-1 membros, onde cada conjunto é definido por uma combinação única de valores das diferentes variáveis em um conjunto de dados. Isso significa que não é possível consultar um conjunto de dados e ter retorno inferior a um número pré-determinado (k-1) de resultados, independentemente da consulta. Com base em pesquisa e testes, adotou-se k=11 para os dados CTDC, o que significa que os casos foram redigidos a partir do conjunto de dados global de tal forma que as consultas para o conjunto de dados global não podem retornar menos de 10 resultados.\n",
    "\n",
    "Salienta-se que este conjunto de dados não pode ser considerado uma amostra aleatória ou necessariamente representativa de todas as vítimas do tráfico de seres humanos a nível mundial, devido à natureza deste crime oculto.  O conjunto de dados é composto por casos identificados ou auto notificados de vítimas de tráfico. Na medida em que certos tipos de tráfico humano podem ser mais propensos a serem identificados, reconhecidos ou relatados, esse conjunto de dados será tendencioso em relação a esses tipos de tráfico em comparação com a população de vítimas de tráfico no mundo (identificados e não identificado). Os dados também podem ter um viés geográfico à medida que são coletados em locais onde as operações de combate ao tráfico são conduzidas. "
   ]
  },
  {
   "cell_type": "code",
   "execution_count": 47,
   "metadata": {},
   "outputs": [],
   "source": [
    "import pandas as pd\n",
    "import numpy as np\n",
    "import matplotlib.pyplot as plt\n",
    "import seaborn as sns\n",
    "sns.set_style('whitegrid')\n",
    "import plotly.express as px        \n",
    "import plotly.figure_factory as ff \n",
    "import chart_studio.plotly as py\n",
    "import plotly.graph_objects as go\n",
    "%matplotlib inline"
   ]
  },
  {
   "cell_type": "code",
   "execution_count": 2,
   "metadata": {},
   "outputs": [
    {
     "output_type": "execute_result",
     "data": {
      "text/plain": "   yearOfRegistration       Datasource  gender ageBroad majorityStatus  \\\n0                2002  Case Management  Female   18--20          Adult   \n1                2002  Case Management  Female   18--20          Adult   \n2                2002  Case Management  Female   18--20          Adult   \n3                2002  Case Management  Female   18--20          Adult   \n4                2002  Case Management  Female   18--20          Adult   \n\n  majorityStatusAtExploit majorityEntry citizenship  \\\n0                     NaN           NaN          CO   \n1                     NaN           NaN          CO   \n2                     NaN           NaN          CO   \n3                     NaN           NaN          CO   \n4                     NaN           NaN          CO   \n\n   meansOfControlDebtBondage  meansOfControlTakesEarnings  ...  \\\n0                        NaN                          NaN  ...   \n1                        NaN                          NaN  ...   \n2                        NaN                          NaN  ...   \n3                        NaN                          NaN  ...   \n4                        NaN                          NaN  ...   \n\n   typeOfSexPrivateSexualServices  typeOfSexConcatenated  isAbduction  \\\n0                             NaN                    NaN          NaN   \n1                             NaN                    NaN          NaN   \n2                             NaN                    NaN          NaN   \n3                             NaN                    NaN          NaN   \n4                             NaN                    NaN          NaN   \n\n   RecruiterRelationship  CountryOfExploitation  \\\n0                    NaN                    NaN   \n1                    NaN                    NaN   \n2                    NaN                    NaN   \n3                    NaN                    NaN   \n4                    NaN                    NaN   \n\n   recruiterRelationIntimatePartner  recruiterRelationFriend  \\\n0                               0.0                      0.0   \n1                               0.0                      0.0   \n2                               0.0                      0.0   \n3                               0.0                      0.0   \n4                               0.0                      0.0   \n\n   recruiterRelationFamily  recruiterRelationOther  recruiterRelationUnknown  \n0                      0.0                     0.0                       1.0  \n1                      0.0                     0.0                       1.0  \n2                      0.0                     0.0                       1.0  \n3                      0.0                     0.0                       1.0  \n4                      0.0                     0.0                       1.0  \n\n[5 rows x 63 columns]",
      "text/html": "<div>\n<style scoped>\n    .dataframe tbody tr th:only-of-type {\n        vertical-align: middle;\n    }\n\n    .dataframe tbody tr th {\n        vertical-align: top;\n    }\n\n    .dataframe thead th {\n        text-align: right;\n    }\n</style>\n<table border=\"1\" class=\"dataframe\">\n  <thead>\n    <tr style=\"text-align: right;\">\n      <th></th>\n      <th>yearOfRegistration</th>\n      <th>Datasource</th>\n      <th>gender</th>\n      <th>ageBroad</th>\n      <th>majorityStatus</th>\n      <th>majorityStatusAtExploit</th>\n      <th>majorityEntry</th>\n      <th>citizenship</th>\n      <th>meansOfControlDebtBondage</th>\n      <th>meansOfControlTakesEarnings</th>\n      <th>...</th>\n      <th>typeOfSexPrivateSexualServices</th>\n      <th>typeOfSexConcatenated</th>\n      <th>isAbduction</th>\n      <th>RecruiterRelationship</th>\n      <th>CountryOfExploitation</th>\n      <th>recruiterRelationIntimatePartner</th>\n      <th>recruiterRelationFriend</th>\n      <th>recruiterRelationFamily</th>\n      <th>recruiterRelationOther</th>\n      <th>recruiterRelationUnknown</th>\n    </tr>\n  </thead>\n  <tbody>\n    <tr>\n      <th>0</th>\n      <td>2002</td>\n      <td>Case Management</td>\n      <td>Female</td>\n      <td>18--20</td>\n      <td>Adult</td>\n      <td>NaN</td>\n      <td>NaN</td>\n      <td>CO</td>\n      <td>NaN</td>\n      <td>NaN</td>\n      <td>...</td>\n      <td>NaN</td>\n      <td>NaN</td>\n      <td>NaN</td>\n      <td>NaN</td>\n      <td>NaN</td>\n      <td>0.0</td>\n      <td>0.0</td>\n      <td>0.0</td>\n      <td>0.0</td>\n      <td>1.0</td>\n    </tr>\n    <tr>\n      <th>1</th>\n      <td>2002</td>\n      <td>Case Management</td>\n      <td>Female</td>\n      <td>18--20</td>\n      <td>Adult</td>\n      <td>NaN</td>\n      <td>NaN</td>\n      <td>CO</td>\n      <td>NaN</td>\n      <td>NaN</td>\n      <td>...</td>\n      <td>NaN</td>\n      <td>NaN</td>\n      <td>NaN</td>\n      <td>NaN</td>\n      <td>NaN</td>\n      <td>0.0</td>\n      <td>0.0</td>\n      <td>0.0</td>\n      <td>0.0</td>\n      <td>1.0</td>\n    </tr>\n    <tr>\n      <th>2</th>\n      <td>2002</td>\n      <td>Case Management</td>\n      <td>Female</td>\n      <td>18--20</td>\n      <td>Adult</td>\n      <td>NaN</td>\n      <td>NaN</td>\n      <td>CO</td>\n      <td>NaN</td>\n      <td>NaN</td>\n      <td>...</td>\n      <td>NaN</td>\n      <td>NaN</td>\n      <td>NaN</td>\n      <td>NaN</td>\n      <td>NaN</td>\n      <td>0.0</td>\n      <td>0.0</td>\n      <td>0.0</td>\n      <td>0.0</td>\n      <td>1.0</td>\n    </tr>\n    <tr>\n      <th>3</th>\n      <td>2002</td>\n      <td>Case Management</td>\n      <td>Female</td>\n      <td>18--20</td>\n      <td>Adult</td>\n      <td>NaN</td>\n      <td>NaN</td>\n      <td>CO</td>\n      <td>NaN</td>\n      <td>NaN</td>\n      <td>...</td>\n      <td>NaN</td>\n      <td>NaN</td>\n      <td>NaN</td>\n      <td>NaN</td>\n      <td>NaN</td>\n      <td>0.0</td>\n      <td>0.0</td>\n      <td>0.0</td>\n      <td>0.0</td>\n      <td>1.0</td>\n    </tr>\n    <tr>\n      <th>4</th>\n      <td>2002</td>\n      <td>Case Management</td>\n      <td>Female</td>\n      <td>18--20</td>\n      <td>Adult</td>\n      <td>NaN</td>\n      <td>NaN</td>\n      <td>CO</td>\n      <td>NaN</td>\n      <td>NaN</td>\n      <td>...</td>\n      <td>NaN</td>\n      <td>NaN</td>\n      <td>NaN</td>\n      <td>NaN</td>\n      <td>NaN</td>\n      <td>0.0</td>\n      <td>0.0</td>\n      <td>0.0</td>\n      <td>0.0</td>\n      <td>1.0</td>\n    </tr>\n  </tbody>\n</table>\n<p>5 rows × 63 columns</p>\n</div>"
     },
     "metadata": {},
     "execution_count": 2
    }
   ],
   "source": [
    "# lendo os dados\n",
    "dados = pd.read_csv('The Global Dataset 14 Apr 2020.csv',na_values='-99')\n",
    "dados.head()"
   ]
  },
  {
   "cell_type": "code",
   "execution_count": 3,
   "metadata": {},
   "outputs": [
    {
     "output_type": "execute_result",
     "data": {
      "text/plain": "  country   latitude  longitude                  name\n0      AD  42.546245   1.601554               Andorra\n1      AE  23.424076  53.847818  United Arab Emirates\n2      AF  33.939110  67.709953           Afghanistan\n3      AG  17.060816 -61.796428   Antigua and Barbuda\n4      AI  18.220554 -63.068615              Anguilla",
      "text/html": "<div>\n<style scoped>\n    .dataframe tbody tr th:only-of-type {\n        vertical-align: middle;\n    }\n\n    .dataframe tbody tr th {\n        vertical-align: top;\n    }\n\n    .dataframe thead th {\n        text-align: right;\n    }\n</style>\n<table border=\"1\" class=\"dataframe\">\n  <thead>\n    <tr style=\"text-align: right;\">\n      <th></th>\n      <th>country</th>\n      <th>latitude</th>\n      <th>longitude</th>\n      <th>name</th>\n    </tr>\n  </thead>\n  <tbody>\n    <tr>\n      <th>0</th>\n      <td>AD</td>\n      <td>42.546245</td>\n      <td>1.601554</td>\n      <td>Andorra</td>\n    </tr>\n    <tr>\n      <th>1</th>\n      <td>AE</td>\n      <td>23.424076</td>\n      <td>53.847818</td>\n      <td>United Arab Emirates</td>\n    </tr>\n    <tr>\n      <th>2</th>\n      <td>AF</td>\n      <td>33.939110</td>\n      <td>67.709953</td>\n      <td>Afghanistan</td>\n    </tr>\n    <tr>\n      <th>3</th>\n      <td>AG</td>\n      <td>17.060816</td>\n      <td>-61.796428</td>\n      <td>Antigua and Barbuda</td>\n    </tr>\n    <tr>\n      <th>4</th>\n      <td>AI</td>\n      <td>18.220554</td>\n      <td>-63.068615</td>\n      <td>Anguilla</td>\n    </tr>\n  </tbody>\n</table>\n</div>"
     },
     "metadata": {},
     "execution_count": 3
    }
   ],
   "source": [
    "lon_lat_country = pd.read_excel('lon_lat_country.xlsx')\n",
    "lon_lat_country.head()"
   ]
  },
  {
   "cell_type": "markdown",
   "metadata": {},
   "source": [
    "## Análise de valores ausentes"
   ]
  },
  {
   "cell_type": "code",
   "execution_count": 4,
   "metadata": {},
   "outputs": [
    {
     "output_type": "execute_result",
     "data": {
      "text/plain": "                                   colunas  missing_porc\n20              meansOfControlUsesChildren     99.690580\n10  meansOfControlRestrictsFinancialAccess     99.481568\n34                   isSlaveryAndPractices     96.745968\n21    meansOfControlThreatOfLawEnforcement     95.885330\n8                meansOfControlDebtBondage     94.885351\n..                                     ...           ...\n7                              citizenship      0.569660\n62                recruiterRelationUnknown      0.157784\n1                               Datasource      0.000000\n2                                   gender      0.000000\n0                       yearOfRegistration      0.000000\n\n[63 rows x 2 columns]",
      "text/html": "<div>\n<style scoped>\n    .dataframe tbody tr th:only-of-type {\n        vertical-align: middle;\n    }\n\n    .dataframe tbody tr th {\n        vertical-align: top;\n    }\n\n    .dataframe thead th {\n        text-align: right;\n    }\n</style>\n<table border=\"1\" class=\"dataframe\">\n  <thead>\n    <tr style=\"text-align: right;\">\n      <th></th>\n      <th>colunas</th>\n      <th>missing_porc</th>\n    </tr>\n  </thead>\n  <tbody>\n    <tr>\n      <th>20</th>\n      <td>meansOfControlUsesChildren</td>\n      <td>99.690580</td>\n    </tr>\n    <tr>\n      <th>10</th>\n      <td>meansOfControlRestrictsFinancialAccess</td>\n      <td>99.481568</td>\n    </tr>\n    <tr>\n      <th>34</th>\n      <td>isSlaveryAndPractices</td>\n      <td>96.745968</td>\n    </tr>\n    <tr>\n      <th>21</th>\n      <td>meansOfControlThreatOfLawEnforcement</td>\n      <td>95.885330</td>\n    </tr>\n    <tr>\n      <th>8</th>\n      <td>meansOfControlDebtBondage</td>\n      <td>94.885351</td>\n    </tr>\n    <tr>\n      <th>...</th>\n      <td>...</td>\n      <td>...</td>\n    </tr>\n    <tr>\n      <th>7</th>\n      <td>citizenship</td>\n      <td>0.569660</td>\n    </tr>\n    <tr>\n      <th>62</th>\n      <td>recruiterRelationUnknown</td>\n      <td>0.157784</td>\n    </tr>\n    <tr>\n      <th>1</th>\n      <td>Datasource</td>\n      <td>0.000000</td>\n    </tr>\n    <tr>\n      <th>2</th>\n      <td>gender</td>\n      <td>0.000000</td>\n    </tr>\n    <tr>\n      <th>0</th>\n      <td>yearOfRegistration</td>\n      <td>0.000000</td>\n    </tr>\n  </tbody>\n</table>\n<p>63 rows × 2 columns</p>\n</div>"
     },
     "metadata": {},
     "execution_count": 4
    }
   ],
   "source": [
    "ausentes = pd.DataFrame(\\\n",
    "    dict(\\\n",
    "        colunas = dados.columns,\\\n",
    "        missing_porc = dados.apply(lambda col: col.isna().sum()/dados.shape[0]*100)\\\n",
    "        )\\\n",
    "    ).reset_index(drop = True)\n",
    "ausentes.sort_values(ascending=False,by = 'missing_porc',inplace=True)\n",
    "ausentes"
   ]
  },
  {
   "cell_type": "code",
   "execution_count": 5,
   "metadata": {},
   "outputs": [
    {
     "output_type": "display_data",
     "data": {
      "text/plain": "<Figure size 1080x720 with 1 Axes>",
      "image/svg+xml": "<?xml version=\"1.0\" encoding=\"utf-8\" standalone=\"no\"?>\n<!DOCTYPE svg PUBLIC \"-//W3C//DTD SVG 1.1//EN\"\n  \"http://www.w3.org/Graphics/SVG/1.1/DTD/svg11.dtd\">\n<!-- Created with matplotlib (https://matplotlib.org/) -->\n<svg height=\"588.634375pt\" version=\"1.1\" viewBox=\"0 0 1080.96875 588.634375\" width=\"1080.96875pt\" xmlns=\"http://www.w3.org/2000/svg\" xmlns:xlink=\"http://www.w3.org/1999/xlink\">\n <defs>\n  <style type=\"text/css\">\n*{stroke-linecap:butt;stroke-linejoin:round;}\n  </style>\n </defs>\n <g id=\"figure_1\">\n  <g id=\"patch_1\">\n   <path d=\"M 0 588.634375 \nL 1080.96875 588.634375 \nL 1080.96875 0 \nL 0 0 \nz\n\" style=\"fill:none;\"/>\n  </g>\n  <g id=\"axes_1\">\n   <g id=\"patch_2\">\n    <path d=\"M 236.76875 550.8 \nL 1073.76875 550.8 \nL 1073.76875 7.2 \nL 236.76875 7.2 \nz\n\" style=\"fill:#ffffff;\"/>\n   </g>\n   <g id=\"matplotlib.axis_1\">\n    <g id=\"xtick_1\">\n     <g id=\"line2d_1\">\n      <path clip-path=\"url(#p044beb343e)\" d=\"M 236.76875 550.8 \nL 236.76875 7.2 \n\" style=\"fill:none;stroke:#cccccc;stroke-linecap:round;stroke-width:0.8;\"/>\n     </g>\n     <g id=\"text_1\">\n      <!-- 0 -->\n      <defs>\n       <path d=\"M 31.78125 66.40625 \nQ 24.171875 66.40625 20.328125 58.90625 \nQ 16.5 51.421875 16.5 36.375 \nQ 16.5 21.390625 20.328125 13.890625 \nQ 24.171875 6.390625 31.78125 6.390625 \nQ 39.453125 6.390625 43.28125 13.890625 \nQ 47.125 21.390625 47.125 36.375 \nQ 47.125 51.421875 43.28125 58.90625 \nQ 39.453125 66.40625 31.78125 66.40625 \nz\nM 31.78125 74.21875 \nQ 44.046875 74.21875 50.515625 64.515625 \nQ 56.984375 54.828125 56.984375 36.375 \nQ 56.984375 17.96875 50.515625 8.265625 \nQ 44.046875 -1.421875 31.78125 -1.421875 \nQ 19.53125 -1.421875 13.0625 8.265625 \nQ 6.59375 17.96875 6.59375 36.375 \nQ 6.59375 54.828125 13.0625 64.515625 \nQ 19.53125 74.21875 31.78125 74.21875 \nz\n\" id=\"DejaVuSans-48\"/>\n      </defs>\n      <g style=\"fill:#262626;\" transform=\"translate(233.5875 565.398438)scale(0.1 -0.1)\">\n       <use xlink:href=\"#DejaVuSans-48\"/>\n      </g>\n     </g>\n    </g>\n    <g id=\"xtick_2\">\n     <g id=\"line2d_2\">\n      <path clip-path=\"url(#p044beb343e)\" d=\"M 396.692156 550.8 \nL 396.692156 7.2 \n\" style=\"fill:none;stroke:#cccccc;stroke-linecap:round;stroke-width:0.8;\"/>\n     </g>\n     <g id=\"text_2\">\n      <!-- 20 -->\n      <defs>\n       <path d=\"M 19.1875 8.296875 \nL 53.609375 8.296875 \nL 53.609375 0 \nL 7.328125 0 \nL 7.328125 8.296875 \nQ 12.9375 14.109375 22.625 23.890625 \nQ 32.328125 33.6875 34.8125 36.53125 \nQ 39.546875 41.84375 41.421875 45.53125 \nQ 43.3125 49.21875 43.3125 52.78125 \nQ 43.3125 58.59375 39.234375 62.25 \nQ 35.15625 65.921875 28.609375 65.921875 \nQ 23.96875 65.921875 18.8125 64.3125 \nQ 13.671875 62.703125 7.8125 59.421875 \nL 7.8125 69.390625 \nQ 13.765625 71.78125 18.9375 73 \nQ 24.125 74.21875 28.421875 74.21875 \nQ 39.75 74.21875 46.484375 68.546875 \nQ 53.21875 62.890625 53.21875 53.421875 \nQ 53.21875 48.921875 51.53125 44.890625 \nQ 49.859375 40.875 45.40625 35.40625 \nQ 44.1875 33.984375 37.640625 27.21875 \nQ 31.109375 20.453125 19.1875 8.296875 \nz\n\" id=\"DejaVuSans-50\"/>\n      </defs>\n      <g style=\"fill:#262626;\" transform=\"translate(390.329656 565.398438)scale(0.1 -0.1)\">\n       <use xlink:href=\"#DejaVuSans-50\"/>\n       <use x=\"63.623047\" xlink:href=\"#DejaVuSans-48\"/>\n      </g>\n     </g>\n    </g>\n    <g id=\"xtick_3\">\n     <g id=\"line2d_3\">\n      <path clip-path=\"url(#p044beb343e)\" d=\"M 556.615563 550.8 \nL 556.615563 7.2 \n\" style=\"fill:none;stroke:#cccccc;stroke-linecap:round;stroke-width:0.8;\"/>\n     </g>\n     <g id=\"text_3\">\n      <!-- 40 -->\n      <defs>\n       <path d=\"M 37.796875 64.3125 \nL 12.890625 25.390625 \nL 37.796875 25.390625 \nz\nM 35.203125 72.90625 \nL 47.609375 72.90625 \nL 47.609375 25.390625 \nL 58.015625 25.390625 \nL 58.015625 17.1875 \nL 47.609375 17.1875 \nL 47.609375 0 \nL 37.796875 0 \nL 37.796875 17.1875 \nL 4.890625 17.1875 \nL 4.890625 26.703125 \nz\n\" id=\"DejaVuSans-52\"/>\n      </defs>\n      <g style=\"fill:#262626;\" transform=\"translate(550.253063 565.398438)scale(0.1 -0.1)\">\n       <use xlink:href=\"#DejaVuSans-52\"/>\n       <use x=\"63.623047\" xlink:href=\"#DejaVuSans-48\"/>\n      </g>\n     </g>\n    </g>\n    <g id=\"xtick_4\">\n     <g id=\"line2d_4\">\n      <path clip-path=\"url(#p044beb343e)\" d=\"M 716.538969 550.8 \nL 716.538969 7.2 \n\" style=\"fill:none;stroke:#cccccc;stroke-linecap:round;stroke-width:0.8;\"/>\n     </g>\n     <g id=\"text_4\">\n      <!-- 60 -->\n      <defs>\n       <path d=\"M 33.015625 40.375 \nQ 26.375 40.375 22.484375 35.828125 \nQ 18.609375 31.296875 18.609375 23.390625 \nQ 18.609375 15.53125 22.484375 10.953125 \nQ 26.375 6.390625 33.015625 6.390625 \nQ 39.65625 6.390625 43.53125 10.953125 \nQ 47.40625 15.53125 47.40625 23.390625 \nQ 47.40625 31.296875 43.53125 35.828125 \nQ 39.65625 40.375 33.015625 40.375 \nz\nM 52.59375 71.296875 \nL 52.59375 62.3125 \nQ 48.875 64.0625 45.09375 64.984375 \nQ 41.3125 65.921875 37.59375 65.921875 \nQ 27.828125 65.921875 22.671875 59.328125 \nQ 17.53125 52.734375 16.796875 39.40625 \nQ 19.671875 43.65625 24.015625 45.921875 \nQ 28.375 48.1875 33.59375 48.1875 \nQ 44.578125 48.1875 50.953125 41.515625 \nQ 57.328125 34.859375 57.328125 23.390625 \nQ 57.328125 12.15625 50.6875 5.359375 \nQ 44.046875 -1.421875 33.015625 -1.421875 \nQ 20.359375 -1.421875 13.671875 8.265625 \nQ 6.984375 17.96875 6.984375 36.375 \nQ 6.984375 53.65625 15.1875 63.9375 \nQ 23.390625 74.21875 37.203125 74.21875 \nQ 40.921875 74.21875 44.703125 73.484375 \nQ 48.484375 72.75 52.59375 71.296875 \nz\n\" id=\"DejaVuSans-54\"/>\n      </defs>\n      <g style=\"fill:#262626;\" transform=\"translate(710.176469 565.398438)scale(0.1 -0.1)\">\n       <use xlink:href=\"#DejaVuSans-54\"/>\n       <use x=\"63.623047\" xlink:href=\"#DejaVuSans-48\"/>\n      </g>\n     </g>\n    </g>\n    <g id=\"xtick_5\">\n     <g id=\"line2d_5\">\n      <path clip-path=\"url(#p044beb343e)\" d=\"M 876.462375 550.8 \nL 876.462375 7.2 \n\" style=\"fill:none;stroke:#cccccc;stroke-linecap:round;stroke-width:0.8;\"/>\n     </g>\n     <g id=\"text_5\">\n      <!-- 80 -->\n      <defs>\n       <path d=\"M 31.78125 34.625 \nQ 24.75 34.625 20.71875 30.859375 \nQ 16.703125 27.09375 16.703125 20.515625 \nQ 16.703125 13.921875 20.71875 10.15625 \nQ 24.75 6.390625 31.78125 6.390625 \nQ 38.8125 6.390625 42.859375 10.171875 \nQ 46.921875 13.96875 46.921875 20.515625 \nQ 46.921875 27.09375 42.890625 30.859375 \nQ 38.875 34.625 31.78125 34.625 \nz\nM 21.921875 38.8125 \nQ 15.578125 40.375 12.03125 44.71875 \nQ 8.5 49.078125 8.5 55.328125 \nQ 8.5 64.0625 14.71875 69.140625 \nQ 20.953125 74.21875 31.78125 74.21875 \nQ 42.671875 74.21875 48.875 69.140625 \nQ 55.078125 64.0625 55.078125 55.328125 \nQ 55.078125 49.078125 51.53125 44.71875 \nQ 48 40.375 41.703125 38.8125 \nQ 48.828125 37.15625 52.796875 32.3125 \nQ 56.78125 27.484375 56.78125 20.515625 \nQ 56.78125 9.90625 50.3125 4.234375 \nQ 43.84375 -1.421875 31.78125 -1.421875 \nQ 19.734375 -1.421875 13.25 4.234375 \nQ 6.78125 9.90625 6.78125 20.515625 \nQ 6.78125 27.484375 10.78125 32.3125 \nQ 14.796875 37.15625 21.921875 38.8125 \nz\nM 18.3125 54.390625 \nQ 18.3125 48.734375 21.84375 45.5625 \nQ 25.390625 42.390625 31.78125 42.390625 \nQ 38.140625 42.390625 41.71875 45.5625 \nQ 45.3125 48.734375 45.3125 54.390625 \nQ 45.3125 60.0625 41.71875 63.234375 \nQ 38.140625 66.40625 31.78125 66.40625 \nQ 25.390625 66.40625 21.84375 63.234375 \nQ 18.3125 60.0625 18.3125 54.390625 \nz\n\" id=\"DejaVuSans-56\"/>\n      </defs>\n      <g style=\"fill:#262626;\" transform=\"translate(870.099875 565.398438)scale(0.1 -0.1)\">\n       <use xlink:href=\"#DejaVuSans-56\"/>\n       <use x=\"63.623047\" xlink:href=\"#DejaVuSans-48\"/>\n      </g>\n     </g>\n    </g>\n    <g id=\"xtick_6\">\n     <g id=\"line2d_6\">\n      <path clip-path=\"url(#p044beb343e)\" d=\"M 1036.385781 550.8 \nL 1036.385781 7.2 \n\" style=\"fill:none;stroke:#cccccc;stroke-linecap:round;stroke-width:0.8;\"/>\n     </g>\n     <g id=\"text_6\">\n      <!-- 100 -->\n      <defs>\n       <path d=\"M 12.40625 8.296875 \nL 28.515625 8.296875 \nL 28.515625 63.921875 \nL 10.984375 60.40625 \nL 10.984375 69.390625 \nL 28.421875 72.90625 \nL 38.28125 72.90625 \nL 38.28125 8.296875 \nL 54.390625 8.296875 \nL 54.390625 0 \nL 12.40625 0 \nz\n\" id=\"DejaVuSans-49\"/>\n      </defs>\n      <g style=\"fill:#262626;\" transform=\"translate(1026.842031 565.398438)scale(0.1 -0.1)\">\n       <use xlink:href=\"#DejaVuSans-49\"/>\n       <use x=\"63.623047\" xlink:href=\"#DejaVuSans-48\"/>\n       <use x=\"127.246094\" xlink:href=\"#DejaVuSans-48\"/>\n      </g>\n     </g>\n    </g>\n    <g id=\"text_7\">\n     <!-- missing_porc -->\n     <defs>\n      <path d=\"M 52 44.1875 \nQ 55.375 50.25 60.0625 53.125 \nQ 64.75 56 71.09375 56 \nQ 79.640625 56 84.28125 50.015625 \nQ 88.921875 44.046875 88.921875 33.015625 \nL 88.921875 0 \nL 79.890625 0 \nL 79.890625 32.71875 \nQ 79.890625 40.578125 77.09375 44.375 \nQ 74.3125 48.1875 68.609375 48.1875 \nQ 61.625 48.1875 57.5625 43.546875 \nQ 53.515625 38.921875 53.515625 30.90625 \nL 53.515625 0 \nL 44.484375 0 \nL 44.484375 32.71875 \nQ 44.484375 40.625 41.703125 44.40625 \nQ 38.921875 48.1875 33.109375 48.1875 \nQ 26.21875 48.1875 22.15625 43.53125 \nQ 18.109375 38.875 18.109375 30.90625 \nL 18.109375 0 \nL 9.078125 0 \nL 9.078125 54.6875 \nL 18.109375 54.6875 \nL 18.109375 46.1875 \nQ 21.1875 51.21875 25.484375 53.609375 \nQ 29.78125 56 35.6875 56 \nQ 41.65625 56 45.828125 52.96875 \nQ 50 49.953125 52 44.1875 \nz\n\" id=\"DejaVuSans-109\"/>\n      <path d=\"M 9.421875 54.6875 \nL 18.40625 54.6875 \nL 18.40625 0 \nL 9.421875 0 \nz\nM 9.421875 75.984375 \nL 18.40625 75.984375 \nL 18.40625 64.59375 \nL 9.421875 64.59375 \nz\n\" id=\"DejaVuSans-105\"/>\n      <path d=\"M 44.28125 53.078125 \nL 44.28125 44.578125 \nQ 40.484375 46.53125 36.375 47.5 \nQ 32.28125 48.484375 27.875 48.484375 \nQ 21.1875 48.484375 17.84375 46.4375 \nQ 14.5 44.390625 14.5 40.28125 \nQ 14.5 37.15625 16.890625 35.375 \nQ 19.28125 33.59375 26.515625 31.984375 \nL 29.59375 31.296875 \nQ 39.15625 29.25 43.1875 25.515625 \nQ 47.21875 21.78125 47.21875 15.09375 \nQ 47.21875 7.46875 41.1875 3.015625 \nQ 35.15625 -1.421875 24.609375 -1.421875 \nQ 20.21875 -1.421875 15.453125 -0.5625 \nQ 10.6875 0.296875 5.421875 2 \nL 5.421875 11.28125 \nQ 10.40625 8.6875 15.234375 7.390625 \nQ 20.0625 6.109375 24.8125 6.109375 \nQ 31.15625 6.109375 34.5625 8.28125 \nQ 37.984375 10.453125 37.984375 14.40625 \nQ 37.984375 18.0625 35.515625 20.015625 \nQ 33.0625 21.96875 24.703125 23.78125 \nL 21.578125 24.515625 \nQ 13.234375 26.265625 9.515625 29.90625 \nQ 5.8125 33.546875 5.8125 39.890625 \nQ 5.8125 47.609375 11.28125 51.796875 \nQ 16.75 56 26.8125 56 \nQ 31.78125 56 36.171875 55.265625 \nQ 40.578125 54.546875 44.28125 53.078125 \nz\n\" id=\"DejaVuSans-115\"/>\n      <path d=\"M 54.890625 33.015625 \nL 54.890625 0 \nL 45.90625 0 \nL 45.90625 32.71875 \nQ 45.90625 40.484375 42.875 44.328125 \nQ 39.84375 48.1875 33.796875 48.1875 \nQ 26.515625 48.1875 22.3125 43.546875 \nQ 18.109375 38.921875 18.109375 30.90625 \nL 18.109375 0 \nL 9.078125 0 \nL 9.078125 54.6875 \nL 18.109375 54.6875 \nL 18.109375 46.1875 \nQ 21.34375 51.125 25.703125 53.5625 \nQ 30.078125 56 35.796875 56 \nQ 45.21875 56 50.046875 50.171875 \nQ 54.890625 44.34375 54.890625 33.015625 \nz\n\" id=\"DejaVuSans-110\"/>\n      <path d=\"M 45.40625 27.984375 \nQ 45.40625 37.75 41.375 43.109375 \nQ 37.359375 48.484375 30.078125 48.484375 \nQ 22.859375 48.484375 18.828125 43.109375 \nQ 14.796875 37.75 14.796875 27.984375 \nQ 14.796875 18.265625 18.828125 12.890625 \nQ 22.859375 7.515625 30.078125 7.515625 \nQ 37.359375 7.515625 41.375 12.890625 \nQ 45.40625 18.265625 45.40625 27.984375 \nz\nM 54.390625 6.78125 \nQ 54.390625 -7.171875 48.1875 -13.984375 \nQ 42 -20.796875 29.203125 -20.796875 \nQ 24.46875 -20.796875 20.265625 -20.09375 \nQ 16.0625 -19.390625 12.109375 -17.921875 \nL 12.109375 -9.1875 \nQ 16.0625 -11.328125 19.921875 -12.34375 \nQ 23.78125 -13.375 27.78125 -13.375 \nQ 36.625 -13.375 41.015625 -8.765625 \nQ 45.40625 -4.15625 45.40625 5.171875 \nL 45.40625 9.625 \nQ 42.625 4.78125 38.28125 2.390625 \nQ 33.9375 0 27.875 0 \nQ 17.828125 0 11.671875 7.65625 \nQ 5.515625 15.328125 5.515625 27.984375 \nQ 5.515625 40.671875 11.671875 48.328125 \nQ 17.828125 56 27.875 56 \nQ 33.9375 56 38.28125 53.609375 \nQ 42.625 51.21875 45.40625 46.390625 \nL 45.40625 54.6875 \nL 54.390625 54.6875 \nz\n\" id=\"DejaVuSans-103\"/>\n      <path d=\"M 50.984375 -16.609375 \nL 50.984375 -23.578125 \nL -0.984375 -23.578125 \nL -0.984375 -16.609375 \nz\n\" id=\"DejaVuSans-95\"/>\n      <path d=\"M 18.109375 8.203125 \nL 18.109375 -20.796875 \nL 9.078125 -20.796875 \nL 9.078125 54.6875 \nL 18.109375 54.6875 \nL 18.109375 46.390625 \nQ 20.953125 51.265625 25.265625 53.625 \nQ 29.59375 56 35.59375 56 \nQ 45.5625 56 51.78125 48.09375 \nQ 58.015625 40.1875 58.015625 27.296875 \nQ 58.015625 14.40625 51.78125 6.484375 \nQ 45.5625 -1.421875 35.59375 -1.421875 \nQ 29.59375 -1.421875 25.265625 0.953125 \nQ 20.953125 3.328125 18.109375 8.203125 \nz\nM 48.6875 27.296875 \nQ 48.6875 37.203125 44.609375 42.84375 \nQ 40.53125 48.484375 33.40625 48.484375 \nQ 26.265625 48.484375 22.1875 42.84375 \nQ 18.109375 37.203125 18.109375 27.296875 \nQ 18.109375 17.390625 22.1875 11.75 \nQ 26.265625 6.109375 33.40625 6.109375 \nQ 40.53125 6.109375 44.609375 11.75 \nQ 48.6875 17.390625 48.6875 27.296875 \nz\n\" id=\"DejaVuSans-112\"/>\n      <path d=\"M 30.609375 48.390625 \nQ 23.390625 48.390625 19.1875 42.75 \nQ 14.984375 37.109375 14.984375 27.296875 \nQ 14.984375 17.484375 19.15625 11.84375 \nQ 23.34375 6.203125 30.609375 6.203125 \nQ 37.796875 6.203125 41.984375 11.859375 \nQ 46.1875 17.53125 46.1875 27.296875 \nQ 46.1875 37.015625 41.984375 42.703125 \nQ 37.796875 48.390625 30.609375 48.390625 \nz\nM 30.609375 56 \nQ 42.328125 56 49.015625 48.375 \nQ 55.71875 40.765625 55.71875 27.296875 \nQ 55.71875 13.875 49.015625 6.21875 \nQ 42.328125 -1.421875 30.609375 -1.421875 \nQ 18.84375 -1.421875 12.171875 6.21875 \nQ 5.515625 13.875 5.515625 27.296875 \nQ 5.515625 40.765625 12.171875 48.375 \nQ 18.84375 56 30.609375 56 \nz\n\" id=\"DejaVuSans-111\"/>\n      <path d=\"M 41.109375 46.296875 \nQ 39.59375 47.171875 37.8125 47.578125 \nQ 36.03125 48 33.890625 48 \nQ 26.265625 48 22.1875 43.046875 \nQ 18.109375 38.09375 18.109375 28.8125 \nL 18.109375 0 \nL 9.078125 0 \nL 9.078125 54.6875 \nL 18.109375 54.6875 \nL 18.109375 46.1875 \nQ 20.953125 51.171875 25.484375 53.578125 \nQ 30.03125 56 36.53125 56 \nQ 37.453125 56 38.578125 55.875 \nQ 39.703125 55.765625 41.0625 55.515625 \nz\n\" id=\"DejaVuSans-114\"/>\n      <path d=\"M 48.78125 52.59375 \nL 48.78125 44.1875 \nQ 44.96875 46.296875 41.140625 47.34375 \nQ 37.3125 48.390625 33.40625 48.390625 \nQ 24.65625 48.390625 19.8125 42.84375 \nQ 14.984375 37.3125 14.984375 27.296875 \nQ 14.984375 17.28125 19.8125 11.734375 \nQ 24.65625 6.203125 33.40625 6.203125 \nQ 37.3125 6.203125 41.140625 7.25 \nQ 44.96875 8.296875 48.78125 10.40625 \nL 48.78125 2.09375 \nQ 45.015625 0.34375 40.984375 -0.53125 \nQ 36.96875 -1.421875 32.421875 -1.421875 \nQ 20.0625 -1.421875 12.78125 6.34375 \nQ 5.515625 14.109375 5.515625 27.296875 \nQ 5.515625 40.671875 12.859375 48.328125 \nQ 20.21875 56 33.015625 56 \nQ 37.15625 56 41.109375 55.140625 \nQ 45.0625 54.296875 48.78125 52.59375 \nz\n\" id=\"DejaVuSans-99\"/>\n     </defs>\n     <g style=\"fill:#262626;\" transform=\"translate(622.642187 579.076563)scale(0.1 -0.1)\">\n      <use xlink:href=\"#DejaVuSans-109\"/>\n      <use x=\"97.412109\" xlink:href=\"#DejaVuSans-105\"/>\n      <use x=\"125.195312\" xlink:href=\"#DejaVuSans-115\"/>\n      <use x=\"177.294922\" xlink:href=\"#DejaVuSans-115\"/>\n      <use x=\"229.394531\" xlink:href=\"#DejaVuSans-105\"/>\n      <use x=\"257.177734\" xlink:href=\"#DejaVuSans-110\"/>\n      <use x=\"320.556641\" xlink:href=\"#DejaVuSans-103\"/>\n      <use x=\"384.033203\" xlink:href=\"#DejaVuSans-95\"/>\n      <use x=\"434.033203\" xlink:href=\"#DejaVuSans-112\"/>\n      <use x=\"497.509766\" xlink:href=\"#DejaVuSans-111\"/>\n      <use x=\"558.691406\" xlink:href=\"#DejaVuSans-114\"/>\n      <use x=\"597.554688\" xlink:href=\"#DejaVuSans-99\"/>\n     </g>\n    </g>\n   </g>\n   <g id=\"matplotlib.axis_2\">\n    <g id=\"ytick_1\">\n     <g id=\"text_8\">\n      <!-- meansOfControlUsesChildren -->\n      <defs>\n       <path d=\"M 56.203125 29.59375 \nL 56.203125 25.203125 \nL 14.890625 25.203125 \nQ 15.484375 15.921875 20.484375 11.0625 \nQ 25.484375 6.203125 34.421875 6.203125 \nQ 39.59375 6.203125 44.453125 7.46875 \nQ 49.3125 8.734375 54.109375 11.28125 \nL 54.109375 2.78125 \nQ 49.265625 0.734375 44.1875 -0.34375 \nQ 39.109375 -1.421875 33.890625 -1.421875 \nQ 20.796875 -1.421875 13.15625 6.1875 \nQ 5.515625 13.8125 5.515625 26.8125 \nQ 5.515625 40.234375 12.765625 48.109375 \nQ 20.015625 56 32.328125 56 \nQ 43.359375 56 49.78125 48.890625 \nQ 56.203125 41.796875 56.203125 29.59375 \nz\nM 47.21875 32.234375 \nQ 47.125 39.59375 43.09375 43.984375 \nQ 39.0625 48.390625 32.421875 48.390625 \nQ 24.90625 48.390625 20.390625 44.140625 \nQ 15.875 39.890625 15.1875 32.171875 \nz\n\" id=\"DejaVuSans-101\"/>\n       <path d=\"M 34.28125 27.484375 \nQ 23.390625 27.484375 19.1875 25 \nQ 14.984375 22.515625 14.984375 16.5 \nQ 14.984375 11.71875 18.140625 8.90625 \nQ 21.296875 6.109375 26.703125 6.109375 \nQ 34.1875 6.109375 38.703125 11.40625 \nQ 43.21875 16.703125 43.21875 25.484375 \nL 43.21875 27.484375 \nz\nM 52.203125 31.203125 \nL 52.203125 0 \nL 43.21875 0 \nL 43.21875 8.296875 \nQ 40.140625 3.328125 35.546875 0.953125 \nQ 30.953125 -1.421875 24.3125 -1.421875 \nQ 15.921875 -1.421875 10.953125 3.296875 \nQ 6 8.015625 6 15.921875 \nQ 6 25.140625 12.171875 29.828125 \nQ 18.359375 34.515625 30.609375 34.515625 \nL 43.21875 34.515625 \nL 43.21875 35.40625 \nQ 43.21875 41.609375 39.140625 45 \nQ 35.0625 48.390625 27.6875 48.390625 \nQ 23 48.390625 18.546875 47.265625 \nQ 14.109375 46.140625 10.015625 43.890625 \nL 10.015625 52.203125 \nQ 14.9375 54.109375 19.578125 55.046875 \nQ 24.21875 56 28.609375 56 \nQ 40.484375 56 46.34375 49.84375 \nQ 52.203125 43.703125 52.203125 31.203125 \nz\n\" id=\"DejaVuSans-97\"/>\n       <path d=\"M 39.40625 66.21875 \nQ 28.65625 66.21875 22.328125 58.203125 \nQ 16.015625 50.203125 16.015625 36.375 \nQ 16.015625 22.609375 22.328125 14.59375 \nQ 28.65625 6.59375 39.40625 6.59375 \nQ 50.140625 6.59375 56.421875 14.59375 \nQ 62.703125 22.609375 62.703125 36.375 \nQ 62.703125 50.203125 56.421875 58.203125 \nQ 50.140625 66.21875 39.40625 66.21875 \nz\nM 39.40625 74.21875 \nQ 54.734375 74.21875 63.90625 63.9375 \nQ 73.09375 53.65625 73.09375 36.375 \nQ 73.09375 19.140625 63.90625 8.859375 \nQ 54.734375 -1.421875 39.40625 -1.421875 \nQ 24.03125 -1.421875 14.8125 8.828125 \nQ 5.609375 19.09375 5.609375 36.375 \nQ 5.609375 53.65625 14.8125 63.9375 \nQ 24.03125 74.21875 39.40625 74.21875 \nz\n\" id=\"DejaVuSans-79\"/>\n       <path d=\"M 37.109375 75.984375 \nL 37.109375 68.5 \nL 28.515625 68.5 \nQ 23.6875 68.5 21.796875 66.546875 \nQ 19.921875 64.59375 19.921875 59.515625 \nL 19.921875 54.6875 \nL 34.71875 54.6875 \nL 34.71875 47.703125 \nL 19.921875 47.703125 \nL 19.921875 0 \nL 10.890625 0 \nL 10.890625 47.703125 \nL 2.296875 47.703125 \nL 2.296875 54.6875 \nL 10.890625 54.6875 \nL 10.890625 58.5 \nQ 10.890625 67.625 15.140625 71.796875 \nQ 19.390625 75.984375 28.609375 75.984375 \nz\n\" id=\"DejaVuSans-102\"/>\n       <path d=\"M 64.40625 67.28125 \nL 64.40625 56.890625 \nQ 59.421875 61.53125 53.78125 63.8125 \nQ 48.140625 66.109375 41.796875 66.109375 \nQ 29.296875 66.109375 22.65625 58.46875 \nQ 16.015625 50.828125 16.015625 36.375 \nQ 16.015625 21.96875 22.65625 14.328125 \nQ 29.296875 6.6875 41.796875 6.6875 \nQ 48.140625 6.6875 53.78125 8.984375 \nQ 59.421875 11.28125 64.40625 15.921875 \nL 64.40625 5.609375 \nQ 59.234375 2.09375 53.4375 0.328125 \nQ 47.65625 -1.421875 41.21875 -1.421875 \nQ 24.65625 -1.421875 15.125 8.703125 \nQ 5.609375 18.84375 5.609375 36.375 \nQ 5.609375 53.953125 15.125 64.078125 \nQ 24.65625 74.21875 41.21875 74.21875 \nQ 47.75 74.21875 53.53125 72.484375 \nQ 59.328125 70.75 64.40625 67.28125 \nz\n\" id=\"DejaVuSans-67\"/>\n       <path d=\"M 18.3125 70.21875 \nL 18.3125 54.6875 \nL 36.8125 54.6875 \nL 36.8125 47.703125 \nL 18.3125 47.703125 \nL 18.3125 18.015625 \nQ 18.3125 11.328125 20.140625 9.421875 \nQ 21.96875 7.515625 27.59375 7.515625 \nL 36.8125 7.515625 \nL 36.8125 0 \nL 27.59375 0 \nQ 17.1875 0 13.234375 3.875 \nQ 9.28125 7.765625 9.28125 18.015625 \nL 9.28125 47.703125 \nL 2.6875 47.703125 \nL 2.6875 54.6875 \nL 9.28125 54.6875 \nL 9.28125 70.21875 \nz\n\" id=\"DejaVuSans-116\"/>\n       <path d=\"M 9.421875 75.984375 \nL 18.40625 75.984375 \nL 18.40625 0 \nL 9.421875 0 \nz\n\" id=\"DejaVuSans-108\"/>\n       <path d=\"M 8.6875 72.90625 \nL 18.609375 72.90625 \nL 18.609375 28.609375 \nQ 18.609375 16.890625 22.84375 11.734375 \nQ 27.09375 6.59375 36.625 6.59375 \nQ 46.09375 6.59375 50.34375 11.734375 \nQ 54.59375 16.890625 54.59375 28.609375 \nL 54.59375 72.90625 \nL 64.5 72.90625 \nL 64.5 27.390625 \nQ 64.5 13.140625 57.4375 5.859375 \nQ 50.390625 -1.421875 36.625 -1.421875 \nQ 22.796875 -1.421875 15.734375 5.859375 \nQ 8.6875 13.140625 8.6875 27.390625 \nz\n\" id=\"DejaVuSans-85\"/>\n       <path d=\"M 54.890625 33.015625 \nL 54.890625 0 \nL 45.90625 0 \nL 45.90625 32.71875 \nQ 45.90625 40.484375 42.875 44.328125 \nQ 39.84375 48.1875 33.796875 48.1875 \nQ 26.515625 48.1875 22.3125 43.546875 \nQ 18.109375 38.921875 18.109375 30.90625 \nL 18.109375 0 \nL 9.078125 0 \nL 9.078125 75.984375 \nL 18.109375 75.984375 \nL 18.109375 46.1875 \nQ 21.34375 51.125 25.703125 53.5625 \nQ 30.078125 56 35.796875 56 \nQ 45.21875 56 50.046875 50.171875 \nQ 54.890625 44.34375 54.890625 33.015625 \nz\n\" id=\"DejaVuSans-104\"/>\n       <path d=\"M 45.40625 46.390625 \nL 45.40625 75.984375 \nL 54.390625 75.984375 \nL 54.390625 0 \nL 45.40625 0 \nL 45.40625 8.203125 \nQ 42.578125 3.328125 38.25 0.953125 \nQ 33.9375 -1.421875 27.875 -1.421875 \nQ 17.96875 -1.421875 11.734375 6.484375 \nQ 5.515625 14.40625 5.515625 27.296875 \nQ 5.515625 40.1875 11.734375 48.09375 \nQ 17.96875 56 27.875 56 \nQ 33.9375 56 38.25 53.625 \nQ 42.578125 51.265625 45.40625 46.390625 \nz\nM 14.796875 27.296875 \nQ 14.796875 17.390625 18.875 11.75 \nQ 22.953125 6.109375 30.078125 6.109375 \nQ 37.203125 6.109375 41.296875 11.75 \nQ 45.40625 17.390625 45.40625 27.296875 \nQ 45.40625 37.203125 41.296875 42.84375 \nQ 37.203125 48.484375 30.078125 48.484375 \nQ 22.953125 48.484375 18.875 42.84375 \nQ 14.796875 37.203125 14.796875 27.296875 \nz\n\" id=\"DejaVuSans-100\"/>\n      </defs>\n      <g style=\"fill:#262626;\" transform=\"translate(83.173438 15.313504)scale(0.1 -0.1)\">\n       <use xlink:href=\"#DejaVuSans-109\"/>\n       <use x=\"97.412109\" xlink:href=\"#DejaVuSans-101\"/>\n       <use x=\"158.935547\" xlink:href=\"#DejaVuSans-97\"/>\n       <use x=\"220.214844\" xlink:href=\"#DejaVuSans-110\"/>\n       <use x=\"283.59375\" xlink:href=\"#DejaVuSans-115\"/>\n       <use x=\"335.693359\" xlink:href=\"#DejaVuSans-79\"/>\n       <use x=\"414.404297\" xlink:href=\"#DejaVuSans-102\"/>\n       <use x=\"449.609375\" xlink:href=\"#DejaVuSans-67\"/>\n       <use x=\"519.433594\" xlink:href=\"#DejaVuSans-111\"/>\n       <use x=\"580.615234\" xlink:href=\"#DejaVuSans-110\"/>\n       <use x=\"643.994141\" xlink:href=\"#DejaVuSans-116\"/>\n       <use x=\"683.203125\" xlink:href=\"#DejaVuSans-114\"/>\n       <use x=\"722.066406\" xlink:href=\"#DejaVuSans-111\"/>\n       <use x=\"783.248047\" xlink:href=\"#DejaVuSans-108\"/>\n       <use x=\"811.03125\" xlink:href=\"#DejaVuSans-85\"/>\n       <use x=\"884.224609\" xlink:href=\"#DejaVuSans-115\"/>\n       <use x=\"936.324219\" xlink:href=\"#DejaVuSans-101\"/>\n       <use x=\"997.847656\" xlink:href=\"#DejaVuSans-115\"/>\n       <use x=\"1049.947266\" xlink:href=\"#DejaVuSans-67\"/>\n       <use x=\"1119.771484\" xlink:href=\"#DejaVuSans-104\"/>\n       <use x=\"1183.150391\" xlink:href=\"#DejaVuSans-105\"/>\n       <use x=\"1210.933594\" xlink:href=\"#DejaVuSans-108\"/>\n       <use x=\"1238.716797\" xlink:href=\"#DejaVuSans-100\"/>\n       <use x=\"1302.193359\" xlink:href=\"#DejaVuSans-114\"/>\n       <use x=\"1341.056641\" xlink:href=\"#DejaVuSans-101\"/>\n       <use x=\"1402.580078\" xlink:href=\"#DejaVuSans-110\"/>\n      </g>\n     </g>\n    </g>\n    <g id=\"ytick_2\">\n     <g id=\"text_9\">\n      <!-- meansOfControlRestrictsFinancialAccess -->\n      <defs>\n       <path d=\"M 44.390625 34.1875 \nQ 47.5625 33.109375 50.5625 29.59375 \nQ 53.5625 26.078125 56.59375 19.921875 \nL 66.609375 0 \nL 56 0 \nL 46.6875 18.703125 \nQ 43.0625 26.03125 39.671875 28.421875 \nQ 36.28125 30.8125 30.421875 30.8125 \nL 19.671875 30.8125 \nL 19.671875 0 \nL 9.8125 0 \nL 9.8125 72.90625 \nL 32.078125 72.90625 \nQ 44.578125 72.90625 50.734375 67.671875 \nQ 56.890625 62.453125 56.890625 51.90625 \nQ 56.890625 45.015625 53.6875 40.46875 \nQ 50.484375 35.9375 44.390625 34.1875 \nz\nM 19.671875 64.796875 \nL 19.671875 38.921875 \nL 32.078125 38.921875 \nQ 39.203125 38.921875 42.84375 42.21875 \nQ 46.484375 45.515625 46.484375 51.90625 \nQ 46.484375 58.296875 42.84375 61.546875 \nQ 39.203125 64.796875 32.078125 64.796875 \nz\n\" id=\"DejaVuSans-82\"/>\n       <path d=\"M 9.8125 72.90625 \nL 51.703125 72.90625 \nL 51.703125 64.59375 \nL 19.671875 64.59375 \nL 19.671875 43.109375 \nL 48.578125 43.109375 \nL 48.578125 34.8125 \nL 19.671875 34.8125 \nL 19.671875 0 \nL 9.8125 0 \nz\n\" id=\"DejaVuSans-70\"/>\n       <path d=\"M 34.1875 63.1875 \nL 20.796875 26.90625 \nL 47.609375 26.90625 \nz\nM 28.609375 72.90625 \nL 39.796875 72.90625 \nL 67.578125 0 \nL 57.328125 0 \nL 50.6875 18.703125 \nL 17.828125 18.703125 \nL 11.1875 0 \nL 0.78125 0 \nz\n\" id=\"DejaVuSans-65\"/>\n      </defs>\n      <g style=\"fill:#262626;\" transform=\"translate(27.342187 23.942076)scale(0.1 -0.1)\">\n       <use xlink:href=\"#DejaVuSans-109\"/>\n       <use x=\"97.412109\" xlink:href=\"#DejaVuSans-101\"/>\n       <use x=\"158.935547\" xlink:href=\"#DejaVuSans-97\"/>\n       <use x=\"220.214844\" xlink:href=\"#DejaVuSans-110\"/>\n       <use x=\"283.59375\" xlink:href=\"#DejaVuSans-115\"/>\n       <use x=\"335.693359\" xlink:href=\"#DejaVuSans-79\"/>\n       <use x=\"414.404297\" xlink:href=\"#DejaVuSans-102\"/>\n       <use x=\"449.609375\" xlink:href=\"#DejaVuSans-67\"/>\n       <use x=\"519.433594\" xlink:href=\"#DejaVuSans-111\"/>\n       <use x=\"580.615234\" xlink:href=\"#DejaVuSans-110\"/>\n       <use x=\"643.994141\" xlink:href=\"#DejaVuSans-116\"/>\n       <use x=\"683.203125\" xlink:href=\"#DejaVuSans-114\"/>\n       <use x=\"722.066406\" xlink:href=\"#DejaVuSans-111\"/>\n       <use x=\"783.248047\" xlink:href=\"#DejaVuSans-108\"/>\n       <use x=\"811.03125\" xlink:href=\"#DejaVuSans-82\"/>\n       <use x=\"876.013672\" xlink:href=\"#DejaVuSans-101\"/>\n       <use x=\"937.537109\" xlink:href=\"#DejaVuSans-115\"/>\n       <use x=\"989.636719\" xlink:href=\"#DejaVuSans-116\"/>\n       <use x=\"1028.845703\" xlink:href=\"#DejaVuSans-114\"/>\n       <use x=\"1069.958984\" xlink:href=\"#DejaVuSans-105\"/>\n       <use x=\"1097.742188\" xlink:href=\"#DejaVuSans-99\"/>\n       <use x=\"1152.722656\" xlink:href=\"#DejaVuSans-116\"/>\n       <use x=\"1191.931641\" xlink:href=\"#DejaVuSans-115\"/>\n       <use x=\"1244.03125\" xlink:href=\"#DejaVuSans-70\"/>\n       <use x=\"1294.300781\" xlink:href=\"#DejaVuSans-105\"/>\n       <use x=\"1322.083984\" xlink:href=\"#DejaVuSans-110\"/>\n       <use x=\"1385.462891\" xlink:href=\"#DejaVuSans-97\"/>\n       <use x=\"1446.742188\" xlink:href=\"#DejaVuSans-110\"/>\n       <use x=\"1510.121094\" xlink:href=\"#DejaVuSans-99\"/>\n       <use x=\"1565.101562\" xlink:href=\"#DejaVuSans-105\"/>\n       <use x=\"1592.884766\" xlink:href=\"#DejaVuSans-97\"/>\n       <use x=\"1654.164062\" xlink:href=\"#DejaVuSans-108\"/>\n       <use x=\"1681.947266\" xlink:href=\"#DejaVuSans-65\"/>\n       <use x=\"1748.605469\" xlink:href=\"#DejaVuSans-99\"/>\n       <use x=\"1803.585938\" xlink:href=\"#DejaVuSans-99\"/>\n       <use x=\"1858.566406\" xlink:href=\"#DejaVuSans-101\"/>\n       <use x=\"1920.089844\" xlink:href=\"#DejaVuSans-115\"/>\n       <use x=\"1972.189453\" xlink:href=\"#DejaVuSans-115\"/>\n      </g>\n     </g>\n    </g>\n    <g id=\"ytick_3\">\n     <g id=\"text_10\">\n      <!-- isSlaveryAndPractices -->\n      <defs>\n       <path d=\"M 53.515625 70.515625 \nL 53.515625 60.890625 \nQ 47.90625 63.578125 42.921875 64.890625 \nQ 37.9375 66.21875 33.296875 66.21875 \nQ 25.25 66.21875 20.875 63.09375 \nQ 16.5 59.96875 16.5 54.203125 \nQ 16.5 49.359375 19.40625 46.890625 \nQ 22.3125 44.4375 30.421875 42.921875 \nL 36.375 41.703125 \nQ 47.40625 39.59375 52.65625 34.296875 \nQ 57.90625 29 57.90625 20.125 \nQ 57.90625 9.515625 50.796875 4.046875 \nQ 43.703125 -1.421875 29.984375 -1.421875 \nQ 24.8125 -1.421875 18.96875 -0.25 \nQ 13.140625 0.921875 6.890625 3.21875 \nL 6.890625 13.375 \nQ 12.890625 10.015625 18.65625 8.296875 \nQ 24.421875 6.59375 29.984375 6.59375 \nQ 38.421875 6.59375 43.015625 9.90625 \nQ 47.609375 13.234375 47.609375 19.390625 \nQ 47.609375 24.75 44.3125 27.78125 \nQ 41.015625 30.8125 33.5 32.328125 \nL 27.484375 33.5 \nQ 16.453125 35.6875 11.515625 40.375 \nQ 6.59375 45.0625 6.59375 53.421875 \nQ 6.59375 63.09375 13.40625 68.65625 \nQ 20.21875 74.21875 32.171875 74.21875 \nQ 37.3125 74.21875 42.625 73.28125 \nQ 47.953125 72.359375 53.515625 70.515625 \nz\n\" id=\"DejaVuSans-83\"/>\n       <path d=\"M 2.984375 54.6875 \nL 12.5 54.6875 \nL 29.59375 8.796875 \nL 46.6875 54.6875 \nL 56.203125 54.6875 \nL 35.6875 0 \nL 23.484375 0 \nz\n\" id=\"DejaVuSans-118\"/>\n       <path d=\"M 32.171875 -5.078125 \nQ 28.375 -14.84375 24.75 -17.8125 \nQ 21.140625 -20.796875 15.09375 -20.796875 \nL 7.90625 -20.796875 \nL 7.90625 -13.28125 \nL 13.1875 -13.28125 \nQ 16.890625 -13.28125 18.9375 -11.515625 \nQ 21 -9.765625 23.484375 -3.21875 \nL 25.09375 0.875 \nL 2.984375 54.6875 \nL 12.5 54.6875 \nL 29.59375 11.921875 \nL 46.6875 54.6875 \nL 56.203125 54.6875 \nz\n\" id=\"DejaVuSans-121\"/>\n       <path d=\"M 19.671875 64.796875 \nL 19.671875 37.40625 \nL 32.078125 37.40625 \nQ 38.96875 37.40625 42.71875 40.96875 \nQ 46.484375 44.53125 46.484375 51.125 \nQ 46.484375 57.671875 42.71875 61.234375 \nQ 38.96875 64.796875 32.078125 64.796875 \nz\nM 9.8125 72.90625 \nL 32.078125 72.90625 \nQ 44.34375 72.90625 50.609375 67.359375 \nQ 56.890625 61.8125 56.890625 51.125 \nQ 56.890625 40.328125 50.609375 34.8125 \nQ 44.34375 29.296875 32.078125 29.296875 \nL 19.671875 29.296875 \nL 19.671875 0 \nL 9.8125 0 \nz\n\" id=\"DejaVuSans-80\"/>\n      </defs>\n      <g style=\"fill:#262626;\" transform=\"translate(119.746875 32.570647)scale(0.1 -0.1)\">\n       <use xlink:href=\"#DejaVuSans-105\"/>\n       <use x=\"27.783203\" xlink:href=\"#DejaVuSans-115\"/>\n       <use x=\"79.882812\" xlink:href=\"#DejaVuSans-83\"/>\n       <use x=\"143.359375\" xlink:href=\"#DejaVuSans-108\"/>\n       <use x=\"171.142578\" xlink:href=\"#DejaVuSans-97\"/>\n       <use x=\"232.421875\" xlink:href=\"#DejaVuSans-118\"/>\n       <use x=\"291.601562\" xlink:href=\"#DejaVuSans-101\"/>\n       <use x=\"353.125\" xlink:href=\"#DejaVuSans-114\"/>\n       <use x=\"394.238281\" xlink:href=\"#DejaVuSans-121\"/>\n       <use x=\"453.417969\" xlink:href=\"#DejaVuSans-65\"/>\n       <use x=\"521.826172\" xlink:href=\"#DejaVuSans-110\"/>\n       <use x=\"585.205078\" xlink:href=\"#DejaVuSans-100\"/>\n       <use x=\"648.681641\" xlink:href=\"#DejaVuSans-80\"/>\n       <use x=\"707.234375\" xlink:href=\"#DejaVuSans-114\"/>\n       <use x=\"748.347656\" xlink:href=\"#DejaVuSans-97\"/>\n       <use x=\"809.626953\" xlink:href=\"#DejaVuSans-99\"/>\n       <use x=\"864.607422\" xlink:href=\"#DejaVuSans-116\"/>\n       <use x=\"903.816406\" xlink:href=\"#DejaVuSans-105\"/>\n       <use x=\"931.599609\" xlink:href=\"#DejaVuSans-99\"/>\n       <use x=\"986.580078\" xlink:href=\"#DejaVuSans-101\"/>\n       <use x=\"1048.103516\" xlink:href=\"#DejaVuSans-115\"/>\n      </g>\n     </g>\n    </g>\n    <g id=\"ytick_4\">\n     <g id=\"text_11\">\n      <!-- meansOfControlThreatOfLawEnforcement -->\n      <defs>\n       <path d=\"M -0.296875 72.90625 \nL 61.375 72.90625 \nL 61.375 64.59375 \nL 35.5 64.59375 \nL 35.5 0 \nL 25.59375 0 \nL 25.59375 64.59375 \nL -0.296875 64.59375 \nz\n\" id=\"DejaVuSans-84\"/>\n       <path d=\"M 9.8125 72.90625 \nL 19.671875 72.90625 \nL 19.671875 8.296875 \nL 55.171875 8.296875 \nL 55.171875 0 \nL 9.8125 0 \nz\n\" id=\"DejaVuSans-76\"/>\n       <path d=\"M 4.203125 54.6875 \nL 13.1875 54.6875 \nL 24.421875 12.015625 \nL 35.59375 54.6875 \nL 46.1875 54.6875 \nL 57.421875 12.015625 \nL 68.609375 54.6875 \nL 77.59375 54.6875 \nL 63.28125 0 \nL 52.6875 0 \nL 40.921875 44.828125 \nL 29.109375 0 \nL 18.5 0 \nz\n\" id=\"DejaVuSans-119\"/>\n       <path d=\"M 9.8125 72.90625 \nL 55.90625 72.90625 \nL 55.90625 64.59375 \nL 19.671875 64.59375 \nL 19.671875 43.015625 \nL 54.390625 43.015625 \nL 54.390625 34.71875 \nL 19.671875 34.71875 \nL 19.671875 8.296875 \nL 56.78125 8.296875 \nL 56.78125 0 \nL 9.8125 0 \nz\n\" id=\"DejaVuSans-69\"/>\n      </defs>\n      <g style=\"fill:#262626;\" transform=\"translate(20.878125 41.199219)scale(0.1 -0.1)\">\n       <use xlink:href=\"#DejaVuSans-109\"/>\n       <use x=\"97.412109\" xlink:href=\"#DejaVuSans-101\"/>\n       <use x=\"158.935547\" xlink:href=\"#DejaVuSans-97\"/>\n       <use x=\"220.214844\" xlink:href=\"#DejaVuSans-110\"/>\n       <use x=\"283.59375\" xlink:href=\"#DejaVuSans-115\"/>\n       <use x=\"335.693359\" xlink:href=\"#DejaVuSans-79\"/>\n       <use x=\"414.404297\" xlink:href=\"#DejaVuSans-102\"/>\n       <use x=\"449.609375\" xlink:href=\"#DejaVuSans-67\"/>\n       <use x=\"519.433594\" xlink:href=\"#DejaVuSans-111\"/>\n       <use x=\"580.615234\" xlink:href=\"#DejaVuSans-110\"/>\n       <use x=\"643.994141\" xlink:href=\"#DejaVuSans-116\"/>\n       <use x=\"683.203125\" xlink:href=\"#DejaVuSans-114\"/>\n       <use x=\"722.066406\" xlink:href=\"#DejaVuSans-111\"/>\n       <use x=\"783.248047\" xlink:href=\"#DejaVuSans-108\"/>\n       <use x=\"811.03125\" xlink:href=\"#DejaVuSans-84\"/>\n       <use x=\"872.115234\" xlink:href=\"#DejaVuSans-104\"/>\n       <use x=\"935.494141\" xlink:href=\"#DejaVuSans-114\"/>\n       <use x=\"974.357422\" xlink:href=\"#DejaVuSans-101\"/>\n       <use x=\"1035.880859\" xlink:href=\"#DejaVuSans-97\"/>\n       <use x=\"1097.160156\" xlink:href=\"#DejaVuSans-116\"/>\n       <use x=\"1136.369141\" xlink:href=\"#DejaVuSans-79\"/>\n       <use x=\"1215.080078\" xlink:href=\"#DejaVuSans-102\"/>\n       <use x=\"1250.285156\" xlink:href=\"#DejaVuSans-76\"/>\n       <use x=\"1305.998047\" xlink:href=\"#DejaVuSans-97\"/>\n       <use x=\"1367.277344\" xlink:href=\"#DejaVuSans-119\"/>\n       <use x=\"1449.064453\" xlink:href=\"#DejaVuSans-69\"/>\n       <use x=\"1512.248047\" xlink:href=\"#DejaVuSans-110\"/>\n       <use x=\"1575.626953\" xlink:href=\"#DejaVuSans-102\"/>\n       <use x=\"1610.832031\" xlink:href=\"#DejaVuSans-111\"/>\n       <use x=\"1672.013672\" xlink:href=\"#DejaVuSans-114\"/>\n       <use x=\"1710.876953\" xlink:href=\"#DejaVuSans-99\"/>\n       <use x=\"1765.857422\" xlink:href=\"#DejaVuSans-101\"/>\n       <use x=\"1827.380859\" xlink:href=\"#DejaVuSans-109\"/>\n       <use x=\"1924.792969\" xlink:href=\"#DejaVuSans-101\"/>\n       <use x=\"1986.316406\" xlink:href=\"#DejaVuSans-110\"/>\n       <use x=\"2049.695312\" xlink:href=\"#DejaVuSans-116\"/>\n      </g>\n     </g>\n    </g>\n    <g id=\"ytick_5\">\n     <g id=\"text_12\">\n      <!-- meansOfControlDebtBondage -->\n      <defs>\n       <path d=\"M 19.671875 64.796875 \nL 19.671875 8.109375 \nL 31.59375 8.109375 \nQ 46.6875 8.109375 53.6875 14.9375 \nQ 60.6875 21.78125 60.6875 36.53125 \nQ 60.6875 51.171875 53.6875 57.984375 \nQ 46.6875 64.796875 31.59375 64.796875 \nz\nM 9.8125 72.90625 \nL 30.078125 72.90625 \nQ 51.265625 72.90625 61.171875 64.09375 \nQ 71.09375 55.28125 71.09375 36.53125 \nQ 71.09375 17.671875 61.125 8.828125 \nQ 51.171875 0 30.078125 0 \nL 9.8125 0 \nz\n\" id=\"DejaVuSans-68\"/>\n       <path d=\"M 48.6875 27.296875 \nQ 48.6875 37.203125 44.609375 42.84375 \nQ 40.53125 48.484375 33.40625 48.484375 \nQ 26.265625 48.484375 22.1875 42.84375 \nQ 18.109375 37.203125 18.109375 27.296875 \nQ 18.109375 17.390625 22.1875 11.75 \nQ 26.265625 6.109375 33.40625 6.109375 \nQ 40.53125 6.109375 44.609375 11.75 \nQ 48.6875 17.390625 48.6875 27.296875 \nz\nM 18.109375 46.390625 \nQ 20.953125 51.265625 25.265625 53.625 \nQ 29.59375 56 35.59375 56 \nQ 45.5625 56 51.78125 48.09375 \nQ 58.015625 40.1875 58.015625 27.296875 \nQ 58.015625 14.40625 51.78125 6.484375 \nQ 45.5625 -1.421875 35.59375 -1.421875 \nQ 29.59375 -1.421875 25.265625 0.953125 \nQ 20.953125 3.328125 18.109375 8.203125 \nL 18.109375 0 \nL 9.078125 0 \nL 9.078125 75.984375 \nL 18.109375 75.984375 \nz\n\" id=\"DejaVuSans-98\"/>\n       <path d=\"M 19.671875 34.8125 \nL 19.671875 8.109375 \nL 35.5 8.109375 \nQ 43.453125 8.109375 47.28125 11.40625 \nQ 51.125 14.703125 51.125 21.484375 \nQ 51.125 28.328125 47.28125 31.5625 \nQ 43.453125 34.8125 35.5 34.8125 \nz\nM 19.671875 64.796875 \nL 19.671875 42.828125 \nL 34.28125 42.828125 \nQ 41.5 42.828125 45.03125 45.53125 \nQ 48.578125 48.25 48.578125 53.8125 \nQ 48.578125 59.328125 45.03125 62.0625 \nQ 41.5 64.796875 34.28125 64.796875 \nz\nM 9.8125 72.90625 \nL 35.015625 72.90625 \nQ 46.296875 72.90625 52.390625 68.21875 \nQ 58.5 63.53125 58.5 54.890625 \nQ 58.5 48.1875 55.375 44.234375 \nQ 52.25 40.28125 46.1875 39.3125 \nQ 53.46875 37.75 57.5 32.78125 \nQ 61.53125 27.828125 61.53125 20.40625 \nQ 61.53125 10.640625 54.890625 5.3125 \nQ 48.25 0 35.984375 0 \nL 9.8125 0 \nz\n\" id=\"DejaVuSans-66\"/>\n      </defs>\n      <g style=\"fill:#262626;\" transform=\"translate(80.248437 49.82779)scale(0.1 -0.1)\">\n       <use xlink:href=\"#DejaVuSans-109\"/>\n       <use x=\"97.412109\" xlink:href=\"#DejaVuSans-101\"/>\n       <use x=\"158.935547\" xlink:href=\"#DejaVuSans-97\"/>\n       <use x=\"220.214844\" xlink:href=\"#DejaVuSans-110\"/>\n       <use x=\"283.59375\" xlink:href=\"#DejaVuSans-115\"/>\n       <use x=\"335.693359\" xlink:href=\"#DejaVuSans-79\"/>\n       <use x=\"414.404297\" xlink:href=\"#DejaVuSans-102\"/>\n       <use x=\"449.609375\" xlink:href=\"#DejaVuSans-67\"/>\n       <use x=\"519.433594\" xlink:href=\"#DejaVuSans-111\"/>\n       <use x=\"580.615234\" xlink:href=\"#DejaVuSans-110\"/>\n       <use x=\"643.994141\" xlink:href=\"#DejaVuSans-116\"/>\n       <use x=\"683.203125\" xlink:href=\"#DejaVuSans-114\"/>\n       <use x=\"722.066406\" xlink:href=\"#DejaVuSans-111\"/>\n       <use x=\"783.248047\" xlink:href=\"#DejaVuSans-108\"/>\n       <use x=\"811.03125\" xlink:href=\"#DejaVuSans-68\"/>\n       <use x=\"888.033203\" xlink:href=\"#DejaVuSans-101\"/>\n       <use x=\"949.556641\" xlink:href=\"#DejaVuSans-98\"/>\n       <use x=\"1013.033203\" xlink:href=\"#DejaVuSans-116\"/>\n       <use x=\"1052.242188\" xlink:href=\"#DejaVuSans-66\"/>\n       <use x=\"1120.845703\" xlink:href=\"#DejaVuSans-111\"/>\n       <use x=\"1182.027344\" xlink:href=\"#DejaVuSans-110\"/>\n       <use x=\"1245.40625\" xlink:href=\"#DejaVuSans-100\"/>\n       <use x=\"1308.882812\" xlink:href=\"#DejaVuSans-97\"/>\n       <use x=\"1370.162109\" xlink:href=\"#DejaVuSans-103\"/>\n       <use x=\"1433.638672\" xlink:href=\"#DejaVuSans-101\"/>\n      </g>\n     </g>\n    </g>\n    <g id=\"ytick_6\">\n     <g id=\"text_13\">\n      <!-- meansOfControlRestrictsMedicalCare -->\n      <defs>\n       <path d=\"M 9.8125 72.90625 \nL 24.515625 72.90625 \nL 43.109375 23.296875 \nL 61.8125 72.90625 \nL 76.515625 72.90625 \nL 76.515625 0 \nL 66.890625 0 \nL 66.890625 64.015625 \nL 48.09375 14.015625 \nL 38.1875 14.015625 \nL 19.390625 64.015625 \nL 19.390625 0 \nL 9.8125 0 \nz\n\" id=\"DejaVuSans-77\"/>\n      </defs>\n      <g style=\"fill:#262626;\" transform=\"translate(43.904687 58.456362)scale(0.1 -0.1)\">\n       <use xlink:href=\"#DejaVuSans-109\"/>\n       <use x=\"97.412109\" xlink:href=\"#DejaVuSans-101\"/>\n       <use x=\"158.935547\" xlink:href=\"#DejaVuSans-97\"/>\n       <use x=\"220.214844\" xlink:href=\"#DejaVuSans-110\"/>\n       <use x=\"283.59375\" xlink:href=\"#DejaVuSans-115\"/>\n       <use x=\"335.693359\" xlink:href=\"#DejaVuSans-79\"/>\n       <use x=\"414.404297\" xlink:href=\"#DejaVuSans-102\"/>\n       <use x=\"449.609375\" xlink:href=\"#DejaVuSans-67\"/>\n       <use x=\"519.433594\" xlink:href=\"#DejaVuSans-111\"/>\n       <use x=\"580.615234\" xlink:href=\"#DejaVuSans-110\"/>\n       <use x=\"643.994141\" xlink:href=\"#DejaVuSans-116\"/>\n       <use x=\"683.203125\" xlink:href=\"#DejaVuSans-114\"/>\n       <use x=\"722.066406\" xlink:href=\"#DejaVuSans-111\"/>\n       <use x=\"783.248047\" xlink:href=\"#DejaVuSans-108\"/>\n       <use x=\"811.03125\" xlink:href=\"#DejaVuSans-82\"/>\n       <use x=\"876.013672\" xlink:href=\"#DejaVuSans-101\"/>\n       <use x=\"937.537109\" xlink:href=\"#DejaVuSans-115\"/>\n       <use x=\"989.636719\" xlink:href=\"#DejaVuSans-116\"/>\n       <use x=\"1028.845703\" xlink:href=\"#DejaVuSans-114\"/>\n       <use x=\"1069.958984\" xlink:href=\"#DejaVuSans-105\"/>\n       <use x=\"1097.742188\" xlink:href=\"#DejaVuSans-99\"/>\n       <use x=\"1152.722656\" xlink:href=\"#DejaVuSans-116\"/>\n       <use x=\"1191.931641\" xlink:href=\"#DejaVuSans-115\"/>\n       <use x=\"1244.03125\" xlink:href=\"#DejaVuSans-77\"/>\n       <use x=\"1330.310547\" xlink:href=\"#DejaVuSans-101\"/>\n       <use x=\"1391.833984\" xlink:href=\"#DejaVuSans-100\"/>\n       <use x=\"1455.310547\" xlink:href=\"#DejaVuSans-105\"/>\n       <use x=\"1483.09375\" xlink:href=\"#DejaVuSans-99\"/>\n       <use x=\"1538.074219\" xlink:href=\"#DejaVuSans-97\"/>\n       <use x=\"1599.353516\" xlink:href=\"#DejaVuSans-108\"/>\n       <use x=\"1627.136719\" xlink:href=\"#DejaVuSans-67\"/>\n       <use x=\"1696.960938\" xlink:href=\"#DejaVuSans-97\"/>\n       <use x=\"1758.240234\" xlink:href=\"#DejaVuSans-114\"/>\n       <use x=\"1797.103516\" xlink:href=\"#DejaVuSans-101\"/>\n      </g>\n     </g>\n    </g>\n    <g id=\"ytick_7\">\n     <g id=\"text_14\">\n      <!-- meansOfControlWithholdsNecessities -->\n      <defs>\n       <path d=\"M 3.328125 72.90625 \nL 13.28125 72.90625 \nL 28.609375 11.28125 \nL 43.890625 72.90625 \nL 54.984375 72.90625 \nL 70.3125 11.28125 \nL 85.59375 72.90625 \nL 95.609375 72.90625 \nL 77.296875 0 \nL 64.890625 0 \nL 49.515625 63.28125 \nL 33.984375 0 \nL 21.578125 0 \nz\n\" id=\"DejaVuSans-87\"/>\n       <path d=\"M 9.8125 72.90625 \nL 23.09375 72.90625 \nL 55.421875 11.921875 \nL 55.421875 72.90625 \nL 64.984375 72.90625 \nL 64.984375 0 \nL 51.703125 0 \nL 19.390625 60.984375 \nL 19.390625 0 \nL 9.8125 0 \nz\n\" id=\"DejaVuSans-78\"/>\n      </defs>\n      <g style=\"fill:#262626;\" transform=\"translate(42.63125 67.084933)scale(0.1 -0.1)\">\n       <use xlink:href=\"#DejaVuSans-109\"/>\n       <use x=\"97.412109\" xlink:href=\"#DejaVuSans-101\"/>\n       <use x=\"158.935547\" xlink:href=\"#DejaVuSans-97\"/>\n       <use x=\"220.214844\" xlink:href=\"#DejaVuSans-110\"/>\n       <use x=\"283.59375\" xlink:href=\"#DejaVuSans-115\"/>\n       <use x=\"335.693359\" xlink:href=\"#DejaVuSans-79\"/>\n       <use x=\"414.404297\" xlink:href=\"#DejaVuSans-102\"/>\n       <use x=\"449.609375\" xlink:href=\"#DejaVuSans-67\"/>\n       <use x=\"519.433594\" xlink:href=\"#DejaVuSans-111\"/>\n       <use x=\"580.615234\" xlink:href=\"#DejaVuSans-110\"/>\n       <use x=\"643.994141\" xlink:href=\"#DejaVuSans-116\"/>\n       <use x=\"683.203125\" xlink:href=\"#DejaVuSans-114\"/>\n       <use x=\"722.066406\" xlink:href=\"#DejaVuSans-111\"/>\n       <use x=\"783.248047\" xlink:href=\"#DejaVuSans-108\"/>\n       <use x=\"811.03125\" xlink:href=\"#DejaVuSans-87\"/>\n       <use x=\"907.658203\" xlink:href=\"#DejaVuSans-105\"/>\n       <use x=\"935.441406\" xlink:href=\"#DejaVuSans-116\"/>\n       <use x=\"974.650391\" xlink:href=\"#DejaVuSans-104\"/>\n       <use x=\"1038.029297\" xlink:href=\"#DejaVuSans-104\"/>\n       <use x=\"1101.408203\" xlink:href=\"#DejaVuSans-111\"/>\n       <use x=\"1162.589844\" xlink:href=\"#DejaVuSans-108\"/>\n       <use x=\"1190.373047\" xlink:href=\"#DejaVuSans-100\"/>\n       <use x=\"1253.849609\" xlink:href=\"#DejaVuSans-115\"/>\n       <use x=\"1305.949219\" xlink:href=\"#DejaVuSans-78\"/>\n       <use x=\"1380.753906\" xlink:href=\"#DejaVuSans-101\"/>\n       <use x=\"1442.277344\" xlink:href=\"#DejaVuSans-99\"/>\n       <use x=\"1497.257812\" xlink:href=\"#DejaVuSans-101\"/>\n       <use x=\"1558.78125\" xlink:href=\"#DejaVuSans-115\"/>\n       <use x=\"1610.880859\" xlink:href=\"#DejaVuSans-115\"/>\n       <use x=\"1662.980469\" xlink:href=\"#DejaVuSans-105\"/>\n       <use x=\"1690.763672\" xlink:href=\"#DejaVuSans-116\"/>\n       <use x=\"1729.972656\" xlink:href=\"#DejaVuSans-105\"/>\n       <use x=\"1757.755859\" xlink:href=\"#DejaVuSans-101\"/>\n       <use x=\"1819.279297\" xlink:href=\"#DejaVuSans-115\"/>\n      </g>\n     </g>\n    </g>\n    <g id=\"ytick_8\">\n     <g id=\"text_15\">\n      <!-- meansOfControlSexualAbuse -->\n      <defs>\n       <path d=\"M 54.890625 54.6875 \nL 35.109375 28.078125 \nL 55.90625 0 \nL 45.3125 0 \nL 29.390625 21.484375 \nL 13.484375 0 \nL 2.875 0 \nL 24.125 28.609375 \nL 4.6875 54.6875 \nL 15.28125 54.6875 \nL 29.78125 35.203125 \nL 44.28125 54.6875 \nz\n\" id=\"DejaVuSans-120\"/>\n       <path d=\"M 8.5 21.578125 \nL 8.5 54.6875 \nL 17.484375 54.6875 \nL 17.484375 21.921875 \nQ 17.484375 14.15625 20.5 10.265625 \nQ 23.53125 6.390625 29.59375 6.390625 \nQ 36.859375 6.390625 41.078125 11.03125 \nQ 45.3125 15.671875 45.3125 23.6875 \nL 45.3125 54.6875 \nL 54.296875 54.6875 \nL 54.296875 0 \nL 45.3125 0 \nL 45.3125 8.40625 \nQ 42.046875 3.421875 37.71875 1 \nQ 33.40625 -1.421875 27.6875 -1.421875 \nQ 18.265625 -1.421875 13.375 4.4375 \nQ 8.5 10.296875 8.5 21.578125 \nz\nM 31.109375 56 \nz\n\" id=\"DejaVuSans-117\"/>\n      </defs>\n      <g style=\"fill:#262626;\" transform=\"translate(84.2875 75.713504)scale(0.1 -0.1)\">\n       <use xlink:href=\"#DejaVuSans-109\"/>\n       <use x=\"97.412109\" xlink:href=\"#DejaVuSans-101\"/>\n       <use x=\"158.935547\" xlink:href=\"#DejaVuSans-97\"/>\n       <use x=\"220.214844\" xlink:href=\"#DejaVuSans-110\"/>\n       <use x=\"283.59375\" xlink:href=\"#DejaVuSans-115\"/>\n       <use x=\"335.693359\" xlink:href=\"#DejaVuSans-79\"/>\n       <use x=\"414.404297\" xlink:href=\"#DejaVuSans-102\"/>\n       <use x=\"449.609375\" xlink:href=\"#DejaVuSans-67\"/>\n       <use x=\"519.433594\" xlink:href=\"#DejaVuSans-111\"/>\n       <use x=\"580.615234\" xlink:href=\"#DejaVuSans-110\"/>\n       <use x=\"643.994141\" xlink:href=\"#DejaVuSans-116\"/>\n       <use x=\"683.203125\" xlink:href=\"#DejaVuSans-114\"/>\n       <use x=\"722.066406\" xlink:href=\"#DejaVuSans-111\"/>\n       <use x=\"783.248047\" xlink:href=\"#DejaVuSans-108\"/>\n       <use x=\"811.03125\" xlink:href=\"#DejaVuSans-83\"/>\n       <use x=\"874.507812\" xlink:href=\"#DejaVuSans-101\"/>\n       <use x=\"934.28125\" xlink:href=\"#DejaVuSans-120\"/>\n       <use x=\"993.460938\" xlink:href=\"#DejaVuSans-117\"/>\n       <use x=\"1056.839844\" xlink:href=\"#DejaVuSans-97\"/>\n       <use x=\"1118.119141\" xlink:href=\"#DejaVuSans-108\"/>\n       <use x=\"1145.902344\" xlink:href=\"#DejaVuSans-65\"/>\n       <use x=\"1214.310547\" xlink:href=\"#DejaVuSans-98\"/>\n       <use x=\"1277.787109\" xlink:href=\"#DejaVuSans-117\"/>\n       <use x=\"1341.166016\" xlink:href=\"#DejaVuSans-115\"/>\n       <use x=\"1393.265625\" xlink:href=\"#DejaVuSans-101\"/>\n      </g>\n     </g>\n    </g>\n    <g id=\"ytick_9\">\n     <g id=\"text_16\">\n      <!-- meansOfControlOther -->\n      <g style=\"fill:#262626;\" transform=\"translate(120.271875 84.342076)scale(0.1 -0.1)\">\n       <use xlink:href=\"#DejaVuSans-109\"/>\n       <use x=\"97.412109\" xlink:href=\"#DejaVuSans-101\"/>\n       <use x=\"158.935547\" xlink:href=\"#DejaVuSans-97\"/>\n       <use x=\"220.214844\" xlink:href=\"#DejaVuSans-110\"/>\n       <use x=\"283.59375\" xlink:href=\"#DejaVuSans-115\"/>\n       <use x=\"335.693359\" xlink:href=\"#DejaVuSans-79\"/>\n       <use x=\"414.404297\" xlink:href=\"#DejaVuSans-102\"/>\n       <use x=\"449.609375\" xlink:href=\"#DejaVuSans-67\"/>\n       <use x=\"519.433594\" xlink:href=\"#DejaVuSans-111\"/>\n       <use x=\"580.615234\" xlink:href=\"#DejaVuSans-110\"/>\n       <use x=\"643.994141\" xlink:href=\"#DejaVuSans-116\"/>\n       <use x=\"683.203125\" xlink:href=\"#DejaVuSans-114\"/>\n       <use x=\"722.066406\" xlink:href=\"#DejaVuSans-111\"/>\n       <use x=\"783.248047\" xlink:href=\"#DejaVuSans-108\"/>\n       <use x=\"811.03125\" xlink:href=\"#DejaVuSans-79\"/>\n       <use x=\"889.742188\" xlink:href=\"#DejaVuSans-116\"/>\n       <use x=\"928.951172\" xlink:href=\"#DejaVuSans-104\"/>\n       <use x=\"992.330078\" xlink:href=\"#DejaVuSans-101\"/>\n       <use x=\"1053.853516\" xlink:href=\"#DejaVuSans-114\"/>\n      </g>\n     </g>\n    </g>\n    <g id=\"ytick_10\">\n     <g id=\"text_17\">\n      <!-- meansOfControlWithholdsDocuments -->\n      <g style=\"fill:#262626;\" transform=\"translate(42.159375 92.970647)scale(0.1 -0.1)\">\n       <use xlink:href=\"#DejaVuSans-109\"/>\n       <use x=\"97.412109\" xlink:href=\"#DejaVuSans-101\"/>\n       <use x=\"158.935547\" xlink:href=\"#DejaVuSans-97\"/>\n       <use x=\"220.214844\" xlink:href=\"#DejaVuSans-110\"/>\n       <use x=\"283.59375\" xlink:href=\"#DejaVuSans-115\"/>\n       <use x=\"335.693359\" xlink:href=\"#DejaVuSans-79\"/>\n       <use x=\"414.404297\" xlink:href=\"#DejaVuSans-102\"/>\n       <use x=\"449.609375\" xlink:href=\"#DejaVuSans-67\"/>\n       <use x=\"519.433594\" xlink:href=\"#DejaVuSans-111\"/>\n       <use x=\"580.615234\" xlink:href=\"#DejaVuSans-110\"/>\n       <use x=\"643.994141\" xlink:href=\"#DejaVuSans-116\"/>\n       <use x=\"683.203125\" xlink:href=\"#DejaVuSans-114\"/>\n       <use x=\"722.066406\" xlink:href=\"#DejaVuSans-111\"/>\n       <use x=\"783.248047\" xlink:href=\"#DejaVuSans-108\"/>\n       <use x=\"811.03125\" xlink:href=\"#DejaVuSans-87\"/>\n       <use x=\"907.658203\" xlink:href=\"#DejaVuSans-105\"/>\n       <use x=\"935.441406\" xlink:href=\"#DejaVuSans-116\"/>\n       <use x=\"974.650391\" xlink:href=\"#DejaVuSans-104\"/>\n       <use x=\"1038.029297\" xlink:href=\"#DejaVuSans-104\"/>\n       <use x=\"1101.408203\" xlink:href=\"#DejaVuSans-111\"/>\n       <use x=\"1162.589844\" xlink:href=\"#DejaVuSans-108\"/>\n       <use x=\"1190.373047\" xlink:href=\"#DejaVuSans-100\"/>\n       <use x=\"1253.849609\" xlink:href=\"#DejaVuSans-115\"/>\n       <use x=\"1305.949219\" xlink:href=\"#DejaVuSans-68\"/>\n       <use x=\"1382.951172\" xlink:href=\"#DejaVuSans-111\"/>\n       <use x=\"1444.132812\" xlink:href=\"#DejaVuSans-99\"/>\n       <use x=\"1499.113281\" xlink:href=\"#DejaVuSans-117\"/>\n       <use x=\"1562.492188\" xlink:href=\"#DejaVuSans-109\"/>\n       <use x=\"1659.904297\" xlink:href=\"#DejaVuSans-101\"/>\n       <use x=\"1721.427734\" xlink:href=\"#DejaVuSans-110\"/>\n       <use x=\"1784.806641\" xlink:href=\"#DejaVuSans-116\"/>\n       <use x=\"1824.015625\" xlink:href=\"#DejaVuSans-115\"/>\n      </g>\n     </g>\n    </g>\n    <g id=\"ytick_11\">\n     <g id=\"text_18\">\n      <!-- meansOfControlExcessiveWorkingHours -->\n      <defs>\n       <path d=\"M 9.078125 75.984375 \nL 18.109375 75.984375 \nL 18.109375 31.109375 \nL 44.921875 54.6875 \nL 56.390625 54.6875 \nL 27.390625 29.109375 \nL 57.625 0 \nL 45.90625 0 \nL 18.109375 26.703125 \nL 18.109375 0 \nL 9.078125 0 \nz\n\" id=\"DejaVuSans-107\"/>\n       <path d=\"M 9.8125 72.90625 \nL 19.671875 72.90625 \nL 19.671875 43.015625 \nL 55.515625 43.015625 \nL 55.515625 72.90625 \nL 65.375 72.90625 \nL 65.375 0 \nL 55.515625 0 \nL 55.515625 34.71875 \nL 19.671875 34.71875 \nL 19.671875 0 \nL 9.8125 0 \nz\n\" id=\"DejaVuSans-72\"/>\n      </defs>\n      <g style=\"fill:#262626;\" transform=\"translate(29.601562 101.599219)scale(0.1 -0.1)\">\n       <use xlink:href=\"#DejaVuSans-109\"/>\n       <use x=\"97.412109\" xlink:href=\"#DejaVuSans-101\"/>\n       <use x=\"158.935547\" xlink:href=\"#DejaVuSans-97\"/>\n       <use x=\"220.214844\" xlink:href=\"#DejaVuSans-110\"/>\n       <use x=\"283.59375\" xlink:href=\"#DejaVuSans-115\"/>\n       <use x=\"335.693359\" xlink:href=\"#DejaVuSans-79\"/>\n       <use x=\"414.404297\" xlink:href=\"#DejaVuSans-102\"/>\n       <use x=\"449.609375\" xlink:href=\"#DejaVuSans-67\"/>\n       <use x=\"519.433594\" xlink:href=\"#DejaVuSans-111\"/>\n       <use x=\"580.615234\" xlink:href=\"#DejaVuSans-110\"/>\n       <use x=\"643.994141\" xlink:href=\"#DejaVuSans-116\"/>\n       <use x=\"683.203125\" xlink:href=\"#DejaVuSans-114\"/>\n       <use x=\"722.066406\" xlink:href=\"#DejaVuSans-111\"/>\n       <use x=\"783.248047\" xlink:href=\"#DejaVuSans-108\"/>\n       <use x=\"811.03125\" xlink:href=\"#DejaVuSans-69\"/>\n       <use x=\"874.214844\" xlink:href=\"#DejaVuSans-120\"/>\n       <use x=\"931.644531\" xlink:href=\"#DejaVuSans-99\"/>\n       <use x=\"986.625\" xlink:href=\"#DejaVuSans-101\"/>\n       <use x=\"1048.148438\" xlink:href=\"#DejaVuSans-115\"/>\n       <use x=\"1100.248047\" xlink:href=\"#DejaVuSans-115\"/>\n       <use x=\"1152.347656\" xlink:href=\"#DejaVuSans-105\"/>\n       <use x=\"1180.130859\" xlink:href=\"#DejaVuSans-118\"/>\n       <use x=\"1239.310547\" xlink:href=\"#DejaVuSans-101\"/>\n       <use x=\"1300.833984\" xlink:href=\"#DejaVuSans-87\"/>\n       <use x=\"1393.835938\" xlink:href=\"#DejaVuSans-111\"/>\n       <use x=\"1455.017578\" xlink:href=\"#DejaVuSans-114\"/>\n       <use x=\"1496.130859\" xlink:href=\"#DejaVuSans-107\"/>\n       <use x=\"1554.041016\" xlink:href=\"#DejaVuSans-105\"/>\n       <use x=\"1581.824219\" xlink:href=\"#DejaVuSans-110\"/>\n       <use x=\"1645.203125\" xlink:href=\"#DejaVuSans-103\"/>\n       <use x=\"1708.679688\" xlink:href=\"#DejaVuSans-72\"/>\n       <use x=\"1783.875\" xlink:href=\"#DejaVuSans-111\"/>\n       <use x=\"1845.056641\" xlink:href=\"#DejaVuSans-117\"/>\n       <use x=\"1908.435547\" xlink:href=\"#DejaVuSans-114\"/>\n       <use x=\"1949.548828\" xlink:href=\"#DejaVuSans-115\"/>\n      </g>\n     </g>\n    </g>\n    <g id=\"ytick_12\">\n     <g id=\"text_19\">\n      <!-- meansOfControlPsychoactiveSubstances -->\n      <g style=\"fill:#262626;\" transform=\"translate(25.840625 110.22779)scale(0.1 -0.1)\">\n       <use xlink:href=\"#DejaVuSans-109\"/>\n       <use x=\"97.412109\" xlink:href=\"#DejaVuSans-101\"/>\n       <use x=\"158.935547\" xlink:href=\"#DejaVuSans-97\"/>\n       <use x=\"220.214844\" xlink:href=\"#DejaVuSans-110\"/>\n       <use x=\"283.59375\" xlink:href=\"#DejaVuSans-115\"/>\n       <use x=\"335.693359\" xlink:href=\"#DejaVuSans-79\"/>\n       <use x=\"414.404297\" xlink:href=\"#DejaVuSans-102\"/>\n       <use x=\"449.609375\" xlink:href=\"#DejaVuSans-67\"/>\n       <use x=\"519.433594\" xlink:href=\"#DejaVuSans-111\"/>\n       <use x=\"580.615234\" xlink:href=\"#DejaVuSans-110\"/>\n       <use x=\"643.994141\" xlink:href=\"#DejaVuSans-116\"/>\n       <use x=\"683.203125\" xlink:href=\"#DejaVuSans-114\"/>\n       <use x=\"722.066406\" xlink:href=\"#DejaVuSans-111\"/>\n       <use x=\"783.248047\" xlink:href=\"#DejaVuSans-108\"/>\n       <use x=\"811.03125\" xlink:href=\"#DejaVuSans-80\"/>\n       <use x=\"869.583984\" xlink:href=\"#DejaVuSans-115\"/>\n       <use x=\"921.683594\" xlink:href=\"#DejaVuSans-121\"/>\n       <use x=\"980.863281\" xlink:href=\"#DejaVuSans-99\"/>\n       <use x=\"1035.84375\" xlink:href=\"#DejaVuSans-104\"/>\n       <use x=\"1099.222656\" xlink:href=\"#DejaVuSans-111\"/>\n       <use x=\"1160.404297\" xlink:href=\"#DejaVuSans-97\"/>\n       <use x=\"1221.683594\" xlink:href=\"#DejaVuSans-99\"/>\n       <use x=\"1276.664062\" xlink:href=\"#DejaVuSans-116\"/>\n       <use x=\"1315.873047\" xlink:href=\"#DejaVuSans-105\"/>\n       <use x=\"1343.65625\" xlink:href=\"#DejaVuSans-118\"/>\n       <use x=\"1402.835938\" xlink:href=\"#DejaVuSans-101\"/>\n       <use x=\"1464.359375\" xlink:href=\"#DejaVuSans-83\"/>\n       <use x=\"1527.835938\" xlink:href=\"#DejaVuSans-117\"/>\n       <use x=\"1591.214844\" xlink:href=\"#DejaVuSans-98\"/>\n       <use x=\"1654.691406\" xlink:href=\"#DejaVuSans-115\"/>\n       <use x=\"1706.791016\" xlink:href=\"#DejaVuSans-116\"/>\n       <use x=\"1746\" xlink:href=\"#DejaVuSans-97\"/>\n       <use x=\"1807.279297\" xlink:href=\"#DejaVuSans-110\"/>\n       <use x=\"1870.658203\" xlink:href=\"#DejaVuSans-99\"/>\n       <use x=\"1925.638672\" xlink:href=\"#DejaVuSans-101\"/>\n       <use x=\"1987.162109\" xlink:href=\"#DejaVuSans-115\"/>\n      </g>\n     </g>\n    </g>\n    <g id=\"ytick_13\">\n     <g id=\"text_20\">\n      <!-- meansOfControlFalsePromises -->\n      <g style=\"fill:#262626;\" transform=\"translate(78.607812 118.856362)scale(0.1 -0.1)\">\n       <use xlink:href=\"#DejaVuSans-109\"/>\n       <use x=\"97.412109\" xlink:href=\"#DejaVuSans-101\"/>\n       <use x=\"158.935547\" xlink:href=\"#DejaVuSans-97\"/>\n       <use x=\"220.214844\" xlink:href=\"#DejaVuSans-110\"/>\n       <use x=\"283.59375\" xlink:href=\"#DejaVuSans-115\"/>\n       <use x=\"335.693359\" xlink:href=\"#DejaVuSans-79\"/>\n       <use x=\"414.404297\" xlink:href=\"#DejaVuSans-102\"/>\n       <use x=\"449.609375\" xlink:href=\"#DejaVuSans-67\"/>\n       <use x=\"519.433594\" xlink:href=\"#DejaVuSans-111\"/>\n       <use x=\"580.615234\" xlink:href=\"#DejaVuSans-110\"/>\n       <use x=\"643.994141\" xlink:href=\"#DejaVuSans-116\"/>\n       <use x=\"683.203125\" xlink:href=\"#DejaVuSans-114\"/>\n       <use x=\"722.066406\" xlink:href=\"#DejaVuSans-111\"/>\n       <use x=\"783.248047\" xlink:href=\"#DejaVuSans-108\"/>\n       <use x=\"811.03125\" xlink:href=\"#DejaVuSans-70\"/>\n       <use x=\"859.425781\" xlink:href=\"#DejaVuSans-97\"/>\n       <use x=\"920.705078\" xlink:href=\"#DejaVuSans-108\"/>\n       <use x=\"948.488281\" xlink:href=\"#DejaVuSans-115\"/>\n       <use x=\"1000.587891\" xlink:href=\"#DejaVuSans-101\"/>\n       <use x=\"1062.111328\" xlink:href=\"#DejaVuSans-80\"/>\n       <use x=\"1120.664062\" xlink:href=\"#DejaVuSans-114\"/>\n       <use x=\"1159.527344\" xlink:href=\"#DejaVuSans-111\"/>\n       <use x=\"1220.708984\" xlink:href=\"#DejaVuSans-109\"/>\n       <use x=\"1318.121094\" xlink:href=\"#DejaVuSans-105\"/>\n       <use x=\"1345.904297\" xlink:href=\"#DejaVuSans-115\"/>\n       <use x=\"1398.003906\" xlink:href=\"#DejaVuSans-101\"/>\n       <use x=\"1459.527344\" xlink:href=\"#DejaVuSans-115\"/>\n      </g>\n     </g>\n    </g>\n    <g id=\"ytick_14\">\n     <g id=\"text_21\">\n      <!-- meansOfControlTakesEarnings -->\n      <g style=\"fill:#262626;\" transform=\"translate(77.895313 127.484933)scale(0.1 -0.1)\">\n       <use xlink:href=\"#DejaVuSans-109\"/>\n       <use x=\"97.412109\" xlink:href=\"#DejaVuSans-101\"/>\n       <use x=\"158.935547\" xlink:href=\"#DejaVuSans-97\"/>\n       <use x=\"220.214844\" xlink:href=\"#DejaVuSans-110\"/>\n       <use x=\"283.59375\" xlink:href=\"#DejaVuSans-115\"/>\n       <use x=\"335.693359\" xlink:href=\"#DejaVuSans-79\"/>\n       <use x=\"414.404297\" xlink:href=\"#DejaVuSans-102\"/>\n       <use x=\"449.609375\" xlink:href=\"#DejaVuSans-67\"/>\n       <use x=\"519.433594\" xlink:href=\"#DejaVuSans-111\"/>\n       <use x=\"580.615234\" xlink:href=\"#DejaVuSans-110\"/>\n       <use x=\"643.994141\" xlink:href=\"#DejaVuSans-116\"/>\n       <use x=\"683.203125\" xlink:href=\"#DejaVuSans-114\"/>\n       <use x=\"722.066406\" xlink:href=\"#DejaVuSans-111\"/>\n       <use x=\"783.248047\" xlink:href=\"#DejaVuSans-108\"/>\n       <use x=\"811.03125\" xlink:href=\"#DejaVuSans-84\"/>\n       <use x=\"855.615234\" xlink:href=\"#DejaVuSans-97\"/>\n       <use x=\"916.894531\" xlink:href=\"#DejaVuSans-107\"/>\n       <use x=\"971.179688\" xlink:href=\"#DejaVuSans-101\"/>\n       <use x=\"1032.703125\" xlink:href=\"#DejaVuSans-115\"/>\n       <use x=\"1084.802734\" xlink:href=\"#DejaVuSans-69\"/>\n       <use x=\"1147.986328\" xlink:href=\"#DejaVuSans-97\"/>\n       <use x=\"1209.265625\" xlink:href=\"#DejaVuSans-114\"/>\n       <use x=\"1248.628906\" xlink:href=\"#DejaVuSans-110\"/>\n       <use x=\"1312.007812\" xlink:href=\"#DejaVuSans-105\"/>\n       <use x=\"1339.791016\" xlink:href=\"#DejaVuSans-110\"/>\n       <use x=\"1403.169922\" xlink:href=\"#DejaVuSans-103\"/>\n       <use x=\"1466.646484\" xlink:href=\"#DejaVuSans-115\"/>\n      </g>\n     </g>\n    </g>\n    <g id=\"ytick_15\">\n     <g id=\"text_22\">\n      <!-- typeOfSexConcatenated -->\n      <g style=\"fill:#262626;\" transform=\"translate(107.764063 136.113504)scale(0.1 -0.1)\">\n       <use xlink:href=\"#DejaVuSans-116\"/>\n       <use x=\"39.208984\" xlink:href=\"#DejaVuSans-121\"/>\n       <use x=\"98.388672\" xlink:href=\"#DejaVuSans-112\"/>\n       <use x=\"161.865234\" xlink:href=\"#DejaVuSans-101\"/>\n       <use x=\"223.388672\" xlink:href=\"#DejaVuSans-79\"/>\n       <use x=\"302.099609\" xlink:href=\"#DejaVuSans-102\"/>\n       <use x=\"337.304688\" xlink:href=\"#DejaVuSans-83\"/>\n       <use x=\"400.78125\" xlink:href=\"#DejaVuSans-101\"/>\n       <use x=\"460.554688\" xlink:href=\"#DejaVuSans-120\"/>\n       <use x=\"519.734375\" xlink:href=\"#DejaVuSans-67\"/>\n       <use x=\"589.558594\" xlink:href=\"#DejaVuSans-111\"/>\n       <use x=\"650.740234\" xlink:href=\"#DejaVuSans-110\"/>\n       <use x=\"714.119141\" xlink:href=\"#DejaVuSans-99\"/>\n       <use x=\"769.099609\" xlink:href=\"#DejaVuSans-97\"/>\n       <use x=\"830.378906\" xlink:href=\"#DejaVuSans-116\"/>\n       <use x=\"869.587891\" xlink:href=\"#DejaVuSans-101\"/>\n       <use x=\"931.111328\" xlink:href=\"#DejaVuSans-110\"/>\n       <use x=\"994.490234\" xlink:href=\"#DejaVuSans-97\"/>\n       <use x=\"1055.769531\" xlink:href=\"#DejaVuSans-116\"/>\n       <use x=\"1094.978516\" xlink:href=\"#DejaVuSans-101\"/>\n       <use x=\"1156.501953\" xlink:href=\"#DejaVuSans-100\"/>\n      </g>\n     </g>\n    </g>\n    <g id=\"ytick_16\">\n     <g id=\"text_23\">\n      <!-- meansOfControlPhysicalAbuse -->\n      <g style=\"fill:#262626;\" transform=\"translate(77.098438 144.742076)scale(0.1 -0.1)\">\n       <use xlink:href=\"#DejaVuSans-109\"/>\n       <use x=\"97.412109\" xlink:href=\"#DejaVuSans-101\"/>\n       <use x=\"158.935547\" xlink:href=\"#DejaVuSans-97\"/>\n       <use x=\"220.214844\" xlink:href=\"#DejaVuSans-110\"/>\n       <use x=\"283.59375\" xlink:href=\"#DejaVuSans-115\"/>\n       <use x=\"335.693359\" xlink:href=\"#DejaVuSans-79\"/>\n       <use x=\"414.404297\" xlink:href=\"#DejaVuSans-102\"/>\n       <use x=\"449.609375\" xlink:href=\"#DejaVuSans-67\"/>\n       <use x=\"519.433594\" xlink:href=\"#DejaVuSans-111\"/>\n       <use x=\"580.615234\" xlink:href=\"#DejaVuSans-110\"/>\n       <use x=\"643.994141\" xlink:href=\"#DejaVuSans-116\"/>\n       <use x=\"683.203125\" xlink:href=\"#DejaVuSans-114\"/>\n       <use x=\"722.066406\" xlink:href=\"#DejaVuSans-111\"/>\n       <use x=\"783.248047\" xlink:href=\"#DejaVuSans-108\"/>\n       <use x=\"811.03125\" xlink:href=\"#DejaVuSans-80\"/>\n       <use x=\"871.333984\" xlink:href=\"#DejaVuSans-104\"/>\n       <use x=\"934.712891\" xlink:href=\"#DejaVuSans-121\"/>\n       <use x=\"993.892578\" xlink:href=\"#DejaVuSans-115\"/>\n       <use x=\"1045.992188\" xlink:href=\"#DejaVuSans-105\"/>\n       <use x=\"1073.775391\" xlink:href=\"#DejaVuSans-99\"/>\n       <use x=\"1128.755859\" xlink:href=\"#DejaVuSans-97\"/>\n       <use x=\"1190.035156\" xlink:href=\"#DejaVuSans-108\"/>\n       <use x=\"1217.818359\" xlink:href=\"#DejaVuSans-65\"/>\n       <use x=\"1286.226562\" xlink:href=\"#DejaVuSans-98\"/>\n       <use x=\"1349.703125\" xlink:href=\"#DejaVuSans-117\"/>\n       <use x=\"1413.082031\" xlink:href=\"#DejaVuSans-115\"/>\n       <use x=\"1465.181641\" xlink:href=\"#DejaVuSans-101\"/>\n      </g>\n     </g>\n    </g>\n    <g id=\"ytick_17\">\n     <g id=\"text_24\">\n      <!-- meansOfControlThreats -->\n      <g style=\"fill:#262626;\" transform=\"translate(110.923438 153.370647)scale(0.1 -0.1)\">\n       <use xlink:href=\"#DejaVuSans-109\"/>\n       <use x=\"97.412109\" xlink:href=\"#DejaVuSans-101\"/>\n       <use x=\"158.935547\" xlink:href=\"#DejaVuSans-97\"/>\n       <use x=\"220.214844\" xlink:href=\"#DejaVuSans-110\"/>\n       <use x=\"283.59375\" xlink:href=\"#DejaVuSans-115\"/>\n       <use x=\"335.693359\" xlink:href=\"#DejaVuSans-79\"/>\n       <use x=\"414.404297\" xlink:href=\"#DejaVuSans-102\"/>\n       <use x=\"449.609375\" xlink:href=\"#DejaVuSans-67\"/>\n       <use x=\"519.433594\" xlink:href=\"#DejaVuSans-111\"/>\n       <use x=\"580.615234\" xlink:href=\"#DejaVuSans-110\"/>\n       <use x=\"643.994141\" xlink:href=\"#DejaVuSans-116\"/>\n       <use x=\"683.203125\" xlink:href=\"#DejaVuSans-114\"/>\n       <use x=\"722.066406\" xlink:href=\"#DejaVuSans-111\"/>\n       <use x=\"783.248047\" xlink:href=\"#DejaVuSans-108\"/>\n       <use x=\"811.03125\" xlink:href=\"#DejaVuSans-84\"/>\n       <use x=\"872.115234\" xlink:href=\"#DejaVuSans-104\"/>\n       <use x=\"935.494141\" xlink:href=\"#DejaVuSans-114\"/>\n       <use x=\"974.357422\" xlink:href=\"#DejaVuSans-101\"/>\n       <use x=\"1035.880859\" xlink:href=\"#DejaVuSans-97\"/>\n       <use x=\"1097.160156\" xlink:href=\"#DejaVuSans-116\"/>\n       <use x=\"1136.369141\" xlink:href=\"#DejaVuSans-115\"/>\n      </g>\n     </g>\n    </g>\n    <g id=\"ytick_18\">\n     <g id=\"text_25\">\n      <!-- typeOfSexPrivateSexualServices -->\n      <g style=\"fill:#262626;\" transform=\"translate(67.267188 161.999219)scale(0.1 -0.1)\">\n       <use xlink:href=\"#DejaVuSans-116\"/>\n       <use x=\"39.208984\" xlink:href=\"#DejaVuSans-121\"/>\n       <use x=\"98.388672\" xlink:href=\"#DejaVuSans-112\"/>\n       <use x=\"161.865234\" xlink:href=\"#DejaVuSans-101\"/>\n       <use x=\"223.388672\" xlink:href=\"#DejaVuSans-79\"/>\n       <use x=\"302.099609\" xlink:href=\"#DejaVuSans-102\"/>\n       <use x=\"337.304688\" xlink:href=\"#DejaVuSans-83\"/>\n       <use x=\"400.78125\" xlink:href=\"#DejaVuSans-101\"/>\n       <use x=\"460.554688\" xlink:href=\"#DejaVuSans-120\"/>\n       <use x=\"519.734375\" xlink:href=\"#DejaVuSans-80\"/>\n       <use x=\"578.287109\" xlink:href=\"#DejaVuSans-114\"/>\n       <use x=\"619.400391\" xlink:href=\"#DejaVuSans-105\"/>\n       <use x=\"647.183594\" xlink:href=\"#DejaVuSans-118\"/>\n       <use x=\"706.363281\" xlink:href=\"#DejaVuSans-97\"/>\n       <use x=\"767.642578\" xlink:href=\"#DejaVuSans-116\"/>\n       <use x=\"806.851562\" xlink:href=\"#DejaVuSans-101\"/>\n       <use x=\"868.375\" xlink:href=\"#DejaVuSans-83\"/>\n       <use x=\"931.851562\" xlink:href=\"#DejaVuSans-101\"/>\n       <use x=\"991.625\" xlink:href=\"#DejaVuSans-120\"/>\n       <use x=\"1050.804688\" xlink:href=\"#DejaVuSans-117\"/>\n       <use x=\"1114.183594\" xlink:href=\"#DejaVuSans-97\"/>\n       <use x=\"1175.462891\" xlink:href=\"#DejaVuSans-108\"/>\n       <use x=\"1203.246094\" xlink:href=\"#DejaVuSans-83\"/>\n       <use x=\"1266.722656\" xlink:href=\"#DejaVuSans-101\"/>\n       <use x=\"1328.246094\" xlink:href=\"#DejaVuSans-114\"/>\n       <use x=\"1369.359375\" xlink:href=\"#DejaVuSans-118\"/>\n       <use x=\"1428.539062\" xlink:href=\"#DejaVuSans-105\"/>\n       <use x=\"1456.322266\" xlink:href=\"#DejaVuSans-99\"/>\n       <use x=\"1511.302734\" xlink:href=\"#DejaVuSans-101\"/>\n       <use x=\"1572.826172\" xlink:href=\"#DejaVuSans-115\"/>\n      </g>\n     </g>\n    </g>\n    <g id=\"ytick_19\">\n     <g id=\"text_26\">\n      <!-- meansOfControlRestrictsMovement -->\n      <g style=\"fill:#262626;\" transform=\"translate(52.396875 170.62779)scale(0.1 -0.1)\">\n       <use xlink:href=\"#DejaVuSans-109\"/>\n       <use x=\"97.412109\" xlink:href=\"#DejaVuSans-101\"/>\n       <use x=\"158.935547\" xlink:href=\"#DejaVuSans-97\"/>\n       <use x=\"220.214844\" xlink:href=\"#DejaVuSans-110\"/>\n       <use x=\"283.59375\" xlink:href=\"#DejaVuSans-115\"/>\n       <use x=\"335.693359\" xlink:href=\"#DejaVuSans-79\"/>\n       <use x=\"414.404297\" xlink:href=\"#DejaVuSans-102\"/>\n       <use x=\"449.609375\" xlink:href=\"#DejaVuSans-67\"/>\n       <use x=\"519.433594\" xlink:href=\"#DejaVuSans-111\"/>\n       <use x=\"580.615234\" xlink:href=\"#DejaVuSans-110\"/>\n       <use x=\"643.994141\" xlink:href=\"#DejaVuSans-116\"/>\n       <use x=\"683.203125\" xlink:href=\"#DejaVuSans-114\"/>\n       <use x=\"722.066406\" xlink:href=\"#DejaVuSans-111\"/>\n       <use x=\"783.248047\" xlink:href=\"#DejaVuSans-108\"/>\n       <use x=\"811.03125\" xlink:href=\"#DejaVuSans-82\"/>\n       <use x=\"876.013672\" xlink:href=\"#DejaVuSans-101\"/>\n       <use x=\"937.537109\" xlink:href=\"#DejaVuSans-115\"/>\n       <use x=\"989.636719\" xlink:href=\"#DejaVuSans-116\"/>\n       <use x=\"1028.845703\" xlink:href=\"#DejaVuSans-114\"/>\n       <use x=\"1069.958984\" xlink:href=\"#DejaVuSans-105\"/>\n       <use x=\"1097.742188\" xlink:href=\"#DejaVuSans-99\"/>\n       <use x=\"1152.722656\" xlink:href=\"#DejaVuSans-116\"/>\n       <use x=\"1191.931641\" xlink:href=\"#DejaVuSans-115\"/>\n       <use x=\"1244.03125\" xlink:href=\"#DejaVuSans-77\"/>\n       <use x=\"1330.310547\" xlink:href=\"#DejaVuSans-111\"/>\n       <use x=\"1391.492188\" xlink:href=\"#DejaVuSans-118\"/>\n       <use x=\"1450.671875\" xlink:href=\"#DejaVuSans-101\"/>\n       <use x=\"1512.195312\" xlink:href=\"#DejaVuSans-109\"/>\n       <use x=\"1609.607422\" xlink:href=\"#DejaVuSans-101\"/>\n       <use x=\"1671.130859\" xlink:href=\"#DejaVuSans-110\"/>\n       <use x=\"1734.509766\" xlink:href=\"#DejaVuSans-116\"/>\n      </g>\n     </g>\n    </g>\n    <g id=\"ytick_20\">\n     <g id=\"text_27\">\n      <!-- meansOfControlPsychologicalAbuse -->\n      <g style=\"fill:#262626;\" transform=\"translate(50.410937 179.256362)scale(0.1 -0.1)\">\n       <use xlink:href=\"#DejaVuSans-109\"/>\n       <use x=\"97.412109\" xlink:href=\"#DejaVuSans-101\"/>\n       <use x=\"158.935547\" xlink:href=\"#DejaVuSans-97\"/>\n       <use x=\"220.214844\" xlink:href=\"#DejaVuSans-110\"/>\n       <use x=\"283.59375\" xlink:href=\"#DejaVuSans-115\"/>\n       <use x=\"335.693359\" xlink:href=\"#DejaVuSans-79\"/>\n       <use x=\"414.404297\" xlink:href=\"#DejaVuSans-102\"/>\n       <use x=\"449.609375\" xlink:href=\"#DejaVuSans-67\"/>\n       <use x=\"519.433594\" xlink:href=\"#DejaVuSans-111\"/>\n       <use x=\"580.615234\" xlink:href=\"#DejaVuSans-110\"/>\n       <use x=\"643.994141\" xlink:href=\"#DejaVuSans-116\"/>\n       <use x=\"683.203125\" xlink:href=\"#DejaVuSans-114\"/>\n       <use x=\"722.066406\" xlink:href=\"#DejaVuSans-111\"/>\n       <use x=\"783.248047\" xlink:href=\"#DejaVuSans-108\"/>\n       <use x=\"811.03125\" xlink:href=\"#DejaVuSans-80\"/>\n       <use x=\"869.583984\" xlink:href=\"#DejaVuSans-115\"/>\n       <use x=\"921.683594\" xlink:href=\"#DejaVuSans-121\"/>\n       <use x=\"980.863281\" xlink:href=\"#DejaVuSans-99\"/>\n       <use x=\"1035.84375\" xlink:href=\"#DejaVuSans-104\"/>\n       <use x=\"1099.222656\" xlink:href=\"#DejaVuSans-111\"/>\n       <use x=\"1160.404297\" xlink:href=\"#DejaVuSans-108\"/>\n       <use x=\"1188.1875\" xlink:href=\"#DejaVuSans-111\"/>\n       <use x=\"1249.369141\" xlink:href=\"#DejaVuSans-103\"/>\n       <use x=\"1312.845703\" xlink:href=\"#DejaVuSans-105\"/>\n       <use x=\"1340.628906\" xlink:href=\"#DejaVuSans-99\"/>\n       <use x=\"1395.609375\" xlink:href=\"#DejaVuSans-97\"/>\n       <use x=\"1456.888672\" xlink:href=\"#DejaVuSans-108\"/>\n       <use x=\"1484.671875\" xlink:href=\"#DejaVuSans-65\"/>\n       <use x=\"1553.080078\" xlink:href=\"#DejaVuSans-98\"/>\n       <use x=\"1616.556641\" xlink:href=\"#DejaVuSans-117\"/>\n       <use x=\"1679.935547\" xlink:href=\"#DejaVuSans-115\"/>\n       <use x=\"1732.035156\" xlink:href=\"#DejaVuSans-101\"/>\n      </g>\n     </g>\n    </g>\n    <g id=\"ytick_21\">\n     <g id=\"text_28\">\n      <!-- typeOfLabourConcatenated -->\n      <g style=\"fill:#262626;\" transform=\"translate(91.39375 187.884933)scale(0.1 -0.1)\">\n       <use xlink:href=\"#DejaVuSans-116\"/>\n       <use x=\"39.208984\" xlink:href=\"#DejaVuSans-121\"/>\n       <use x=\"98.388672\" xlink:href=\"#DejaVuSans-112\"/>\n       <use x=\"161.865234\" xlink:href=\"#DejaVuSans-101\"/>\n       <use x=\"223.388672\" xlink:href=\"#DejaVuSans-79\"/>\n       <use x=\"302.099609\" xlink:href=\"#DejaVuSans-102\"/>\n       <use x=\"337.304688\" xlink:href=\"#DejaVuSans-76\"/>\n       <use x=\"393.017578\" xlink:href=\"#DejaVuSans-97\"/>\n       <use x=\"454.296875\" xlink:href=\"#DejaVuSans-98\"/>\n       <use x=\"517.773438\" xlink:href=\"#DejaVuSans-111\"/>\n       <use x=\"578.955078\" xlink:href=\"#DejaVuSans-117\"/>\n       <use x=\"642.333984\" xlink:href=\"#DejaVuSans-114\"/>\n       <use x=\"683.447266\" xlink:href=\"#DejaVuSans-67\"/>\n       <use x=\"753.271484\" xlink:href=\"#DejaVuSans-111\"/>\n       <use x=\"814.453125\" xlink:href=\"#DejaVuSans-110\"/>\n       <use x=\"877.832031\" xlink:href=\"#DejaVuSans-99\"/>\n       <use x=\"932.8125\" xlink:href=\"#DejaVuSans-97\"/>\n       <use x=\"994.091797\" xlink:href=\"#DejaVuSans-116\"/>\n       <use x=\"1033.300781\" xlink:href=\"#DejaVuSans-101\"/>\n       <use x=\"1094.824219\" xlink:href=\"#DejaVuSans-110\"/>\n       <use x=\"1158.203125\" xlink:href=\"#DejaVuSans-97\"/>\n       <use x=\"1219.482422\" xlink:href=\"#DejaVuSans-116\"/>\n       <use x=\"1258.691406\" xlink:href=\"#DejaVuSans-101\"/>\n       <use x=\"1320.214844\" xlink:href=\"#DejaVuSans-100\"/>\n      </g>\n     </g>\n    </g>\n    <g id=\"ytick_22\">\n     <g id=\"text_29\">\n      <!-- typeOfSexRemoteInteractiveServices -->\n      <defs>\n       <path d=\"M 9.8125 72.90625 \nL 19.671875 72.90625 \nL 19.671875 0 \nL 9.8125 0 \nz\n\" id=\"DejaVuSans-73\"/>\n      </defs>\n      <g style=\"fill:#262626;\" transform=\"translate(43.167188 196.513504)scale(0.1 -0.1)\">\n       <use xlink:href=\"#DejaVuSans-116\"/>\n       <use x=\"39.208984\" xlink:href=\"#DejaVuSans-121\"/>\n       <use x=\"98.388672\" xlink:href=\"#DejaVuSans-112\"/>\n       <use x=\"161.865234\" xlink:href=\"#DejaVuSans-101\"/>\n       <use x=\"223.388672\" xlink:href=\"#DejaVuSans-79\"/>\n       <use x=\"302.099609\" xlink:href=\"#DejaVuSans-102\"/>\n       <use x=\"337.304688\" xlink:href=\"#DejaVuSans-83\"/>\n       <use x=\"400.78125\" xlink:href=\"#DejaVuSans-101\"/>\n       <use x=\"460.554688\" xlink:href=\"#DejaVuSans-120\"/>\n       <use x=\"519.734375\" xlink:href=\"#DejaVuSans-82\"/>\n       <use x=\"584.716797\" xlink:href=\"#DejaVuSans-101\"/>\n       <use x=\"646.240234\" xlink:href=\"#DejaVuSans-109\"/>\n       <use x=\"743.652344\" xlink:href=\"#DejaVuSans-111\"/>\n       <use x=\"804.833984\" xlink:href=\"#DejaVuSans-116\"/>\n       <use x=\"844.042969\" xlink:href=\"#DejaVuSans-101\"/>\n       <use x=\"905.566406\" xlink:href=\"#DejaVuSans-73\"/>\n       <use x=\"935.058594\" xlink:href=\"#DejaVuSans-110\"/>\n       <use x=\"998.4375\" xlink:href=\"#DejaVuSans-116\"/>\n       <use x=\"1037.646484\" xlink:href=\"#DejaVuSans-101\"/>\n       <use x=\"1099.169922\" xlink:href=\"#DejaVuSans-114\"/>\n       <use x=\"1140.283203\" xlink:href=\"#DejaVuSans-97\"/>\n       <use x=\"1201.5625\" xlink:href=\"#DejaVuSans-99\"/>\n       <use x=\"1256.542969\" xlink:href=\"#DejaVuSans-116\"/>\n       <use x=\"1295.751953\" xlink:href=\"#DejaVuSans-105\"/>\n       <use x=\"1323.535156\" xlink:href=\"#DejaVuSans-118\"/>\n       <use x=\"1382.714844\" xlink:href=\"#DejaVuSans-101\"/>\n       <use x=\"1444.238281\" xlink:href=\"#DejaVuSans-83\"/>\n       <use x=\"1507.714844\" xlink:href=\"#DejaVuSans-101\"/>\n       <use x=\"1569.238281\" xlink:href=\"#DejaVuSans-114\"/>\n       <use x=\"1610.351562\" xlink:href=\"#DejaVuSans-118\"/>\n       <use x=\"1669.53125\" xlink:href=\"#DejaVuSans-105\"/>\n       <use x=\"1697.314453\" xlink:href=\"#DejaVuSans-99\"/>\n       <use x=\"1752.294922\" xlink:href=\"#DejaVuSans-101\"/>\n       <use x=\"1813.818359\" xlink:href=\"#DejaVuSans-115\"/>\n      </g>\n     </g>\n    </g>\n    <g id=\"ytick_23\">\n     <g id=\"text_30\">\n      <!-- typeOfSexPornography -->\n      <g style=\"fill:#262626;\" transform=\"translate(114.420313 205.142076)scale(0.1 -0.1)\">\n       <use xlink:href=\"#DejaVuSans-116\"/>\n       <use x=\"39.208984\" xlink:href=\"#DejaVuSans-121\"/>\n       <use x=\"98.388672\" xlink:href=\"#DejaVuSans-112\"/>\n       <use x=\"161.865234\" xlink:href=\"#DejaVuSans-101\"/>\n       <use x=\"223.388672\" xlink:href=\"#DejaVuSans-79\"/>\n       <use x=\"302.099609\" xlink:href=\"#DejaVuSans-102\"/>\n       <use x=\"337.304688\" xlink:href=\"#DejaVuSans-83\"/>\n       <use x=\"400.78125\" xlink:href=\"#DejaVuSans-101\"/>\n       <use x=\"460.554688\" xlink:href=\"#DejaVuSans-120\"/>\n       <use x=\"519.734375\" xlink:href=\"#DejaVuSans-80\"/>\n       <use x=\"576.412109\" xlink:href=\"#DejaVuSans-111\"/>\n       <use x=\"637.59375\" xlink:href=\"#DejaVuSans-114\"/>\n       <use x=\"676.957031\" xlink:href=\"#DejaVuSans-110\"/>\n       <use x=\"740.335938\" xlink:href=\"#DejaVuSans-111\"/>\n       <use x=\"801.517578\" xlink:href=\"#DejaVuSans-103\"/>\n       <use x=\"864.994141\" xlink:href=\"#DejaVuSans-114\"/>\n       <use x=\"906.107422\" xlink:href=\"#DejaVuSans-97\"/>\n       <use x=\"967.386719\" xlink:href=\"#DejaVuSans-112\"/>\n       <use x=\"1030.863281\" xlink:href=\"#DejaVuSans-104\"/>\n       <use x=\"1094.242188\" xlink:href=\"#DejaVuSans-121\"/>\n      </g>\n     </g>\n    </g>\n    <g id=\"ytick_24\">\n     <g id=\"text_31\">\n      <!-- majorityEntry -->\n      <defs>\n       <path d=\"M 9.421875 54.6875 \nL 18.40625 54.6875 \nL 18.40625 -0.984375 \nQ 18.40625 -11.421875 14.421875 -16.109375 \nQ 10.453125 -20.796875 1.609375 -20.796875 \nL -1.8125 -20.796875 \nL -1.8125 -13.1875 \nL 0.59375 -13.1875 \nQ 5.71875 -13.1875 7.5625 -10.8125 \nQ 9.421875 -8.453125 9.421875 -0.984375 \nz\nM 9.421875 75.984375 \nL 18.40625 75.984375 \nL 18.40625 64.59375 \nL 9.421875 64.59375 \nz\n\" id=\"DejaVuSans-106\"/>\n      </defs>\n      <g style=\"fill:#262626;\" transform=\"translate(161.66875 213.770647)scale(0.1 -0.1)\">\n       <use xlink:href=\"#DejaVuSans-109\"/>\n       <use x=\"97.412109\" xlink:href=\"#DejaVuSans-97\"/>\n       <use x=\"158.691406\" xlink:href=\"#DejaVuSans-106\"/>\n       <use x=\"186.474609\" xlink:href=\"#DejaVuSans-111\"/>\n       <use x=\"247.65625\" xlink:href=\"#DejaVuSans-114\"/>\n       <use x=\"288.769531\" xlink:href=\"#DejaVuSans-105\"/>\n       <use x=\"316.552734\" xlink:href=\"#DejaVuSans-116\"/>\n       <use x=\"355.761719\" xlink:href=\"#DejaVuSans-121\"/>\n       <use x=\"414.941406\" xlink:href=\"#DejaVuSans-69\"/>\n       <use x=\"478.125\" xlink:href=\"#DejaVuSans-110\"/>\n       <use x=\"541.503906\" xlink:href=\"#DejaVuSans-116\"/>\n       <use x=\"580.712891\" xlink:href=\"#DejaVuSans-114\"/>\n       <use x=\"621.826172\" xlink:href=\"#DejaVuSans-121\"/>\n      </g>\n     </g>\n    </g>\n    <g id=\"ytick_25\">\n     <g id=\"text_32\">\n      <!-- majorityStatusAtExploit -->\n      <g style=\"fill:#262626;\" transform=\"translate(111.64375 222.399219)scale(0.1 -0.1)\">\n       <use xlink:href=\"#DejaVuSans-109\"/>\n       <use x=\"97.412109\" xlink:href=\"#DejaVuSans-97\"/>\n       <use x=\"158.691406\" xlink:href=\"#DejaVuSans-106\"/>\n       <use x=\"186.474609\" xlink:href=\"#DejaVuSans-111\"/>\n       <use x=\"247.65625\" xlink:href=\"#DejaVuSans-114\"/>\n       <use x=\"288.769531\" xlink:href=\"#DejaVuSans-105\"/>\n       <use x=\"316.552734\" xlink:href=\"#DejaVuSans-116\"/>\n       <use x=\"355.761719\" xlink:href=\"#DejaVuSans-121\"/>\n       <use x=\"414.941406\" xlink:href=\"#DejaVuSans-83\"/>\n       <use x=\"478.417969\" xlink:href=\"#DejaVuSans-116\"/>\n       <use x=\"517.626953\" xlink:href=\"#DejaVuSans-97\"/>\n       <use x=\"578.90625\" xlink:href=\"#DejaVuSans-116\"/>\n       <use x=\"618.115234\" xlink:href=\"#DejaVuSans-117\"/>\n       <use x=\"681.494141\" xlink:href=\"#DejaVuSans-115\"/>\n       <use x=\"733.59375\" xlink:href=\"#DejaVuSans-65\"/>\n       <use x=\"800.251953\" xlink:href=\"#DejaVuSans-116\"/>\n       <use x=\"839.460938\" xlink:href=\"#DejaVuSans-69\"/>\n       <use x=\"902.644531\" xlink:href=\"#DejaVuSans-120\"/>\n       <use x=\"961.824219\" xlink:href=\"#DejaVuSans-112\"/>\n       <use x=\"1025.300781\" xlink:href=\"#DejaVuSans-108\"/>\n       <use x=\"1053.083984\" xlink:href=\"#DejaVuSans-111\"/>\n       <use x=\"1114.265625\" xlink:href=\"#DejaVuSans-105\"/>\n       <use x=\"1142.048828\" xlink:href=\"#DejaVuSans-116\"/>\n      </g>\n     </g>\n    </g>\n    <g id=\"ytick_26\">\n     <g id=\"text_33\">\n      <!-- isForcedMarriage -->\n      <g style=\"fill:#262626;\" transform=\"translate(144.176562 231.02779)scale(0.1 -0.1)\">\n       <use xlink:href=\"#DejaVuSans-105\"/>\n       <use x=\"27.783203\" xlink:href=\"#DejaVuSans-115\"/>\n       <use x=\"79.882812\" xlink:href=\"#DejaVuSans-70\"/>\n       <use x=\"133.777344\" xlink:href=\"#DejaVuSans-111\"/>\n       <use x=\"194.958984\" xlink:href=\"#DejaVuSans-114\"/>\n       <use x=\"233.822266\" xlink:href=\"#DejaVuSans-99\"/>\n       <use x=\"288.802734\" xlink:href=\"#DejaVuSans-101\"/>\n       <use x=\"350.326172\" xlink:href=\"#DejaVuSans-100\"/>\n       <use x=\"413.802734\" xlink:href=\"#DejaVuSans-77\"/>\n       <use x=\"500.082031\" xlink:href=\"#DejaVuSans-97\"/>\n       <use x=\"561.361328\" xlink:href=\"#DejaVuSans-114\"/>\n       <use x=\"600.724609\" xlink:href=\"#DejaVuSans-114\"/>\n       <use x=\"641.837891\" xlink:href=\"#DejaVuSans-105\"/>\n       <use x=\"669.621094\" xlink:href=\"#DejaVuSans-97\"/>\n       <use x=\"730.900391\" xlink:href=\"#DejaVuSans-103\"/>\n       <use x=\"794.376953\" xlink:href=\"#DejaVuSans-101\"/>\n      </g>\n     </g>\n    </g>\n    <g id=\"ytick_27\">\n     <g id=\"text_34\">\n      <!-- isForcedMilitary -->\n      <g style=\"fill:#262626;\" transform=\"translate(151.346875 239.656362)scale(0.1 -0.1)\">\n       <use xlink:href=\"#DejaVuSans-105\"/>\n       <use x=\"27.783203\" xlink:href=\"#DejaVuSans-115\"/>\n       <use x=\"79.882812\" xlink:href=\"#DejaVuSans-70\"/>\n       <use x=\"133.777344\" xlink:href=\"#DejaVuSans-111\"/>\n       <use x=\"194.958984\" xlink:href=\"#DejaVuSans-114\"/>\n       <use x=\"233.822266\" xlink:href=\"#DejaVuSans-99\"/>\n       <use x=\"288.802734\" xlink:href=\"#DejaVuSans-101\"/>\n       <use x=\"350.326172\" xlink:href=\"#DejaVuSans-100\"/>\n       <use x=\"413.802734\" xlink:href=\"#DejaVuSans-77\"/>\n       <use x=\"500.082031\" xlink:href=\"#DejaVuSans-105\"/>\n       <use x=\"527.865234\" xlink:href=\"#DejaVuSans-108\"/>\n       <use x=\"555.648438\" xlink:href=\"#DejaVuSans-105\"/>\n       <use x=\"583.431641\" xlink:href=\"#DejaVuSans-116\"/>\n       <use x=\"622.640625\" xlink:href=\"#DejaVuSans-97\"/>\n       <use x=\"683.919922\" xlink:href=\"#DejaVuSans-114\"/>\n       <use x=\"725.033203\" xlink:href=\"#DejaVuSans-121\"/>\n      </g>\n     </g>\n    </g>\n    <g id=\"ytick_28\">\n     <g id=\"text_35\">\n      <!-- isOrganRemoval -->\n      <g style=\"fill:#262626;\" transform=\"translate(147.823438 248.284933)scale(0.1 -0.1)\">\n       <use xlink:href=\"#DejaVuSans-105\"/>\n       <use x=\"27.783203\" xlink:href=\"#DejaVuSans-115\"/>\n       <use x=\"79.882812\" xlink:href=\"#DejaVuSans-79\"/>\n       <use x=\"158.59375\" xlink:href=\"#DejaVuSans-114\"/>\n       <use x=\"197.957031\" xlink:href=\"#DejaVuSans-103\"/>\n       <use x=\"261.433594\" xlink:href=\"#DejaVuSans-97\"/>\n       <use x=\"322.712891\" xlink:href=\"#DejaVuSans-110\"/>\n       <use x=\"386.091797\" xlink:href=\"#DejaVuSans-82\"/>\n       <use x=\"451.074219\" xlink:href=\"#DejaVuSans-101\"/>\n       <use x=\"512.597656\" xlink:href=\"#DejaVuSans-109\"/>\n       <use x=\"610.009766\" xlink:href=\"#DejaVuSans-111\"/>\n       <use x=\"671.191406\" xlink:href=\"#DejaVuSans-118\"/>\n       <use x=\"730.371094\" xlink:href=\"#DejaVuSans-97\"/>\n       <use x=\"791.650391\" xlink:href=\"#DejaVuSans-108\"/>\n      </g>\n     </g>\n    </g>\n    <g id=\"ytick_29\">\n     <g id=\"text_36\">\n      <!-- isAbduction -->\n      <g style=\"fill:#262626;\" transform=\"translate(171.253125 256.913504)scale(0.1 -0.1)\">\n       <use xlink:href=\"#DejaVuSans-105\"/>\n       <use x=\"27.783203\" xlink:href=\"#DejaVuSans-115\"/>\n       <use x=\"79.882812\" xlink:href=\"#DejaVuSans-65\"/>\n       <use x=\"148.291016\" xlink:href=\"#DejaVuSans-98\"/>\n       <use x=\"211.767578\" xlink:href=\"#DejaVuSans-100\"/>\n       <use x=\"275.244141\" xlink:href=\"#DejaVuSans-117\"/>\n       <use x=\"338.623047\" xlink:href=\"#DejaVuSans-99\"/>\n       <use x=\"393.603516\" xlink:href=\"#DejaVuSans-116\"/>\n       <use x=\"432.8125\" xlink:href=\"#DejaVuSans-105\"/>\n       <use x=\"460.595703\" xlink:href=\"#DejaVuSans-111\"/>\n       <use x=\"521.777344\" xlink:href=\"#DejaVuSans-110\"/>\n      </g>\n     </g>\n    </g>\n    <g id=\"ytick_30\">\n     <g id=\"text_37\">\n      <!-- meansOfControlConcatenated -->\n      <g style=\"fill:#262626;\" transform=\"translate(78.639062 265.542076)scale(0.1 -0.1)\">\n       <use xlink:href=\"#DejaVuSans-109\"/>\n       <use x=\"97.412109\" xlink:href=\"#DejaVuSans-101\"/>\n       <use x=\"158.935547\" xlink:href=\"#DejaVuSans-97\"/>\n       <use x=\"220.214844\" xlink:href=\"#DejaVuSans-110\"/>\n       <use x=\"283.59375\" xlink:href=\"#DejaVuSans-115\"/>\n       <use x=\"335.693359\" xlink:href=\"#DejaVuSans-79\"/>\n       <use x=\"414.404297\" xlink:href=\"#DejaVuSans-102\"/>\n       <use x=\"449.609375\" xlink:href=\"#DejaVuSans-67\"/>\n       <use x=\"519.433594\" xlink:href=\"#DejaVuSans-111\"/>\n       <use x=\"580.615234\" xlink:href=\"#DejaVuSans-110\"/>\n       <use x=\"643.994141\" xlink:href=\"#DejaVuSans-116\"/>\n       <use x=\"683.203125\" xlink:href=\"#DejaVuSans-114\"/>\n       <use x=\"722.066406\" xlink:href=\"#DejaVuSans-111\"/>\n       <use x=\"783.248047\" xlink:href=\"#DejaVuSans-108\"/>\n       <use x=\"811.03125\" xlink:href=\"#DejaVuSans-67\"/>\n       <use x=\"880.855469\" xlink:href=\"#DejaVuSans-111\"/>\n       <use x=\"942.037109\" xlink:href=\"#DejaVuSans-110\"/>\n       <use x=\"1005.416016\" xlink:href=\"#DejaVuSans-99\"/>\n       <use x=\"1060.396484\" xlink:href=\"#DejaVuSans-97\"/>\n       <use x=\"1121.675781\" xlink:href=\"#DejaVuSans-116\"/>\n       <use x=\"1160.884766\" xlink:href=\"#DejaVuSans-101\"/>\n       <use x=\"1222.408203\" xlink:href=\"#DejaVuSans-110\"/>\n       <use x=\"1285.787109\" xlink:href=\"#DejaVuSans-97\"/>\n       <use x=\"1347.066406\" xlink:href=\"#DejaVuSans-116\"/>\n       <use x=\"1386.275391\" xlink:href=\"#DejaVuSans-101\"/>\n       <use x=\"1447.798828\" xlink:href=\"#DejaVuSans-100\"/>\n      </g>\n     </g>\n    </g>\n    <g id=\"ytick_31\">\n     <g id=\"text_38\">\n      <!-- RecruiterRelationship -->\n      <g style=\"fill:#262626;\" transform=\"translate(122.821875 274.170647)scale(0.1 -0.1)\">\n       <use xlink:href=\"#DejaVuSans-82\"/>\n       <use x=\"64.982422\" xlink:href=\"#DejaVuSans-101\"/>\n       <use x=\"126.505859\" xlink:href=\"#DejaVuSans-99\"/>\n       <use x=\"181.486328\" xlink:href=\"#DejaVuSans-114\"/>\n       <use x=\"222.599609\" xlink:href=\"#DejaVuSans-117\"/>\n       <use x=\"285.978516\" xlink:href=\"#DejaVuSans-105\"/>\n       <use x=\"313.761719\" xlink:href=\"#DejaVuSans-116\"/>\n       <use x=\"352.970703\" xlink:href=\"#DejaVuSans-101\"/>\n       <use x=\"414.494141\" xlink:href=\"#DejaVuSans-114\"/>\n       <use x=\"455.607422\" xlink:href=\"#DejaVuSans-82\"/>\n       <use x=\"520.589844\" xlink:href=\"#DejaVuSans-101\"/>\n       <use x=\"582.113281\" xlink:href=\"#DejaVuSans-108\"/>\n       <use x=\"609.896484\" xlink:href=\"#DejaVuSans-97\"/>\n       <use x=\"671.175781\" xlink:href=\"#DejaVuSans-116\"/>\n       <use x=\"710.384766\" xlink:href=\"#DejaVuSans-105\"/>\n       <use x=\"738.167969\" xlink:href=\"#DejaVuSans-111\"/>\n       <use x=\"799.349609\" xlink:href=\"#DejaVuSans-110\"/>\n       <use x=\"862.728516\" xlink:href=\"#DejaVuSans-115\"/>\n       <use x=\"914.828125\" xlink:href=\"#DejaVuSans-104\"/>\n       <use x=\"978.207031\" xlink:href=\"#DejaVuSans-105\"/>\n       <use x=\"1005.990234\" xlink:href=\"#DejaVuSans-112\"/>\n      </g>\n     </g>\n    </g>\n    <g id=\"ytick_32\">\n     <g id=\"text_39\">\n      <!-- typeOfSexProstitution -->\n      <g style=\"fill:#262626;\" transform=\"translate(120.610938 282.799219)scale(0.1 -0.1)\">\n       <use xlink:href=\"#DejaVuSans-116\"/>\n       <use x=\"39.208984\" xlink:href=\"#DejaVuSans-121\"/>\n       <use x=\"98.388672\" xlink:href=\"#DejaVuSans-112\"/>\n       <use x=\"161.865234\" xlink:href=\"#DejaVuSans-101\"/>\n       <use x=\"223.388672\" xlink:href=\"#DejaVuSans-79\"/>\n       <use x=\"302.099609\" xlink:href=\"#DejaVuSans-102\"/>\n       <use x=\"337.304688\" xlink:href=\"#DejaVuSans-83\"/>\n       <use x=\"400.78125\" xlink:href=\"#DejaVuSans-101\"/>\n       <use x=\"460.554688\" xlink:href=\"#DejaVuSans-120\"/>\n       <use x=\"519.734375\" xlink:href=\"#DejaVuSans-80\"/>\n       <use x=\"578.287109\" xlink:href=\"#DejaVuSans-114\"/>\n       <use x=\"617.150391\" xlink:href=\"#DejaVuSans-111\"/>\n       <use x=\"678.332031\" xlink:href=\"#DejaVuSans-115\"/>\n       <use x=\"730.431641\" xlink:href=\"#DejaVuSans-116\"/>\n       <use x=\"769.640625\" xlink:href=\"#DejaVuSans-105\"/>\n       <use x=\"797.423828\" xlink:href=\"#DejaVuSans-116\"/>\n       <use x=\"836.632812\" xlink:href=\"#DejaVuSans-117\"/>\n       <use x=\"900.011719\" xlink:href=\"#DejaVuSans-116\"/>\n       <use x=\"939.220703\" xlink:href=\"#DejaVuSans-105\"/>\n       <use x=\"967.003906\" xlink:href=\"#DejaVuSans-111\"/>\n       <use x=\"1028.185547\" xlink:href=\"#DejaVuSans-110\"/>\n      </g>\n     </g>\n    </g>\n    <g id=\"ytick_33\">\n     <g id=\"text_40\">\n      <!-- typeOfLabourPeddling -->\n      <g style=\"fill:#262626;\" transform=\"translate(118.660938 291.42779)scale(0.1 -0.1)\">\n       <use xlink:href=\"#DejaVuSans-116\"/>\n       <use x=\"39.208984\" xlink:href=\"#DejaVuSans-121\"/>\n       <use x=\"98.388672\" xlink:href=\"#DejaVuSans-112\"/>\n       <use x=\"161.865234\" xlink:href=\"#DejaVuSans-101\"/>\n       <use x=\"223.388672\" xlink:href=\"#DejaVuSans-79\"/>\n       <use x=\"302.099609\" xlink:href=\"#DejaVuSans-102\"/>\n       <use x=\"337.304688\" xlink:href=\"#DejaVuSans-76\"/>\n       <use x=\"393.017578\" xlink:href=\"#DejaVuSans-97\"/>\n       <use x=\"454.296875\" xlink:href=\"#DejaVuSans-98\"/>\n       <use x=\"517.773438\" xlink:href=\"#DejaVuSans-111\"/>\n       <use x=\"578.955078\" xlink:href=\"#DejaVuSans-117\"/>\n       <use x=\"642.333984\" xlink:href=\"#DejaVuSans-114\"/>\n       <use x=\"683.447266\" xlink:href=\"#DejaVuSans-80\"/>\n       <use x=\"740.125\" xlink:href=\"#DejaVuSans-101\"/>\n       <use x=\"801.648438\" xlink:href=\"#DejaVuSans-100\"/>\n       <use x=\"865.125\" xlink:href=\"#DejaVuSans-100\"/>\n       <use x=\"928.601562\" xlink:href=\"#DejaVuSans-108\"/>\n       <use x=\"956.384766\" xlink:href=\"#DejaVuSans-105\"/>\n       <use x=\"984.167969\" xlink:href=\"#DejaVuSans-110\"/>\n       <use x=\"1047.546875\" xlink:href=\"#DejaVuSans-103\"/>\n      </g>\n     </g>\n    </g>\n    <g id=\"ytick_34\">\n     <g id=\"text_41\">\n      <!-- typeOfLabourIllicitActivities -->\n      <g style=\"fill:#262626;\" transform=\"translate(92.31875 300.056362)scale(0.1 -0.1)\">\n       <use xlink:href=\"#DejaVuSans-116\"/>\n       <use x=\"39.208984\" xlink:href=\"#DejaVuSans-121\"/>\n       <use x=\"98.388672\" xlink:href=\"#DejaVuSans-112\"/>\n       <use x=\"161.865234\" xlink:href=\"#DejaVuSans-101\"/>\n       <use x=\"223.388672\" xlink:href=\"#DejaVuSans-79\"/>\n       <use x=\"302.099609\" xlink:href=\"#DejaVuSans-102\"/>\n       <use x=\"337.304688\" xlink:href=\"#DejaVuSans-76\"/>\n       <use x=\"393.017578\" xlink:href=\"#DejaVuSans-97\"/>\n       <use x=\"454.296875\" xlink:href=\"#DejaVuSans-98\"/>\n       <use x=\"517.773438\" xlink:href=\"#DejaVuSans-111\"/>\n       <use x=\"578.955078\" xlink:href=\"#DejaVuSans-117\"/>\n       <use x=\"642.333984\" xlink:href=\"#DejaVuSans-114\"/>\n       <use x=\"683.447266\" xlink:href=\"#DejaVuSans-73\"/>\n       <use x=\"712.939453\" xlink:href=\"#DejaVuSans-108\"/>\n       <use x=\"740.722656\" xlink:href=\"#DejaVuSans-108\"/>\n       <use x=\"768.505859\" xlink:href=\"#DejaVuSans-105\"/>\n       <use x=\"796.289062\" xlink:href=\"#DejaVuSans-99\"/>\n       <use x=\"851.269531\" xlink:href=\"#DejaVuSans-105\"/>\n       <use x=\"879.052734\" xlink:href=\"#DejaVuSans-116\"/>\n       <use x=\"918.261719\" xlink:href=\"#DejaVuSans-65\"/>\n       <use x=\"984.919922\" xlink:href=\"#DejaVuSans-99\"/>\n       <use x=\"1039.900391\" xlink:href=\"#DejaVuSans-116\"/>\n       <use x=\"1079.109375\" xlink:href=\"#DejaVuSans-105\"/>\n       <use x=\"1106.892578\" xlink:href=\"#DejaVuSans-118\"/>\n       <use x=\"1166.072266\" xlink:href=\"#DejaVuSans-105\"/>\n       <use x=\"1193.855469\" xlink:href=\"#DejaVuSans-116\"/>\n       <use x=\"1233.064453\" xlink:href=\"#DejaVuSans-105\"/>\n       <use x=\"1260.847656\" xlink:href=\"#DejaVuSans-101\"/>\n       <use x=\"1322.371094\" xlink:href=\"#DejaVuSans-115\"/>\n      </g>\n     </g>\n    </g>\n    <g id=\"ytick_35\">\n     <g id=\"text_42\">\n      <!-- typeOfLabourBegging -->\n      <g style=\"fill:#262626;\" transform=\"translate(120.245313 308.684933)scale(0.1 -0.1)\">\n       <use xlink:href=\"#DejaVuSans-116\"/>\n       <use x=\"39.208984\" xlink:href=\"#DejaVuSans-121\"/>\n       <use x=\"98.388672\" xlink:href=\"#DejaVuSans-112\"/>\n       <use x=\"161.865234\" xlink:href=\"#DejaVuSans-101\"/>\n       <use x=\"223.388672\" xlink:href=\"#DejaVuSans-79\"/>\n       <use x=\"302.099609\" xlink:href=\"#DejaVuSans-102\"/>\n       <use x=\"337.304688\" xlink:href=\"#DejaVuSans-76\"/>\n       <use x=\"393.017578\" xlink:href=\"#DejaVuSans-97\"/>\n       <use x=\"454.296875\" xlink:href=\"#DejaVuSans-98\"/>\n       <use x=\"517.773438\" xlink:href=\"#DejaVuSans-111\"/>\n       <use x=\"578.955078\" xlink:href=\"#DejaVuSans-117\"/>\n       <use x=\"642.333984\" xlink:href=\"#DejaVuSans-114\"/>\n       <use x=\"683.447266\" xlink:href=\"#DejaVuSans-66\"/>\n       <use x=\"752.050781\" xlink:href=\"#DejaVuSans-101\"/>\n       <use x=\"813.574219\" xlink:href=\"#DejaVuSans-103\"/>\n       <use x=\"877.050781\" xlink:href=\"#DejaVuSans-103\"/>\n       <use x=\"940.527344\" xlink:href=\"#DejaVuSans-105\"/>\n       <use x=\"968.310547\" xlink:href=\"#DejaVuSans-110\"/>\n       <use x=\"1031.689453\" xlink:href=\"#DejaVuSans-103\"/>\n      </g>\n     </g>\n    </g>\n    <g id=\"ytick_36\">\n     <g id=\"text_43\">\n      <!-- typeOfLabourTransportation -->\n      <g style=\"fill:#262626;\" transform=\"translate(89.220313 317.313504)scale(0.1 -0.1)\">\n       <use xlink:href=\"#DejaVuSans-116\"/>\n       <use x=\"39.208984\" xlink:href=\"#DejaVuSans-121\"/>\n       <use x=\"98.388672\" xlink:href=\"#DejaVuSans-112\"/>\n       <use x=\"161.865234\" xlink:href=\"#DejaVuSans-101\"/>\n       <use x=\"223.388672\" xlink:href=\"#DejaVuSans-79\"/>\n       <use x=\"302.099609\" xlink:href=\"#DejaVuSans-102\"/>\n       <use x=\"337.304688\" xlink:href=\"#DejaVuSans-76\"/>\n       <use x=\"393.017578\" xlink:href=\"#DejaVuSans-97\"/>\n       <use x=\"454.296875\" xlink:href=\"#DejaVuSans-98\"/>\n       <use x=\"517.773438\" xlink:href=\"#DejaVuSans-111\"/>\n       <use x=\"578.955078\" xlink:href=\"#DejaVuSans-117\"/>\n       <use x=\"642.333984\" xlink:href=\"#DejaVuSans-114\"/>\n       <use x=\"683.447266\" xlink:href=\"#DejaVuSans-84\"/>\n       <use x=\"729.78125\" xlink:href=\"#DejaVuSans-114\"/>\n       <use x=\"770.894531\" xlink:href=\"#DejaVuSans-97\"/>\n       <use x=\"832.173828\" xlink:href=\"#DejaVuSans-110\"/>\n       <use x=\"895.552734\" xlink:href=\"#DejaVuSans-115\"/>\n       <use x=\"947.652344\" xlink:href=\"#DejaVuSans-112\"/>\n       <use x=\"1011.128906\" xlink:href=\"#DejaVuSans-111\"/>\n       <use x=\"1072.310547\" xlink:href=\"#DejaVuSans-114\"/>\n       <use x=\"1113.423828\" xlink:href=\"#DejaVuSans-116\"/>\n       <use x=\"1152.632812\" xlink:href=\"#DejaVuSans-97\"/>\n       <use x=\"1213.912109\" xlink:href=\"#DejaVuSans-116\"/>\n       <use x=\"1253.121094\" xlink:href=\"#DejaVuSans-105\"/>\n       <use x=\"1280.904297\" xlink:href=\"#DejaVuSans-111\"/>\n       <use x=\"1342.085938\" xlink:href=\"#DejaVuSans-110\"/>\n      </g>\n     </g>\n    </g>\n    <g id=\"ytick_37\">\n     <g id=\"text_44\">\n      <!-- typeOfLabourMiningOrDrilling -->\n      <g style=\"fill:#262626;\" transform=\"translate(80.620313 325.942076)scale(0.1 -0.1)\">\n       <use xlink:href=\"#DejaVuSans-116\"/>\n       <use x=\"39.208984\" xlink:href=\"#DejaVuSans-121\"/>\n       <use x=\"98.388672\" xlink:href=\"#DejaVuSans-112\"/>\n       <use x=\"161.865234\" xlink:href=\"#DejaVuSans-101\"/>\n       <use x=\"223.388672\" xlink:href=\"#DejaVuSans-79\"/>\n       <use x=\"302.099609\" xlink:href=\"#DejaVuSans-102\"/>\n       <use x=\"337.304688\" xlink:href=\"#DejaVuSans-76\"/>\n       <use x=\"393.017578\" xlink:href=\"#DejaVuSans-97\"/>\n       <use x=\"454.296875\" xlink:href=\"#DejaVuSans-98\"/>\n       <use x=\"517.773438\" xlink:href=\"#DejaVuSans-111\"/>\n       <use x=\"578.955078\" xlink:href=\"#DejaVuSans-117\"/>\n       <use x=\"642.333984\" xlink:href=\"#DejaVuSans-114\"/>\n       <use x=\"683.447266\" xlink:href=\"#DejaVuSans-77\"/>\n       <use x=\"769.726562\" xlink:href=\"#DejaVuSans-105\"/>\n       <use x=\"797.509766\" xlink:href=\"#DejaVuSans-110\"/>\n       <use x=\"860.888672\" xlink:href=\"#DejaVuSans-105\"/>\n       <use x=\"888.671875\" xlink:href=\"#DejaVuSans-110\"/>\n       <use x=\"952.050781\" xlink:href=\"#DejaVuSans-103\"/>\n       <use x=\"1015.527344\" xlink:href=\"#DejaVuSans-79\"/>\n       <use x=\"1094.238281\" xlink:href=\"#DejaVuSans-114\"/>\n       <use x=\"1135.351562\" xlink:href=\"#DejaVuSans-68\"/>\n       <use x=\"1212.353516\" xlink:href=\"#DejaVuSans-114\"/>\n       <use x=\"1253.466797\" xlink:href=\"#DejaVuSans-105\"/>\n       <use x=\"1281.25\" xlink:href=\"#DejaVuSans-108\"/>\n       <use x=\"1309.033203\" xlink:href=\"#DejaVuSans-108\"/>\n       <use x=\"1336.816406\" xlink:href=\"#DejaVuSans-105\"/>\n       <use x=\"1364.599609\" xlink:href=\"#DejaVuSans-110\"/>\n       <use x=\"1427.978516\" xlink:href=\"#DejaVuSans-103\"/>\n      </g>\n     </g>\n    </g>\n    <g id=\"ytick_38\">\n     <g id=\"text_45\">\n      <!-- typeOfLabourAquafarming -->\n      <defs>\n       <path d=\"M 14.796875 27.296875 \nQ 14.796875 17.390625 18.875 11.75 \nQ 22.953125 6.109375 30.078125 6.109375 \nQ 37.203125 6.109375 41.296875 11.75 \nQ 45.40625 17.390625 45.40625 27.296875 \nQ 45.40625 37.203125 41.296875 42.84375 \nQ 37.203125 48.484375 30.078125 48.484375 \nQ 22.953125 48.484375 18.875 42.84375 \nQ 14.796875 37.203125 14.796875 27.296875 \nz\nM 45.40625 8.203125 \nQ 42.578125 3.328125 38.25 0.953125 \nQ 33.9375 -1.421875 27.875 -1.421875 \nQ 17.96875 -1.421875 11.734375 6.484375 \nQ 5.515625 14.40625 5.515625 27.296875 \nQ 5.515625 40.1875 11.734375 48.09375 \nQ 17.96875 56 27.875 56 \nQ 33.9375 56 38.25 53.625 \nQ 42.578125 51.265625 45.40625 46.390625 \nL 45.40625 54.6875 \nL 54.390625 54.6875 \nL 54.390625 -20.796875 \nL 45.40625 -20.796875 \nz\n\" id=\"DejaVuSans-113\"/>\n      </defs>\n      <g style=\"fill:#262626;\" transform=\"translate(97.151563 334.570647)scale(0.1 -0.1)\">\n       <use xlink:href=\"#DejaVuSans-116\"/>\n       <use x=\"39.208984\" xlink:href=\"#DejaVuSans-121\"/>\n       <use x=\"98.388672\" xlink:href=\"#DejaVuSans-112\"/>\n       <use x=\"161.865234\" xlink:href=\"#DejaVuSans-101\"/>\n       <use x=\"223.388672\" xlink:href=\"#DejaVuSans-79\"/>\n       <use x=\"302.099609\" xlink:href=\"#DejaVuSans-102\"/>\n       <use x=\"337.304688\" xlink:href=\"#DejaVuSans-76\"/>\n       <use x=\"393.017578\" xlink:href=\"#DejaVuSans-97\"/>\n       <use x=\"454.296875\" xlink:href=\"#DejaVuSans-98\"/>\n       <use x=\"517.773438\" xlink:href=\"#DejaVuSans-111\"/>\n       <use x=\"578.955078\" xlink:href=\"#DejaVuSans-117\"/>\n       <use x=\"642.333984\" xlink:href=\"#DejaVuSans-114\"/>\n       <use x=\"683.447266\" xlink:href=\"#DejaVuSans-65\"/>\n       <use x=\"750.105469\" xlink:href=\"#DejaVuSans-113\"/>\n       <use x=\"813.582031\" xlink:href=\"#DejaVuSans-117\"/>\n       <use x=\"876.960938\" xlink:href=\"#DejaVuSans-97\"/>\n       <use x=\"938.240234\" xlink:href=\"#DejaVuSans-102\"/>\n       <use x=\"973.445312\" xlink:href=\"#DejaVuSans-97\"/>\n       <use x=\"1034.724609\" xlink:href=\"#DejaVuSans-114\"/>\n       <use x=\"1074.087891\" xlink:href=\"#DejaVuSans-109\"/>\n       <use x=\"1171.5\" xlink:href=\"#DejaVuSans-105\"/>\n       <use x=\"1199.283203\" xlink:href=\"#DejaVuSans-110\"/>\n       <use x=\"1262.662109\" xlink:href=\"#DejaVuSans-103\"/>\n      </g>\n     </g>\n    </g>\n    <g id=\"ytick_39\">\n     <g id=\"text_46\">\n      <!-- typeOfLabourAgriculture -->\n      <g style=\"fill:#262626;\" transform=\"translate(106.43125 343.199219)scale(0.1 -0.1)\">\n       <use xlink:href=\"#DejaVuSans-116\"/>\n       <use x=\"39.208984\" xlink:href=\"#DejaVuSans-121\"/>\n       <use x=\"98.388672\" xlink:href=\"#DejaVuSans-112\"/>\n       <use x=\"161.865234\" xlink:href=\"#DejaVuSans-101\"/>\n       <use x=\"223.388672\" xlink:href=\"#DejaVuSans-79\"/>\n       <use x=\"302.099609\" xlink:href=\"#DejaVuSans-102\"/>\n       <use x=\"337.304688\" xlink:href=\"#DejaVuSans-76\"/>\n       <use x=\"393.017578\" xlink:href=\"#DejaVuSans-97\"/>\n       <use x=\"454.296875\" xlink:href=\"#DejaVuSans-98\"/>\n       <use x=\"517.773438\" xlink:href=\"#DejaVuSans-111\"/>\n       <use x=\"578.955078\" xlink:href=\"#DejaVuSans-117\"/>\n       <use x=\"642.333984\" xlink:href=\"#DejaVuSans-114\"/>\n       <use x=\"683.447266\" xlink:href=\"#DejaVuSans-65\"/>\n       <use x=\"751.855469\" xlink:href=\"#DejaVuSans-103\"/>\n       <use x=\"815.332031\" xlink:href=\"#DejaVuSans-114\"/>\n       <use x=\"856.445312\" xlink:href=\"#DejaVuSans-105\"/>\n       <use x=\"884.228516\" xlink:href=\"#DejaVuSans-99\"/>\n       <use x=\"939.208984\" xlink:href=\"#DejaVuSans-117\"/>\n       <use x=\"1002.587891\" xlink:href=\"#DejaVuSans-108\"/>\n       <use x=\"1030.371094\" xlink:href=\"#DejaVuSans-116\"/>\n       <use x=\"1069.580078\" xlink:href=\"#DejaVuSans-117\"/>\n       <use x=\"1132.958984\" xlink:href=\"#DejaVuSans-114\"/>\n       <use x=\"1171.822266\" xlink:href=\"#DejaVuSans-101\"/>\n      </g>\n     </g>\n    </g>\n    <g id=\"ytick_40\">\n     <g id=\"text_47\">\n      <!-- typeOfLabourManufacturing -->\n      <g style=\"fill:#262626;\" transform=\"translate(89.009375 351.82779)scale(0.1 -0.1)\">\n       <use xlink:href=\"#DejaVuSans-116\"/>\n       <use x=\"39.208984\" xlink:href=\"#DejaVuSans-121\"/>\n       <use x=\"98.388672\" xlink:href=\"#DejaVuSans-112\"/>\n       <use x=\"161.865234\" xlink:href=\"#DejaVuSans-101\"/>\n       <use x=\"223.388672\" xlink:href=\"#DejaVuSans-79\"/>\n       <use x=\"302.099609\" xlink:href=\"#DejaVuSans-102\"/>\n       <use x=\"337.304688\" xlink:href=\"#DejaVuSans-76\"/>\n       <use x=\"393.017578\" xlink:href=\"#DejaVuSans-97\"/>\n       <use x=\"454.296875\" xlink:href=\"#DejaVuSans-98\"/>\n       <use x=\"517.773438\" xlink:href=\"#DejaVuSans-111\"/>\n       <use x=\"578.955078\" xlink:href=\"#DejaVuSans-117\"/>\n       <use x=\"642.333984\" xlink:href=\"#DejaVuSans-114\"/>\n       <use x=\"683.447266\" xlink:href=\"#DejaVuSans-77\"/>\n       <use x=\"769.726562\" xlink:href=\"#DejaVuSans-97\"/>\n       <use x=\"831.005859\" xlink:href=\"#DejaVuSans-110\"/>\n       <use x=\"894.384766\" xlink:href=\"#DejaVuSans-117\"/>\n       <use x=\"957.763672\" xlink:href=\"#DejaVuSans-102\"/>\n       <use x=\"992.96875\" xlink:href=\"#DejaVuSans-97\"/>\n       <use x=\"1054.248047\" xlink:href=\"#DejaVuSans-99\"/>\n       <use x=\"1109.228516\" xlink:href=\"#DejaVuSans-116\"/>\n       <use x=\"1148.4375\" xlink:href=\"#DejaVuSans-117\"/>\n       <use x=\"1211.816406\" xlink:href=\"#DejaVuSans-114\"/>\n       <use x=\"1252.929688\" xlink:href=\"#DejaVuSans-105\"/>\n       <use x=\"1280.712891\" xlink:href=\"#DejaVuSans-110\"/>\n       <use x=\"1344.091797\" xlink:href=\"#DejaVuSans-103\"/>\n      </g>\n     </g>\n    </g>\n    <g id=\"ytick_41\">\n     <g id=\"text_48\">\n      <!-- typeOfLabourConstruction -->\n      <g style=\"fill:#262626;\" transform=\"translate(97.75 360.456362)scale(0.1 -0.1)\">\n       <use xlink:href=\"#DejaVuSans-116\"/>\n       <use x=\"39.208984\" xlink:href=\"#DejaVuSans-121\"/>\n       <use x=\"98.388672\" xlink:href=\"#DejaVuSans-112\"/>\n       <use x=\"161.865234\" xlink:href=\"#DejaVuSans-101\"/>\n       <use x=\"223.388672\" xlink:href=\"#DejaVuSans-79\"/>\n       <use x=\"302.099609\" xlink:href=\"#DejaVuSans-102\"/>\n       <use x=\"337.304688\" xlink:href=\"#DejaVuSans-76\"/>\n       <use x=\"393.017578\" xlink:href=\"#DejaVuSans-97\"/>\n       <use x=\"454.296875\" xlink:href=\"#DejaVuSans-98\"/>\n       <use x=\"517.773438\" xlink:href=\"#DejaVuSans-111\"/>\n       <use x=\"578.955078\" xlink:href=\"#DejaVuSans-117\"/>\n       <use x=\"642.333984\" xlink:href=\"#DejaVuSans-114\"/>\n       <use x=\"683.447266\" xlink:href=\"#DejaVuSans-67\"/>\n       <use x=\"753.271484\" xlink:href=\"#DejaVuSans-111\"/>\n       <use x=\"814.453125\" xlink:href=\"#DejaVuSans-110\"/>\n       <use x=\"877.832031\" xlink:href=\"#DejaVuSans-115\"/>\n       <use x=\"929.931641\" xlink:href=\"#DejaVuSans-116\"/>\n       <use x=\"969.140625\" xlink:href=\"#DejaVuSans-114\"/>\n       <use x=\"1010.253906\" xlink:href=\"#DejaVuSans-117\"/>\n       <use x=\"1073.632812\" xlink:href=\"#DejaVuSans-99\"/>\n       <use x=\"1128.613281\" xlink:href=\"#DejaVuSans-116\"/>\n       <use x=\"1167.822266\" xlink:href=\"#DejaVuSans-105\"/>\n       <use x=\"1195.605469\" xlink:href=\"#DejaVuSans-111\"/>\n       <use x=\"1256.787109\" xlink:href=\"#DejaVuSans-110\"/>\n      </g>\n     </g>\n    </g>\n    <g id=\"ytick_42\">\n     <g id=\"text_49\">\n      <!-- typeOfLabourNotSpecified -->\n      <g style=\"fill:#262626;\" transform=\"translate(97.973438 369.084933)scale(0.1 -0.1)\">\n       <use xlink:href=\"#DejaVuSans-116\"/>\n       <use x=\"39.208984\" xlink:href=\"#DejaVuSans-121\"/>\n       <use x=\"98.388672\" xlink:href=\"#DejaVuSans-112\"/>\n       <use x=\"161.865234\" xlink:href=\"#DejaVuSans-101\"/>\n       <use x=\"223.388672\" xlink:href=\"#DejaVuSans-79\"/>\n       <use x=\"302.099609\" xlink:href=\"#DejaVuSans-102\"/>\n       <use x=\"337.304688\" xlink:href=\"#DejaVuSans-76\"/>\n       <use x=\"393.017578\" xlink:href=\"#DejaVuSans-97\"/>\n       <use x=\"454.296875\" xlink:href=\"#DejaVuSans-98\"/>\n       <use x=\"517.773438\" xlink:href=\"#DejaVuSans-111\"/>\n       <use x=\"578.955078\" xlink:href=\"#DejaVuSans-117\"/>\n       <use x=\"642.333984\" xlink:href=\"#DejaVuSans-114\"/>\n       <use x=\"683.447266\" xlink:href=\"#DejaVuSans-78\"/>\n       <use x=\"758.251953\" xlink:href=\"#DejaVuSans-111\"/>\n       <use x=\"819.433594\" xlink:href=\"#DejaVuSans-116\"/>\n       <use x=\"858.642578\" xlink:href=\"#DejaVuSans-83\"/>\n       <use x=\"922.119141\" xlink:href=\"#DejaVuSans-112\"/>\n       <use x=\"985.595703\" xlink:href=\"#DejaVuSans-101\"/>\n       <use x=\"1047.119141\" xlink:href=\"#DejaVuSans-99\"/>\n       <use x=\"1102.099609\" xlink:href=\"#DejaVuSans-105\"/>\n       <use x=\"1129.882812\" xlink:href=\"#DejaVuSans-102\"/>\n       <use x=\"1165.087891\" xlink:href=\"#DejaVuSans-105\"/>\n       <use x=\"1192.871094\" xlink:href=\"#DejaVuSans-101\"/>\n       <use x=\"1254.394531\" xlink:href=\"#DejaVuSans-100\"/>\n      </g>\n     </g>\n    </g>\n    <g id=\"ytick_43\">\n     <g id=\"text_50\">\n      <!-- typeOfLabourHospitality -->\n      <g style=\"fill:#262626;\" transform=\"translate(108.001563 377.713504)scale(0.1 -0.1)\">\n       <use xlink:href=\"#DejaVuSans-116\"/>\n       <use x=\"39.208984\" xlink:href=\"#DejaVuSans-121\"/>\n       <use x=\"98.388672\" xlink:href=\"#DejaVuSans-112\"/>\n       <use x=\"161.865234\" xlink:href=\"#DejaVuSans-101\"/>\n       <use x=\"223.388672\" xlink:href=\"#DejaVuSans-79\"/>\n       <use x=\"302.099609\" xlink:href=\"#DejaVuSans-102\"/>\n       <use x=\"337.304688\" xlink:href=\"#DejaVuSans-76\"/>\n       <use x=\"393.017578\" xlink:href=\"#DejaVuSans-97\"/>\n       <use x=\"454.296875\" xlink:href=\"#DejaVuSans-98\"/>\n       <use x=\"517.773438\" xlink:href=\"#DejaVuSans-111\"/>\n       <use x=\"578.955078\" xlink:href=\"#DejaVuSans-117\"/>\n       <use x=\"642.333984\" xlink:href=\"#DejaVuSans-114\"/>\n       <use x=\"683.447266\" xlink:href=\"#DejaVuSans-72\"/>\n       <use x=\"758.642578\" xlink:href=\"#DejaVuSans-111\"/>\n       <use x=\"819.824219\" xlink:href=\"#DejaVuSans-115\"/>\n       <use x=\"871.923828\" xlink:href=\"#DejaVuSans-112\"/>\n       <use x=\"935.400391\" xlink:href=\"#DejaVuSans-105\"/>\n       <use x=\"963.183594\" xlink:href=\"#DejaVuSans-116\"/>\n       <use x=\"1002.392578\" xlink:href=\"#DejaVuSans-97\"/>\n       <use x=\"1063.671875\" xlink:href=\"#DejaVuSans-108\"/>\n       <use x=\"1091.455078\" xlink:href=\"#DejaVuSans-105\"/>\n       <use x=\"1119.238281\" xlink:href=\"#DejaVuSans-116\"/>\n       <use x=\"1158.447266\" xlink:href=\"#DejaVuSans-121\"/>\n      </g>\n     </g>\n    </g>\n    <g id=\"ytick_44\">\n     <g id=\"text_51\">\n      <!-- typeOfLabourOther -->\n      <g style=\"fill:#262626;\" transform=\"translate(133.026563 386.342076)scale(0.1 -0.1)\">\n       <use xlink:href=\"#DejaVuSans-116\"/>\n       <use x=\"39.208984\" xlink:href=\"#DejaVuSans-121\"/>\n       <use x=\"98.388672\" xlink:href=\"#DejaVuSans-112\"/>\n       <use x=\"161.865234\" xlink:href=\"#DejaVuSans-101\"/>\n       <use x=\"223.388672\" xlink:href=\"#DejaVuSans-79\"/>\n       <use x=\"302.099609\" xlink:href=\"#DejaVuSans-102\"/>\n       <use x=\"337.304688\" xlink:href=\"#DejaVuSans-76\"/>\n       <use x=\"393.017578\" xlink:href=\"#DejaVuSans-97\"/>\n       <use x=\"454.296875\" xlink:href=\"#DejaVuSans-98\"/>\n       <use x=\"517.773438\" xlink:href=\"#DejaVuSans-111\"/>\n       <use x=\"578.955078\" xlink:href=\"#DejaVuSans-117\"/>\n       <use x=\"642.333984\" xlink:href=\"#DejaVuSans-114\"/>\n       <use x=\"683.447266\" xlink:href=\"#DejaVuSans-79\"/>\n       <use x=\"762.158203\" xlink:href=\"#DejaVuSans-116\"/>\n       <use x=\"801.367188\" xlink:href=\"#DejaVuSans-104\"/>\n       <use x=\"864.746094\" xlink:href=\"#DejaVuSans-101\"/>\n       <use x=\"926.269531\" xlink:href=\"#DejaVuSans-114\"/>\n      </g>\n     </g>\n    </g>\n    <g id=\"ytick_45\">\n     <g id=\"text_52\">\n      <!-- typeOfLabourDomesticWork -->\n      <g style=\"fill:#262626;\" transform=\"translate(88.98125 394.970647)scale(0.1 -0.1)\">\n       <use xlink:href=\"#DejaVuSans-116\"/>\n       <use x=\"39.208984\" xlink:href=\"#DejaVuSans-121\"/>\n       <use x=\"98.388672\" xlink:href=\"#DejaVuSans-112\"/>\n       <use x=\"161.865234\" xlink:href=\"#DejaVuSans-101\"/>\n       <use x=\"223.388672\" xlink:href=\"#DejaVuSans-79\"/>\n       <use x=\"302.099609\" xlink:href=\"#DejaVuSans-102\"/>\n       <use x=\"337.304688\" xlink:href=\"#DejaVuSans-76\"/>\n       <use x=\"393.017578\" xlink:href=\"#DejaVuSans-97\"/>\n       <use x=\"454.296875\" xlink:href=\"#DejaVuSans-98\"/>\n       <use x=\"517.773438\" xlink:href=\"#DejaVuSans-111\"/>\n       <use x=\"578.955078\" xlink:href=\"#DejaVuSans-117\"/>\n       <use x=\"642.333984\" xlink:href=\"#DejaVuSans-114\"/>\n       <use x=\"683.447266\" xlink:href=\"#DejaVuSans-68\"/>\n       <use x=\"760.449219\" xlink:href=\"#DejaVuSans-111\"/>\n       <use x=\"821.630859\" xlink:href=\"#DejaVuSans-109\"/>\n       <use x=\"919.042969\" xlink:href=\"#DejaVuSans-101\"/>\n       <use x=\"980.566406\" xlink:href=\"#DejaVuSans-115\"/>\n       <use x=\"1032.666016\" xlink:href=\"#DejaVuSans-116\"/>\n       <use x=\"1071.875\" xlink:href=\"#DejaVuSans-105\"/>\n       <use x=\"1099.658203\" xlink:href=\"#DejaVuSans-99\"/>\n       <use x=\"1154.638672\" xlink:href=\"#DejaVuSans-87\"/>\n       <use x=\"1247.640625\" xlink:href=\"#DejaVuSans-111\"/>\n       <use x=\"1308.822266\" xlink:href=\"#DejaVuSans-114\"/>\n       <use x=\"1349.935547\" xlink:href=\"#DejaVuSans-107\"/>\n      </g>\n     </g>\n    </g>\n    <g id=\"ytick_46\">\n     <g id=\"text_53\">\n      <!-- isSexAndLabour -->\n      <g style=\"fill:#262626;\" transform=\"translate(149.39375 403.599219)scale(0.1 -0.1)\">\n       <use xlink:href=\"#DejaVuSans-105\"/>\n       <use x=\"27.783203\" xlink:href=\"#DejaVuSans-115\"/>\n       <use x=\"79.882812\" xlink:href=\"#DejaVuSans-83\"/>\n       <use x=\"143.359375\" xlink:href=\"#DejaVuSans-101\"/>\n       <use x=\"203.132812\" xlink:href=\"#DejaVuSans-120\"/>\n       <use x=\"262.3125\" xlink:href=\"#DejaVuSans-65\"/>\n       <use x=\"330.720703\" xlink:href=\"#DejaVuSans-110\"/>\n       <use x=\"394.099609\" xlink:href=\"#DejaVuSans-100\"/>\n       <use x=\"457.576172\" xlink:href=\"#DejaVuSans-76\"/>\n       <use x=\"513.289062\" xlink:href=\"#DejaVuSans-97\"/>\n       <use x=\"574.568359\" xlink:href=\"#DejaVuSans-98\"/>\n       <use x=\"638.044922\" xlink:href=\"#DejaVuSans-111\"/>\n       <use x=\"699.226562\" xlink:href=\"#DejaVuSans-117\"/>\n       <use x=\"762.605469\" xlink:href=\"#DejaVuSans-114\"/>\n      </g>\n     </g>\n    </g>\n    <g id=\"ytick_47\">\n     <g id=\"text_54\">\n      <!-- isSexualExploit -->\n      <g style=\"fill:#262626;\" transform=\"translate(154.110938 412.22779)scale(0.1 -0.1)\">\n       <use xlink:href=\"#DejaVuSans-105\"/>\n       <use x=\"27.783203\" xlink:href=\"#DejaVuSans-115\"/>\n       <use x=\"79.882812\" xlink:href=\"#DejaVuSans-83\"/>\n       <use x=\"143.359375\" xlink:href=\"#DejaVuSans-101\"/>\n       <use x=\"203.132812\" xlink:href=\"#DejaVuSans-120\"/>\n       <use x=\"262.3125\" xlink:href=\"#DejaVuSans-117\"/>\n       <use x=\"325.691406\" xlink:href=\"#DejaVuSans-97\"/>\n       <use x=\"386.970703\" xlink:href=\"#DejaVuSans-108\"/>\n       <use x=\"414.753906\" xlink:href=\"#DejaVuSans-69\"/>\n       <use x=\"477.9375\" xlink:href=\"#DejaVuSans-120\"/>\n       <use x=\"537.117188\" xlink:href=\"#DejaVuSans-112\"/>\n       <use x=\"600.59375\" xlink:href=\"#DejaVuSans-108\"/>\n       <use x=\"628.376953\" xlink:href=\"#DejaVuSans-111\"/>\n       <use x=\"689.558594\" xlink:href=\"#DejaVuSans-105\"/>\n       <use x=\"717.341797\" xlink:href=\"#DejaVuSans-116\"/>\n      </g>\n     </g>\n    </g>\n    <g id=\"ytick_48\">\n     <g id=\"text_55\">\n      <!-- isForcedLabour -->\n      <g style=\"fill:#262626;\" transform=\"translate(153.771875 420.856362)scale(0.1 -0.1)\">\n       <use xlink:href=\"#DejaVuSans-105\"/>\n       <use x=\"27.783203\" xlink:href=\"#DejaVuSans-115\"/>\n       <use x=\"79.882812\" xlink:href=\"#DejaVuSans-70\"/>\n       <use x=\"133.777344\" xlink:href=\"#DejaVuSans-111\"/>\n       <use x=\"194.958984\" xlink:href=\"#DejaVuSans-114\"/>\n       <use x=\"233.822266\" xlink:href=\"#DejaVuSans-99\"/>\n       <use x=\"288.802734\" xlink:href=\"#DejaVuSans-101\"/>\n       <use x=\"350.326172\" xlink:href=\"#DejaVuSans-100\"/>\n       <use x=\"413.802734\" xlink:href=\"#DejaVuSans-76\"/>\n       <use x=\"469.515625\" xlink:href=\"#DejaVuSans-97\"/>\n       <use x=\"530.794922\" xlink:href=\"#DejaVuSans-98\"/>\n       <use x=\"594.271484\" xlink:href=\"#DejaVuSans-111\"/>\n       <use x=\"655.453125\" xlink:href=\"#DejaVuSans-117\"/>\n       <use x=\"718.832031\" xlink:href=\"#DejaVuSans-114\"/>\n      </g>\n     </g>\n    </g>\n    <g id=\"ytick_49\">\n     <g id=\"text_56\">\n      <!-- isOtherExploit -->\n      <g style=\"fill:#262626;\" transform=\"translate(159.20625 429.484933)scale(0.1 -0.1)\">\n       <use xlink:href=\"#DejaVuSans-105\"/>\n       <use x=\"27.783203\" xlink:href=\"#DejaVuSans-115\"/>\n       <use x=\"79.882812\" xlink:href=\"#DejaVuSans-79\"/>\n       <use x=\"158.59375\" xlink:href=\"#DejaVuSans-116\"/>\n       <use x=\"197.802734\" xlink:href=\"#DejaVuSans-104\"/>\n       <use x=\"261.181641\" xlink:href=\"#DejaVuSans-101\"/>\n       <use x=\"322.705078\" xlink:href=\"#DejaVuSans-114\"/>\n       <use x=\"363.818359\" xlink:href=\"#DejaVuSans-69\"/>\n       <use x=\"427.001953\" xlink:href=\"#DejaVuSans-120\"/>\n       <use x=\"486.181641\" xlink:href=\"#DejaVuSans-112\"/>\n       <use x=\"549.658203\" xlink:href=\"#DejaVuSans-108\"/>\n       <use x=\"577.441406\" xlink:href=\"#DejaVuSans-111\"/>\n       <use x=\"638.623047\" xlink:href=\"#DejaVuSans-105\"/>\n       <use x=\"666.40625\" xlink:href=\"#DejaVuSans-116\"/>\n      </g>\n     </g>\n    </g>\n    <g id=\"ytick_50\">\n     <g id=\"text_57\">\n      <!-- typeOfExploitConcatenated -->\n      <g style=\"fill:#262626;\" transform=\"translate(91.828125 438.113504)scale(0.1 -0.1)\">\n       <use xlink:href=\"#DejaVuSans-116\"/>\n       <use x=\"39.208984\" xlink:href=\"#DejaVuSans-121\"/>\n       <use x=\"98.388672\" xlink:href=\"#DejaVuSans-112\"/>\n       <use x=\"161.865234\" xlink:href=\"#DejaVuSans-101\"/>\n       <use x=\"223.388672\" xlink:href=\"#DejaVuSans-79\"/>\n       <use x=\"302.099609\" xlink:href=\"#DejaVuSans-102\"/>\n       <use x=\"337.304688\" xlink:href=\"#DejaVuSans-69\"/>\n       <use x=\"400.488281\" xlink:href=\"#DejaVuSans-120\"/>\n       <use x=\"459.667969\" xlink:href=\"#DejaVuSans-112\"/>\n       <use x=\"523.144531\" xlink:href=\"#DejaVuSans-108\"/>\n       <use x=\"550.927734\" xlink:href=\"#DejaVuSans-111\"/>\n       <use x=\"612.109375\" xlink:href=\"#DejaVuSans-105\"/>\n       <use x=\"639.892578\" xlink:href=\"#DejaVuSans-116\"/>\n       <use x=\"679.101562\" xlink:href=\"#DejaVuSans-67\"/>\n       <use x=\"748.925781\" xlink:href=\"#DejaVuSans-111\"/>\n       <use x=\"810.107422\" xlink:href=\"#DejaVuSans-110\"/>\n       <use x=\"873.486328\" xlink:href=\"#DejaVuSans-99\"/>\n       <use x=\"928.466797\" xlink:href=\"#DejaVuSans-97\"/>\n       <use x=\"989.746094\" xlink:href=\"#DejaVuSans-116\"/>\n       <use x=\"1028.955078\" xlink:href=\"#DejaVuSans-101\"/>\n       <use x=\"1090.478516\" xlink:href=\"#DejaVuSans-110\"/>\n       <use x=\"1153.857422\" xlink:href=\"#DejaVuSans-97\"/>\n       <use x=\"1215.136719\" xlink:href=\"#DejaVuSans-116\"/>\n       <use x=\"1254.345703\" xlink:href=\"#DejaVuSans-101\"/>\n       <use x=\"1315.869141\" xlink:href=\"#DejaVuSans-100\"/>\n      </g>\n     </g>\n    </g>\n    <g id=\"ytick_51\">\n     <g id=\"text_58\">\n      <!-- majorityStatus -->\n      <g style=\"fill:#262626;\" transform=\"translate(156.410937 446.742076)scale(0.1 -0.1)\">\n       <use xlink:href=\"#DejaVuSans-109\"/>\n       <use x=\"97.412109\" xlink:href=\"#DejaVuSans-97\"/>\n       <use x=\"158.691406\" xlink:href=\"#DejaVuSans-106\"/>\n       <use x=\"186.474609\" xlink:href=\"#DejaVuSans-111\"/>\n       <use x=\"247.65625\" xlink:href=\"#DejaVuSans-114\"/>\n       <use x=\"288.769531\" xlink:href=\"#DejaVuSans-105\"/>\n       <use x=\"316.552734\" xlink:href=\"#DejaVuSans-116\"/>\n       <use x=\"355.761719\" xlink:href=\"#DejaVuSans-121\"/>\n       <use x=\"414.941406\" xlink:href=\"#DejaVuSans-83\"/>\n       <use x=\"478.417969\" xlink:href=\"#DejaVuSans-116\"/>\n       <use x=\"517.626953\" xlink:href=\"#DejaVuSans-97\"/>\n       <use x=\"578.90625\" xlink:href=\"#DejaVuSans-116\"/>\n       <use x=\"618.115234\" xlink:href=\"#DejaVuSans-117\"/>\n       <use x=\"681.494141\" xlink:href=\"#DejaVuSans-115\"/>\n      </g>\n     </g>\n    </g>\n    <g id=\"ytick_52\">\n     <g id=\"text_59\">\n      <!-- ageBroad -->\n      <g style=\"fill:#262626;\" transform=\"translate(181.796875 455.370647)scale(0.1 -0.1)\">\n       <use xlink:href=\"#DejaVuSans-97\"/>\n       <use x=\"61.279297\" xlink:href=\"#DejaVuSans-103\"/>\n       <use x=\"124.755859\" xlink:href=\"#DejaVuSans-101\"/>\n       <use x=\"186.279297\" xlink:href=\"#DejaVuSans-66\"/>\n       <use x=\"254.882812\" xlink:href=\"#DejaVuSans-114\"/>\n       <use x=\"293.746094\" xlink:href=\"#DejaVuSans-111\"/>\n       <use x=\"354.927734\" xlink:href=\"#DejaVuSans-97\"/>\n       <use x=\"416.207031\" xlink:href=\"#DejaVuSans-100\"/>\n      </g>\n     </g>\n    </g>\n    <g id=\"ytick_53\">\n     <g id=\"text_60\">\n      <!-- meansOfControlNotSpecified -->\n      <g style=\"fill:#262626;\" transform=\"translate(85.21875 463.999219)scale(0.1 -0.1)\">\n       <use xlink:href=\"#DejaVuSans-109\"/>\n       <use x=\"97.412109\" xlink:href=\"#DejaVuSans-101\"/>\n       <use x=\"158.935547\" xlink:href=\"#DejaVuSans-97\"/>\n       <use x=\"220.214844\" xlink:href=\"#DejaVuSans-110\"/>\n       <use x=\"283.59375\" xlink:href=\"#DejaVuSans-115\"/>\n       <use x=\"335.693359\" xlink:href=\"#DejaVuSans-79\"/>\n       <use x=\"414.404297\" xlink:href=\"#DejaVuSans-102\"/>\n       <use x=\"449.609375\" xlink:href=\"#DejaVuSans-67\"/>\n       <use x=\"519.433594\" xlink:href=\"#DejaVuSans-111\"/>\n       <use x=\"580.615234\" xlink:href=\"#DejaVuSans-110\"/>\n       <use x=\"643.994141\" xlink:href=\"#DejaVuSans-116\"/>\n       <use x=\"683.203125\" xlink:href=\"#DejaVuSans-114\"/>\n       <use x=\"722.066406\" xlink:href=\"#DejaVuSans-111\"/>\n       <use x=\"783.248047\" xlink:href=\"#DejaVuSans-108\"/>\n       <use x=\"811.03125\" xlink:href=\"#DejaVuSans-78\"/>\n       <use x=\"885.835938\" xlink:href=\"#DejaVuSans-111\"/>\n       <use x=\"947.017578\" xlink:href=\"#DejaVuSans-116\"/>\n       <use x=\"986.226562\" xlink:href=\"#DejaVuSans-83\"/>\n       <use x=\"1049.703125\" xlink:href=\"#DejaVuSans-112\"/>\n       <use x=\"1113.179688\" xlink:href=\"#DejaVuSans-101\"/>\n       <use x=\"1174.703125\" xlink:href=\"#DejaVuSans-99\"/>\n       <use x=\"1229.683594\" xlink:href=\"#DejaVuSans-105\"/>\n       <use x=\"1257.466797\" xlink:href=\"#DejaVuSans-102\"/>\n       <use x=\"1292.671875\" xlink:href=\"#DejaVuSans-105\"/>\n       <use x=\"1320.455078\" xlink:href=\"#DejaVuSans-101\"/>\n       <use x=\"1381.978516\" xlink:href=\"#DejaVuSans-100\"/>\n      </g>\n     </g>\n    </g>\n    <g id=\"ytick_54\">\n     <g id=\"text_61\">\n      <!-- CountryOfExploitation -->\n      <g style=\"fill:#262626;\" transform=\"translate(119.185938 472.62779)scale(0.1 -0.1)\">\n       <use xlink:href=\"#DejaVuSans-67\"/>\n       <use x=\"69.824219\" xlink:href=\"#DejaVuSans-111\"/>\n       <use x=\"131.005859\" xlink:href=\"#DejaVuSans-117\"/>\n       <use x=\"194.384766\" xlink:href=\"#DejaVuSans-110\"/>\n       <use x=\"257.763672\" xlink:href=\"#DejaVuSans-116\"/>\n       <use x=\"296.972656\" xlink:href=\"#DejaVuSans-114\"/>\n       <use x=\"338.085938\" xlink:href=\"#DejaVuSans-121\"/>\n       <use x=\"397.265625\" xlink:href=\"#DejaVuSans-79\"/>\n       <use x=\"475.976562\" xlink:href=\"#DejaVuSans-102\"/>\n       <use x=\"511.181641\" xlink:href=\"#DejaVuSans-69\"/>\n       <use x=\"574.365234\" xlink:href=\"#DejaVuSans-120\"/>\n       <use x=\"633.544922\" xlink:href=\"#DejaVuSans-112\"/>\n       <use x=\"697.021484\" xlink:href=\"#DejaVuSans-108\"/>\n       <use x=\"724.804688\" xlink:href=\"#DejaVuSans-111\"/>\n       <use x=\"785.986328\" xlink:href=\"#DejaVuSans-105\"/>\n       <use x=\"813.769531\" xlink:href=\"#DejaVuSans-116\"/>\n       <use x=\"852.978516\" xlink:href=\"#DejaVuSans-97\"/>\n       <use x=\"914.257812\" xlink:href=\"#DejaVuSans-116\"/>\n       <use x=\"953.466797\" xlink:href=\"#DejaVuSans-105\"/>\n       <use x=\"981.25\" xlink:href=\"#DejaVuSans-111\"/>\n       <use x=\"1042.431641\" xlink:href=\"#DejaVuSans-110\"/>\n      </g>\n     </g>\n    </g>\n    <g id=\"ytick_55\">\n     <g id=\"text_62\">\n      <!-- recruiterRelationFamily -->\n      <g style=\"fill:#262626;\" transform=\"translate(113.925 481.256362)scale(0.1 -0.1)\">\n       <use xlink:href=\"#DejaVuSans-114\"/>\n       <use x=\"38.863281\" xlink:href=\"#DejaVuSans-101\"/>\n       <use x=\"100.386719\" xlink:href=\"#DejaVuSans-99\"/>\n       <use x=\"155.367188\" xlink:href=\"#DejaVuSans-114\"/>\n       <use x=\"196.480469\" xlink:href=\"#DejaVuSans-117\"/>\n       <use x=\"259.859375\" xlink:href=\"#DejaVuSans-105\"/>\n       <use x=\"287.642578\" xlink:href=\"#DejaVuSans-116\"/>\n       <use x=\"326.851562\" xlink:href=\"#DejaVuSans-101\"/>\n       <use x=\"388.375\" xlink:href=\"#DejaVuSans-114\"/>\n       <use x=\"429.488281\" xlink:href=\"#DejaVuSans-82\"/>\n       <use x=\"494.470703\" xlink:href=\"#DejaVuSans-101\"/>\n       <use x=\"555.994141\" xlink:href=\"#DejaVuSans-108\"/>\n       <use x=\"583.777344\" xlink:href=\"#DejaVuSans-97\"/>\n       <use x=\"645.056641\" xlink:href=\"#DejaVuSans-116\"/>\n       <use x=\"684.265625\" xlink:href=\"#DejaVuSans-105\"/>\n       <use x=\"712.048828\" xlink:href=\"#DejaVuSans-111\"/>\n       <use x=\"773.230469\" xlink:href=\"#DejaVuSans-110\"/>\n       <use x=\"836.609375\" xlink:href=\"#DejaVuSans-70\"/>\n       <use x=\"885.003906\" xlink:href=\"#DejaVuSans-97\"/>\n       <use x=\"946.283203\" xlink:href=\"#DejaVuSans-109\"/>\n       <use x=\"1043.695312\" xlink:href=\"#DejaVuSans-105\"/>\n       <use x=\"1071.478516\" xlink:href=\"#DejaVuSans-108\"/>\n       <use x=\"1099.261719\" xlink:href=\"#DejaVuSans-121\"/>\n      </g>\n     </g>\n    </g>\n    <g id=\"ytick_56\">\n     <g id=\"text_63\">\n      <!-- recruiterRelationFriend -->\n      <g style=\"fill:#262626;\" transform=\"translate(115.353125 489.884933)scale(0.1 -0.1)\">\n       <use xlink:href=\"#DejaVuSans-114\"/>\n       <use x=\"38.863281\" xlink:href=\"#DejaVuSans-101\"/>\n       <use x=\"100.386719\" xlink:href=\"#DejaVuSans-99\"/>\n       <use x=\"155.367188\" xlink:href=\"#DejaVuSans-114\"/>\n       <use x=\"196.480469\" xlink:href=\"#DejaVuSans-117\"/>\n       <use x=\"259.859375\" xlink:href=\"#DejaVuSans-105\"/>\n       <use x=\"287.642578\" xlink:href=\"#DejaVuSans-116\"/>\n       <use x=\"326.851562\" xlink:href=\"#DejaVuSans-101\"/>\n       <use x=\"388.375\" xlink:href=\"#DejaVuSans-114\"/>\n       <use x=\"429.488281\" xlink:href=\"#DejaVuSans-82\"/>\n       <use x=\"494.470703\" xlink:href=\"#DejaVuSans-101\"/>\n       <use x=\"555.994141\" xlink:href=\"#DejaVuSans-108\"/>\n       <use x=\"583.777344\" xlink:href=\"#DejaVuSans-97\"/>\n       <use x=\"645.056641\" xlink:href=\"#DejaVuSans-116\"/>\n       <use x=\"684.265625\" xlink:href=\"#DejaVuSans-105\"/>\n       <use x=\"712.048828\" xlink:href=\"#DejaVuSans-111\"/>\n       <use x=\"773.230469\" xlink:href=\"#DejaVuSans-110\"/>\n       <use x=\"836.609375\" xlink:href=\"#DejaVuSans-70\"/>\n       <use x=\"886.878906\" xlink:href=\"#DejaVuSans-114\"/>\n       <use x=\"927.992188\" xlink:href=\"#DejaVuSans-105\"/>\n       <use x=\"955.775391\" xlink:href=\"#DejaVuSans-101\"/>\n       <use x=\"1017.298828\" xlink:href=\"#DejaVuSans-110\"/>\n       <use x=\"1080.677734\" xlink:href=\"#DejaVuSans-100\"/>\n      </g>\n     </g>\n    </g>\n    <g id=\"ytick_57\">\n     <g id=\"text_64\">\n      <!-- recruiterRelationOther -->\n      <g style=\"fill:#262626;\" transform=\"translate(117.714063 498.513504)scale(0.1 -0.1)\">\n       <use xlink:href=\"#DejaVuSans-114\"/>\n       <use x=\"38.863281\" xlink:href=\"#DejaVuSans-101\"/>\n       <use x=\"100.386719\" xlink:href=\"#DejaVuSans-99\"/>\n       <use x=\"155.367188\" xlink:href=\"#DejaVuSans-114\"/>\n       <use x=\"196.480469\" xlink:href=\"#DejaVuSans-117\"/>\n       <use x=\"259.859375\" xlink:href=\"#DejaVuSans-105\"/>\n       <use x=\"287.642578\" xlink:href=\"#DejaVuSans-116\"/>\n       <use x=\"326.851562\" xlink:href=\"#DejaVuSans-101\"/>\n       <use x=\"388.375\" xlink:href=\"#DejaVuSans-114\"/>\n       <use x=\"429.488281\" xlink:href=\"#DejaVuSans-82\"/>\n       <use x=\"494.470703\" xlink:href=\"#DejaVuSans-101\"/>\n       <use x=\"555.994141\" xlink:href=\"#DejaVuSans-108\"/>\n       <use x=\"583.777344\" xlink:href=\"#DejaVuSans-97\"/>\n       <use x=\"645.056641\" xlink:href=\"#DejaVuSans-116\"/>\n       <use x=\"684.265625\" xlink:href=\"#DejaVuSans-105\"/>\n       <use x=\"712.048828\" xlink:href=\"#DejaVuSans-111\"/>\n       <use x=\"773.230469\" xlink:href=\"#DejaVuSans-110\"/>\n       <use x=\"836.609375\" xlink:href=\"#DejaVuSans-79\"/>\n       <use x=\"915.320312\" xlink:href=\"#DejaVuSans-116\"/>\n       <use x=\"954.529297\" xlink:href=\"#DejaVuSans-104\"/>\n       <use x=\"1017.908203\" xlink:href=\"#DejaVuSans-101\"/>\n       <use x=\"1079.431641\" xlink:href=\"#DejaVuSans-114\"/>\n      </g>\n     </g>\n    </g>\n    <g id=\"ytick_58\">\n     <g id=\"text_65\">\n      <!-- recruiterRelationIntimatePartner -->\n      <g style=\"fill:#262626;\" transform=\"translate(67.839063 507.142076)scale(0.1 -0.1)\">\n       <use xlink:href=\"#DejaVuSans-114\"/>\n       <use x=\"38.863281\" xlink:href=\"#DejaVuSans-101\"/>\n       <use x=\"100.386719\" xlink:href=\"#DejaVuSans-99\"/>\n       <use x=\"155.367188\" xlink:href=\"#DejaVuSans-114\"/>\n       <use x=\"196.480469\" xlink:href=\"#DejaVuSans-117\"/>\n       <use x=\"259.859375\" xlink:href=\"#DejaVuSans-105\"/>\n       <use x=\"287.642578\" xlink:href=\"#DejaVuSans-116\"/>\n       <use x=\"326.851562\" xlink:href=\"#DejaVuSans-101\"/>\n       <use x=\"388.375\" xlink:href=\"#DejaVuSans-114\"/>\n       <use x=\"429.488281\" xlink:href=\"#DejaVuSans-82\"/>\n       <use x=\"494.470703\" xlink:href=\"#DejaVuSans-101\"/>\n       <use x=\"555.994141\" xlink:href=\"#DejaVuSans-108\"/>\n       <use x=\"583.777344\" xlink:href=\"#DejaVuSans-97\"/>\n       <use x=\"645.056641\" xlink:href=\"#DejaVuSans-116\"/>\n       <use x=\"684.265625\" xlink:href=\"#DejaVuSans-105\"/>\n       <use x=\"712.048828\" xlink:href=\"#DejaVuSans-111\"/>\n       <use x=\"773.230469\" xlink:href=\"#DejaVuSans-110\"/>\n       <use x=\"836.609375\" xlink:href=\"#DejaVuSans-73\"/>\n       <use x=\"866.101562\" xlink:href=\"#DejaVuSans-110\"/>\n       <use x=\"929.480469\" xlink:href=\"#DejaVuSans-116\"/>\n       <use x=\"968.689453\" xlink:href=\"#DejaVuSans-105\"/>\n       <use x=\"996.472656\" xlink:href=\"#DejaVuSans-109\"/>\n       <use x=\"1093.884766\" xlink:href=\"#DejaVuSans-97\"/>\n       <use x=\"1155.164062\" xlink:href=\"#DejaVuSans-116\"/>\n       <use x=\"1194.373047\" xlink:href=\"#DejaVuSans-101\"/>\n       <use x=\"1255.896484\" xlink:href=\"#DejaVuSans-80\"/>\n       <use x=\"1311.699219\" xlink:href=\"#DejaVuSans-97\"/>\n       <use x=\"1372.978516\" xlink:href=\"#DejaVuSans-114\"/>\n       <use x=\"1414.091797\" xlink:href=\"#DejaVuSans-116\"/>\n       <use x=\"1453.300781\" xlink:href=\"#DejaVuSans-110\"/>\n       <use x=\"1516.679688\" xlink:href=\"#DejaVuSans-101\"/>\n       <use x=\"1578.203125\" xlink:href=\"#DejaVuSans-114\"/>\n      </g>\n     </g>\n    </g>\n    <g id=\"ytick_59\">\n     <g id=\"text_66\">\n      <!-- citizenship -->\n      <defs>\n       <path d=\"M 5.515625 54.6875 \nL 48.1875 54.6875 \nL 48.1875 46.484375 \nL 14.40625 7.171875 \nL 48.1875 7.171875 \nL 48.1875 0 \nL 4.296875 0 \nL 4.296875 8.203125 \nL 38.09375 47.515625 \nL 5.515625 47.515625 \nz\n\" id=\"DejaVuSans-122\"/>\n      </defs>\n      <g style=\"fill:#262626;\" transform=\"translate(176.38125 515.770647)scale(0.1 -0.1)\">\n       <use xlink:href=\"#DejaVuSans-99\"/>\n       <use x=\"54.980469\" xlink:href=\"#DejaVuSans-105\"/>\n       <use x=\"82.763672\" xlink:href=\"#DejaVuSans-116\"/>\n       <use x=\"121.972656\" xlink:href=\"#DejaVuSans-105\"/>\n       <use x=\"149.755859\" xlink:href=\"#DejaVuSans-122\"/>\n       <use x=\"202.246094\" xlink:href=\"#DejaVuSans-101\"/>\n       <use x=\"263.769531\" xlink:href=\"#DejaVuSans-110\"/>\n       <use x=\"327.148438\" xlink:href=\"#DejaVuSans-115\"/>\n       <use x=\"379.248047\" xlink:href=\"#DejaVuSans-104\"/>\n       <use x=\"442.626953\" xlink:href=\"#DejaVuSans-105\"/>\n       <use x=\"470.410156\" xlink:href=\"#DejaVuSans-112\"/>\n      </g>\n     </g>\n    </g>\n    <g id=\"ytick_60\">\n     <g id=\"text_67\">\n      <!-- recruiterRelationUnknown -->\n      <g style=\"fill:#262626;\" transform=\"translate(99.689063 524.399219)scale(0.1 -0.1)\">\n       <use xlink:href=\"#DejaVuSans-114\"/>\n       <use x=\"38.863281\" xlink:href=\"#DejaVuSans-101\"/>\n       <use x=\"100.386719\" xlink:href=\"#DejaVuSans-99\"/>\n       <use x=\"155.367188\" xlink:href=\"#DejaVuSans-114\"/>\n       <use x=\"196.480469\" xlink:href=\"#DejaVuSans-117\"/>\n       <use x=\"259.859375\" xlink:href=\"#DejaVuSans-105\"/>\n       <use x=\"287.642578\" xlink:href=\"#DejaVuSans-116\"/>\n       <use x=\"326.851562\" xlink:href=\"#DejaVuSans-101\"/>\n       <use x=\"388.375\" xlink:href=\"#DejaVuSans-114\"/>\n       <use x=\"429.488281\" xlink:href=\"#DejaVuSans-82\"/>\n       <use x=\"494.470703\" xlink:href=\"#DejaVuSans-101\"/>\n       <use x=\"555.994141\" xlink:href=\"#DejaVuSans-108\"/>\n       <use x=\"583.777344\" xlink:href=\"#DejaVuSans-97\"/>\n       <use x=\"645.056641\" xlink:href=\"#DejaVuSans-116\"/>\n       <use x=\"684.265625\" xlink:href=\"#DejaVuSans-105\"/>\n       <use x=\"712.048828\" xlink:href=\"#DejaVuSans-111\"/>\n       <use x=\"773.230469\" xlink:href=\"#DejaVuSans-110\"/>\n       <use x=\"836.609375\" xlink:href=\"#DejaVuSans-85\"/>\n       <use x=\"909.802734\" xlink:href=\"#DejaVuSans-110\"/>\n       <use x=\"973.181641\" xlink:href=\"#DejaVuSans-107\"/>\n       <use x=\"1031.091797\" xlink:href=\"#DejaVuSans-110\"/>\n       <use x=\"1094.470703\" xlink:href=\"#DejaVuSans-111\"/>\n       <use x=\"1155.652344\" xlink:href=\"#DejaVuSans-119\"/>\n       <use x=\"1237.439453\" xlink:href=\"#DejaVuSans-110\"/>\n      </g>\n     </g>\n    </g>\n    <g id=\"ytick_61\">\n     <g id=\"text_68\">\n      <!-- Datasource -->\n      <g style=\"fill:#262626;\" transform=\"translate(172.689063 533.02779)scale(0.1 -0.1)\">\n       <use xlink:href=\"#DejaVuSans-68\"/>\n       <use x=\"77.001953\" xlink:href=\"#DejaVuSans-97\"/>\n       <use x=\"138.28125\" xlink:href=\"#DejaVuSans-116\"/>\n       <use x=\"177.490234\" xlink:href=\"#DejaVuSans-97\"/>\n       <use x=\"238.769531\" xlink:href=\"#DejaVuSans-115\"/>\n       <use x=\"290.869141\" xlink:href=\"#DejaVuSans-111\"/>\n       <use x=\"352.050781\" xlink:href=\"#DejaVuSans-117\"/>\n       <use x=\"415.429688\" xlink:href=\"#DejaVuSans-114\"/>\n       <use x=\"454.292969\" xlink:href=\"#DejaVuSans-99\"/>\n       <use x=\"509.273438\" xlink:href=\"#DejaVuSans-101\"/>\n      </g>\n     </g>\n    </g>\n    <g id=\"ytick_62\">\n     <g id=\"text_69\">\n      <!-- gender -->\n      <g style=\"fill:#262626;\" transform=\"translate(194.317188 541.656362)scale(0.1 -0.1)\">\n       <use xlink:href=\"#DejaVuSans-103\"/>\n       <use x=\"63.476562\" xlink:href=\"#DejaVuSans-101\"/>\n       <use x=\"125\" xlink:href=\"#DejaVuSans-110\"/>\n       <use x=\"188.378906\" xlink:href=\"#DejaVuSans-100\"/>\n       <use x=\"251.855469\" xlink:href=\"#DejaVuSans-101\"/>\n       <use x=\"313.378906\" xlink:href=\"#DejaVuSans-114\"/>\n      </g>\n     </g>\n    </g>\n    <g id=\"ytick_63\">\n     <g id=\"text_70\">\n      <!-- yearOfRegistration -->\n      <g style=\"fill:#262626;\" transform=\"translate(135.764063 550.284933)scale(0.1 -0.1)\">\n       <use xlink:href=\"#DejaVuSans-121\"/>\n       <use x=\"59.179688\" xlink:href=\"#DejaVuSans-101\"/>\n       <use x=\"120.703125\" xlink:href=\"#DejaVuSans-97\"/>\n       <use x=\"181.982422\" xlink:href=\"#DejaVuSans-114\"/>\n       <use x=\"223.095703\" xlink:href=\"#DejaVuSans-79\"/>\n       <use x=\"301.806641\" xlink:href=\"#DejaVuSans-102\"/>\n       <use x=\"337.011719\" xlink:href=\"#DejaVuSans-82\"/>\n       <use x=\"401.994141\" xlink:href=\"#DejaVuSans-101\"/>\n       <use x=\"463.517578\" xlink:href=\"#DejaVuSans-103\"/>\n       <use x=\"526.994141\" xlink:href=\"#DejaVuSans-105\"/>\n       <use x=\"554.777344\" xlink:href=\"#DejaVuSans-115\"/>\n       <use x=\"606.876953\" xlink:href=\"#DejaVuSans-116\"/>\n       <use x=\"646.085938\" xlink:href=\"#DejaVuSans-114\"/>\n       <use x=\"687.199219\" xlink:href=\"#DejaVuSans-97\"/>\n       <use x=\"748.478516\" xlink:href=\"#DejaVuSans-116\"/>\n       <use x=\"787.6875\" xlink:href=\"#DejaVuSans-105\"/>\n       <use x=\"815.470703\" xlink:href=\"#DejaVuSans-111\"/>\n       <use x=\"876.652344\" xlink:href=\"#DejaVuSans-110\"/>\n      </g>\n     </g>\n    </g>\n    <g id=\"text_71\">\n     <!-- colunas -->\n     <g style=\"fill:#262626;\" transform=\"translate(14.798438 298.203906)rotate(-90)scale(0.1 -0.1)\">\n      <use xlink:href=\"#DejaVuSans-99\"/>\n      <use x=\"54.980469\" xlink:href=\"#DejaVuSans-111\"/>\n      <use x=\"116.162109\" xlink:href=\"#DejaVuSans-108\"/>\n      <use x=\"143.945312\" xlink:href=\"#DejaVuSans-117\"/>\n      <use x=\"207.324219\" xlink:href=\"#DejaVuSans-110\"/>\n      <use x=\"270.703125\" xlink:href=\"#DejaVuSans-97\"/>\n      <use x=\"331.982422\" xlink:href=\"#DejaVuSans-115\"/>\n     </g>\n    </g>\n   </g>\n   <g id=\"patch_3\">\n    <path clip-path=\"url(#p044beb343e)\" d=\"M 236.76875 8.062857 \nL 1033.911607 8.062857 \nL 1033.911607 14.965714 \nL 236.76875 14.965714 \nz\n\" style=\"fill:#401150;stroke:#ffffff;stroke-linejoin:miter;\"/>\n   </g>\n   <g id=\"patch_4\">\n    <path clip-path=\"url(#p044beb343e)\" d=\"M 236.76875 16.691429 \nL 1032.240311 16.691429 \nL 1032.240311 23.594286 \nL 236.76875 23.594286 \nz\n\" style=\"fill:#431755;stroke:#ffffff;stroke-linejoin:miter;\"/>\n   </g>\n   <g id=\"patch_5\">\n    <path clip-path=\"url(#p044beb343e)\" d=\"M 236.76875 25.32 \nL 1010.36599 25.32 \nL 1010.36599 32.222857 \nL 236.76875 32.222857 \nz\n\" style=\"fill:#451d5b;stroke:#ffffff;stroke-linejoin:miter;\"/>\n   </g>\n   <g id=\"patch_6\">\n    <path clip-path=\"url(#p044beb343e)\" d=\"M 236.76875 33.948571 \nL 1003.484181 33.948571 \nL 1003.484181 40.851429 \nL 236.76875 40.851429 \nz\n\" style=\"fill:#462260;stroke:#ffffff;stroke-linejoin:miter;\"/>\n   </g>\n   <g id=\"patch_7\">\n    <path clip-path=\"url(#p044beb343e)\" d=\"M 236.76875 42.577143 \nL 995.488174 42.577143 \nL 995.488174 49.48 \nL 236.76875 49.48 \nz\n\" style=\"fill:#482865;stroke:#ffffff;stroke-linejoin:miter;\"/>\n   </g>\n   <g id=\"patch_8\">\n    <path clip-path=\"url(#p044beb343e)\" d=\"M 236.76875 51.205714 \nL 995.439019 51.205714 \nL 995.439019 58.108571 \nL 236.76875 58.108571 \nz\n\" style=\"fill:#492d6a;stroke:#ffffff;stroke-linejoin:miter;\"/>\n   </g>\n   <g id=\"patch_9\">\n    <path clip-path=\"url(#p044beb343e)\" d=\"M 236.76875 59.834286 \nL 994.046272 59.834286 \nL 994.046272 66.737143 \nL 236.76875 66.737143 \nz\n\" style=\"fill:#4a326e;stroke:#ffffff;stroke-linejoin:miter;\"/>\n   </g>\n   <g id=\"patch_10\">\n    <path clip-path=\"url(#p044beb343e)\" d=\"M 236.76875 68.462857 \nL 990.162965 68.462857 \nL 990.162965 75.365714 \nL 236.76875 75.365714 \nz\n\" style=\"fill:#4a3771;stroke:#ffffff;stroke-linejoin:miter;\"/>\n   </g>\n   <g id=\"patch_11\">\n    <path clip-path=\"url(#p044beb343e)\" d=\"M 236.76875 77.091429 \nL 985.591478 77.091429 \nL 985.591478 83.994286 \nL 236.76875 83.994286 \nz\n\" style=\"fill:#4b3b75;stroke:#ffffff;stroke-linejoin:miter;\"/>\n   </g>\n   <g id=\"patch_12\">\n    <path clip-path=\"url(#p044beb343e)\" d=\"M 236.76875 85.72 \nL 982.740443 85.72 \nL 982.740443 92.622857 \nL 236.76875 92.622857 \nz\n\" style=\"fill:#4b4078;stroke:#ffffff;stroke-linejoin:miter;\"/>\n   </g>\n   <g id=\"patch_13\">\n    <path clip-path=\"url(#p044beb343e)\" d=\"M 236.76875 94.348571 \nL 982.035877 94.348571 \nL 982.035877 101.251429 \nL 236.76875 101.251429 \nz\n\" style=\"fill:#4b447b;stroke:#ffffff;stroke-linejoin:miter;\"/>\n   </g>\n   <g id=\"patch_14\">\n    <path clip-path=\"url(#p044beb343e)\" d=\"M 236.76875 102.977143 \nL 978.889907 102.977143 \nL 978.889907 109.88 \nL 236.76875 109.88 \nz\n\" style=\"fill:#4a497d;stroke:#ffffff;stroke-linejoin:miter;\"/>\n   </g>\n   <g id=\"patch_15\">\n    <path clip-path=\"url(#p044beb343e)\" d=\"M 236.76875 111.605714 \nL 973.466386 111.605714 \nL 973.466386 118.508571 \nL 236.76875 118.508571 \nz\n\" style=\"fill:#494d7f;stroke:#ffffff;stroke-linejoin:miter;\"/>\n   </g>\n   <g id=\"patch_16\">\n    <path clip-path=\"url(#p044beb343e)\" d=\"M 236.76875 120.234286 \nL 970.8939 120.234286 \nL 970.8939 127.137143 \nL 236.76875 127.137143 \nz\n\" style=\"fill:#485080;stroke:#ffffff;stroke-linejoin:miter;\"/>\n   </g>\n   <g id=\"patch_17\">\n    <path clip-path=\"url(#p044beb343e)\" d=\"M 236.76875 128.862857 \nL 961.193827 128.862857 \nL 961.193827 135.765714 \nL 236.76875 135.765714 \nz\n\" style=\"fill:#465380;stroke:#ffffff;stroke-linejoin:miter;\"/>\n   </g>\n   <g id=\"patch_18\">\n    <path clip-path=\"url(#p044beb343e)\" d=\"M 236.76875 137.491429 \nL 956.93366 137.491429 \nL 956.93366 144.394286 \nL 236.76875 144.394286 \nz\n\" style=\"fill:#455681;stroke:#ffffff;stroke-linejoin:miter;\"/>\n   </g>\n   <g id=\"patch_19\">\n    <path clip-path=\"url(#p044beb343e)\" d=\"M 236.76875 146.12 \nL 951.772303 146.12 \nL 951.772303 153.022857 \nL 236.76875 153.022857 \nz\n\" style=\"fill:#435982;stroke:#ffffff;stroke-linejoin:miter;\"/>\n   </g>\n   <g id=\"patch_20\">\n    <path clip-path=\"url(#p044beb343e)\" d=\"M 236.76875 154.748571 \nL 950.936655 154.748571 \nL 950.936655 161.651429 \nL 236.76875 161.651429 \nz\n\" style=\"fill:#415c82;stroke:#ffffff;stroke-linejoin:miter;\"/>\n   </g>\n   <g id=\"patch_21\">\n    <path clip-path=\"url(#p044beb343e)\" d=\"M 236.76875 163.377143 \nL 944.300625 163.377143 \nL 944.300625 170.28 \nL 236.76875 170.28 \nz\n\" style=\"fill:#405f82;stroke:#ffffff;stroke-linejoin:miter;\"/>\n   </g>\n   <g id=\"patch_22\">\n    <path clip-path=\"url(#p044beb343e)\" d=\"M 236.76875 172.005714 \nL 937.156652 172.005714 \nL 937.156652 178.908571 \nL 236.76875 178.908571 \nz\n\" style=\"fill:#3e6282;stroke:#ffffff;stroke-linejoin:miter;\"/>\n   </g>\n   <g id=\"patch_23\">\n    <path clip-path=\"url(#p044beb343e)\" d=\"M 236.76875 180.634286 \nL 933.994297 180.634286 \nL 933.994297 187.537143 \nL 236.76875 187.537143 \nz\n\" style=\"fill:#3d6582;stroke:#ffffff;stroke-linejoin:miter;\"/>\n   </g>\n   <g id=\"patch_24\">\n    <path clip-path=\"url(#p044beb343e)\" d=\"M 236.76875 189.262857 \nL 930.799171 189.262857 \nL 930.799171 196.165714 \nL 236.76875 196.165714 \nz\n\" style=\"fill:#3b6882;stroke:#ffffff;stroke-linejoin:miter;\"/>\n   </g>\n   <g id=\"patch_25\">\n    <path clip-path=\"url(#p044beb343e)\" d=\"M 236.76875 197.891429 \nL 930.799171 197.891429 \nL 930.799171 204.794286 \nL 236.76875 204.794286 \nz\n\" style=\"fill:#3a6a82;stroke:#ffffff;stroke-linejoin:miter;\"/>\n   </g>\n   <g id=\"patch_26\">\n    <path clip-path=\"url(#p044beb343e)\" d=\"M 236.76875 206.52 \nL 930.029064 206.52 \nL 930.029064 213.422857 \nL 236.76875 213.422857 \nz\n\" style=\"fill:#386d82;stroke:#ffffff;stroke-linejoin:miter;\"/>\n   </g>\n   <g id=\"patch_27\">\n    <path clip-path=\"url(#p044beb343e)\" d=\"M 236.76875 215.148571 \nL 884.166724 215.148571 \nL 884.166724 222.051429 \nL 236.76875 222.051429 \nz\n\" style=\"fill:#377082;stroke:#ffffff;stroke-linejoin:miter;\"/>\n   </g>\n   <g id=\"patch_28\">\n    <path clip-path=\"url(#p044beb343e)\" d=\"M 236.76875 223.777143 \nL 855.721914 223.777143 \nL 855.721914 230.68 \nL 236.76875 230.68 \nz\n\" style=\"fill:#367282;stroke:#ffffff;stroke-linejoin:miter;\"/>\n   </g>\n   <g id=\"patch_29\">\n    <path clip-path=\"url(#p044beb343e)\" d=\"M 236.76875 232.405714 \nL 848.774564 232.405714 \nL 848.774564 239.308571 \nL 236.76875 239.308571 \nz\n\" style=\"fill:#347581;stroke:#ffffff;stroke-linejoin:miter;\"/>\n   </g>\n   <g id=\"patch_30\">\n    <path clip-path=\"url(#p044beb343e)\" d=\"M 236.76875 241.034286 \nL 848.774564 241.034286 \nL 848.774564 247.937143 \nL 236.76875 247.937143 \nz\n\" style=\"fill:#337881;stroke:#ffffff;stroke-linejoin:miter;\"/>\n   </g>\n   <g id=\"patch_31\">\n    <path clip-path=\"url(#p044beb343e)\" d=\"M 236.76875 249.662857 \nL 768.142704 249.662857 \nL 768.142704 256.565714 \nL 236.76875 256.565714 \nz\n\" style=\"fill:#327a81;stroke:#ffffff;stroke-linejoin:miter;\"/>\n   </g>\n   <g id=\"patch_32\">\n    <path clip-path=\"url(#p044beb343e)\" d=\"M 236.76875 258.291429 \nL 765.7013 258.291429 \nL 765.7013 265.194286 \nL 236.76875 265.194286 \nz\n\" style=\"fill:#307d80;stroke:#ffffff;stroke-linejoin:miter;\"/>\n   </g>\n   <g id=\"patch_33\">\n    <path clip-path=\"url(#p044beb343e)\" d=\"M 236.76875 266.92 \nL 739.484886 266.92 \nL 739.484886 273.822857 \nL 236.76875 273.822857 \nz\n\" style=\"fill:#2f7f80;stroke:#ffffff;stroke-linejoin:miter;\"/>\n   </g>\n   <g id=\"patch_34\">\n    <path clip-path=\"url(#p044beb343e)\" d=\"M 236.76875 275.548571 \nL 733.946668 275.548571 \nL 733.946668 282.451429 \nL 236.76875 282.451429 \nz\n\" style=\"fill:#2f837f;stroke:#ffffff;stroke-linejoin:miter;\"/>\n   </g>\n   <g id=\"patch_35\">\n    <path clip-path=\"url(#p044beb343e)\" d=\"M 236.76875 284.177143 \nL 703.07684 284.177143 \nL 703.07684 291.08 \nL 236.76875 291.08 \nz\n\" style=\"fill:#2e867f;stroke:#ffffff;stroke-linejoin:miter;\"/>\n   </g>\n   <g id=\"patch_36\">\n    <path clip-path=\"url(#p044beb343e)\" d=\"M 236.76875 292.805714 \nL 703.07684 292.805714 \nL 703.07684 299.708571 \nL 236.76875 299.708571 \nz\n\" style=\"fill:#2e897f;stroke:#ffffff;stroke-linejoin:miter;\"/>\n   </g>\n   <g id=\"patch_37\">\n    <path clip-path=\"url(#p044beb343e)\" d=\"M 236.76875 301.434286 \nL 701.79879 301.434286 \nL 701.79879 308.337143 \nL 236.76875 308.337143 \nz\n\" style=\"fill:#2e8c7e;stroke:#ffffff;stroke-linejoin:miter;\"/>\n   </g>\n   <g id=\"patch_38\">\n    <path clip-path=\"url(#p044beb343e)\" d=\"M 236.76875 310.062857 \nL 701.79879 310.062857 \nL 701.79879 316.965714 \nL 236.76875 316.965714 \nz\n\" style=\"fill:#2f8f7e;stroke:#ffffff;stroke-linejoin:miter;\"/>\n   </g>\n   <g id=\"patch_39\">\n    <path clip-path=\"url(#p044beb343e)\" d=\"M 236.76875 318.691429 \nL 701.79879 318.691429 \nL 701.79879 325.594286 \nL 236.76875 325.594286 \nz\n\" style=\"fill:#30937d;stroke:#ffffff;stroke-linejoin:miter;\"/>\n   </g>\n   <g id=\"patch_40\">\n    <path clip-path=\"url(#p044beb343e)\" d=\"M 236.76875 327.32 \nL 701.585781 327.32 \nL 701.585781 334.222857 \nL 236.76875 334.222857 \nz\n\" style=\"fill:#32967c;stroke:#ffffff;stroke-linejoin:miter;\"/>\n   </g>\n   <g id=\"patch_41\">\n    <path clip-path=\"url(#p044beb343e)\" d=\"M 236.76875 335.948571 \nL 700.946756 335.948571 \nL 700.946756 342.851429 \nL 236.76875 342.851429 \nz\n\" style=\"fill:#359a7c;stroke:#ffffff;stroke-linejoin:miter;\"/>\n   </g>\n   <g id=\"patch_42\">\n    <path clip-path=\"url(#p044beb343e)\" d=\"M 236.76875 344.577143 \nL 699.750632 344.577143 \nL 699.750632 351.48 \nL 236.76875 351.48 \nz\n\" style=\"fill:#399e7b;stroke:#ffffff;stroke-linejoin:miter;\"/>\n   </g>\n   <g id=\"patch_43\">\n    <path clip-path=\"url(#p044beb343e)\" d=\"M 236.76875 353.205714 \nL 695.572391 353.205714 \nL 695.572391 360.108571 \nL 236.76875 360.108571 \nz\n\" style=\"fill:#3da17a;stroke:#ffffff;stroke-linejoin:miter;\"/>\n   </g>\n   <g id=\"patch_44\">\n    <path clip-path=\"url(#p044beb343e)\" d=\"M 236.76875 361.834286 \nL 682.103708 361.834286 \nL 682.103708 368.737143 \nL 236.76875 368.737143 \nz\n\" style=\"fill:#43a579;stroke:#ffffff;stroke-linejoin:miter;\"/>\n   </g>\n   <g id=\"patch_45\">\n    <path clip-path=\"url(#p044beb343e)\" d=\"M 236.76875 370.462857 \nL 681.136978 370.462857 \nL 681.136978 377.365714 \nL 236.76875 377.365714 \nz\n\" style=\"fill:#48a977;stroke:#ffffff;stroke-linejoin:miter;\"/>\n   </g>\n   <g id=\"patch_46\">\n    <path clip-path=\"url(#p044beb343e)\" d=\"M 236.76875 379.091429 \nL 681.087822 379.091429 \nL 681.087822 385.994286 \nL 236.76875 385.994286 \nz\n\" style=\"fill:#4ead76;stroke:#ffffff;stroke-linejoin:miter;\"/>\n   </g>\n   <g id=\"patch_47\">\n    <path clip-path=\"url(#p044beb343e)\" d=\"M 236.76875 387.72 \nL 666.881802 387.72 \nL 666.881802 394.622857 \nL 236.76875 394.622857 \nz\n\" style=\"fill:#55b174;stroke:#ffffff;stroke-linejoin:miter;\"/>\n   </g>\n   <g id=\"patch_48\">\n    <path clip-path=\"url(#p044beb343e)\" d=\"M 236.76875 396.348571 \nL 652.053143 396.348571 \nL 652.053143 403.251429 \nL 236.76875 403.251429 \nz\n\" style=\"fill:#5cb472;stroke:#ffffff;stroke-linejoin:miter;\"/>\n   </g>\n   <g id=\"patch_49\">\n    <path clip-path=\"url(#p044beb343e)\" d=\"M 236.76875 404.977143 \nL 645.417113 404.977143 \nL 645.417113 411.88 \nL 236.76875 411.88 \nz\n\" style=\"fill:#64b870;stroke:#ffffff;stroke-linejoin:miter;\"/>\n   </g>\n   <g id=\"patch_50\">\n    <path clip-path=\"url(#p044beb343e)\" d=\"M 236.76875 413.605714 \nL 608.697747 413.605714 \nL 608.697747 420.508571 \nL 236.76875 420.508571 \nz\n\" style=\"fill:#6cbc6e;stroke:#ffffff;stroke-linejoin:miter;\"/>\n   </g>\n   <g id=\"patch_51\">\n    <path clip-path=\"url(#p044beb343e)\" d=\"M 236.76875 422.234286 \nL 529.458634 422.234286 \nL 529.458634 429.137143 \nL 236.76875 429.137143 \nz\n\" style=\"fill:#72be6a;stroke:#ffffff;stroke-linejoin:miter;\"/>\n   </g>\n   <g id=\"patch_52\">\n    <path clip-path=\"url(#p044beb343e)\" d=\"M 236.76875 430.862857 \nL 501.783931 430.862857 \nL 501.783931 437.765714 \nL 236.76875 437.765714 \nz\n\" style=\"fill:#79c066;stroke:#ffffff;stroke-linejoin:miter;\"/>\n   </g>\n   <g id=\"patch_53\">\n    <path clip-path=\"url(#p044beb343e)\" d=\"M 236.76875 439.491429 \nL 439.323323 439.491429 \nL 439.323323 446.394286 \nL 236.76875 446.394286 \nz\n\" style=\"fill:#80c161;stroke:#ffffff;stroke-linejoin:miter;\"/>\n   </g>\n   <g id=\"patch_54\">\n    <path clip-path=\"url(#p044beb343e)\" d=\"M 236.76875 448.12 \nL 439.323323 448.12 \nL 439.323323 455.022857 \nL 236.76875 455.022857 \nz\n\" style=\"fill:#87c35c;stroke:#ffffff;stroke-linejoin:miter;\"/>\n   </g>\n   <g id=\"patch_55\">\n    <path clip-path=\"url(#p044beb343e)\" d=\"M 236.76875 456.748571 \nL 432.474285 456.748571 \nL 432.474285 463.651429 \nL 236.76875 463.651429 \nz\n\" style=\"fill:#8ec457;stroke:#ffffff;stroke-linejoin:miter;\"/>\n   </g>\n   <g id=\"patch_56\">\n    <path clip-path=\"url(#p044beb343e)\" d=\"M 236.76875 465.377143 \nL 403.488762 465.377143 \nL 403.488762 472.28 \nL 236.76875 472.28 \nz\n\" style=\"fill:#95c551;stroke:#ffffff;stroke-linejoin:miter;\"/>\n   </g>\n   <g id=\"patch_57\">\n    <path clip-path=\"url(#p044beb343e)\" d=\"M 236.76875 474.005714 \nL 381.073727 474.005714 \nL 381.073727 480.908571 \nL 236.76875 480.908571 \nz\n\" style=\"fill:#9cc64c;stroke:#ffffff;stroke-linejoin:miter;\"/>\n   </g>\n   <g id=\"patch_58\">\n    <path clip-path=\"url(#p044beb343e)\" d=\"M 236.76875 482.634286 \nL 381.073727 482.634286 \nL 381.073727 489.537143 \nL 236.76875 489.537143 \nz\n\" style=\"fill:#a3c746;stroke:#ffffff;stroke-linejoin:miter;\"/>\n   </g>\n   <g id=\"patch_59\">\n    <path clip-path=\"url(#p044beb343e)\" d=\"M 236.76875 491.262857 \nL 381.073727 491.262857 \nL 381.073727 498.165714 \nL 236.76875 498.165714 \nz\n\" style=\"fill:#abc740;stroke:#ffffff;stroke-linejoin:miter;\"/>\n   </g>\n   <g id=\"patch_60\">\n    <path clip-path=\"url(#p044beb343e)\" d=\"M 236.76875 499.891429 \nL 381.073727 499.891429 \nL 381.073727 506.794286 \nL 236.76875 506.794286 \nz\n\" style=\"fill:#b2c83b;stroke:#ffffff;stroke-linejoin:miter;\"/>\n   </g>\n   <g id=\"patch_61\">\n    <path clip-path=\"url(#p044beb343e)\" d=\"M 236.76875 508.52 \nL 241.323852 508.52 \nL 241.323852 515.422857 \nL 236.76875 515.422857 \nz\n\" style=\"fill:#bac836;stroke:#ffffff;stroke-linejoin:miter;\"/>\n   </g>\n   <g id=\"patch_62\">\n    <path clip-path=\"url(#p044beb343e)\" d=\"M 236.76875 517.148571 \nL 238.030415 517.148571 \nL 238.030415 524.051429 \nL 236.76875 524.051429 \nz\n\" style=\"fill:#c1c933;stroke:#ffffff;stroke-linejoin:miter;\"/>\n   </g>\n   <g id=\"patch_63\">\n    <path clip-path=\"url(#p044beb343e)\" d=\"M 236.76875 525.777143 \nL 236.76875 525.777143 \nL 236.76875 532.68 \nL 236.76875 532.68 \nz\n\" style=\"fill:#c9ca32;stroke:#ffffff;stroke-linejoin:miter;\"/>\n   </g>\n   <g id=\"patch_64\">\n    <path clip-path=\"url(#p044beb343e)\" d=\"M 236.76875 534.405714 \nL 236.76875 534.405714 \nL 236.76875 541.308571 \nL 236.76875 541.308571 \nz\n\" style=\"fill:#d2cc35;stroke:#ffffff;stroke-linejoin:miter;\"/>\n   </g>\n   <g id=\"patch_65\">\n    <path clip-path=\"url(#p044beb343e)\" d=\"M 236.76875 543.034286 \nL 236.76875 543.034286 \nL 236.76875 549.937143 \nL 236.76875 549.937143 \nz\n\" style=\"fill:#dbcf3a;stroke:#ffffff;stroke-linejoin:miter;\"/>\n   </g>\n   <g id=\"line2d_7\">\n    <path clip-path=\"url(#p044beb343e)\" d=\"M 0 0 \n\" style=\"fill:none;stroke:#424242;stroke-linecap:round;stroke-width:2.7;\"/>\n   </g>\n   <g id=\"line2d_8\">\n    <path clip-path=\"url(#p044beb343e)\" d=\"M 0 0 \n\" style=\"fill:none;stroke:#424242;stroke-linecap:round;stroke-width:2.7;\"/>\n   </g>\n   <g id=\"line2d_9\">\n    <path clip-path=\"url(#p044beb343e)\" d=\"M 0 0 \n\" style=\"fill:none;stroke:#424242;stroke-linecap:round;stroke-width:2.7;\"/>\n   </g>\n   <g id=\"line2d_10\">\n    <path clip-path=\"url(#p044beb343e)\" d=\"M 0 0 \n\" style=\"fill:none;stroke:#424242;stroke-linecap:round;stroke-width:2.7;\"/>\n   </g>\n   <g id=\"line2d_11\">\n    <path clip-path=\"url(#p044beb343e)\" d=\"M 0 0 \n\" style=\"fill:none;stroke:#424242;stroke-linecap:round;stroke-width:2.7;\"/>\n   </g>\n   <g id=\"line2d_12\">\n    <path clip-path=\"url(#p044beb343e)\" d=\"M 0 0 \n\" style=\"fill:none;stroke:#424242;stroke-linecap:round;stroke-width:2.7;\"/>\n   </g>\n   <g id=\"line2d_13\">\n    <path clip-path=\"url(#p044beb343e)\" d=\"M 0 0 \n\" style=\"fill:none;stroke:#424242;stroke-linecap:round;stroke-width:2.7;\"/>\n   </g>\n   <g id=\"line2d_14\">\n    <path clip-path=\"url(#p044beb343e)\" d=\"M 0 0 \n\" style=\"fill:none;stroke:#424242;stroke-linecap:round;stroke-width:2.7;\"/>\n   </g>\n   <g id=\"line2d_15\">\n    <path clip-path=\"url(#p044beb343e)\" d=\"M 0 0 \n\" style=\"fill:none;stroke:#424242;stroke-linecap:round;stroke-width:2.7;\"/>\n   </g>\n   <g id=\"line2d_16\">\n    <path clip-path=\"url(#p044beb343e)\" d=\"M 0 0 \n\" style=\"fill:none;stroke:#424242;stroke-linecap:round;stroke-width:2.7;\"/>\n   </g>\n   <g id=\"line2d_17\">\n    <path clip-path=\"url(#p044beb343e)\" d=\"M 0 0 \n\" style=\"fill:none;stroke:#424242;stroke-linecap:round;stroke-width:2.7;\"/>\n   </g>\n   <g id=\"line2d_18\">\n    <path clip-path=\"url(#p044beb343e)\" d=\"M 0 0 \n\" style=\"fill:none;stroke:#424242;stroke-linecap:round;stroke-width:2.7;\"/>\n   </g>\n   <g id=\"line2d_19\">\n    <path clip-path=\"url(#p044beb343e)\" d=\"M 0 0 \n\" style=\"fill:none;stroke:#424242;stroke-linecap:round;stroke-width:2.7;\"/>\n   </g>\n   <g id=\"line2d_20\">\n    <path clip-path=\"url(#p044beb343e)\" d=\"M 0 0 \n\" style=\"fill:none;stroke:#424242;stroke-linecap:round;stroke-width:2.7;\"/>\n   </g>\n   <g id=\"line2d_21\">\n    <path clip-path=\"url(#p044beb343e)\" d=\"M 0 0 \n\" style=\"fill:none;stroke:#424242;stroke-linecap:round;stroke-width:2.7;\"/>\n   </g>\n   <g id=\"line2d_22\">\n    <path clip-path=\"url(#p044beb343e)\" d=\"M 0 0 \n\" style=\"fill:none;stroke:#424242;stroke-linecap:round;stroke-width:2.7;\"/>\n   </g>\n   <g id=\"line2d_23\">\n    <path clip-path=\"url(#p044beb343e)\" d=\"M 0 0 \n\" style=\"fill:none;stroke:#424242;stroke-linecap:round;stroke-width:2.7;\"/>\n   </g>\n   <g id=\"line2d_24\">\n    <path clip-path=\"url(#p044beb343e)\" d=\"M 0 0 \n\" style=\"fill:none;stroke:#424242;stroke-linecap:round;stroke-width:2.7;\"/>\n   </g>\n   <g id=\"line2d_25\">\n    <path clip-path=\"url(#p044beb343e)\" d=\"M 0 0 \n\" style=\"fill:none;stroke:#424242;stroke-linecap:round;stroke-width:2.7;\"/>\n   </g>\n   <g id=\"line2d_26\">\n    <path clip-path=\"url(#p044beb343e)\" d=\"M 0 0 \n\" style=\"fill:none;stroke:#424242;stroke-linecap:round;stroke-width:2.7;\"/>\n   </g>\n   <g id=\"line2d_27\">\n    <path clip-path=\"url(#p044beb343e)\" d=\"M 0 0 \n\" style=\"fill:none;stroke:#424242;stroke-linecap:round;stroke-width:2.7;\"/>\n   </g>\n   <g id=\"line2d_28\">\n    <path clip-path=\"url(#p044beb343e)\" d=\"M 0 0 \n\" style=\"fill:none;stroke:#424242;stroke-linecap:round;stroke-width:2.7;\"/>\n   </g>\n   <g id=\"line2d_29\">\n    <path clip-path=\"url(#p044beb343e)\" d=\"M 0 0 \n\" style=\"fill:none;stroke:#424242;stroke-linecap:round;stroke-width:2.7;\"/>\n   </g>\n   <g id=\"line2d_30\">\n    <path clip-path=\"url(#p044beb343e)\" d=\"M 0 0 \n\" style=\"fill:none;stroke:#424242;stroke-linecap:round;stroke-width:2.7;\"/>\n   </g>\n   <g id=\"line2d_31\">\n    <path clip-path=\"url(#p044beb343e)\" d=\"M 0 0 \n\" style=\"fill:none;stroke:#424242;stroke-linecap:round;stroke-width:2.7;\"/>\n   </g>\n   <g id=\"line2d_32\">\n    <path clip-path=\"url(#p044beb343e)\" d=\"M 0 0 \n\" style=\"fill:none;stroke:#424242;stroke-linecap:round;stroke-width:2.7;\"/>\n   </g>\n   <g id=\"line2d_33\">\n    <path clip-path=\"url(#p044beb343e)\" d=\"M 0 0 \n\" style=\"fill:none;stroke:#424242;stroke-linecap:round;stroke-width:2.7;\"/>\n   </g>\n   <g id=\"line2d_34\">\n    <path clip-path=\"url(#p044beb343e)\" d=\"M 0 0 \n\" style=\"fill:none;stroke:#424242;stroke-linecap:round;stroke-width:2.7;\"/>\n   </g>\n   <g id=\"line2d_35\">\n    <path clip-path=\"url(#p044beb343e)\" d=\"M 0 0 \n\" style=\"fill:none;stroke:#424242;stroke-linecap:round;stroke-width:2.7;\"/>\n   </g>\n   <g id=\"line2d_36\">\n    <path clip-path=\"url(#p044beb343e)\" d=\"M 0 0 \n\" style=\"fill:none;stroke:#424242;stroke-linecap:round;stroke-width:2.7;\"/>\n   </g>\n   <g id=\"line2d_37\">\n    <path clip-path=\"url(#p044beb343e)\" d=\"M 0 0 \n\" style=\"fill:none;stroke:#424242;stroke-linecap:round;stroke-width:2.7;\"/>\n   </g>\n   <g id=\"line2d_38\">\n    <path clip-path=\"url(#p044beb343e)\" d=\"M 0 0 \n\" style=\"fill:none;stroke:#424242;stroke-linecap:round;stroke-width:2.7;\"/>\n   </g>\n   <g id=\"line2d_39\">\n    <path clip-path=\"url(#p044beb343e)\" d=\"M 0 0 \n\" style=\"fill:none;stroke:#424242;stroke-linecap:round;stroke-width:2.7;\"/>\n   </g>\n   <g id=\"line2d_40\">\n    <path clip-path=\"url(#p044beb343e)\" d=\"M 0 0 \n\" style=\"fill:none;stroke:#424242;stroke-linecap:round;stroke-width:2.7;\"/>\n   </g>\n   <g id=\"line2d_41\">\n    <path clip-path=\"url(#p044beb343e)\" d=\"M 0 0 \n\" style=\"fill:none;stroke:#424242;stroke-linecap:round;stroke-width:2.7;\"/>\n   </g>\n   <g id=\"line2d_42\">\n    <path clip-path=\"url(#p044beb343e)\" d=\"M 0 0 \n\" style=\"fill:none;stroke:#424242;stroke-linecap:round;stroke-width:2.7;\"/>\n   </g>\n   <g id=\"line2d_43\">\n    <path clip-path=\"url(#p044beb343e)\" d=\"M 0 0 \n\" style=\"fill:none;stroke:#424242;stroke-linecap:round;stroke-width:2.7;\"/>\n   </g>\n   <g id=\"line2d_44\">\n    <path clip-path=\"url(#p044beb343e)\" d=\"M 0 0 \n\" style=\"fill:none;stroke:#424242;stroke-linecap:round;stroke-width:2.7;\"/>\n   </g>\n   <g id=\"line2d_45\">\n    <path clip-path=\"url(#p044beb343e)\" d=\"M 0 0 \n\" style=\"fill:none;stroke:#424242;stroke-linecap:round;stroke-width:2.7;\"/>\n   </g>\n   <g id=\"line2d_46\">\n    <path clip-path=\"url(#p044beb343e)\" d=\"M 0 0 \n\" style=\"fill:none;stroke:#424242;stroke-linecap:round;stroke-width:2.7;\"/>\n   </g>\n   <g id=\"line2d_47\">\n    <path clip-path=\"url(#p044beb343e)\" d=\"M 0 0 \n\" style=\"fill:none;stroke:#424242;stroke-linecap:round;stroke-width:2.7;\"/>\n   </g>\n   <g id=\"line2d_48\">\n    <path clip-path=\"url(#p044beb343e)\" d=\"M 0 0 \n\" style=\"fill:none;stroke:#424242;stroke-linecap:round;stroke-width:2.7;\"/>\n   </g>\n   <g id=\"line2d_49\">\n    <path clip-path=\"url(#p044beb343e)\" d=\"M 0 0 \n\" style=\"fill:none;stroke:#424242;stroke-linecap:round;stroke-width:2.7;\"/>\n   </g>\n   <g id=\"line2d_50\">\n    <path clip-path=\"url(#p044beb343e)\" d=\"M 0 0 \n\" style=\"fill:none;stroke:#424242;stroke-linecap:round;stroke-width:2.7;\"/>\n   </g>\n   <g id=\"line2d_51\">\n    <path clip-path=\"url(#p044beb343e)\" d=\"M 0 0 \n\" style=\"fill:none;stroke:#424242;stroke-linecap:round;stroke-width:2.7;\"/>\n   </g>\n   <g id=\"line2d_52\">\n    <path clip-path=\"url(#p044beb343e)\" d=\"M 0 0 \n\" style=\"fill:none;stroke:#424242;stroke-linecap:round;stroke-width:2.7;\"/>\n   </g>\n   <g id=\"line2d_53\">\n    <path clip-path=\"url(#p044beb343e)\" d=\"M 0 0 \n\" style=\"fill:none;stroke:#424242;stroke-linecap:round;stroke-width:2.7;\"/>\n   </g>\n   <g id=\"line2d_54\">\n    <path clip-path=\"url(#p044beb343e)\" d=\"M 0 0 \n\" style=\"fill:none;stroke:#424242;stroke-linecap:round;stroke-width:2.7;\"/>\n   </g>\n   <g id=\"line2d_55\">\n    <path clip-path=\"url(#p044beb343e)\" d=\"M 0 0 \n\" style=\"fill:none;stroke:#424242;stroke-linecap:round;stroke-width:2.7;\"/>\n   </g>\n   <g id=\"line2d_56\">\n    <path clip-path=\"url(#p044beb343e)\" d=\"M 0 0 \n\" style=\"fill:none;stroke:#424242;stroke-linecap:round;stroke-width:2.7;\"/>\n   </g>\n   <g id=\"line2d_57\">\n    <path clip-path=\"url(#p044beb343e)\" d=\"M 0 0 \n\" style=\"fill:none;stroke:#424242;stroke-linecap:round;stroke-width:2.7;\"/>\n   </g>\n   <g id=\"line2d_58\">\n    <path clip-path=\"url(#p044beb343e)\" d=\"M 0 0 \n\" style=\"fill:none;stroke:#424242;stroke-linecap:round;stroke-width:2.7;\"/>\n   </g>\n   <g id=\"line2d_59\">\n    <path clip-path=\"url(#p044beb343e)\" d=\"M 0 0 \n\" style=\"fill:none;stroke:#424242;stroke-linecap:round;stroke-width:2.7;\"/>\n   </g>\n   <g id=\"line2d_60\">\n    <path clip-path=\"url(#p044beb343e)\" d=\"M 0 0 \n\" style=\"fill:none;stroke:#424242;stroke-linecap:round;stroke-width:2.7;\"/>\n   </g>\n   <g id=\"line2d_61\">\n    <path clip-path=\"url(#p044beb343e)\" d=\"M 0 0 \n\" style=\"fill:none;stroke:#424242;stroke-linecap:round;stroke-width:2.7;\"/>\n   </g>\n   <g id=\"line2d_62\">\n    <path clip-path=\"url(#p044beb343e)\" d=\"M 0 0 \n\" style=\"fill:none;stroke:#424242;stroke-linecap:round;stroke-width:2.7;\"/>\n   </g>\n   <g id=\"line2d_63\">\n    <path clip-path=\"url(#p044beb343e)\" d=\"M 0 0 \n\" style=\"fill:none;stroke:#424242;stroke-linecap:round;stroke-width:2.7;\"/>\n   </g>\n   <g id=\"line2d_64\">\n    <path clip-path=\"url(#p044beb343e)\" d=\"M 0 0 \n\" style=\"fill:none;stroke:#424242;stroke-linecap:round;stroke-width:2.7;\"/>\n   </g>\n   <g id=\"line2d_65\">\n    <path clip-path=\"url(#p044beb343e)\" d=\"M 0 0 \n\" style=\"fill:none;stroke:#424242;stroke-linecap:round;stroke-width:2.7;\"/>\n   </g>\n   <g id=\"line2d_66\">\n    <path clip-path=\"url(#p044beb343e)\" d=\"M 0 0 \n\" style=\"fill:none;stroke:#424242;stroke-linecap:round;stroke-width:2.7;\"/>\n   </g>\n   <g id=\"line2d_67\">\n    <path clip-path=\"url(#p044beb343e)\" d=\"M 0 0 \n\" style=\"fill:none;stroke:#424242;stroke-linecap:round;stroke-width:2.7;\"/>\n   </g>\n   <g id=\"line2d_68\">\n    <path clip-path=\"url(#p044beb343e)\" d=\"M 0 0 \n\" style=\"fill:none;stroke:#424242;stroke-linecap:round;stroke-width:2.7;\"/>\n   </g>\n   <g id=\"line2d_69\">\n    <path clip-path=\"url(#p044beb343e)\" d=\"M 0 0 \n\" style=\"fill:none;stroke:#424242;stroke-linecap:round;stroke-width:2.7;\"/>\n   </g>\n   <g id=\"patch_66\">\n    <path d=\"M 236.76875 550.8 \nL 236.76875 7.2 \n\" style=\"fill:none;stroke:#cccccc;stroke-linecap:square;stroke-linejoin:miter;stroke-width:0.8;\"/>\n   </g>\n   <g id=\"patch_67\">\n    <path d=\"M 1073.76875 550.8 \nL 1073.76875 7.2 \n\" style=\"fill:none;stroke:#cccccc;stroke-linecap:square;stroke-linejoin:miter;stroke-width:0.8;\"/>\n   </g>\n   <g id=\"patch_68\">\n    <path d=\"M 236.76875 550.8 \nL 1073.76875 550.8 \n\" style=\"fill:none;stroke:#cccccc;stroke-linecap:square;stroke-linejoin:miter;stroke-width:0.8;\"/>\n   </g>\n   <g id=\"patch_69\">\n    <path d=\"M 236.76875 7.2 \nL 1073.76875 7.2 \n\" style=\"fill:none;stroke:#cccccc;stroke-linecap:square;stroke-linejoin:miter;stroke-width:0.8;\"/>\n   </g>\n  </g>\n </g>\n <defs>\n  <clipPath id=\"p044beb343e\">\n   <rect height=\"543.6\" width=\"837\" x=\"236.76875\" y=\"7.2\"/>\n  </clipPath>\n </defs>\n</svg>\n",
      "image/png": "[encoded data removed]"
     },
     "metadata": {
      "needs_background": "light"
     }
    }
   ],
   "source": [
    "plt.figure(figsize=(15,10))\n",
    "sns.barplot(\n",
    "    x = 'missing_porc', \n",
    "    y = 'colunas', \n",
    "    data = ausentes, \n",
    "    palette = 'viridis',\n",
    "    orient='h')\\\n",
    ";plt.show()"
   ]
  },
  {
   "cell_type": "code",
   "execution_count": 6,
   "metadata": {},
   "outputs": [
    {
     "output_type": "execute_result",
     "data": {
      "text/plain": "count    63.000000\nmean     62.076434\nstd      30.600992\nmin       0.000000\n25%      48.809451\n50%      62.177005\n75%      89.740989\nmax      99.690580\nName: missing_porc, dtype: float64"
     },
     "metadata": {},
     "execution_count": 6
    }
   ],
   "source": [
    "ausentes['missing_porc'].describe()"
   ]
  },
  {
   "cell_type": "code",
   "execution_count": 7,
   "metadata": {},
   "outputs": [
    {
     "output_type": "display_data",
     "data": {
      "application/vnd.plotly.v1+json": {
       "config": {
        "plotlyServerURL": "https://plot.ly"
       },
       "data": [
        {
         "alignmentgroup": "True",
         "hoverlabel": {
          "namelength": 0
         },
         "hovertemplate": "missing_porc=%{x}<br>colunas=%{y}",
         "legendgroup": "",
         "marker": {
          "color": "#636efa"
         },
         "name": "",
         "offsetgroup": "",
         "orientation": "h",
         "showlegend": false,
         "textposition": "auto",
         "type": "bar",
         "x": [
          99.6905801110633,
          99.48156800065573,
          96.74596832032131,
          95.88533021864306,
          94.88535071002644,
          94.87920329501445,
          94.70502653634146,
          94.21938075039445,
          93.64767115427962,
          93.29112108358434,
          93.2030081350792,
          92.809573574312,
          92.13130878465606,
          91.80959406569538,
          90.59650416999652,
          90.06372820229093,
          89.41824962603225,
          89.31374357082846,
          88.48384254421016,
          87.59041822913464,
          87.19493453003012,
          86.79535255425094,
          86.79535255425094,
          86.69904305239646,
          80.96350484621216,
          77.40620069260876,
          76.5373660375812,
          76.5373660375812,
          66.45355627958443,
          66.1482346673224,
          62.869613327595744,
          62.177004569578486,
          58.31642794205037,
          58.31642794205037,
          58.1565951517387,
          58.1565951517387,
          58.1565951517387,
          58.12995635335342,
          58.05003995819757,
          57.900452859572546,
          57.37792258355362,
          55.69353087026905,
          55.57263170836663,
          55.56648429335465,
          53.78988135489027,
          51.93541115960738,
          51.105510132989075
         ],
         "xaxis": "x",
         "y": [
          "meansOfControlUsesChildren",
          "meansOfControlRestrictsFinancialAccess",
          "isSlaveryAndPractices",
          "meansOfControlThreatOfLawEnforcement",
          "meansOfControlDebtBondage",
          "meansOfControlRestrictsMedicalCare",
          "meansOfControlWithholdsNecessities",
          "meansOfControlSexualAbuse",
          "meansOfControlOther",
          "meansOfControlWithholdsDocuments",
          "meansOfControlExcessiveWorkingHours",
          "meansOfControlPsychoactiveSubstances",
          "meansOfControlFalsePromises",
          "meansOfControlTakesEarnings",
          "typeOfSexConcatenated",
          "meansOfControlPhysicalAbuse",
          "meansOfControlThreats",
          "typeOfSexPrivateSexualServices",
          "meansOfControlRestrictsMovement",
          "meansOfControlPsychologicalAbuse",
          "typeOfLabourConcatenated",
          "typeOfSexRemoteInteractiveServices",
          "typeOfSexPornography",
          "majorityEntry",
          "majorityStatusAtExploit",
          "isForcedMarriage",
          "isForcedMilitary",
          "isOrganRemoval",
          "isAbduction",
          "meansOfControlConcatenated",
          "RecruiterRelationship",
          "typeOfSexProstitution",
          "typeOfLabourPeddling",
          "typeOfLabourIllicitActivities",
          "typeOfLabourBegging",
          "typeOfLabourTransportation",
          "typeOfLabourMiningOrDrilling",
          "typeOfLabourAquafarming",
          "typeOfLabourAgriculture",
          "typeOfLabourManufacturing",
          "typeOfLabourConstruction",
          "typeOfLabourNotSpecified",
          "typeOfLabourHospitality",
          "typeOfLabourOther",
          "typeOfLabourDomesticWork",
          "isSexAndLabour",
          "isSexualExploit"
         ],
         "yaxis": "y"
        }
       ],
       "layout": {
        "barmode": "relative",
        "legend": {
         "tracegroupgap": 0
        },
        "margin": {
         "t": 60
        },
        "template": {
         "data": {
          "bar": [
           {
            "error_x": {
             "color": "#2a3f5f"
            },
            "error_y": {
             "color": "#2a3f5f"
            },
            "marker": {
             "line": {
              "color": "white",
              "width": 0.5
             }
            },
            "type": "bar"
           }
          ],
          "barpolar": [
           {
            "marker": {
             "line": {
              "color": "white",
              "width": 0.5
             }
            },
            "type": "barpolar"
           }
          ],
          "carpet": [
           {
            "aaxis": {
             "endlinecolor": "#2a3f5f",
             "gridcolor": "#C8D4E3",
             "linecolor": "#C8D4E3",
             "minorgridcolor": "#C8D4E3",
             "startlinecolor": "#2a3f5f"
            },
            "baxis": {
             "endlinecolor": "#2a3f5f",
             "gridcolor": "#C8D4E3",
             "linecolor": "#C8D4E3",
             "minorgridcolor": "#C8D4E3",
             "startlinecolor": "#2a3f5f"
            },
            "type": "carpet"
           }
          ],
          "choropleth": [
           {
            "colorbar": {
             "outlinewidth": 0,
             "ticks": ""
            },
            "type": "choropleth"
           }
          ],
          "contour": [
           {
            "colorbar": {
             "outlinewidth": 0,
             "ticks": ""
            },
            "colorscale": [
             [
              0,
              "#0d0887"
             ],
             [
              0.1111111111111111,
              "#46039f"
             ],
             [
              0.2222222222222222,
              "#7201a8"
             ],
             [
              0.3333333333333333,
              "#9c179e"
             ],
             [
              0.4444444444444444,
              "#bd3786"
             ],
             [
              0.5555555555555556,
              "#d8576b"
             ],
             [
              0.6666666666666666,
              "#ed7953"
             ],
             [
              0.7777777777777778,
              "#fb9f3a"
             ],
             [
              0.8888888888888888,
              "#fdca26"
             ],
             [
              1,
              "#f0f921"
             ]
            ],
            "type": "contour"
           }
          ],
          "contourcarpet": [
           {
            "colorbar": {
             "outlinewidth": 0,
             "ticks": ""
            },
            "type": "contourcarpet"
           }
          ],
          "heatmap": [
           {
            "colorbar": {
             "outlinewidth": 0,
             "ticks": ""
            },
            "colorscale": [
             [
              0,
              "#0d0887"
             ],
             [
              0.1111111111111111,
              "#46039f"
             ],
             [
              0.2222222222222222,
              "#7201a8"
             ],
             [
              0.3333333333333333,
              "#9c179e"
             ],
             [
              0.4444444444444444,
              "#bd3786"
             ],
             [
              0.5555555555555556,
              "#d8576b"
             ],
             [
              0.6666666666666666,
              "#ed7953"
             ],
             [
              0.7777777777777778,
              "#fb9f3a"
             ],
             [
              0.8888888888888888,
              "#fdca26"
             ],
             [
              1,
              "#f0f921"
             ]
            ],
            "type": "heatmap"
           }
          ],
          "heatmapgl": [
           {
            "colorbar": {
             "outlinewidth": 0,
             "ticks": ""
            },
            "colorscale": [
             [
              0,
              "#0d0887"
             ],
             [
              0.1111111111111111,
              "#46039f"
             ],
             [
              0.2222222222222222,
              "#7201a8"
             ],
             [
              0.3333333333333333,
              "#9c179e"
             ],
             [
              0.4444444444444444,
              "#bd3786"
             ],
             [
              0.5555555555555556,
              "#d8576b"
             ],
             [
              0.6666666666666666,
              "#ed7953"
             ],
             [
              0.7777777777777778,
              "#fb9f3a"
             ],
             [
              0.8888888888888888,
              "#fdca26"
             ],
             [
              1,
              "#f0f921"
             ]
            ],
            "type": "heatmapgl"
           }
          ],
          "histogram": [
           {
            "marker": {
             "colorbar": {
              "outlinewidth": 0,
              "ticks": ""
             }
            },
            "type": "histogram"
           }
          ],
          "histogram2d": [
           {
            "colorbar": {
             "outlinewidth": 0,
             "ticks": ""
            },
            "colorscale": [
             [
              0,
              "#0d0887"
             ],
             [
              0.1111111111111111,
              "#46039f"
             ],
             [
              0.2222222222222222,
              "#7201a8"
             ],
             [
              0.3333333333333333,
              "#9c179e"
             ],
             [
              0.4444444444444444,
              "#bd3786"
             ],
             [
              0.5555555555555556,
              "#d8576b"
             ],
             [
              0.6666666666666666,
              "#ed7953"
             ],
             [
              0.7777777777777778,
              "#fb9f3a"
             ],
             [
              0.8888888888888888,
              "#fdca26"
             ],
             [
              1,
              "#f0f921"
             ]
            ],
            "type": "histogram2d"
           }
          ],
          "histogram2dcontour": [
           {
            "colorbar": {
             "outlinewidth": 0,
             "ticks": ""
            },
            "colorscale": [
             [
              0,
              "#0d0887"
             ],
             [
              0.1111111111111111,
              "#46039f"
             ],
             [
              0.2222222222222222,
              "#7201a8"
             ],
             [
              0.3333333333333333,
              "#9c179e"
             ],
             [
              0.4444444444444444,
              "#bd3786"
             ],
             [
              0.5555555555555556,
              "#d8576b"
             ],
             [
              0.6666666666666666,
              "#ed7953"
             ],
             [
              0.7777777777777778,
              "#fb9f3a"
             ],
             [
              0.8888888888888888,
              "#fdca26"
             ],
             [
              1,
              "#f0f921"
             ]
            ],
            "type": "histogram2dcontour"
           }
          ],
          "mesh3d": [
           {
            "colorbar": {
             "outlinewidth": 0,
             "ticks": ""
            },
            "type": "mesh3d"
           }
          ],
          "parcoords": [
           {
            "line": {
             "colorbar": {
              "outlinewidth": 0,
              "ticks": ""
             }
            },
            "type": "parcoords"
           }
          ],
          "pie": [
           {
            "automargin": true,
            "type": "pie"
           }
          ],
          "scatter": [
           {
            "marker": {
             "colorbar": {
              "outlinewidth": 0,
              "ticks": ""
             }
            },
            "type": "scatter"
           }
          ],
          "scatter3d": [
           {
            "line": {
             "colorbar": {
              "outlinewidth": 0,
              "ticks": ""
             }
            },
            "marker": {
             "colorbar": {
              "outlinewidth": 0,
              "ticks": ""
             }
            },
            "type": "scatter3d"
           }
          ],
          "scattercarpet": [
           {
            "marker": {
             "colorbar": {
              "outlinewidth": 0,
              "ticks": ""
             }
            },
            "type": "scattercarpet"
           }
          ],
          "scattergeo": [
           {
            "marker": {
             "colorbar": {
              "outlinewidth": 0,
              "ticks": ""
             }
            },
            "type": "scattergeo"
           }
          ],
          "scattergl": [
           {
            "marker": {
             "colorbar": {
              "outlinewidth": 0,
              "ticks": ""
             }
            },
            "type": "scattergl"
           }
          ],
          "scattermapbox": [
           {
            "marker": {
             "colorbar": {
              "outlinewidth": 0,
              "ticks": ""
             }
            },
            "type": "scattermapbox"
           }
          ],
          "scatterpolar": [
           {
            "marker": {
             "colorbar": {
              "outlinewidth": 0,
              "ticks": ""
             }
            },
            "type": "scatterpolar"
           }
          ],
          "scatterpolargl": [
           {
            "marker": {
             "colorbar": {
              "outlinewidth": 0,
              "ticks": ""
             }
            },
            "type": "scatterpolargl"
           }
          ],
          "scatterternary": [
           {
            "marker": {
             "colorbar": {
              "outlinewidth": 0,
              "ticks": ""
             }
            },
            "type": "scatterternary"
           }
          ],
          "surface": [
           {
            "colorbar": {
             "outlinewidth": 0,
             "ticks": ""
            },
            "colorscale": [
             [
              0,
              "#0d0887"
             ],
             [
              0.1111111111111111,
              "#46039f"
             ],
             [
              0.2222222222222222,
              "#7201a8"
             ],
             [
              0.3333333333333333,
              "#9c179e"
             ],
             [
              0.4444444444444444,
              "#bd3786"
             ],
             [
              0.5555555555555556,
              "#d8576b"
             ],
             [
              0.6666666666666666,
              "#ed7953"
             ],
             [
              0.7777777777777778,
              "#fb9f3a"
             ],
             [
              0.8888888888888888,
              "#fdca26"
             ],
             [
              1,
              "#f0f921"
             ]
            ],
            "type": "surface"
           }
          ],
          "table": [
           {
            "cells": {
             "fill": {
              "color": "#EBF0F8"
             },
             "line": {
              "color": "white"
             }
            },
            "header": {
             "fill": {
              "color": "#C8D4E3"
             },
             "line": {
              "color": "white"
             }
            },
            "type": "table"
           }
          ]
         },
         "layout": {
          "annotationdefaults": {
           "arrowcolor": "#2a3f5f",
           "arrowhead": 0,
           "arrowwidth": 1
          },
          "coloraxis": {
           "colorbar": {
            "outlinewidth": 0,
            "ticks": ""
           }
          },
          "colorscale": {
           "diverging": [
            [
             0,
             "#8e0152"
            ],
            [
             0.1,
             "#c51b7d"
            ],
            [
             0.2,
             "#de77ae"
            ],
            [
             0.3,
             "#f1b6da"
            ],
            [
             0.4,
             "#fde0ef"
            ],
            [
             0.5,
             "#f7f7f7"
            ],
            [
             0.6,
             "#e6f5d0"
            ],
            [
             0.7,
             "#b8e186"
            ],
            [
             0.8,
             "#7fbc41"
            ],
            [
             0.9,
             "#4d9221"
            ],
            [
             1,
             "#276419"
            ]
           ],
           "sequential": [
            [
             0,
             "#0d0887"
            ],
            [
             0.1111111111111111,
             "#46039f"
            ],
            [
             0.2222222222222222,
             "#7201a8"
            ],
            [
             0.3333333333333333,
             "#9c179e"
            ],
            [
             0.4444444444444444,
             "#bd3786"
            ],
            [
             0.5555555555555556,
             "#d8576b"
            ],
            [
             0.6666666666666666,
             "#ed7953"
            ],
            [
             0.7777777777777778,
             "#fb9f3a"
            ],
            [
             0.8888888888888888,
             "#fdca26"
            ],
            [
             1,
             "#f0f921"
            ]
           ],
           "sequentialminus": [
            [
             0,
             "#0d0887"
            ],
            [
             0.1111111111111111,
             "#46039f"
            ],
            [
             0.2222222222222222,
             "#7201a8"
            ],
            [
             0.3333333333333333,
             "#9c179e"
            ],
            [
             0.4444444444444444,
             "#bd3786"
            ],
            [
             0.5555555555555556,
             "#d8576b"
            ],
            [
             0.6666666666666666,
             "#ed7953"
            ],
            [
             0.7777777777777778,
             "#fb9f3a"
            ],
            [
             0.8888888888888888,
             "#fdca26"
            ],
            [
             1,
             "#f0f921"
            ]
           ]
          },
          "colorway": [
           "#636efa",
           "#EF553B",
           "#00cc96",
           "#ab63fa",
           "#FFA15A",
           "#19d3f3",
           "#FF6692",
           "#B6E880",
           "#FF97FF",
           "#FECB52"
          ],
          "font": {
           "color": "#2a3f5f"
          },
          "geo": {
           "bgcolor": "white",
           "lakecolor": "white",
           "landcolor": "white",
           "showlakes": true,
           "showland": true,
           "subunitcolor": "#C8D4E3"
          },
          "hoverlabel": {
           "align": "left"
          },
          "hovermode": "closest",
          "mapbox": {
           "style": "light"
          },
          "paper_bgcolor": "white",
          "plot_bgcolor": "white",
          "polar": {
           "angularaxis": {
            "gridcolor": "#EBF0F8",
            "linecolor": "#EBF0F8",
            "ticks": ""
           },
           "bgcolor": "white",
           "radialaxis": {
            "gridcolor": "#EBF0F8",
            "linecolor": "#EBF0F8",
            "ticks": ""
           }
          },
          "scene": {
           "xaxis": {
            "backgroundcolor": "white",
            "gridcolor": "#DFE8F3",
            "gridwidth": 2,
            "linecolor": "#EBF0F8",
            "showbackground": true,
            "ticks": "",
            "zerolinecolor": "#EBF0F8"
           },
           "yaxis": {
            "backgroundcolor": "white",
            "gridcolor": "#DFE8F3",
            "gridwidth": 2,
            "linecolor": "#EBF0F8",
            "showbackground": true,
            "ticks": "",
            "zerolinecolor": "#EBF0F8"
           },
           "zaxis": {
            "backgroundcolor": "white",
            "gridcolor": "#DFE8F3",
            "gridwidth": 2,
            "linecolor": "#EBF0F8",
            "showbackground": true,
            "ticks": "",
            "zerolinecolor": "#EBF0F8"
           }
          },
          "shapedefaults": {
           "line": {
            "color": "#2a3f5f"
           }
          },
          "ternary": {
           "aaxis": {
            "gridcolor": "#DFE8F3",
            "linecolor": "#A2B1C6",
            "ticks": ""
           },
           "baxis": {
            "gridcolor": "#DFE8F3",
            "linecolor": "#A2B1C6",
            "ticks": ""
           },
           "bgcolor": "white",
           "caxis": {
            "gridcolor": "#DFE8F3",
            "linecolor": "#A2B1C6",
            "ticks": ""
           }
          },
          "title": {
           "x": 0.05
          },
          "xaxis": {
           "automargin": true,
           "gridcolor": "#EBF0F8",
           "linecolor": "#EBF0F8",
           "ticks": "",
           "title": {
            "standoff": 15
           },
           "zerolinecolor": "#EBF0F8",
           "zerolinewidth": 2
          },
          "yaxis": {
           "automargin": true,
           "gridcolor": "#EBF0F8",
           "linecolor": "#EBF0F8",
           "ticks": "",
           "title": {
            "standoff": 15
           },
           "zerolinecolor": "#EBF0F8",
           "zerolinewidth": 2
          }
         }
        },
        "xaxis": {
         "anchor": "y",
         "domain": [
          0,
          1
         ],
         "title": {
          "text": "missing_porc"
         }
        },
        "yaxis": {
         "anchor": "x",
         "domain": [
          0,
          1
         ],
         "title": {
          "text": "colunas"
         }
        }
       }
      }
     },
     "metadata": {}
    }
   ],
   "source": [
    "fig_plotly = px.bar(\n",
    "    ausentes.query('missing_porc > 50'), \n",
    "    x = 'missing_porc',\n",
    "    y = 'colunas',\n",
    "    template='plotly_white', \n",
    "    orientation='h')\n",
    "fig_plotly.show()"
   ]
  },
  {
   "cell_type": "markdown",
   "metadata": {},
   "source": [
    "## Quantidade de casos ao longo dos anos"
   ]
  },
  {
   "cell_type": "code",
   "execution_count": 8,
   "metadata": {},
   "outputs": [
    {
     "output_type": "execute_result",
     "data": {
      "text/plain": "    yearOfRegistration  contagem_casos\n0                 2002            1026\n1                 2003             357\n2                 2004             223\n3                 2005            1455\n4                 2006            1423\n5                 2007            1417\n6                 2008             802\n7                 2009             587\n8                 2010             943\n9                 2011            1340\n10                2012            1367\n11                2013            1832\n12                2014            3000\n13                2015            4276\n14                2016           16399\n15                2017            6508\n16                2018            5818\n17                2019              28",
      "text/html": "<div>\n<style scoped>\n    .dataframe tbody tr th:only-of-type {\n        vertical-align: middle;\n    }\n\n    .dataframe tbody tr th {\n        vertical-align: top;\n    }\n\n    .dataframe thead th {\n        text-align: right;\n    }\n</style>\n<table border=\"1\" class=\"dataframe\">\n  <thead>\n    <tr style=\"text-align: right;\">\n      <th></th>\n      <th>yearOfRegistration</th>\n      <th>contagem_casos</th>\n    </tr>\n  </thead>\n  <tbody>\n    <tr>\n      <th>0</th>\n      <td>2002</td>\n      <td>1026</td>\n    </tr>\n    <tr>\n      <th>1</th>\n      <td>2003</td>\n      <td>357</td>\n    </tr>\n    <tr>\n      <th>2</th>\n      <td>2004</td>\n      <td>223</td>\n    </tr>\n    <tr>\n      <th>3</th>\n      <td>2005</td>\n      <td>1455</td>\n    </tr>\n    <tr>\n      <th>4</th>\n      <td>2006</td>\n      <td>1423</td>\n    </tr>\n    <tr>\n      <th>5</th>\n      <td>2007</td>\n      <td>1417</td>\n    </tr>\n    <tr>\n      <th>6</th>\n      <td>2008</td>\n      <td>802</td>\n    </tr>\n    <tr>\n      <th>7</th>\n      <td>2009</td>\n      <td>587</td>\n    </tr>\n    <tr>\n      <th>8</th>\n      <td>2010</td>\n      <td>943</td>\n    </tr>\n    <tr>\n      <th>9</th>\n      <td>2011</td>\n      <td>1340</td>\n    </tr>\n    <tr>\n      <th>10</th>\n      <td>2012</td>\n      <td>1367</td>\n    </tr>\n    <tr>\n      <th>11</th>\n      <td>2013</td>\n      <td>1832</td>\n    </tr>\n    <tr>\n      <th>12</th>\n      <td>2014</td>\n      <td>3000</td>\n    </tr>\n    <tr>\n      <th>13</th>\n      <td>2015</td>\n      <td>4276</td>\n    </tr>\n    <tr>\n      <th>14</th>\n      <td>2016</td>\n      <td>16399</td>\n    </tr>\n    <tr>\n      <th>15</th>\n      <td>2017</td>\n      <td>6508</td>\n    </tr>\n    <tr>\n      <th>16</th>\n      <td>2018</td>\n      <td>5818</td>\n    </tr>\n    <tr>\n      <th>17</th>\n      <td>2019</td>\n      <td>28</td>\n    </tr>\n  </tbody>\n</table>\n</div>"
     },
     "metadata": {},
     "execution_count": 8
    }
   ],
   "source": [
    "(\n",
    "dados\n",
    ".groupby('yearOfRegistration')\n",
    ".agg(contagem_casos = ('yearOfRegistration','count'))\n",
    ".reset_index()\n",
    ")"
   ]
  },
  {
   "cell_type": "code",
   "execution_count": 12,
   "metadata": {},
   "outputs": [
    {
     "output_type": "display_data",
     "data": {
      "text/plain": "<Figure size 1080x720 with 1 Axes>",
      "image/svg+xml": "<?xml version=\"1.0\" encoding=\"utf-8\" standalone=\"no\"?>\n<!DOCTYPE svg PUBLIC \"-//W3C//DTD SVG 1.1//EN\"\n  \"http://www.w3.org/Graphics/SVG/1.1/DTD/svg11.dtd\">\n<!-- Created with matplotlib (https://matplotlib.org/) -->\n<svg height=\"588.35625pt\" version=\"1.1\" viewBox=\"0 0 903.890625 588.35625\" width=\"903.890625pt\" xmlns=\"http://www.w3.org/2000/svg\" xmlns:xlink=\"http://www.w3.org/1999/xlink\">\n <defs>\n  <style type=\"text/css\">\n*{stroke-linecap:butt;stroke-linejoin:round;}\n  </style>\n </defs>\n <g id=\"figure_1\">\n  <g id=\"patch_1\">\n   <path d=\"M 0 588.35625 \nL 903.890625 588.35625 \nL 903.890625 0 \nL 0 0 \nz\n\" style=\"fill:none;\"/>\n  </g>\n  <g id=\"axes_1\">\n   <g id=\"patch_2\">\n    <path d=\"M 59.690625 550.8 \nL 896.690625 550.8 \nL 896.690625 7.2 \nL 59.690625 7.2 \nz\n\" style=\"fill:#ffffff;\"/>\n   </g>\n   <g id=\"matplotlib.axis_1\">\n    <g id=\"xtick_1\">\n     <g id=\"line2d_1\">\n      <path clip-path=\"url(#p3882aa8c87)\" d=\"M 120.115759 550.8 \nL 120.115759 7.2 \n\" style=\"fill:none;stroke:#cccccc;stroke-linecap:round;stroke-width:0.8;\"/>\n     </g>\n     <g id=\"text_1\">\n      <!-- 2002.5 -->\n      <defs>\n       <path d=\"M 19.1875 8.296875 \nL 53.609375 8.296875 \nL 53.609375 0 \nL 7.328125 0 \nL 7.328125 8.296875 \nQ 12.9375 14.109375 22.625 23.890625 \nQ 32.328125 33.6875 34.8125 36.53125 \nQ 39.546875 41.84375 41.421875 45.53125 \nQ 43.3125 49.21875 43.3125 52.78125 \nQ 43.3125 58.59375 39.234375 62.25 \nQ 35.15625 65.921875 28.609375 65.921875 \nQ 23.96875 65.921875 18.8125 64.3125 \nQ 13.671875 62.703125 7.8125 59.421875 \nL 7.8125 69.390625 \nQ 13.765625 71.78125 18.9375 73 \nQ 24.125 74.21875 28.421875 74.21875 \nQ 39.75 74.21875 46.484375 68.546875 \nQ 53.21875 62.890625 53.21875 53.421875 \nQ 53.21875 48.921875 51.53125 44.890625 \nQ 49.859375 40.875 45.40625 35.40625 \nQ 44.1875 33.984375 37.640625 27.21875 \nQ 31.109375 20.453125 19.1875 8.296875 \nz\n\" id=\"DejaVuSans-50\"/>\n       <path d=\"M 31.78125 66.40625 \nQ 24.171875 66.40625 20.328125 58.90625 \nQ 16.5 51.421875 16.5 36.375 \nQ 16.5 21.390625 20.328125 13.890625 \nQ 24.171875 6.390625 31.78125 6.390625 \nQ 39.453125 6.390625 43.28125 13.890625 \nQ 47.125 21.390625 47.125 36.375 \nQ 47.125 51.421875 43.28125 58.90625 \nQ 39.453125 66.40625 31.78125 66.40625 \nz\nM 31.78125 74.21875 \nQ 44.046875 74.21875 50.515625 64.515625 \nQ 56.984375 54.828125 56.984375 36.375 \nQ 56.984375 17.96875 50.515625 8.265625 \nQ 44.046875 -1.421875 31.78125 -1.421875 \nQ 19.53125 -1.421875 13.0625 8.265625 \nQ 6.59375 17.96875 6.59375 36.375 \nQ 6.59375 54.828125 13.0625 64.515625 \nQ 19.53125 74.21875 31.78125 74.21875 \nz\n\" id=\"DejaVuSans-48\"/>\n       <path d=\"M 10.6875 12.40625 \nL 21 12.40625 \nL 21 0 \nL 10.6875 0 \nz\n\" id=\"DejaVuSans-46\"/>\n       <path d=\"M 10.796875 72.90625 \nL 49.515625 72.90625 \nL 49.515625 64.59375 \nL 19.828125 64.59375 \nL 19.828125 46.734375 \nQ 21.96875 47.46875 24.109375 47.828125 \nQ 26.265625 48.1875 28.421875 48.1875 \nQ 40.625 48.1875 47.75 41.5 \nQ 54.890625 34.8125 54.890625 23.390625 \nQ 54.890625 11.625 47.5625 5.09375 \nQ 40.234375 -1.421875 26.90625 -1.421875 \nQ 22.3125 -1.421875 17.546875 -0.640625 \nQ 12.796875 0.140625 7.71875 1.703125 \nL 7.71875 11.625 \nQ 12.109375 9.234375 16.796875 8.0625 \nQ 21.484375 6.890625 26.703125 6.890625 \nQ 35.15625 6.890625 40.078125 11.328125 \nQ 45.015625 15.765625 45.015625 23.390625 \nQ 45.015625 31 40.078125 35.4375 \nQ 35.15625 39.890625 26.703125 39.890625 \nQ 22.75 39.890625 18.8125 39.015625 \nQ 14.890625 38.140625 10.796875 36.28125 \nz\n\" id=\"DejaVuSans-53\"/>\n      </defs>\n      <g style=\"fill:#262626;\" transform=\"translate(102.620446 565.398438)scale(0.1 -0.1)\">\n       <use xlink:href=\"#DejaVuSans-50\"/>\n       <use x=\"63.623047\" xlink:href=\"#DejaVuSans-48\"/>\n       <use x=\"127.246094\" xlink:href=\"#DejaVuSans-48\"/>\n       <use x=\"190.869141\" xlink:href=\"#DejaVuSans-50\"/>\n       <use x=\"254.492188\" xlink:href=\"#DejaVuSans-46\"/>\n       <use x=\"286.279297\" xlink:href=\"#DejaVuSans-53\"/>\n      </g>\n     </g>\n    </g>\n    <g id=\"xtick_2\">\n     <g id=\"line2d_2\">\n      <path clip-path=\"url(#p3882aa8c87)\" d=\"M 232.014154 550.8 \nL 232.014154 7.2 \n\" style=\"fill:none;stroke:#cccccc;stroke-linecap:round;stroke-width:0.8;\"/>\n     </g>\n     <g id=\"text_2\">\n      <!-- 2005.0 -->\n      <g style=\"fill:#262626;\" transform=\"translate(214.518842 565.398438)scale(0.1 -0.1)\">\n       <use xlink:href=\"#DejaVuSans-50\"/>\n       <use x=\"63.623047\" xlink:href=\"#DejaVuSans-48\"/>\n       <use x=\"127.246094\" xlink:href=\"#DejaVuSans-48\"/>\n       <use x=\"190.869141\" xlink:href=\"#DejaVuSans-53\"/>\n       <use x=\"254.492188\" xlink:href=\"#DejaVuSans-46\"/>\n       <use x=\"286.279297\" xlink:href=\"#DejaVuSans-48\"/>\n      </g>\n     </g>\n    </g>\n    <g id=\"xtick_3\">\n     <g id=\"line2d_3\">\n      <path clip-path=\"url(#p3882aa8c87)\" d=\"M 343.91255 550.8 \nL 343.91255 7.2 \n\" style=\"fill:none;stroke:#cccccc;stroke-linecap:round;stroke-width:0.8;\"/>\n     </g>\n     <g id=\"text_3\">\n      <!-- 2007.5 -->\n      <defs>\n       <path d=\"M 8.203125 72.90625 \nL 55.078125 72.90625 \nL 55.078125 68.703125 \nL 28.609375 0 \nL 18.3125 0 \nL 43.21875 64.59375 \nL 8.203125 64.59375 \nz\n\" id=\"DejaVuSans-55\"/>\n      </defs>\n      <g style=\"fill:#262626;\" transform=\"translate(326.417238 565.398438)scale(0.1 -0.1)\">\n       <use xlink:href=\"#DejaVuSans-50\"/>\n       <use x=\"63.623047\" xlink:href=\"#DejaVuSans-48\"/>\n       <use x=\"127.246094\" xlink:href=\"#DejaVuSans-48\"/>\n       <use x=\"190.869141\" xlink:href=\"#DejaVuSans-55\"/>\n       <use x=\"254.492188\" xlink:href=\"#DejaVuSans-46\"/>\n       <use x=\"286.279297\" xlink:href=\"#DejaVuSans-53\"/>\n      </g>\n     </g>\n    </g>\n    <g id=\"xtick_4\">\n     <g id=\"line2d_4\">\n      <path clip-path=\"url(#p3882aa8c87)\" d=\"M 455.810946 550.8 \nL 455.810946 7.2 \n\" style=\"fill:none;stroke:#cccccc;stroke-linecap:round;stroke-width:0.8;\"/>\n     </g>\n     <g id=\"text_4\">\n      <!-- 2010.0 -->\n      <defs>\n       <path d=\"M 12.40625 8.296875 \nL 28.515625 8.296875 \nL 28.515625 63.921875 \nL 10.984375 60.40625 \nL 10.984375 69.390625 \nL 28.421875 72.90625 \nL 38.28125 72.90625 \nL 38.28125 8.296875 \nL 54.390625 8.296875 \nL 54.390625 0 \nL 12.40625 0 \nz\n\" id=\"DejaVuSans-49\"/>\n      </defs>\n      <g style=\"fill:#262626;\" transform=\"translate(438.315633 565.398438)scale(0.1 -0.1)\">\n       <use xlink:href=\"#DejaVuSans-50\"/>\n       <use x=\"63.623047\" xlink:href=\"#DejaVuSans-48\"/>\n       <use x=\"127.246094\" xlink:href=\"#DejaVuSans-49\"/>\n       <use x=\"190.869141\" xlink:href=\"#DejaVuSans-48\"/>\n       <use x=\"254.492188\" xlink:href=\"#DejaVuSans-46\"/>\n       <use x=\"286.279297\" xlink:href=\"#DejaVuSans-48\"/>\n      </g>\n     </g>\n    </g>\n    <g id=\"xtick_5\">\n     <g id=\"line2d_5\">\n      <path clip-path=\"url(#p3882aa8c87)\" d=\"M 567.709342 550.8 \nL 567.709342 7.2 \n\" style=\"fill:none;stroke:#cccccc;stroke-linecap:round;stroke-width:0.8;\"/>\n     </g>\n     <g id=\"text_5\">\n      <!-- 2012.5 -->\n      <g style=\"fill:#262626;\" transform=\"translate(550.214029 565.398438)scale(0.1 -0.1)\">\n       <use xlink:href=\"#DejaVuSans-50\"/>\n       <use x=\"63.623047\" xlink:href=\"#DejaVuSans-48\"/>\n       <use x=\"127.246094\" xlink:href=\"#DejaVuSans-49\"/>\n       <use x=\"190.869141\" xlink:href=\"#DejaVuSans-50\"/>\n       <use x=\"254.492188\" xlink:href=\"#DejaVuSans-46\"/>\n       <use x=\"286.279297\" xlink:href=\"#DejaVuSans-53\"/>\n      </g>\n     </g>\n    </g>\n    <g id=\"xtick_6\">\n     <g id=\"line2d_6\">\n      <path clip-path=\"url(#p3882aa8c87)\" d=\"M 679.607737 550.8 \nL 679.607737 7.2 \n\" style=\"fill:none;stroke:#cccccc;stroke-linecap:round;stroke-width:0.8;\"/>\n     </g>\n     <g id=\"text_6\">\n      <!-- 2015.0 -->\n      <g style=\"fill:#262626;\" transform=\"translate(662.112425 565.398438)scale(0.1 -0.1)\">\n       <use xlink:href=\"#DejaVuSans-50\"/>\n       <use x=\"63.623047\" xlink:href=\"#DejaVuSans-48\"/>\n       <use x=\"127.246094\" xlink:href=\"#DejaVuSans-49\"/>\n       <use x=\"190.869141\" xlink:href=\"#DejaVuSans-53\"/>\n       <use x=\"254.492188\" xlink:href=\"#DejaVuSans-46\"/>\n       <use x=\"286.279297\" xlink:href=\"#DejaVuSans-48\"/>\n      </g>\n     </g>\n    </g>\n    <g id=\"xtick_7\">\n     <g id=\"line2d_7\">\n      <path clip-path=\"url(#p3882aa8c87)\" d=\"M 791.506133 550.8 \nL 791.506133 7.2 \n\" style=\"fill:none;stroke:#cccccc;stroke-linecap:round;stroke-width:0.8;\"/>\n     </g>\n     <g id=\"text_7\">\n      <!-- 2017.5 -->\n      <g style=\"fill:#262626;\" transform=\"translate(774.010821 565.398438)scale(0.1 -0.1)\">\n       <use xlink:href=\"#DejaVuSans-50\"/>\n       <use x=\"63.623047\" xlink:href=\"#DejaVuSans-48\"/>\n       <use x=\"127.246094\" xlink:href=\"#DejaVuSans-49\"/>\n       <use x=\"190.869141\" xlink:href=\"#DejaVuSans-55\"/>\n       <use x=\"254.492188\" xlink:href=\"#DejaVuSans-46\"/>\n       <use x=\"286.279297\" xlink:href=\"#DejaVuSans-53\"/>\n      </g>\n     </g>\n    </g>\n    <g id=\"text_8\">\n     <!-- yearOfRegistration -->\n     <defs>\n      <path d=\"M 32.171875 -5.078125 \nQ 28.375 -14.84375 24.75 -17.8125 \nQ 21.140625 -20.796875 15.09375 -20.796875 \nL 7.90625 -20.796875 \nL 7.90625 -13.28125 \nL 13.1875 -13.28125 \nQ 16.890625 -13.28125 18.9375 -11.515625 \nQ 21 -9.765625 23.484375 -3.21875 \nL 25.09375 0.875 \nL 2.984375 54.6875 \nL 12.5 54.6875 \nL 29.59375 11.921875 \nL 46.6875 54.6875 \nL 56.203125 54.6875 \nz\n\" id=\"DejaVuSans-121\"/>\n      <path d=\"M 56.203125 29.59375 \nL 56.203125 25.203125 \nL 14.890625 25.203125 \nQ 15.484375 15.921875 20.484375 11.0625 \nQ 25.484375 6.203125 34.421875 6.203125 \nQ 39.59375 6.203125 44.453125 7.46875 \nQ 49.3125 8.734375 54.109375 11.28125 \nL 54.109375 2.78125 \nQ 49.265625 0.734375 44.1875 -0.34375 \nQ 39.109375 -1.421875 33.890625 -1.421875 \nQ 20.796875 -1.421875 13.15625 6.1875 \nQ 5.515625 13.8125 5.515625 26.8125 \nQ 5.515625 40.234375 12.765625 48.109375 \nQ 20.015625 56 32.328125 56 \nQ 43.359375 56 49.78125 48.890625 \nQ 56.203125 41.796875 56.203125 29.59375 \nz\nM 47.21875 32.234375 \nQ 47.125 39.59375 43.09375 43.984375 \nQ 39.0625 48.390625 32.421875 48.390625 \nQ 24.90625 48.390625 20.390625 44.140625 \nQ 15.875 39.890625 15.1875 32.171875 \nz\n\" id=\"DejaVuSans-101\"/>\n      <path d=\"M 34.28125 27.484375 \nQ 23.390625 27.484375 19.1875 25 \nQ 14.984375 22.515625 14.984375 16.5 \nQ 14.984375 11.71875 18.140625 8.90625 \nQ 21.296875 6.109375 26.703125 6.109375 \nQ 34.1875 6.109375 38.703125 11.40625 \nQ 43.21875 16.703125 43.21875 25.484375 \nL 43.21875 27.484375 \nz\nM 52.203125 31.203125 \nL 52.203125 0 \nL 43.21875 0 \nL 43.21875 8.296875 \nQ 40.140625 3.328125 35.546875 0.953125 \nQ 30.953125 -1.421875 24.3125 -1.421875 \nQ 15.921875 -1.421875 10.953125 3.296875 \nQ 6 8.015625 6 15.921875 \nQ 6 25.140625 12.171875 29.828125 \nQ 18.359375 34.515625 30.609375 34.515625 \nL 43.21875 34.515625 \nL 43.21875 35.40625 \nQ 43.21875 41.609375 39.140625 45 \nQ 35.0625 48.390625 27.6875 48.390625 \nQ 23 48.390625 18.546875 47.265625 \nQ 14.109375 46.140625 10.015625 43.890625 \nL 10.015625 52.203125 \nQ 14.9375 54.109375 19.578125 55.046875 \nQ 24.21875 56 28.609375 56 \nQ 40.484375 56 46.34375 49.84375 \nQ 52.203125 43.703125 52.203125 31.203125 \nz\n\" id=\"DejaVuSans-97\"/>\n      <path d=\"M 41.109375 46.296875 \nQ 39.59375 47.171875 37.8125 47.578125 \nQ 36.03125 48 33.890625 48 \nQ 26.265625 48 22.1875 43.046875 \nQ 18.109375 38.09375 18.109375 28.8125 \nL 18.109375 0 \nL 9.078125 0 \nL 9.078125 54.6875 \nL 18.109375 54.6875 \nL 18.109375 46.1875 \nQ 20.953125 51.171875 25.484375 53.578125 \nQ 30.03125 56 36.53125 56 \nQ 37.453125 56 38.578125 55.875 \nQ 39.703125 55.765625 41.0625 55.515625 \nz\n\" id=\"DejaVuSans-114\"/>\n      <path d=\"M 39.40625 66.21875 \nQ 28.65625 66.21875 22.328125 58.203125 \nQ 16.015625 50.203125 16.015625 36.375 \nQ 16.015625 22.609375 22.328125 14.59375 \nQ 28.65625 6.59375 39.40625 6.59375 \nQ 50.140625 6.59375 56.421875 14.59375 \nQ 62.703125 22.609375 62.703125 36.375 \nQ 62.703125 50.203125 56.421875 58.203125 \nQ 50.140625 66.21875 39.40625 66.21875 \nz\nM 39.40625 74.21875 \nQ 54.734375 74.21875 63.90625 63.9375 \nQ 73.09375 53.65625 73.09375 36.375 \nQ 73.09375 19.140625 63.90625 8.859375 \nQ 54.734375 -1.421875 39.40625 -1.421875 \nQ 24.03125 -1.421875 14.8125 8.828125 \nQ 5.609375 19.09375 5.609375 36.375 \nQ 5.609375 53.65625 14.8125 63.9375 \nQ 24.03125 74.21875 39.40625 74.21875 \nz\n\" id=\"DejaVuSans-79\"/>\n      <path d=\"M 37.109375 75.984375 \nL 37.109375 68.5 \nL 28.515625 68.5 \nQ 23.6875 68.5 21.796875 66.546875 \nQ 19.921875 64.59375 19.921875 59.515625 \nL 19.921875 54.6875 \nL 34.71875 54.6875 \nL 34.71875 47.703125 \nL 19.921875 47.703125 \nL 19.921875 0 \nL 10.890625 0 \nL 10.890625 47.703125 \nL 2.296875 47.703125 \nL 2.296875 54.6875 \nL 10.890625 54.6875 \nL 10.890625 58.5 \nQ 10.890625 67.625 15.140625 71.796875 \nQ 19.390625 75.984375 28.609375 75.984375 \nz\n\" id=\"DejaVuSans-102\"/>\n      <path d=\"M 44.390625 34.1875 \nQ 47.5625 33.109375 50.5625 29.59375 \nQ 53.5625 26.078125 56.59375 19.921875 \nL 66.609375 0 \nL 56 0 \nL 46.6875 18.703125 \nQ 43.0625 26.03125 39.671875 28.421875 \nQ 36.28125 30.8125 30.421875 30.8125 \nL 19.671875 30.8125 \nL 19.671875 0 \nL 9.8125 0 \nL 9.8125 72.90625 \nL 32.078125 72.90625 \nQ 44.578125 72.90625 50.734375 67.671875 \nQ 56.890625 62.453125 56.890625 51.90625 \nQ 56.890625 45.015625 53.6875 40.46875 \nQ 50.484375 35.9375 44.390625 34.1875 \nz\nM 19.671875 64.796875 \nL 19.671875 38.921875 \nL 32.078125 38.921875 \nQ 39.203125 38.921875 42.84375 42.21875 \nQ 46.484375 45.515625 46.484375 51.90625 \nQ 46.484375 58.296875 42.84375 61.546875 \nQ 39.203125 64.796875 32.078125 64.796875 \nz\n\" id=\"DejaVuSans-82\"/>\n      <path d=\"M 45.40625 27.984375 \nQ 45.40625 37.75 41.375 43.109375 \nQ 37.359375 48.484375 30.078125 48.484375 \nQ 22.859375 48.484375 18.828125 43.109375 \nQ 14.796875 37.75 14.796875 27.984375 \nQ 14.796875 18.265625 18.828125 12.890625 \nQ 22.859375 7.515625 30.078125 7.515625 \nQ 37.359375 7.515625 41.375 12.890625 \nQ 45.40625 18.265625 45.40625 27.984375 \nz\nM 54.390625 6.78125 \nQ 54.390625 -7.171875 48.1875 -13.984375 \nQ 42 -20.796875 29.203125 -20.796875 \nQ 24.46875 -20.796875 20.265625 -20.09375 \nQ 16.0625 -19.390625 12.109375 -17.921875 \nL 12.109375 -9.1875 \nQ 16.0625 -11.328125 19.921875 -12.34375 \nQ 23.78125 -13.375 27.78125 -13.375 \nQ 36.625 -13.375 41.015625 -8.765625 \nQ 45.40625 -4.15625 45.40625 5.171875 \nL 45.40625 9.625 \nQ 42.625 4.78125 38.28125 2.390625 \nQ 33.9375 0 27.875 0 \nQ 17.828125 0 11.671875 7.65625 \nQ 5.515625 15.328125 5.515625 27.984375 \nQ 5.515625 40.671875 11.671875 48.328125 \nQ 17.828125 56 27.875 56 \nQ 33.9375 56 38.28125 53.609375 \nQ 42.625 51.21875 45.40625 46.390625 \nL 45.40625 54.6875 \nL 54.390625 54.6875 \nz\n\" id=\"DejaVuSans-103\"/>\n      <path d=\"M 9.421875 54.6875 \nL 18.40625 54.6875 \nL 18.40625 0 \nL 9.421875 0 \nz\nM 9.421875 75.984375 \nL 18.40625 75.984375 \nL 18.40625 64.59375 \nL 9.421875 64.59375 \nz\n\" id=\"DejaVuSans-105\"/>\n      <path d=\"M 44.28125 53.078125 \nL 44.28125 44.578125 \nQ 40.484375 46.53125 36.375 47.5 \nQ 32.28125 48.484375 27.875 48.484375 \nQ 21.1875 48.484375 17.84375 46.4375 \nQ 14.5 44.390625 14.5 40.28125 \nQ 14.5 37.15625 16.890625 35.375 \nQ 19.28125 33.59375 26.515625 31.984375 \nL 29.59375 31.296875 \nQ 39.15625 29.25 43.1875 25.515625 \nQ 47.21875 21.78125 47.21875 15.09375 \nQ 47.21875 7.46875 41.1875 3.015625 \nQ 35.15625 -1.421875 24.609375 -1.421875 \nQ 20.21875 -1.421875 15.453125 -0.5625 \nQ 10.6875 0.296875 5.421875 2 \nL 5.421875 11.28125 \nQ 10.40625 8.6875 15.234375 7.390625 \nQ 20.0625 6.109375 24.8125 6.109375 \nQ 31.15625 6.109375 34.5625 8.28125 \nQ 37.984375 10.453125 37.984375 14.40625 \nQ 37.984375 18.0625 35.515625 20.015625 \nQ 33.0625 21.96875 24.703125 23.78125 \nL 21.578125 24.515625 \nQ 13.234375 26.265625 9.515625 29.90625 \nQ 5.8125 33.546875 5.8125 39.890625 \nQ 5.8125 47.609375 11.28125 51.796875 \nQ 16.75 56 26.8125 56 \nQ 31.78125 56 36.171875 55.265625 \nQ 40.578125 54.546875 44.28125 53.078125 \nz\n\" id=\"DejaVuSans-115\"/>\n      <path d=\"M 18.3125 70.21875 \nL 18.3125 54.6875 \nL 36.8125 54.6875 \nL 36.8125 47.703125 \nL 18.3125 47.703125 \nL 18.3125 18.015625 \nQ 18.3125 11.328125 20.140625 9.421875 \nQ 21.96875 7.515625 27.59375 7.515625 \nL 36.8125 7.515625 \nL 36.8125 0 \nL 27.59375 0 \nQ 17.1875 0 13.234375 3.875 \nQ 9.28125 7.765625 9.28125 18.015625 \nL 9.28125 47.703125 \nL 2.6875 47.703125 \nL 2.6875 54.6875 \nL 9.28125 54.6875 \nL 9.28125 70.21875 \nz\n\" id=\"DejaVuSans-116\"/>\n      <path d=\"M 30.609375 48.390625 \nQ 23.390625 48.390625 19.1875 42.75 \nQ 14.984375 37.109375 14.984375 27.296875 \nQ 14.984375 17.484375 19.15625 11.84375 \nQ 23.34375 6.203125 30.609375 6.203125 \nQ 37.796875 6.203125 41.984375 11.859375 \nQ 46.1875 17.53125 46.1875 27.296875 \nQ 46.1875 37.015625 41.984375 42.703125 \nQ 37.796875 48.390625 30.609375 48.390625 \nz\nM 30.609375 56 \nQ 42.328125 56 49.015625 48.375 \nQ 55.71875 40.765625 55.71875 27.296875 \nQ 55.71875 13.875 49.015625 6.21875 \nQ 42.328125 -1.421875 30.609375 -1.421875 \nQ 18.84375 -1.421875 12.171875 6.21875 \nQ 5.515625 13.875 5.515625 27.296875 \nQ 5.515625 40.765625 12.171875 48.375 \nQ 18.84375 56 30.609375 56 \nz\n\" id=\"DejaVuSans-111\"/>\n      <path d=\"M 54.890625 33.015625 \nL 54.890625 0 \nL 45.90625 0 \nL 45.90625 32.71875 \nQ 45.90625 40.484375 42.875 44.328125 \nQ 39.84375 48.1875 33.796875 48.1875 \nQ 26.515625 48.1875 22.3125 43.546875 \nQ 18.109375 38.921875 18.109375 30.90625 \nL 18.109375 0 \nL 9.078125 0 \nL 9.078125 54.6875 \nL 18.109375 54.6875 \nL 18.109375 46.1875 \nQ 21.34375 51.125 25.703125 53.5625 \nQ 30.078125 56 35.796875 56 \nQ 45.21875 56 50.046875 50.171875 \nQ 54.890625 44.34375 54.890625 33.015625 \nz\n\" id=\"DejaVuSans-110\"/>\n     </defs>\n     <g style=\"fill:#262626;\" transform=\"translate(431.188281 579.076563)scale(0.1 -0.1)\">\n      <use xlink:href=\"#DejaVuSans-121\"/>\n      <use x=\"59.179688\" xlink:href=\"#DejaVuSans-101\"/>\n      <use x=\"120.703125\" xlink:href=\"#DejaVuSans-97\"/>\n      <use x=\"181.982422\" xlink:href=\"#DejaVuSans-114\"/>\n      <use x=\"223.095703\" xlink:href=\"#DejaVuSans-79\"/>\n      <use x=\"301.806641\" xlink:href=\"#DejaVuSans-102\"/>\n      <use x=\"337.011719\" xlink:href=\"#DejaVuSans-82\"/>\n      <use x=\"401.994141\" xlink:href=\"#DejaVuSans-101\"/>\n      <use x=\"463.517578\" xlink:href=\"#DejaVuSans-103\"/>\n      <use x=\"526.994141\" xlink:href=\"#DejaVuSans-105\"/>\n      <use x=\"554.777344\" xlink:href=\"#DejaVuSans-115\"/>\n      <use x=\"606.876953\" xlink:href=\"#DejaVuSans-116\"/>\n      <use x=\"646.085938\" xlink:href=\"#DejaVuSans-114\"/>\n      <use x=\"687.199219\" xlink:href=\"#DejaVuSans-97\"/>\n      <use x=\"748.478516\" xlink:href=\"#DejaVuSans-116\"/>\n      <use x=\"787.6875\" xlink:href=\"#DejaVuSans-105\"/>\n      <use x=\"815.470703\" xlink:href=\"#DejaVuSans-111\"/>\n      <use x=\"876.652344\" xlink:href=\"#DejaVuSans-110\"/>\n     </g>\n    </g>\n   </g>\n   <g id=\"matplotlib.axis_2\">\n    <g id=\"ytick_1\">\n     <g id=\"line2d_8\">\n      <path clip-path=\"url(#p3882aa8c87)\" d=\"M 59.690625 526.936129 \nL 896.690625 526.936129 \n\" style=\"fill:none;stroke:#cccccc;stroke-linecap:round;stroke-width:0.8;\"/>\n     </g>\n     <g id=\"text_9\">\n      <!-- 0 -->\n      <g style=\"fill:#262626;\" transform=\"translate(46.328125 530.735347)scale(0.1 -0.1)\">\n       <use xlink:href=\"#DejaVuSans-48\"/>\n      </g>\n     </g>\n    </g>\n    <g id=\"ytick_2\">\n     <g id=\"line2d_9\">\n      <path clip-path=\"url(#p3882aa8c87)\" d=\"M 59.690625 451.470088 \nL 896.690625 451.470088 \n\" style=\"fill:none;stroke:#cccccc;stroke-linecap:round;stroke-width:0.8;\"/>\n     </g>\n     <g id=\"text_10\">\n      <!-- 2500 -->\n      <g style=\"fill:#262626;\" transform=\"translate(27.240625 455.269307)scale(0.1 -0.1)\">\n       <use xlink:href=\"#DejaVuSans-50\"/>\n       <use x=\"63.623047\" xlink:href=\"#DejaVuSans-53\"/>\n       <use x=\"127.246094\" xlink:href=\"#DejaVuSans-48\"/>\n       <use x=\"190.869141\" xlink:href=\"#DejaVuSans-48\"/>\n      </g>\n     </g>\n    </g>\n    <g id=\"ytick_3\">\n     <g id=\"line2d_10\">\n      <path clip-path=\"url(#p3882aa8c87)\" d=\"M 59.690625 376.004048 \nL 896.690625 376.004048 \n\" style=\"fill:none;stroke:#cccccc;stroke-linecap:round;stroke-width:0.8;\"/>\n     </g>\n     <g id=\"text_11\">\n      <!-- 5000 -->\n      <g style=\"fill:#262626;\" transform=\"translate(27.240625 379.803267)scale(0.1 -0.1)\">\n       <use xlink:href=\"#DejaVuSans-53\"/>\n       <use x=\"63.623047\" xlink:href=\"#DejaVuSans-48\"/>\n       <use x=\"127.246094\" xlink:href=\"#DejaVuSans-48\"/>\n       <use x=\"190.869141\" xlink:href=\"#DejaVuSans-48\"/>\n      </g>\n     </g>\n    </g>\n    <g id=\"ytick_4\">\n     <g id=\"line2d_11\">\n      <path clip-path=\"url(#p3882aa8c87)\" d=\"M 59.690625 300.538008 \nL 896.690625 300.538008 \n\" style=\"fill:none;stroke:#cccccc;stroke-linecap:round;stroke-width:0.8;\"/>\n     </g>\n     <g id=\"text_12\">\n      <!-- 7500 -->\n      <g style=\"fill:#262626;\" transform=\"translate(27.240625 304.337227)scale(0.1 -0.1)\">\n       <use xlink:href=\"#DejaVuSans-55\"/>\n       <use x=\"63.623047\" xlink:href=\"#DejaVuSans-53\"/>\n       <use x=\"127.246094\" xlink:href=\"#DejaVuSans-48\"/>\n       <use x=\"190.869141\" xlink:href=\"#DejaVuSans-48\"/>\n      </g>\n     </g>\n    </g>\n    <g id=\"ytick_5\">\n     <g id=\"line2d_12\">\n      <path clip-path=\"url(#p3882aa8c87)\" d=\"M 59.690625 225.071968 \nL 896.690625 225.071968 \n\" style=\"fill:none;stroke:#cccccc;stroke-linecap:round;stroke-width:0.8;\"/>\n     </g>\n     <g id=\"text_13\">\n      <!-- 10000 -->\n      <g style=\"fill:#262626;\" transform=\"translate(20.878125 228.871186)scale(0.1 -0.1)\">\n       <use xlink:href=\"#DejaVuSans-49\"/>\n       <use x=\"63.623047\" xlink:href=\"#DejaVuSans-48\"/>\n       <use x=\"127.246094\" xlink:href=\"#DejaVuSans-48\"/>\n       <use x=\"190.869141\" xlink:href=\"#DejaVuSans-48\"/>\n       <use x=\"254.492188\" xlink:href=\"#DejaVuSans-48\"/>\n      </g>\n     </g>\n    </g>\n    <g id=\"ytick_6\">\n     <g id=\"line2d_13\">\n      <path clip-path=\"url(#p3882aa8c87)\" d=\"M 59.690625 149.605927 \nL 896.690625 149.605927 \n\" style=\"fill:none;stroke:#cccccc;stroke-linecap:round;stroke-width:0.8;\"/>\n     </g>\n     <g id=\"text_14\">\n      <!-- 12500 -->\n      <g style=\"fill:#262626;\" transform=\"translate(20.878125 153.405146)scale(0.1 -0.1)\">\n       <use xlink:href=\"#DejaVuSans-49\"/>\n       <use x=\"63.623047\" xlink:href=\"#DejaVuSans-50\"/>\n       <use x=\"127.246094\" xlink:href=\"#DejaVuSans-53\"/>\n       <use x=\"190.869141\" xlink:href=\"#DejaVuSans-48\"/>\n       <use x=\"254.492188\" xlink:href=\"#DejaVuSans-48\"/>\n      </g>\n     </g>\n    </g>\n    <g id=\"ytick_7\">\n     <g id=\"line2d_14\">\n      <path clip-path=\"url(#p3882aa8c87)\" d=\"M 59.690625 74.139887 \nL 896.690625 74.139887 \n\" style=\"fill:none;stroke:#cccccc;stroke-linecap:round;stroke-width:0.8;\"/>\n     </g>\n     <g id=\"text_15\">\n      <!-- 15000 -->\n      <g style=\"fill:#262626;\" transform=\"translate(20.878125 77.939106)scale(0.1 -0.1)\">\n       <use xlink:href=\"#DejaVuSans-49\"/>\n       <use x=\"63.623047\" xlink:href=\"#DejaVuSans-53\"/>\n       <use x=\"127.246094\" xlink:href=\"#DejaVuSans-48\"/>\n       <use x=\"190.869141\" xlink:href=\"#DejaVuSans-48\"/>\n       <use x=\"254.492188\" xlink:href=\"#DejaVuSans-48\"/>\n      </g>\n     </g>\n    </g>\n    <g id=\"text_16\">\n     <!-- contagem_casos -->\n     <defs>\n      <path d=\"M 48.78125 52.59375 \nL 48.78125 44.1875 \nQ 44.96875 46.296875 41.140625 47.34375 \nQ 37.3125 48.390625 33.40625 48.390625 \nQ 24.65625 48.390625 19.8125 42.84375 \nQ 14.984375 37.3125 14.984375 27.296875 \nQ 14.984375 17.28125 19.8125 11.734375 \nQ 24.65625 6.203125 33.40625 6.203125 \nQ 37.3125 6.203125 41.140625 7.25 \nQ 44.96875 8.296875 48.78125 10.40625 \nL 48.78125 2.09375 \nQ 45.015625 0.34375 40.984375 -0.53125 \nQ 36.96875 -1.421875 32.421875 -1.421875 \nQ 20.0625 -1.421875 12.78125 6.34375 \nQ 5.515625 14.109375 5.515625 27.296875 \nQ 5.515625 40.671875 12.859375 48.328125 \nQ 20.21875 56 33.015625 56 \nQ 37.15625 56 41.109375 55.140625 \nQ 45.0625 54.296875 48.78125 52.59375 \nz\n\" id=\"DejaVuSans-99\"/>\n      <path d=\"M 52 44.1875 \nQ 55.375 50.25 60.0625 53.125 \nQ 64.75 56 71.09375 56 \nQ 79.640625 56 84.28125 50.015625 \nQ 88.921875 44.046875 88.921875 33.015625 \nL 88.921875 0 \nL 79.890625 0 \nL 79.890625 32.71875 \nQ 79.890625 40.578125 77.09375 44.375 \nQ 74.3125 48.1875 68.609375 48.1875 \nQ 61.625 48.1875 57.5625 43.546875 \nQ 53.515625 38.921875 53.515625 30.90625 \nL 53.515625 0 \nL 44.484375 0 \nL 44.484375 32.71875 \nQ 44.484375 40.625 41.703125 44.40625 \nQ 38.921875 48.1875 33.109375 48.1875 \nQ 26.21875 48.1875 22.15625 43.53125 \nQ 18.109375 38.875 18.109375 30.90625 \nL 18.109375 0 \nL 9.078125 0 \nL 9.078125 54.6875 \nL 18.109375 54.6875 \nL 18.109375 46.1875 \nQ 21.1875 51.21875 25.484375 53.609375 \nQ 29.78125 56 35.6875 56 \nQ 41.65625 56 45.828125 52.96875 \nQ 50 49.953125 52 44.1875 \nz\n\" id=\"DejaVuSans-109\"/>\n      <path d=\"M 50.984375 -16.609375 \nL 50.984375 -23.578125 \nL -0.984375 -23.578125 \nL -0.984375 -16.609375 \nz\n\" id=\"DejaVuSans-95\"/>\n     </defs>\n     <g style=\"fill:#262626;\" transform=\"translate(14.520313 320.704688)rotate(-90)scale(0.1 -0.1)\">\n      <use xlink:href=\"#DejaVuSans-99\"/>\n      <use x=\"54.980469\" xlink:href=\"#DejaVuSans-111\"/>\n      <use x=\"116.162109\" xlink:href=\"#DejaVuSans-110\"/>\n      <use x=\"179.541016\" xlink:href=\"#DejaVuSans-116\"/>\n      <use x=\"218.75\" xlink:href=\"#DejaVuSans-97\"/>\n      <use x=\"280.029297\" xlink:href=\"#DejaVuSans-103\"/>\n      <use x=\"343.505859\" xlink:href=\"#DejaVuSans-101\"/>\n      <use x=\"405.029297\" xlink:href=\"#DejaVuSans-109\"/>\n      <use x=\"502.441406\" xlink:href=\"#DejaVuSans-95\"/>\n      <use x=\"552.441406\" xlink:href=\"#DejaVuSans-99\"/>\n      <use x=\"607.421875\" xlink:href=\"#DejaVuSans-97\"/>\n      <use x=\"668.701172\" xlink:href=\"#DejaVuSans-115\"/>\n      <use x=\"720.800781\" xlink:href=\"#DejaVuSans-111\"/>\n      <use x=\"781.982422\" xlink:href=\"#DejaVuSans-115\"/>\n     </g>\n    </g>\n   </g>\n   <g id=\"line2d_15\">\n    <path clip-path=\"url(#p3882aa8c87)\" d=\"M 97.73608 495.964866 \nL 142.495438 516.159578 \nL 187.254796 520.204558 \nL 232.014154 483.014893 \nL 276.773513 483.980859 \nL 321.532871 484.161977 \nL 366.292229 502.726623 \nL 411.051588 509.216702 \nL 455.810946 498.470338 \nL 500.570304 486.486331 \nL 545.329662 485.671298 \nL 590.089021 471.634614 \nL 634.848379 436.37688 \nL 679.607737 397.859013 \nL 724.367096 31.909091 \nL 769.126454 330.482933 \nL 813.885812 351.31156 \nL 858.64517 526.090909 \n\" style=\"fill:none;stroke:#1f77b4;stroke-linecap:round;stroke-width:1.5;\"/>\n   </g>\n   <g id=\"patch_3\">\n    <path d=\"M 59.690625 550.8 \nL 59.690625 7.2 \n\" style=\"fill:none;stroke:#cccccc;stroke-linecap:square;stroke-linejoin:miter;stroke-width:0.8;\"/>\n   </g>\n   <g id=\"patch_4\">\n    <path d=\"M 896.690625 550.8 \nL 896.690625 7.2 \n\" style=\"fill:none;stroke:#cccccc;stroke-linecap:square;stroke-linejoin:miter;stroke-width:0.8;\"/>\n   </g>\n   <g id=\"patch_5\">\n    <path d=\"M 59.690625 550.8 \nL 896.690625 550.8 \n\" style=\"fill:none;stroke:#cccccc;stroke-linecap:square;stroke-linejoin:miter;stroke-width:0.8;\"/>\n   </g>\n   <g id=\"patch_6\">\n    <path d=\"M 59.690625 7.2 \nL 896.690625 7.2 \n\" style=\"fill:none;stroke:#cccccc;stroke-linecap:square;stroke-linejoin:miter;stroke-width:0.8;\"/>\n   </g>\n  </g>\n </g>\n <defs>\n  <clipPath id=\"p3882aa8c87\">\n   <rect height=\"543.6\" width=\"837\" x=\"59.690625\" y=\"7.2\"/>\n  </clipPath>\n </defs>\n</svg>\n",
      "image/png": "[encoded data removed]"
     },
     "metadata": {
      "needs_background": "light"
     }
    }
   ],
   "source": [
    "plt.figure(figsize=(15,10))\n",
    "sns.lineplot(\n",
    "    x='yearOfRegistration', y = 'contagem_casos',\n",
    "    data = dados\n",
    "    .groupby('yearOfRegistration')\n",
    "    .agg(contagem_casos = ('yearOfRegistration','count'))\n",
    "    .reset_index(),\n",
    "    palette='viridis'\n",
    "    )\\\n",
    ";plt.show()\n"
   ]
  },
  {
   "cell_type": "code",
   "execution_count": 10,
   "metadata": {},
   "outputs": [
    {
     "output_type": "display_data",
     "data": {
      "application/vnd.plotly.v1+json": {
       "config": {
        "plotlyServerURL": "https://plot.ly"
       },
       "data": [
        {
         "hoverlabel": {
          "namelength": 0
         },
         "hovertemplate": "yearOfRegistration=%{x}<br>contagem_casos=%{y}",
         "legendgroup": "",
         "line": {
          "color": "#636efa",
          "dash": "solid"
         },
         "mode": "lines",
         "name": "",
         "showlegend": false,
         "type": "scatter",
         "x": [
          2002,
          2003,
          2004,
          2005,
          2006,
          2007,
          2008,
          2009,
          2010,
          2011,
          2012,
          2013,
          2014,
          2015,
          2016,
          2017,
          2018,
          2019
         ],
         "xaxis": "x",
         "y": [
          1026,
          357,
          223,
          1455,
          1423,
          1417,
          802,
          587,
          943,
          1340,
          1367,
          1832,
          3000,
          4276,
          16399,
          6508,
          5818,
          28
         ],
         "yaxis": "y"
        }
       ],
       "layout": {
        "legend": {
         "tracegroupgap": 0
        },
        "margin": {
         "t": 60
        },
        "template": {
         "data": {
          "bar": [
           {
            "error_x": {
             "color": "#2a3f5f"
            },
            "error_y": {
             "color": "#2a3f5f"
            },
            "marker": {
             "line": {
              "color": "white",
              "width": 0.5
             }
            },
            "type": "bar"
           }
          ],
          "barpolar": [
           {
            "marker": {
             "line": {
              "color": "white",
              "width": 0.5
             }
            },
            "type": "barpolar"
           }
          ],
          "carpet": [
           {
            "aaxis": {
             "endlinecolor": "#2a3f5f",
             "gridcolor": "#C8D4E3",
             "linecolor": "#C8D4E3",
             "minorgridcolor": "#C8D4E3",
             "startlinecolor": "#2a3f5f"
            },
            "baxis": {
             "endlinecolor": "#2a3f5f",
             "gridcolor": "#C8D4E3",
             "linecolor": "#C8D4E3",
             "minorgridcolor": "#C8D4E3",
             "startlinecolor": "#2a3f5f"
            },
            "type": "carpet"
           }
          ],
          "choropleth": [
           {
            "colorbar": {
             "outlinewidth": 0,
             "ticks": ""
            },
            "type": "choropleth"
           }
          ],
          "contour": [
           {
            "colorbar": {
             "outlinewidth": 0,
             "ticks": ""
            },
            "colorscale": [
             [
              0,
              "#0d0887"
             ],
             [
              0.1111111111111111,
              "#46039f"
             ],
             [
              0.2222222222222222,
              "#7201a8"
             ],
             [
              0.3333333333333333,
              "#9c179e"
             ],
             [
              0.4444444444444444,
              "#bd3786"
             ],
             [
              0.5555555555555556,
              "#d8576b"
             ],
             [
              0.6666666666666666,
              "#ed7953"
             ],
             [
              0.7777777777777778,
              "#fb9f3a"
             ],
             [
              0.8888888888888888,
              "#fdca26"
             ],
             [
              1,
              "#f0f921"
             ]
            ],
            "type": "contour"
           }
          ],
          "contourcarpet": [
           {
            "colorbar": {
             "outlinewidth": 0,
             "ticks": ""
            },
            "type": "contourcarpet"
           }
          ],
          "heatmap": [
           {
            "colorbar": {
             "outlinewidth": 0,
             "ticks": ""
            },
            "colorscale": [
             [
              0,
              "#0d0887"
             ],
             [
              0.1111111111111111,
              "#46039f"
             ],
             [
              0.2222222222222222,
              "#7201a8"
             ],
             [
              0.3333333333333333,
              "#9c179e"
             ],
             [
              0.4444444444444444,
              "#bd3786"
             ],
             [
              0.5555555555555556,
              "#d8576b"
             ],
             [
              0.6666666666666666,
              "#ed7953"
             ],
             [
              0.7777777777777778,
              "#fb9f3a"
             ],
             [
              0.8888888888888888,
              "#fdca26"
             ],
             [
              1,
              "#f0f921"
             ]
            ],
            "type": "heatmap"
           }
          ],
          "heatmapgl": [
           {
            "colorbar": {
             "outlinewidth": 0,
             "ticks": ""
            },
            "colorscale": [
             [
              0,
              "#0d0887"
             ],
             [
              0.1111111111111111,
              "#46039f"
             ],
             [
              0.2222222222222222,
              "#7201a8"
             ],
             [
              0.3333333333333333,
              "#9c179e"
             ],
             [
              0.4444444444444444,
              "#bd3786"
             ],
             [
              0.5555555555555556,
              "#d8576b"
             ],
             [
              0.6666666666666666,
              "#ed7953"
             ],
             [
              0.7777777777777778,
              "#fb9f3a"
             ],
             [
              0.8888888888888888,
              "#fdca26"
             ],
             [
              1,
              "#f0f921"
             ]
            ],
            "type": "heatmapgl"
           }
          ],
          "histogram": [
           {
            "marker": {
             "colorbar": {
              "outlinewidth": 0,
              "ticks": ""
             }
            },
            "type": "histogram"
           }
          ],
          "histogram2d": [
           {
            "colorbar": {
             "outlinewidth": 0,
             "ticks": ""
            },
            "colorscale": [
             [
              0,
              "#0d0887"
             ],
             [
              0.1111111111111111,
              "#46039f"
             ],
             [
              0.2222222222222222,
              "#7201a8"
             ],
             [
              0.3333333333333333,
              "#9c179e"
             ],
             [
              0.4444444444444444,
              "#bd3786"
             ],
             [
              0.5555555555555556,
              "#d8576b"
             ],
             [
              0.6666666666666666,
              "#ed7953"
             ],
             [
              0.7777777777777778,
              "#fb9f3a"
             ],
             [
              0.8888888888888888,
              "#fdca26"
             ],
             [
              1,
              "#f0f921"
             ]
            ],
            "type": "histogram2d"
           }
          ],
          "histogram2dcontour": [
           {
            "colorbar": {
             "outlinewidth": 0,
             "ticks": ""
            },
            "colorscale": [
             [
              0,
              "#0d0887"
             ],
             [
              0.1111111111111111,
              "#46039f"
             ],
             [
              0.2222222222222222,
              "#7201a8"
             ],
             [
              0.3333333333333333,
              "#9c179e"
             ],
             [
              0.4444444444444444,
              "#bd3786"
             ],
             [
              0.5555555555555556,
              "#d8576b"
             ],
             [
              0.6666666666666666,
              "#ed7953"
             ],
             [
              0.7777777777777778,
              "#fb9f3a"
             ],
             [
              0.8888888888888888,
              "#fdca26"
             ],
             [
              1,
              "#f0f921"
             ]
            ],
            "type": "histogram2dcontour"
           }
          ],
          "mesh3d": [
           {
            "colorbar": {
             "outlinewidth": 0,
             "ticks": ""
            },
            "type": "mesh3d"
           }
          ],
          "parcoords": [
           {
            "line": {
             "colorbar": {
              "outlinewidth": 0,
              "ticks": ""
             }
            },
            "type": "parcoords"
           }
          ],
          "pie": [
           {
            "automargin": true,
            "type": "pie"
           }
          ],
          "scatter": [
           {
            "marker": {
             "colorbar": {
              "outlinewidth": 0,
              "ticks": ""
             }
            },
            "type": "scatter"
           }
          ],
          "scatter3d": [
           {
            "line": {
             "colorbar": {
              "outlinewidth": 0,
              "ticks": ""
             }
            },
            "marker": {
             "colorbar": {
              "outlinewidth": 0,
              "ticks": ""
             }
            },
            "type": "scatter3d"
           }
          ],
          "scattercarpet": [
           {
            "marker": {
             "colorbar": {
              "outlinewidth": 0,
              "ticks": ""
             }
            },
            "type": "scattercarpet"
           }
          ],
          "scattergeo": [
           {
            "marker": {
             "colorbar": {
              "outlinewidth": 0,
              "ticks": ""
             }
            },
            "type": "scattergeo"
           }
          ],
          "scattergl": [
           {
            "marker": {
             "colorbar": {
              "outlinewidth": 0,
              "ticks": ""
             }
            },
            "type": "scattergl"
           }
          ],
          "scattermapbox": [
           {
            "marker": {
             "colorbar": {
              "outlinewidth": 0,
              "ticks": ""
             }
            },
            "type": "scattermapbox"
           }
          ],
          "scatterpolar": [
           {
            "marker": {
             "colorbar": {
              "outlinewidth": 0,
              "ticks": ""
             }
            },
            "type": "scatterpolar"
           }
          ],
          "scatterpolargl": [
           {
            "marker": {
             "colorbar": {
              "outlinewidth": 0,
              "ticks": ""
             }
            },
            "type": "scatterpolargl"
           }
          ],
          "scatterternary": [
           {
            "marker": {
             "colorbar": {
              "outlinewidth": 0,
              "ticks": ""
             }
            },
            "type": "scatterternary"
           }
          ],
          "surface": [
           {
            "colorbar": {
             "outlinewidth": 0,
             "ticks": ""
            },
            "colorscale": [
             [
              0,
              "#0d0887"
             ],
             [
              0.1111111111111111,
              "#46039f"
             ],
             [
              0.2222222222222222,
              "#7201a8"
             ],
             [
              0.3333333333333333,
              "#9c179e"
             ],
             [
              0.4444444444444444,
              "#bd3786"
             ],
             [
              0.5555555555555556,
              "#d8576b"
             ],
             [
              0.6666666666666666,
              "#ed7953"
             ],
             [
              0.7777777777777778,
              "#fb9f3a"
             ],
             [
              0.8888888888888888,
              "#fdca26"
             ],
             [
              1,
              "#f0f921"
             ]
            ],
            "type": "surface"
           }
          ],
          "table": [
           {
            "cells": {
             "fill": {
              "color": "#EBF0F8"
             },
             "line": {
              "color": "white"
             }
            },
            "header": {
             "fill": {
              "color": "#C8D4E3"
             },
             "line": {
              "color": "white"
             }
            },
            "type": "table"
           }
          ]
         },
         "layout": {
          "annotationdefaults": {
           "arrowcolor": "#2a3f5f",
           "arrowhead": 0,
           "arrowwidth": 1
          },
          "coloraxis": {
           "colorbar": {
            "outlinewidth": 0,
            "ticks": ""
           }
          },
          "colorscale": {
           "diverging": [
            [
             0,
             "#8e0152"
            ],
            [
             0.1,
             "#c51b7d"
            ],
            [
             0.2,
             "#de77ae"
            ],
            [
             0.3,
             "#f1b6da"
            ],
            [
             0.4,
             "#fde0ef"
            ],
            [
             0.5,
             "#f7f7f7"
            ],
            [
             0.6,
             "#e6f5d0"
            ],
            [
             0.7,
             "#b8e186"
            ],
            [
             0.8,
             "#7fbc41"
            ],
            [
             0.9,
             "#4d9221"
            ],
            [
             1,
             "#276419"
            ]
           ],
           "sequential": [
            [
             0,
             "#0d0887"
            ],
            [
             0.1111111111111111,
             "#46039f"
            ],
            [
             0.2222222222222222,
             "#7201a8"
            ],
            [
             0.3333333333333333,
             "#9c179e"
            ],
            [
             0.4444444444444444,
             "#bd3786"
            ],
            [
             0.5555555555555556,
             "#d8576b"
            ],
            [
             0.6666666666666666,
             "#ed7953"
            ],
            [
             0.7777777777777778,
             "#fb9f3a"
            ],
            [
             0.8888888888888888,
             "#fdca26"
            ],
            [
             1,
             "#f0f921"
            ]
           ],
           "sequentialminus": [
            [
             0,
             "#0d0887"
            ],
            [
             0.1111111111111111,
             "#46039f"
            ],
            [
             0.2222222222222222,
             "#7201a8"
            ],
            [
             0.3333333333333333,
             "#9c179e"
            ],
            [
             0.4444444444444444,
             "#bd3786"
            ],
            [
             0.5555555555555556,
             "#d8576b"
            ],
            [
             0.6666666666666666,
             "#ed7953"
            ],
            [
             0.7777777777777778,
             "#fb9f3a"
            ],
            [
             0.8888888888888888,
             "#fdca26"
            ],
            [
             1,
             "#f0f921"
            ]
           ]
          },
          "colorway": [
           "#636efa",
           "#EF553B",
           "#00cc96",
           "#ab63fa",
           "#FFA15A",
           "#19d3f3",
           "#FF6692",
           "#B6E880",
           "#FF97FF",
           "#FECB52"
          ],
          "font": {
           "color": "#2a3f5f"
          },
          "geo": {
           "bgcolor": "white",
           "lakecolor": "white",
           "landcolor": "white",
           "showlakes": true,
           "showland": true,
           "subunitcolor": "#C8D4E3"
          },
          "hoverlabel": {
           "align": "left"
          },
          "hovermode": "closest",
          "mapbox": {
           "style": "light"
          },
          "paper_bgcolor": "white",
          "plot_bgcolor": "white",
          "polar": {
           "angularaxis": {
            "gridcolor": "#EBF0F8",
            "linecolor": "#EBF0F8",
            "ticks": ""
           },
           "bgcolor": "white",
           "radialaxis": {
            "gridcolor": "#EBF0F8",
            "linecolor": "#EBF0F8",
            "ticks": ""
           }
          },
          "scene": {
           "xaxis": {
            "backgroundcolor": "white",
            "gridcolor": "#DFE8F3",
            "gridwidth": 2,
            "linecolor": "#EBF0F8",
            "showbackground": true,
            "ticks": "",
            "zerolinecolor": "#EBF0F8"
           },
           "yaxis": {
            "backgroundcolor": "white",
            "gridcolor": "#DFE8F3",
            "gridwidth": 2,
            "linecolor": "#EBF0F8",
            "showbackground": true,
            "ticks": "",
            "zerolinecolor": "#EBF0F8"
           },
           "zaxis": {
            "backgroundcolor": "white",
            "gridcolor": "#DFE8F3",
            "gridwidth": 2,
            "linecolor": "#EBF0F8",
            "showbackground": true,
            "ticks": "",
            "zerolinecolor": "#EBF0F8"
           }
          },
          "shapedefaults": {
           "line": {
            "color": "#2a3f5f"
           }
          },
          "ternary": {
           "aaxis": {
            "gridcolor": "#DFE8F3",
            "linecolor": "#A2B1C6",
            "ticks": ""
           },
           "baxis": {
            "gridcolor": "#DFE8F3",
            "linecolor": "#A2B1C6",
            "ticks": ""
           },
           "bgcolor": "white",
           "caxis": {
            "gridcolor": "#DFE8F3",
            "linecolor": "#A2B1C6",
            "ticks": ""
           }
          },
          "title": {
           "x": 0.05
          },
          "xaxis": {
           "automargin": true,
           "gridcolor": "#EBF0F8",
           "linecolor": "#EBF0F8",
           "ticks": "",
           "title": {
            "standoff": 15
           },
           "zerolinecolor": "#EBF0F8",
           "zerolinewidth": 2
          },
          "yaxis": {
           "automargin": true,
           "gridcolor": "#EBF0F8",
           "linecolor": "#EBF0F8",
           "ticks": "",
           "title": {
            "standoff": 15
           },
           "zerolinecolor": "#EBF0F8",
           "zerolinewidth": 2
          }
         }
        },
        "xaxis": {
         "anchor": "y",
         "domain": [
          0,
          1
         ],
         "title": {
          "text": "yearOfRegistration"
         }
        },
        "yaxis": {
         "anchor": "x",
         "domain": [
          0,
          1
         ],
         "title": {
          "text": "contagem_casos"
         }
        }
       }
      }
     },
     "metadata": {}
    }
   ],
   "source": [
    "fig_plotly = px.line(\n",
    "    data_frame = dados\n",
    "    .groupby('yearOfRegistration')\n",
    "    .agg(contagem_casos = ('yearOfRegistration','count'))\n",
    "    .reset_index(),\n",
    "    x='yearOfRegistration', \n",
    "    y = 'contagem_casos',\n",
    "    template = 'plotly_white'\n",
    "    )\n",
    "fig_plotly.show()"
   ]
  },
  {
   "cell_type": "markdown",
   "metadata": {},
   "source": [
    "Há um pico dos registros em 2016. Além disso, aparentemente os dados de 2019 ainda estão sendo introduzidos na base de dado, desta forma optarei pela retirada destes dados."
   ]
  },
  {
   "cell_type": "code",
   "execution_count": 13,
   "metadata": {},
   "outputs": [],
   "source": [
    "dados.query('yearOfRegistration != 2019',inplace=True)"
   ]
  },
  {
   "cell_type": "markdown",
   "metadata": {},
   "source": [
    "## Nacionalidade das pessoas exploradas e respectivos países de exploração"
   ]
  },
  {
   "cell_type": "code",
   "execution_count": 14,
   "metadata": {},
   "outputs": [
    {
     "output_type": "execute_result",
     "data": {
      "text/plain": "PH    11365\n0      8858\nUA     7761\nMD     5901\nUS     3636\nKH     1979\nID     1971\nBY     1463\nMM     1250\nRO      655\nGH      544\nKG      437\nBG      342\nHT      339\nUZ      261\nVN      170\nGW      145\nLA      126\nCO      124\nNG      108\nAF       97\nMG       94\nLK       85\nSL       81\nSN       70\nUG       70\nTH       55\nKZ       54\nCD       53\nML       45\nTJ       43\nBF       33\nKE       32\nNE       31\nCI       31\nNP       27\nTM       26\nCN       23\nAL       22\nMX       19\nBO       18\nGN       15\nER       13\nKR       12\nBD       11\nName: citizenship, dtype: int64"
     },
     "metadata": {},
     "execution_count": 14
    }
   ],
   "source": [
    "dados.get('citizenship').value_counts() # nacionalidade da pessoa explorada"
   ]
  },
  {
   "cell_type": "code",
   "execution_count": 15,
   "metadata": {},
   "outputs": [
    {
     "output_type": "execute_result",
     "data": {
      "text/plain": "US    12512\nUA     5399\nMD     4504\nRU     2738\nPH     1988\nID     1777\nKH     1000\nMY      930\n0       844\nGH      544\nAE      504\nBY      400\nTH      391\nSN      370\nBG      356\nHT      339\nPL      326\nSA      278\nRO      259\nRS      248\nQA      239\nKZ      222\nKW      209\nTR      197\nMK      194\nUZ      193\nBA      127\nUG      123\nJP      111\nJO      108\nOM       94\nMG       94\nTT       85\nAF       83\nSL       81\nCN       79\nLB       73\nTJ       54\nIN       46\nSY       41\nCZ       38\nSG       37\nZA       36\nTW       33\nHK       31\nTM       26\nBD       26\nIT       24\nAT       24\nAL       22\nBH       22\nMU       20\nAR       18\nDK       17\nVN       16\nEC       13\nEG       13\nLY       11\nCY       11\nName: CountryOfExploitation, dtype: int64"
     },
     "metadata": {},
     "execution_count": 15
    }
   ],
   "source": [
    "dados.get('CountryOfExploitation').value_counts() # pais de exploracao"
   ]
  },
  {
   "cell_type": "markdown",
   "metadata": {},
   "source": [
    "Tanto no país de exploração como na nacionalidade há o código 0, sendo que este não corresponde a nenhum dos códigos da ISO 3166-1 e não há referência deste no dicionário, acredito que também correspondam a informações ausentes, sendo assim, optarei posteriormente na anáĺise via mapa pela retirada destas observações. "
   ]
  },
  {
   "cell_type": "markdown",
   "metadata": {},
   "source": [
    "## Perfil sociodemográfico"
   ]
  },
  {
   "cell_type": "code",
   "execution_count": 17,
   "metadata": {},
   "outputs": [
    {
     "output_type": "execute_result",
     "data": {
      "text/plain": "Female    72.798475\nMale      27.201525\nName: gender, dtype: float64"
     },
     "metadata": {},
     "execution_count": 17
    }
   ],
   "source": [
    "dados.get('gender').value_counts(dropna = False)/dados.shape[0]*100"
   ]
  },
  {
   "cell_type": "code",
   "execution_count": 26,
   "metadata": {},
   "outputs": [
    {
     "output_type": "display_data",
     "data": {
      "application/vnd.plotly.v1+json": {
       "config": {
        "plotlyServerURL": "https://plot.ly"
       },
       "data": [
        {
         "domain": {
          "x": [
           0,
           1
          ],
          "y": [
           0,
           1
          ]
         },
         "hole": 0.6,
         "hoverlabel": {
          "namelength": 0
         },
         "hovertemplate": "gender=%{label}<br>count=%{value}",
         "labels": [
          "Female",
          "Male"
         ],
         "legendgroup": "",
         "name": "",
         "showlegend": true,
         "type": "pie",
         "values": [
          35506,
          13267
         ]
        }
       ],
       "layout": {
        "legend": {
         "tracegroupgap": 0
        },
        "margin": {
         "t": 60
        },
        "template": {
         "data": {
          "bar": [
           {
            "error_x": {
             "color": "#2a3f5f"
            },
            "error_y": {
             "color": "#2a3f5f"
            },
            "marker": {
             "line": {
              "color": "#E5ECF6",
              "width": 0.5
             }
            },
            "type": "bar"
           }
          ],
          "barpolar": [
           {
            "marker": {
             "line": {
              "color": "#E5ECF6",
              "width": 0.5
             }
            },
            "type": "barpolar"
           }
          ],
          "carpet": [
           {
            "aaxis": {
             "endlinecolor": "#2a3f5f",
             "gridcolor": "white",
             "linecolor": "white",
             "minorgridcolor": "white",
             "startlinecolor": "#2a3f5f"
            },
            "baxis": {
             "endlinecolor": "#2a3f5f",
             "gridcolor": "white",
             "linecolor": "white",
             "minorgridcolor": "white",
             "startlinecolor": "#2a3f5f"
            },
            "type": "carpet"
           }
          ],
          "choropleth": [
           {
            "colorbar": {
             "outlinewidth": 0,
             "ticks": ""
            },
            "type": "choropleth"
           }
          ],
          "contour": [
           {
            "colorbar": {
             "outlinewidth": 0,
             "ticks": ""
            },
            "colorscale": [
             [
              0,
              "#0d0887"
             ],
             [
              0.1111111111111111,
              "#46039f"
             ],
             [
              0.2222222222222222,
              "#7201a8"
             ],
             [
              0.3333333333333333,
              "#9c179e"
             ],
             [
              0.4444444444444444,
              "#bd3786"
             ],
             [
              0.5555555555555556,
              "#d8576b"
             ],
             [
              0.6666666666666666,
              "#ed7953"
             ],
             [
              0.7777777777777778,
              "#fb9f3a"
             ],
             [
              0.8888888888888888,
              "#fdca26"
             ],
             [
              1,
              "#f0f921"
             ]
            ],
            "type": "contour"
           }
          ],
          "contourcarpet": [
           {
            "colorbar": {
             "outlinewidth": 0,
             "ticks": ""
            },
            "type": "contourcarpet"
           }
          ],
          "heatmap": [
           {
            "colorbar": {
             "outlinewidth": 0,
             "ticks": ""
            },
            "colorscale": [
             [
              0,
              "#0d0887"
             ],
             [
              0.1111111111111111,
              "#46039f"
             ],
             [
              0.2222222222222222,
              "#7201a8"
             ],
             [
              0.3333333333333333,
              "#9c179e"
             ],
             [
              0.4444444444444444,
              "#bd3786"
             ],
             [
              0.5555555555555556,
              "#d8576b"
             ],
             [
              0.6666666666666666,
              "#ed7953"
             ],
             [
              0.7777777777777778,
              "#fb9f3a"
             ],
             [
              0.8888888888888888,
              "#fdca26"
             ],
             [
              1,
              "#f0f921"
             ]
            ],
            "type": "heatmap"
           }
          ],
          "heatmapgl": [
           {
            "colorbar": {
             "outlinewidth": 0,
             "ticks": ""
            },
            "colorscale": [
             [
              0,
              "#0d0887"
             ],
             [
              0.1111111111111111,
              "#46039f"
             ],
             [
              0.2222222222222222,
              "#7201a8"
             ],
             [
              0.3333333333333333,
              "#9c179e"
             ],
             [
              0.4444444444444444,
              "#bd3786"
             ],
             [
              0.5555555555555556,
              "#d8576b"
             ],
             [
              0.6666666666666666,
              "#ed7953"
             ],
             [
              0.7777777777777778,
              "#fb9f3a"
             ],
             [
              0.8888888888888888,
              "#fdca26"
             ],
             [
              1,
              "#f0f921"
             ]
            ],
            "type": "heatmapgl"
           }
          ],
          "histogram": [
           {
            "marker": {
             "colorbar": {
              "outlinewidth": 0,
              "ticks": ""
             }
            },
            "type": "histogram"
           }
          ],
          "histogram2d": [
           {
            "colorbar": {
             "outlinewidth": 0,
             "ticks": ""
            },
            "colorscale": [
             [
              0,
              "#0d0887"
             ],
             [
              0.1111111111111111,
              "#46039f"
             ],
             [
              0.2222222222222222,
              "#7201a8"
             ],
             [
              0.3333333333333333,
              "#9c179e"
             ],
             [
              0.4444444444444444,
              "#bd3786"
             ],
             [
              0.5555555555555556,
              "#d8576b"
             ],
             [
              0.6666666666666666,
              "#ed7953"
             ],
             [
              0.7777777777777778,
              "#fb9f3a"
             ],
             [
              0.8888888888888888,
              "#fdca26"
             ],
             [
              1,
              "#f0f921"
             ]
            ],
            "type": "histogram2d"
           }
          ],
          "histogram2dcontour": [
           {
            "colorbar": {
             "outlinewidth": 0,
             "ticks": ""
            },
            "colorscale": [
             [
              0,
              "#0d0887"
             ],
             [
              0.1111111111111111,
              "#46039f"
             ],
             [
              0.2222222222222222,
              "#7201a8"
             ],
             [
              0.3333333333333333,
              "#9c179e"
             ],
             [
              0.4444444444444444,
              "#bd3786"
             ],
             [
              0.5555555555555556,
              "#d8576b"
             ],
             [
              0.6666666666666666,
              "#ed7953"
             ],
             [
              0.7777777777777778,
              "#fb9f3a"
             ],
             [
              0.8888888888888888,
              "#fdca26"
             ],
             [
              1,
              "#f0f921"
             ]
            ],
            "type": "histogram2dcontour"
           }
          ],
          "mesh3d": [
           {
            "colorbar": {
             "outlinewidth": 0,
             "ticks": ""
            },
            "type": "mesh3d"
           }
          ],
          "parcoords": [
           {
            "line": {
             "colorbar": {
              "outlinewidth": 0,
              "ticks": ""
             }
            },
            "type": "parcoords"
           }
          ],
          "pie": [
           {
            "automargin": true,
            "type": "pie"
           }
          ],
          "scatter": [
           {
            "marker": {
             "colorbar": {
              "outlinewidth": 0,
              "ticks": ""
             }
            },
            "type": "scatter"
           }
          ],
          "scatter3d": [
           {
            "line": {
             "colorbar": {
              "outlinewidth": 0,
              "ticks": ""
             }
            },
            "marker": {
             "colorbar": {
              "outlinewidth": 0,
              "ticks": ""
             }
            },
            "type": "scatter3d"
           }
          ],
          "scattercarpet": [
           {
            "marker": {
             "colorbar": {
              "outlinewidth": 0,
              "ticks": ""
             }
            },
            "type": "scattercarpet"
           }
          ],
          "scattergeo": [
           {
            "marker": {
             "colorbar": {
              "outlinewidth": 0,
              "ticks": ""
             }
            },
            "type": "scattergeo"
           }
          ],
          "scattergl": [
           {
            "marker": {
             "colorbar": {
              "outlinewidth": 0,
              "ticks": ""
             }
            },
            "type": "scattergl"
           }
          ],
          "scattermapbox": [
           {
            "marker": {
             "colorbar": {
              "outlinewidth": 0,
              "ticks": ""
             }
            },
            "type": "scattermapbox"
           }
          ],
          "scatterpolar": [
           {
            "marker": {
             "colorbar": {
              "outlinewidth": 0,
              "ticks": ""
             }
            },
            "type": "scatterpolar"
           }
          ],
          "scatterpolargl": [
           {
            "marker": {
             "colorbar": {
              "outlinewidth": 0,
              "ticks": ""
             }
            },
            "type": "scatterpolargl"
           }
          ],
          "scatterternary": [
           {
            "marker": {
             "colorbar": {
              "outlinewidth": 0,
              "ticks": ""
             }
            },
            "type": "scatterternary"
           }
          ],
          "surface": [
           {
            "colorbar": {
             "outlinewidth": 0,
             "ticks": ""
            },
            "colorscale": [
             [
              0,
              "#0d0887"
             ],
             [
              0.1111111111111111,
              "#46039f"
             ],
             [
              0.2222222222222222,
              "#7201a8"
             ],
             [
              0.3333333333333333,
              "#9c179e"
             ],
             [
              0.4444444444444444,
              "#bd3786"
             ],
             [
              0.5555555555555556,
              "#d8576b"
             ],
             [
              0.6666666666666666,
              "#ed7953"
             ],
             [
              0.7777777777777778,
              "#fb9f3a"
             ],
             [
              0.8888888888888888,
              "#fdca26"
             ],
             [
              1,
              "#f0f921"
             ]
            ],
            "type": "surface"
           }
          ],
          "table": [
           {
            "cells": {
             "fill": {
              "color": "#EBF0F8"
             },
             "line": {
              "color": "white"
             }
            },
            "header": {
             "fill": {
              "color": "#C8D4E3"
             },
             "line": {
              "color": "white"
             }
            },
            "type": "table"
           }
          ]
         },
         "layout": {
          "annotationdefaults": {
           "arrowcolor": "#2a3f5f",
           "arrowhead": 0,
           "arrowwidth": 1
          },
          "coloraxis": {
           "colorbar": {
            "outlinewidth": 0,
            "ticks": ""
           }
          },
          "colorscale": {
           "diverging": [
            [
             0,
             "#8e0152"
            ],
            [
             0.1,
             "#c51b7d"
            ],
            [
             0.2,
             "#de77ae"
            ],
            [
             0.3,
             "#f1b6da"
            ],
            [
             0.4,
             "#fde0ef"
            ],
            [
             0.5,
             "#f7f7f7"
            ],
            [
             0.6,
             "#e6f5d0"
            ],
            [
             0.7,
             "#b8e186"
            ],
            [
             0.8,
             "#7fbc41"
            ],
            [
             0.9,
             "#4d9221"
            ],
            [
             1,
             "#276419"
            ]
           ],
           "sequential": [
            [
             0,
             "#0d0887"
            ],
            [
             0.1111111111111111,
             "#46039f"
            ],
            [
             0.2222222222222222,
             "#7201a8"
            ],
            [
             0.3333333333333333,
             "#9c179e"
            ],
            [
             0.4444444444444444,
             "#bd3786"
            ],
            [
             0.5555555555555556,
             "#d8576b"
            ],
            [
             0.6666666666666666,
             "#ed7953"
            ],
            [
             0.7777777777777778,
             "#fb9f3a"
            ],
            [
             0.8888888888888888,
             "#fdca26"
            ],
            [
             1,
             "#f0f921"
            ]
           ],
           "sequentialminus": [
            [
             0,
             "#0d0887"
            ],
            [
             0.1111111111111111,
             "#46039f"
            ],
            [
             0.2222222222222222,
             "#7201a8"
            ],
            [
             0.3333333333333333,
             "#9c179e"
            ],
            [
             0.4444444444444444,
             "#bd3786"
            ],
            [
             0.5555555555555556,
             "#d8576b"
            ],
            [
             0.6666666666666666,
             "#ed7953"
            ],
            [
             0.7777777777777778,
             "#fb9f3a"
            ],
            [
             0.8888888888888888,
             "#fdca26"
            ],
            [
             1,
             "#f0f921"
            ]
           ]
          },
          "colorway": [
           "#636efa",
           "#EF553B",
           "#00cc96",
           "#ab63fa",
           "#FFA15A",
           "#19d3f3",
           "#FF6692",
           "#B6E880",
           "#FF97FF",
           "#FECB52"
          ],
          "font": {
           "color": "#2a3f5f"
          },
          "geo": {
           "bgcolor": "white",
           "lakecolor": "white",
           "landcolor": "#E5ECF6",
           "showlakes": true,
           "showland": true,
           "subunitcolor": "white"
          },
          "hoverlabel": {
           "align": "left"
          },
          "hovermode": "closest",
          "mapbox": {
           "style": "light"
          },
          "paper_bgcolor": "white",
          "plot_bgcolor": "#E5ECF6",
          "polar": {
           "angularaxis": {
            "gridcolor": "white",
            "linecolor": "white",
            "ticks": ""
           },
           "bgcolor": "#E5ECF6",
           "radialaxis": {
            "gridcolor": "white",
            "linecolor": "white",
            "ticks": ""
           }
          },
          "scene": {
           "xaxis": {
            "backgroundcolor": "#E5ECF6",
            "gridcolor": "white",
            "gridwidth": 2,
            "linecolor": "white",
            "showbackground": true,
            "ticks": "",
            "zerolinecolor": "white"
           },
           "yaxis": {
            "backgroundcolor": "#E5ECF6",
            "gridcolor": "white",
            "gridwidth": 2,
            "linecolor": "white",
            "showbackground": true,
            "ticks": "",
            "zerolinecolor": "white"
           },
           "zaxis": {
            "backgroundcolor": "#E5ECF6",
            "gridcolor": "white",
            "gridwidth": 2,
            "linecolor": "white",
            "showbackground": true,
            "ticks": "",
            "zerolinecolor": "white"
           }
          },
          "shapedefaults": {
           "line": {
            "color": "#2a3f5f"
           }
          },
          "ternary": {
           "aaxis": {
            "gridcolor": "white",
            "linecolor": "white",
            "ticks": ""
           },
           "baxis": {
            "gridcolor": "white",
            "linecolor": "white",
            "ticks": ""
           },
           "bgcolor": "#E5ECF6",
           "caxis": {
            "gridcolor": "white",
            "linecolor": "white",
            "ticks": ""
           }
          },
          "title": {
           "x": 0.05
          },
          "xaxis": {
           "automargin": true,
           "gridcolor": "white",
           "linecolor": "white",
           "ticks": "",
           "title": {
            "standoff": 15
           },
           "zerolinecolor": "white",
           "zerolinewidth": 2
          },
          "yaxis": {
           "automargin": true,
           "gridcolor": "white",
           "linecolor": "white",
           "ticks": "",
           "title": {
            "standoff": 15
           },
           "zerolinecolor": "white",
           "zerolinewidth": 2
          }
         }
        }
       }
      }
     },
     "metadata": {}
    }
   ],
   "source": [
    "fig = px.pie(\n",
    "    pd.DataFrame(dados.get('gender').value_counts(dropna = False)).reset_index().rename(columns = {'index':'gender','gender':'count'}),\n",
    "    values='count',\n",
    "    names='gender',\n",
    "    hole= 0.6)\n",
    "fig.show()"
   ]
  },
  {
   "cell_type": "code",
   "execution_count": 28,
   "metadata": {},
   "outputs": [
    {
     "output_type": "execute_result",
     "data": {
      "text/plain": "    index   ageBroad\n9    0--8   3.190290\n1   9--17  17.724971\n3  18--20   9.119800\n4  21--23   8.637976\n5  24--26   7.102290\n7  27--29   5.414881\n2  30--38  14.510077\n6  39--47   5.783938\n8     48+   3.198491\n0     NaN  25.317286",
      "text/html": "<div>\n<style scoped>\n    .dataframe tbody tr th:only-of-type {\n        vertical-align: middle;\n    }\n\n    .dataframe tbody tr th {\n        vertical-align: top;\n    }\n\n    .dataframe thead th {\n        text-align: right;\n    }\n</style>\n<table border=\"1\" class=\"dataframe\">\n  <thead>\n    <tr style=\"text-align: right;\">\n      <th></th>\n      <th>index</th>\n      <th>ageBroad</th>\n    </tr>\n  </thead>\n  <tbody>\n    <tr>\n      <th>9</th>\n      <td>0--8</td>\n      <td>3.190290</td>\n    </tr>\n    <tr>\n      <th>1</th>\n      <td>9--17</td>\n      <td>17.724971</td>\n    </tr>\n    <tr>\n      <th>3</th>\n      <td>18--20</td>\n      <td>9.119800</td>\n    </tr>\n    <tr>\n      <th>4</th>\n      <td>21--23</td>\n      <td>8.637976</td>\n    </tr>\n    <tr>\n      <th>5</th>\n      <td>24--26</td>\n      <td>7.102290</td>\n    </tr>\n    <tr>\n      <th>7</th>\n      <td>27--29</td>\n      <td>5.414881</td>\n    </tr>\n    <tr>\n      <th>2</th>\n      <td>30--38</td>\n      <td>14.510077</td>\n    </tr>\n    <tr>\n      <th>6</th>\n      <td>39--47</td>\n      <td>5.783938</td>\n    </tr>\n    <tr>\n      <th>8</th>\n      <td>48+</td>\n      <td>3.198491</td>\n    </tr>\n    <tr>\n      <th>0</th>\n      <td>NaN</td>\n      <td>25.317286</td>\n    </tr>\n  </tbody>\n</table>\n</div>"
     },
     "metadata": {},
     "execution_count": 28
    }
   ],
   "source": [
    "# definindo as categorias de ageBroad para ficarem ordenadas em tabelas e graficos\n",
    "levels_ageBroad = pd.CategoricalDtype(\n",
    "    categories = ['0--8','9--17','18--20','21--23','24--26','27--29','30--38','39--47', '48+'],\n",
    "    ordered = True\n",
    "    )\n",
    "\n",
    "dados['ageBroad'] = dados['ageBroad'].astype(levels_ageBroad)\n",
    "(\n",
    "(dados\n",
    ".get('ageBroad')\n",
    ".value_counts(dropna = False)/dados.shape[0]*100).reset_index().sort_values(by = 'index')\n",
    ")"
   ]
  },
  {
   "cell_type": "code",
   "execution_count": 29,
   "metadata": {},
   "outputs": [
    {
     "output_type": "display_data",
     "data": {
      "application/vnd.plotly.v1+json": {
       "config": {
        "plotlyServerURL": "https://plot.ly"
       },
       "data": [
        {
         "alignmentgroup": "True",
         "hoverlabel": {
          "namelength": 0
         },
         "hovertemplate": "index=%{x}<br>ageBroad=%{y}",
         "legendgroup": "",
         "marker": {
          "color": "#636efa"
         },
         "name": "",
         "offsetgroup": "",
         "orientation": "v",
         "showlegend": false,
         "textposition": "auto",
         "type": "bar",
         "x": [
          "0--8",
          "9--17",
          "18--20",
          "21--23",
          "24--26",
          "27--29",
          "30--38",
          "39--47",
          "48+"
         ],
         "xaxis": "x",
         "y": [
          3.1902897094704037,
          17.72497078301519,
          9.119799889283005,
          8.63797592930515,
          7.102290201545937,
          5.414881184261784,
          14.510077296865068,
          5.783937834457589,
          3.198490968363644
         ],
         "yaxis": "y"
        }
       ],
       "layout": {
        "barmode": "relative",
        "legend": {
         "tracegroupgap": 0
        },
        "margin": {
         "t": 60
        },
        "template": {
         "data": {
          "bar": [
           {
            "error_x": {
             "color": "#2a3f5f"
            },
            "error_y": {
             "color": "#2a3f5f"
            },
            "marker": {
             "line": {
              "color": "white",
              "width": 0.5
             }
            },
            "type": "bar"
           }
          ],
          "barpolar": [
           {
            "marker": {
             "line": {
              "color": "white",
              "width": 0.5
             }
            },
            "type": "barpolar"
           }
          ],
          "carpet": [
           {
            "aaxis": {
             "endlinecolor": "#2a3f5f",
             "gridcolor": "#C8D4E3",
             "linecolor": "#C8D4E3",
             "minorgridcolor": "#C8D4E3",
             "startlinecolor": "#2a3f5f"
            },
            "baxis": {
             "endlinecolor": "#2a3f5f",
             "gridcolor": "#C8D4E3",
             "linecolor": "#C8D4E3",
             "minorgridcolor": "#C8D4E3",
             "startlinecolor": "#2a3f5f"
            },
            "type": "carpet"
           }
          ],
          "choropleth": [
           {
            "colorbar": {
             "outlinewidth": 0,
             "ticks": ""
            },
            "type": "choropleth"
           }
          ],
          "contour": [
           {
            "colorbar": {
             "outlinewidth": 0,
             "ticks": ""
            },
            "colorscale": [
             [
              0,
              "#0d0887"
             ],
             [
              0.1111111111111111,
              "#46039f"
             ],
             [
              0.2222222222222222,
              "#7201a8"
             ],
             [
              0.3333333333333333,
              "#9c179e"
             ],
             [
              0.4444444444444444,
              "#bd3786"
             ],
             [
              0.5555555555555556,
              "#d8576b"
             ],
             [
              0.6666666666666666,
              "#ed7953"
             ],
             [
              0.7777777777777778,
              "#fb9f3a"
             ],
             [
              0.8888888888888888,
              "#fdca26"
             ],
             [
              1,
              "#f0f921"
             ]
            ],
            "type": "contour"
           }
          ],
          "contourcarpet": [
           {
            "colorbar": {
             "outlinewidth": 0,
             "ticks": ""
            },
            "type": "contourcarpet"
           }
          ],
          "heatmap": [
           {
            "colorbar": {
             "outlinewidth": 0,
             "ticks": ""
            },
            "colorscale": [
             [
              0,
              "#0d0887"
             ],
             [
              0.1111111111111111,
              "#46039f"
             ],
             [
              0.2222222222222222,
              "#7201a8"
             ],
             [
              0.3333333333333333,
              "#9c179e"
             ],
             [
              0.4444444444444444,
              "#bd3786"
             ],
             [
              0.5555555555555556,
              "#d8576b"
             ],
             [
              0.6666666666666666,
              "#ed7953"
             ],
             [
              0.7777777777777778,
              "#fb9f3a"
             ],
             [
              0.8888888888888888,
              "#fdca26"
             ],
             [
              1,
              "#f0f921"
             ]
            ],
            "type": "heatmap"
           }
          ],
          "heatmapgl": [
           {
            "colorbar": {
             "outlinewidth": 0,
             "ticks": ""
            },
            "colorscale": [
             [
              0,
              "#0d0887"
             ],
             [
              0.1111111111111111,
              "#46039f"
             ],
             [
              0.2222222222222222,
              "#7201a8"
             ],
             [
              0.3333333333333333,
              "#9c179e"
             ],
             [
              0.4444444444444444,
              "#bd3786"
             ],
             [
              0.5555555555555556,
              "#d8576b"
             ],
             [
              0.6666666666666666,
              "#ed7953"
             ],
             [
              0.7777777777777778,
              "#fb9f3a"
             ],
             [
              0.8888888888888888,
              "#fdca26"
             ],
             [
              1,
              "#f0f921"
             ]
            ],
            "type": "heatmapgl"
           }
          ],
          "histogram": [
           {
            "marker": {
             "colorbar": {
              "outlinewidth": 0,
              "ticks": ""
             }
            },
            "type": "histogram"
           }
          ],
          "histogram2d": [
           {
            "colorbar": {
             "outlinewidth": 0,
             "ticks": ""
            },
            "colorscale": [
             [
              0,
              "#0d0887"
             ],
             [
              0.1111111111111111,
              "#46039f"
             ],
             [
              0.2222222222222222,
              "#7201a8"
             ],
             [
              0.3333333333333333,
              "#9c179e"
             ],
             [
              0.4444444444444444,
              "#bd3786"
             ],
             [
              0.5555555555555556,
              "#d8576b"
             ],
             [
              0.6666666666666666,
              "#ed7953"
             ],
             [
              0.7777777777777778,
              "#fb9f3a"
             ],
             [
              0.8888888888888888,
              "#fdca26"
             ],
             [
              1,
              "#f0f921"
             ]
            ],
            "type": "histogram2d"
           }
          ],
          "histogram2dcontour": [
           {
            "colorbar": {
             "outlinewidth": 0,
             "ticks": ""
            },
            "colorscale": [
             [
              0,
              "#0d0887"
             ],
             [
              0.1111111111111111,
              "#46039f"
             ],
             [
              0.2222222222222222,
              "#7201a8"
             ],
             [
              0.3333333333333333,
              "#9c179e"
             ],
             [
              0.4444444444444444,
              "#bd3786"
             ],
             [
              0.5555555555555556,
              "#d8576b"
             ],
             [
              0.6666666666666666,
              "#ed7953"
             ],
             [
              0.7777777777777778,
              "#fb9f3a"
             ],
             [
              0.8888888888888888,
              "#fdca26"
             ],
             [
              1,
              "#f0f921"
             ]
            ],
            "type": "histogram2dcontour"
           }
          ],
          "mesh3d": [
           {
            "colorbar": {
             "outlinewidth": 0,
             "ticks": ""
            },
            "type": "mesh3d"
           }
          ],
          "parcoords": [
           {
            "line": {
             "colorbar": {
              "outlinewidth": 0,
              "ticks": ""
             }
            },
            "type": "parcoords"
           }
          ],
          "pie": [
           {
            "automargin": true,
            "type": "pie"
           }
          ],
          "scatter": [
           {
            "marker": {
             "colorbar": {
              "outlinewidth": 0,
              "ticks": ""
             }
            },
            "type": "scatter"
           }
          ],
          "scatter3d": [
           {
            "line": {
             "colorbar": {
              "outlinewidth": 0,
              "ticks": ""
             }
            },
            "marker": {
             "colorbar": {
              "outlinewidth": 0,
              "ticks": ""
             }
            },
            "type": "scatter3d"
           }
          ],
          "scattercarpet": [
           {
            "marker": {
             "colorbar": {
              "outlinewidth": 0,
              "ticks": ""
             }
            },
            "type": "scattercarpet"
           }
          ],
          "scattergeo": [
           {
            "marker": {
             "colorbar": {
              "outlinewidth": 0,
              "ticks": ""
             }
            },
            "type": "scattergeo"
           }
          ],
          "scattergl": [
           {
            "marker": {
             "colorbar": {
              "outlinewidth": 0,
              "ticks": ""
             }
            },
            "type": "scattergl"
           }
          ],
          "scattermapbox": [
           {
            "marker": {
             "colorbar": {
              "outlinewidth": 0,
              "ticks": ""
             }
            },
            "type": "scattermapbox"
           }
          ],
          "scatterpolar": [
           {
            "marker": {
             "colorbar": {
              "outlinewidth": 0,
              "ticks": ""
             }
            },
            "type": "scatterpolar"
           }
          ],
          "scatterpolargl": [
           {
            "marker": {
             "colorbar": {
              "outlinewidth": 0,
              "ticks": ""
             }
            },
            "type": "scatterpolargl"
           }
          ],
          "scatterternary": [
           {
            "marker": {
             "colorbar": {
              "outlinewidth": 0,
              "ticks": ""
             }
            },
            "type": "scatterternary"
           }
          ],
          "surface": [
           {
            "colorbar": {
             "outlinewidth": 0,
             "ticks": ""
            },
            "colorscale": [
             [
              0,
              "#0d0887"
             ],
             [
              0.1111111111111111,
              "#46039f"
             ],
             [
              0.2222222222222222,
              "#7201a8"
             ],
             [
              0.3333333333333333,
              "#9c179e"
             ],
             [
              0.4444444444444444,
              "#bd3786"
             ],
             [
              0.5555555555555556,
              "#d8576b"
             ],
             [
              0.6666666666666666,
              "#ed7953"
             ],
             [
              0.7777777777777778,
              "#fb9f3a"
             ],
             [
              0.8888888888888888,
              "#fdca26"
             ],
             [
              1,
              "#f0f921"
             ]
            ],
            "type": "surface"
           }
          ],
          "table": [
           {
            "cells": {
             "fill": {
              "color": "#EBF0F8"
             },
             "line": {
              "color": "white"
             }
            },
            "header": {
             "fill": {
              "color": "#C8D4E3"
             },
             "line": {
              "color": "white"
             }
            },
            "type": "table"
           }
          ]
         },
         "layout": {
          "annotationdefaults": {
           "arrowcolor": "#2a3f5f",
           "arrowhead": 0,
           "arrowwidth": 1
          },
          "coloraxis": {
           "colorbar": {
            "outlinewidth": 0,
            "ticks": ""
           }
          },
          "colorscale": {
           "diverging": [
            [
             0,
             "#8e0152"
            ],
            [
             0.1,
             "#c51b7d"
            ],
            [
             0.2,
             "#de77ae"
            ],
            [
             0.3,
             "#f1b6da"
            ],
            [
             0.4,
             "#fde0ef"
            ],
            [
             0.5,
             "#f7f7f7"
            ],
            [
             0.6,
             "#e6f5d0"
            ],
            [
             0.7,
             "#b8e186"
            ],
            [
             0.8,
             "#7fbc41"
            ],
            [
             0.9,
             "#4d9221"
            ],
            [
             1,
             "#276419"
            ]
           ],
           "sequential": [
            [
             0,
             "#0d0887"
            ],
            [
             0.1111111111111111,
             "#46039f"
            ],
            [
             0.2222222222222222,
             "#7201a8"
            ],
            [
             0.3333333333333333,
             "#9c179e"
            ],
            [
             0.4444444444444444,
             "#bd3786"
            ],
            [
             0.5555555555555556,
             "#d8576b"
            ],
            [
             0.6666666666666666,
             "#ed7953"
            ],
            [
             0.7777777777777778,
             "#fb9f3a"
            ],
            [
             0.8888888888888888,
             "#fdca26"
            ],
            [
             1,
             "#f0f921"
            ]
           ],
           "sequentialminus": [
            [
             0,
             "#0d0887"
            ],
            [
             0.1111111111111111,
             "#46039f"
            ],
            [
             0.2222222222222222,
             "#7201a8"
            ],
            [
             0.3333333333333333,
             "#9c179e"
            ],
            [
             0.4444444444444444,
             "#bd3786"
            ],
            [
             0.5555555555555556,
             "#d8576b"
            ],
            [
             0.6666666666666666,
             "#ed7953"
            ],
            [
             0.7777777777777778,
             "#fb9f3a"
            ],
            [
             0.8888888888888888,
             "#fdca26"
            ],
            [
             1,
             "#f0f921"
            ]
           ]
          },
          "colorway": [
           "#636efa",
           "#EF553B",
           "#00cc96",
           "#ab63fa",
           "#FFA15A",
           "#19d3f3",
           "#FF6692",
           "#B6E880",
           "#FF97FF",
           "#FECB52"
          ],
          "font": {
           "color": "#2a3f5f"
          },
          "geo": {
           "bgcolor": "white",
           "lakecolor": "white",
           "landcolor": "white",
           "showlakes": true,
           "showland": true,
           "subunitcolor": "#C8D4E3"
          },
          "hoverlabel": {
           "align": "left"
          },
          "hovermode": "closest",
          "mapbox": {
           "style": "light"
          },
          "paper_bgcolor": "white",
          "plot_bgcolor": "white",
          "polar": {
           "angularaxis": {
            "gridcolor": "#EBF0F8",
            "linecolor": "#EBF0F8",
            "ticks": ""
           },
           "bgcolor": "white",
           "radialaxis": {
            "gridcolor": "#EBF0F8",
            "linecolor": "#EBF0F8",
            "ticks": ""
           }
          },
          "scene": {
           "xaxis": {
            "backgroundcolor": "white",
            "gridcolor": "#DFE8F3",
            "gridwidth": 2,
            "linecolor": "#EBF0F8",
            "showbackground": true,
            "ticks": "",
            "zerolinecolor": "#EBF0F8"
           },
           "yaxis": {
            "backgroundcolor": "white",
            "gridcolor": "#DFE8F3",
            "gridwidth": 2,
            "linecolor": "#EBF0F8",
            "showbackground": true,
            "ticks": "",
            "zerolinecolor": "#EBF0F8"
           },
           "zaxis": {
            "backgroundcolor": "white",
            "gridcolor": "#DFE8F3",
            "gridwidth": 2,
            "linecolor": "#EBF0F8",
            "showbackground": true,
            "ticks": "",
            "zerolinecolor": "#EBF0F8"
           }
          },
          "shapedefaults": {
           "line": {
            "color": "#2a3f5f"
           }
          },
          "ternary": {
           "aaxis": {
            "gridcolor": "#DFE8F3",
            "linecolor": "#A2B1C6",
            "ticks": ""
           },
           "baxis": {
            "gridcolor": "#DFE8F3",
            "linecolor": "#A2B1C6",
            "ticks": ""
           },
           "bgcolor": "white",
           "caxis": {
            "gridcolor": "#DFE8F3",
            "linecolor": "#A2B1C6",
            "ticks": ""
           }
          },
          "title": {
           "x": 0.05
          },
          "xaxis": {
           "automargin": true,
           "gridcolor": "#EBF0F8",
           "linecolor": "#EBF0F8",
           "ticks": "",
           "title": {
            "standoff": 15
           },
           "zerolinecolor": "#EBF0F8",
           "zerolinewidth": 2
          },
          "yaxis": {
           "automargin": true,
           "gridcolor": "#EBF0F8",
           "linecolor": "#EBF0F8",
           "ticks": "",
           "title": {
            "standoff": 15
           },
           "zerolinecolor": "#EBF0F8",
           "zerolinewidth": 2
          }
         }
        },
        "title": {
         "text": "Faixa etária"
        },
        "xaxis": {
         "anchor": "y",
         "domain": [
          0,
          1
         ],
         "title": {
          "text": "Age"
         }
        },
        "yaxis": {
         "anchor": "x",
         "domain": [
          0,
          1
         ],
         "title": {
          "text": "%"
         }
        }
       }
      }
     },
     "metadata": {}
    }
   ],
   "source": [
    "fig_plotly = px.bar(\n",
    "    (dados.get('ageBroad').value_counts()/dados.shape[0]*100).reset_index().sort_values(by = 'index'),\n",
    "    x = 'index',\n",
    "    y = 'ageBroad',\n",
    "    template='plotly_white'\n",
    ")\n",
    "fig_plotly.update_layout(\n",
    "    title = \"Faixa etária\",\n",
    "    xaxis_title = \"Age\",\n",
    "    yaxis_title = \"%\"\n",
    "    )\n",
    "fig_plotly.show()"
   ]
  },
  {
   "cell_type": "code",
   "execution_count": 30,
   "metadata": {},
   "outputs": [
    {
     "output_type": "execute_result",
     "data": {
      "text/plain": "Adult    26224\nNaN      12348\nMinor    10201\nName: majorityStatus, dtype: int64"
     },
     "metadata": {},
     "execution_count": 30
    }
   ],
   "source": [
    "# status maioridade: Indica se o indivíduo tinha menos de 18 no momento em que foi registrado \n",
    "dados.get('majorityStatus').value_counts(dropna = False)"
   ]
  },
  {
   "cell_type": "code",
   "execution_count": 31,
   "metadata": {},
   "outputs": [
    {
     "output_type": "execute_result",
     "data": {
      "text/plain": "NaN      39511\nMinor     7040\nAdult     2222\nName: majorityStatusAtExploit, dtype: int64"
     },
     "metadata": {},
     "execution_count": 31
    }
   ],
   "source": [
    "# status maioridade na exploracao: A idade do indivíduo na época que a exploração do indivíduo começou\n",
    "dados.get('majorityStatusAtExploit').value_counts(dropna = False)"
   ]
  },
  {
   "cell_type": "markdown",
   "metadata": {},
   "source": [
    "## Meios de controle"
   ]
  },
  {
   "cell_type": "code",
   "execution_count": 32,
   "metadata": {},
   "outputs": [
    {
     "output_type": "execute_result",
     "data": {
      "text/plain": "    index                        Meio de controle  Porcentagem\n0     0.0               meansOfControlDebtBondage     0.024337\n1     1.0               meansOfControlDebtBondage     0.026265\n2     NaN               meansOfControlDebtBondage     0.949398\n3     0.0             meansOfControlTakesEarnings     0.024460\n4     1.0             meansOfControlTakesEarnings     0.056917\n5     NaN             meansOfControlTakesEarnings     0.918623\n6     0.0  meansOfControlRestrictsFinancialAccess     0.002235\n7     1.0  meansOfControlRestrictsFinancialAccess     0.002378\n8     NaN  meansOfControlRestrictsFinancialAccess     0.995387\n9     0.0                   meansOfControlThreats     0.023866\n10    1.0                   meansOfControlThreats     0.081439\n11    NaN                   meansOfControlThreats     0.894696\n12    0.0        meansOfControlPsychologicalAbuse     0.024255\n13    1.0        meansOfControlPsychologicalAbuse     0.099338\n14    NaN        meansOfControlPsychologicalAbuse     0.876407\n15    0.0             meansOfControlPhysicalAbuse     0.024378\n16    1.0             meansOfControlPhysicalAbuse     0.074467\n17    NaN             meansOfControlPhysicalAbuse     0.901154\n18    0.0               meansOfControlSexualAbuse     0.024583\n19    1.0               meansOfControlSexualAbuse     0.032682\n20    NaN               meansOfControlSexualAbuse     0.942735\n21    0.0             meansOfControlFalsePromises     0.021651\n22    1.0             meansOfControlFalsePromises     0.056507\n23    NaN             meansOfControlFalsePromises     0.921842\n24    0.0    meansOfControlPsychoactiveSubstances     0.024583\n25    1.0    meansOfControlPsychoactiveSubstances     0.046788\n26    NaN    meansOfControlPsychoactiveSubstances     0.928629\n27    0.0         meansOfControlRestrictsMovement     0.024132\n28    1.0         meansOfControlRestrictsMovement     0.090521\n29    NaN         meansOfControlRestrictsMovement     0.885346\n30    0.0      meansOfControlRestrictsMedicalCare     0.024358\n31    1.0      meansOfControlRestrictsMedicalCare     0.026306\n32    NaN      meansOfControlRestrictsMedicalCare     0.949337\n33    0.0     meansOfControlExcessiveWorkingHours     0.023210\n34    1.0     meansOfControlExcessiveWorkingHours     0.044225\n35    NaN     meansOfControlExcessiveWorkingHours     0.932565\n36    0.0              meansOfControlUsesChildren     0.000636\n37    1.0              meansOfControlUsesChildren     0.002460\n38    NaN              meansOfControlUsesChildren     0.996904\n39    0.0    meansOfControlThreatOfLawEnforcement     0.024624\n40    1.0    meansOfControlThreatOfLawEnforcement     0.015972\n41    NaN    meansOfControlThreatOfLawEnforcement     0.959404\n42    0.0      meansOfControlWithholdsNecessities     0.024337\n43    1.0      meansOfControlWithholdsNecessities     0.028069\n44    NaN      meansOfControlWithholdsNecessities     0.947594\n45    0.0        meansOfControlWithholdsDocuments     0.023989\n46    1.0        meansOfControlWithholdsDocuments     0.042565\n47    NaN        meansOfControlWithholdsDocuments     0.933447\n48    0.0                     meansOfControlOther     0.024583\n49    1.0                     meansOfControlOther     0.038402\n50    NaN                     meansOfControlOther     0.937014\n51    0.0              meansOfControlNotSpecified     0.209891\n52    1.0              meansOfControlNotSpecified     0.545220\n53    NaN              meansOfControlNotSpecified     0.244890",
      "text/html": "<div>\n<style scoped>\n    .dataframe tbody tr th:only-of-type {\n        vertical-align: middle;\n    }\n\n    .dataframe tbody tr th {\n        vertical-align: top;\n    }\n\n    .dataframe thead th {\n        text-align: right;\n    }\n</style>\n<table border=\"1\" class=\"dataframe\">\n  <thead>\n    <tr style=\"text-align: right;\">\n      <th></th>\n      <th>index</th>\n      <th>Meio de controle</th>\n      <th>Porcentagem</th>\n    </tr>\n  </thead>\n  <tbody>\n    <tr>\n      <th>0</th>\n      <td>0.0</td>\n      <td>meansOfControlDebtBondage</td>\n      <td>0.024337</td>\n    </tr>\n    <tr>\n      <th>1</th>\n      <td>1.0</td>\n      <td>meansOfControlDebtBondage</td>\n      <td>0.026265</td>\n    </tr>\n    <tr>\n      <th>2</th>\n      <td>NaN</td>\n      <td>meansOfControlDebtBondage</td>\n      <td>0.949398</td>\n    </tr>\n    <tr>\n      <th>3</th>\n      <td>0.0</td>\n      <td>meansOfControlTakesEarnings</td>\n      <td>0.024460</td>\n    </tr>\n    <tr>\n      <th>4</th>\n      <td>1.0</td>\n      <td>meansOfControlTakesEarnings</td>\n      <td>0.056917</td>\n    </tr>\n    <tr>\n      <th>5</th>\n      <td>NaN</td>\n      <td>meansOfControlTakesEarnings</td>\n      <td>0.918623</td>\n    </tr>\n    <tr>\n      <th>6</th>\n      <td>0.0</td>\n      <td>meansOfControlRestrictsFinancialAccess</td>\n      <td>0.002235</td>\n    </tr>\n    <tr>\n      <th>7</th>\n      <td>1.0</td>\n      <td>meansOfControlRestrictsFinancialAccess</td>\n      <td>0.002378</td>\n    </tr>\n    <tr>\n      <th>8</th>\n      <td>NaN</td>\n      <td>meansOfControlRestrictsFinancialAccess</td>\n      <td>0.995387</td>\n    </tr>\n    <tr>\n      <th>9</th>\n      <td>0.0</td>\n      <td>meansOfControlThreats</td>\n      <td>0.023866</td>\n    </tr>\n    <tr>\n      <th>10</th>\n      <td>1.0</td>\n      <td>meansOfControlThreats</td>\n      <td>0.081439</td>\n    </tr>\n    <tr>\n      <th>11</th>\n      <td>NaN</td>\n      <td>meansOfControlThreats</td>\n      <td>0.894696</td>\n    </tr>\n    <tr>\n      <th>12</th>\n      <td>0.0</td>\n      <td>meansOfControlPsychologicalAbuse</td>\n      <td>0.024255</td>\n    </tr>\n    <tr>\n      <th>13</th>\n      <td>1.0</td>\n      <td>meansOfControlPsychologicalAbuse</td>\n      <td>0.099338</td>\n    </tr>\n    <tr>\n      <th>14</th>\n      <td>NaN</td>\n      <td>meansOfControlPsychologicalAbuse</td>\n      <td>0.876407</td>\n    </tr>\n    <tr>\n      <th>15</th>\n      <td>0.0</td>\n      <td>meansOfControlPhysicalAbuse</td>\n      <td>0.024378</td>\n    </tr>\n    <tr>\n      <th>16</th>\n      <td>1.0</td>\n      <td>meansOfControlPhysicalAbuse</td>\n      <td>0.074467</td>\n    </tr>\n    <tr>\n      <th>17</th>\n      <td>NaN</td>\n      <td>meansOfControlPhysicalAbuse</td>\n      <td>0.901154</td>\n    </tr>\n    <tr>\n      <th>18</th>\n      <td>0.0</td>\n      <td>meansOfControlSexualAbuse</td>\n      <td>0.024583</td>\n    </tr>\n    <tr>\n      <th>19</th>\n      <td>1.0</td>\n      <td>meansOfControlSexualAbuse</td>\n      <td>0.032682</td>\n    </tr>\n    <tr>\n      <th>20</th>\n      <td>NaN</td>\n      <td>meansOfControlSexualAbuse</td>\n      <td>0.942735</td>\n    </tr>\n    <tr>\n      <th>21</th>\n      <td>0.0</td>\n      <td>meansOfControlFalsePromises</td>\n      <td>0.021651</td>\n    </tr>\n    <tr>\n      <th>22</th>\n      <td>1.0</td>\n      <td>meansOfControlFalsePromises</td>\n      <td>0.056507</td>\n    </tr>\n    <tr>\n      <th>23</th>\n      <td>NaN</td>\n      <td>meansOfControlFalsePromises</td>\n      <td>0.921842</td>\n    </tr>\n    <tr>\n      <th>24</th>\n      <td>0.0</td>\n      <td>meansOfControlPsychoactiveSubstances</td>\n      <td>0.024583</td>\n    </tr>\n    <tr>\n      <th>25</th>\n      <td>1.0</td>\n      <td>meansOfControlPsychoactiveSubstances</td>\n      <td>0.046788</td>\n    </tr>\n    <tr>\n      <th>26</th>\n      <td>NaN</td>\n      <td>meansOfControlPsychoactiveSubstances</td>\n      <td>0.928629</td>\n    </tr>\n    <tr>\n      <th>27</th>\n      <td>0.0</td>\n      <td>meansOfControlRestrictsMovement</td>\n      <td>0.024132</td>\n    </tr>\n    <tr>\n      <th>28</th>\n      <td>1.0</td>\n      <td>meansOfControlRestrictsMovement</td>\n      <td>0.090521</td>\n    </tr>\n    <tr>\n      <th>29</th>\n      <td>NaN</td>\n      <td>meansOfControlRestrictsMovement</td>\n      <td>0.885346</td>\n    </tr>\n    <tr>\n      <th>30</th>\n      <td>0.0</td>\n      <td>meansOfControlRestrictsMedicalCare</td>\n      <td>0.024358</td>\n    </tr>\n    <tr>\n      <th>31</th>\n      <td>1.0</td>\n      <td>meansOfControlRestrictsMedicalCare</td>\n      <td>0.026306</td>\n    </tr>\n    <tr>\n      <th>32</th>\n      <td>NaN</td>\n      <td>meansOfControlRestrictsMedicalCare</td>\n      <td>0.949337</td>\n    </tr>\n    <tr>\n      <th>33</th>\n      <td>0.0</td>\n      <td>meansOfControlExcessiveWorkingHours</td>\n      <td>0.023210</td>\n    </tr>\n    <tr>\n      <th>34</th>\n      <td>1.0</td>\n      <td>meansOfControlExcessiveWorkingHours</td>\n      <td>0.044225</td>\n    </tr>\n    <tr>\n      <th>35</th>\n      <td>NaN</td>\n      <td>meansOfControlExcessiveWorkingHours</td>\n      <td>0.932565</td>\n    </tr>\n    <tr>\n      <th>36</th>\n      <td>0.0</td>\n      <td>meansOfControlUsesChildren</td>\n      <td>0.000636</td>\n    </tr>\n    <tr>\n      <th>37</th>\n      <td>1.0</td>\n      <td>meansOfControlUsesChildren</td>\n      <td>0.002460</td>\n    </tr>\n    <tr>\n      <th>38</th>\n      <td>NaN</td>\n      <td>meansOfControlUsesChildren</td>\n      <td>0.996904</td>\n    </tr>\n    <tr>\n      <th>39</th>\n      <td>0.0</td>\n      <td>meansOfControlThreatOfLawEnforcement</td>\n      <td>0.024624</td>\n    </tr>\n    <tr>\n      <th>40</th>\n      <td>1.0</td>\n      <td>meansOfControlThreatOfLawEnforcement</td>\n      <td>0.015972</td>\n    </tr>\n    <tr>\n      <th>41</th>\n      <td>NaN</td>\n      <td>meansOfControlThreatOfLawEnforcement</td>\n      <td>0.959404</td>\n    </tr>\n    <tr>\n      <th>42</th>\n      <td>0.0</td>\n      <td>meansOfControlWithholdsNecessities</td>\n      <td>0.024337</td>\n    </tr>\n    <tr>\n      <th>43</th>\n      <td>1.0</td>\n      <td>meansOfControlWithholdsNecessities</td>\n      <td>0.028069</td>\n    </tr>\n    <tr>\n      <th>44</th>\n      <td>NaN</td>\n      <td>meansOfControlWithholdsNecessities</td>\n      <td>0.947594</td>\n    </tr>\n    <tr>\n      <th>45</th>\n      <td>0.0</td>\n      <td>meansOfControlWithholdsDocuments</td>\n      <td>0.023989</td>\n    </tr>\n    <tr>\n      <th>46</th>\n      <td>1.0</td>\n      <td>meansOfControlWithholdsDocuments</td>\n      <td>0.042565</td>\n    </tr>\n    <tr>\n      <th>47</th>\n      <td>NaN</td>\n      <td>meansOfControlWithholdsDocuments</td>\n      <td>0.933447</td>\n    </tr>\n    <tr>\n      <th>48</th>\n      <td>0.0</td>\n      <td>meansOfControlOther</td>\n      <td>0.024583</td>\n    </tr>\n    <tr>\n      <th>49</th>\n      <td>1.0</td>\n      <td>meansOfControlOther</td>\n      <td>0.038402</td>\n    </tr>\n    <tr>\n      <th>50</th>\n      <td>NaN</td>\n      <td>meansOfControlOther</td>\n      <td>0.937014</td>\n    </tr>\n    <tr>\n      <th>51</th>\n      <td>0.0</td>\n      <td>meansOfControlNotSpecified</td>\n      <td>0.209891</td>\n    </tr>\n    <tr>\n      <th>52</th>\n      <td>1.0</td>\n      <td>meansOfControlNotSpecified</td>\n      <td>0.545220</td>\n    </tr>\n    <tr>\n      <th>53</th>\n      <td>NaN</td>\n      <td>meansOfControlNotSpecified</td>\n      <td>0.244890</td>\n    </tr>\n  </tbody>\n</table>\n</div>"
     },
     "metadata": {},
     "execution_count": 32
    }
   ],
   "source": [
    "# meansOfControlConcatenated simplesmente concatena os demais meios\n",
    "dados.drop(columns = 'meansOfControlConcatenated',inplace = True)\n",
    "means = (\n",
    "    dados.\n",
    "    get(\n",
    "        dados.columns[dados.columns.str.startswith('means')]\n",
    "        )\n",
    "        .apply(lambda coluna: coluna.value_counts(dropna = False)/dados.shape[0])\n",
    ").reset_index()\n",
    "means = means.melt(\n",
    "    value_vars = dados.columns[dados.columns.str.startswith('means')],\n",
    "    id_vars=['index'],\n",
    "    value_name = 'Porcentagem',\n",
    "    var_name = 'Meio de controle'\n",
    ")\n",
    "means"
   ]
  },
  {
   "cell_type": "code",
   "execution_count": 33,
   "metadata": {},
   "outputs": [
    {
     "output_type": "execute_result",
     "data": {
      "text/plain": "    index                        Meio de controle  Porcentagem\n53    NaN              meansOfControlNotSpecified     0.244890\n14    NaN        meansOfControlPsychologicalAbuse     0.876407\n29    NaN         meansOfControlRestrictsMovement     0.885346\n11    NaN                   meansOfControlThreats     0.894696\n17    NaN             meansOfControlPhysicalAbuse     0.901154\n5     NaN             meansOfControlTakesEarnings     0.918623\n23    NaN             meansOfControlFalsePromises     0.921842\n26    NaN    meansOfControlPsychoactiveSubstances     0.928629\n35    NaN     meansOfControlExcessiveWorkingHours     0.932565\n47    NaN        meansOfControlWithholdsDocuments     0.933447\n50    NaN                     meansOfControlOther     0.937014\n20    NaN               meansOfControlSexualAbuse     0.942735\n44    NaN      meansOfControlWithholdsNecessities     0.947594\n32    NaN      meansOfControlRestrictsMedicalCare     0.949337\n2     NaN               meansOfControlDebtBondage     0.949398\n41    NaN    meansOfControlThreatOfLawEnforcement     0.959404\n8     NaN  meansOfControlRestrictsFinancialAccess     0.995387\n38    NaN              meansOfControlUsesChildren     0.996904",
      "text/html": "<div>\n<style scoped>\n    .dataframe tbody tr th:only-of-type {\n        vertical-align: middle;\n    }\n\n    .dataframe tbody tr th {\n        vertical-align: top;\n    }\n\n    .dataframe thead th {\n        text-align: right;\n    }\n</style>\n<table border=\"1\" class=\"dataframe\">\n  <thead>\n    <tr style=\"text-align: right;\">\n      <th></th>\n      <th>index</th>\n      <th>Meio de controle</th>\n      <th>Porcentagem</th>\n    </tr>\n  </thead>\n  <tbody>\n    <tr>\n      <th>53</th>\n      <td>NaN</td>\n      <td>meansOfControlNotSpecified</td>\n      <td>0.244890</td>\n    </tr>\n    <tr>\n      <th>14</th>\n      <td>NaN</td>\n      <td>meansOfControlPsychologicalAbuse</td>\n      <td>0.876407</td>\n    </tr>\n    <tr>\n      <th>29</th>\n      <td>NaN</td>\n      <td>meansOfControlRestrictsMovement</td>\n      <td>0.885346</td>\n    </tr>\n    <tr>\n      <th>11</th>\n      <td>NaN</td>\n      <td>meansOfControlThreats</td>\n      <td>0.894696</td>\n    </tr>\n    <tr>\n      <th>17</th>\n      <td>NaN</td>\n      <td>meansOfControlPhysicalAbuse</td>\n      <td>0.901154</td>\n    </tr>\n    <tr>\n      <th>5</th>\n      <td>NaN</td>\n      <td>meansOfControlTakesEarnings</td>\n      <td>0.918623</td>\n    </tr>\n    <tr>\n      <th>23</th>\n      <td>NaN</td>\n      <td>meansOfControlFalsePromises</td>\n      <td>0.921842</td>\n    </tr>\n    <tr>\n      <th>26</th>\n      <td>NaN</td>\n      <td>meansOfControlPsychoactiveSubstances</td>\n      <td>0.928629</td>\n    </tr>\n    <tr>\n      <th>35</th>\n      <td>NaN</td>\n      <td>meansOfControlExcessiveWorkingHours</td>\n      <td>0.932565</td>\n    </tr>\n    <tr>\n      <th>47</th>\n      <td>NaN</td>\n      <td>meansOfControlWithholdsDocuments</td>\n      <td>0.933447</td>\n    </tr>\n    <tr>\n      <th>50</th>\n      <td>NaN</td>\n      <td>meansOfControlOther</td>\n      <td>0.937014</td>\n    </tr>\n    <tr>\n      <th>20</th>\n      <td>NaN</td>\n      <td>meansOfControlSexualAbuse</td>\n      <td>0.942735</td>\n    </tr>\n    <tr>\n      <th>44</th>\n      <td>NaN</td>\n      <td>meansOfControlWithholdsNecessities</td>\n      <td>0.947594</td>\n    </tr>\n    <tr>\n      <th>32</th>\n      <td>NaN</td>\n      <td>meansOfControlRestrictsMedicalCare</td>\n      <td>0.949337</td>\n    </tr>\n    <tr>\n      <th>2</th>\n      <td>NaN</td>\n      <td>meansOfControlDebtBondage</td>\n      <td>0.949398</td>\n    </tr>\n    <tr>\n      <th>41</th>\n      <td>NaN</td>\n      <td>meansOfControlThreatOfLawEnforcement</td>\n      <td>0.959404</td>\n    </tr>\n    <tr>\n      <th>8</th>\n      <td>NaN</td>\n      <td>meansOfControlRestrictsFinancialAccess</td>\n      <td>0.995387</td>\n    </tr>\n    <tr>\n      <th>38</th>\n      <td>NaN</td>\n      <td>meansOfControlUsesChildren</td>\n      <td>0.996904</td>\n    </tr>\n  </tbody>\n</table>\n</div>"
     },
     "metadata": {},
     "execution_count": 33
    }
   ],
   "source": [
    "means.query('index!=index').sort_values(by = 'Porcentagem')"
   ]
  },
  {
   "cell_type": "markdown",
   "metadata": {},
   "source": [
    "Com exceção de ControlNotSpecified todos os demais meios de controle apresentam no minimo 87% de NaN."
   ]
  },
  {
   "cell_type": "markdown",
   "metadata": {},
   "source": [
    "### Investigando alguns meios de controle especificos ao longo do tempo"
   ]
  },
  {
   "cell_type": "code",
   "execution_count": 34,
   "metadata": {},
   "outputs": [
    {
     "output_type": "execute_result",
     "data": {
      "text/plain": "meansOfControlThreats  0.0  1.0  missing\nyearOfRegistration                      \n2002                     0    0     1026\n2003                     0    0      357\n2004                     0    0      223\n2005                     0    1     1454\n2006                     0    1     1422\n2007                     0    4     1413\n2008                     0  111      691\n2009                     0  166      421\n2010                     0  197      746\n2011                     0    5     1335\n2012                     0   16     1351\n2013                     0  172     1660\n2014                     0  136     2864\n2015                     0  589     3687\n2016                     0  855    15544\n2017                   202  897     5409\n2018                   962  822     4034",
      "text/html": "<div>\n<style scoped>\n    .dataframe tbody tr th:only-of-type {\n        vertical-align: middle;\n    }\n\n    .dataframe tbody tr th {\n        vertical-align: top;\n    }\n\n    .dataframe thead th {\n        text-align: right;\n    }\n</style>\n<table border=\"1\" class=\"dataframe\">\n  <thead>\n    <tr style=\"text-align: right;\">\n      <th>meansOfControlThreats</th>\n      <th>0.0</th>\n      <th>1.0</th>\n      <th>missing</th>\n    </tr>\n    <tr>\n      <th>yearOfRegistration</th>\n      <th></th>\n      <th></th>\n      <th></th>\n    </tr>\n  </thead>\n  <tbody>\n    <tr>\n      <th>2002</th>\n      <td>0</td>\n      <td>0</td>\n      <td>1026</td>\n    </tr>\n    <tr>\n      <th>2003</th>\n      <td>0</td>\n      <td>0</td>\n      <td>357</td>\n    </tr>\n    <tr>\n      <th>2004</th>\n      <td>0</td>\n      <td>0</td>\n      <td>223</td>\n    </tr>\n    <tr>\n      <th>2005</th>\n      <td>0</td>\n      <td>1</td>\n      <td>1454</td>\n    </tr>\n    <tr>\n      <th>2006</th>\n      <td>0</td>\n      <td>1</td>\n      <td>1422</td>\n    </tr>\n    <tr>\n      <th>2007</th>\n      <td>0</td>\n      <td>4</td>\n      <td>1413</td>\n    </tr>\n    <tr>\n      <th>2008</th>\n      <td>0</td>\n      <td>111</td>\n      <td>691</td>\n    </tr>\n    <tr>\n      <th>2009</th>\n      <td>0</td>\n      <td>166</td>\n      <td>421</td>\n    </tr>\n    <tr>\n      <th>2010</th>\n      <td>0</td>\n      <td>197</td>\n      <td>746</td>\n    </tr>\n    <tr>\n      <th>2011</th>\n      <td>0</td>\n      <td>5</td>\n      <td>1335</td>\n    </tr>\n    <tr>\n      <th>2012</th>\n      <td>0</td>\n      <td>16</td>\n      <td>1351</td>\n    </tr>\n    <tr>\n      <th>2013</th>\n      <td>0</td>\n      <td>172</td>\n      <td>1660</td>\n    </tr>\n    <tr>\n      <th>2014</th>\n      <td>0</td>\n      <td>136</td>\n      <td>2864</td>\n    </tr>\n    <tr>\n      <th>2015</th>\n      <td>0</td>\n      <td>589</td>\n      <td>3687</td>\n    </tr>\n    <tr>\n      <th>2016</th>\n      <td>0</td>\n      <td>855</td>\n      <td>15544</td>\n    </tr>\n    <tr>\n      <th>2017</th>\n      <td>202</td>\n      <td>897</td>\n      <td>5409</td>\n    </tr>\n    <tr>\n      <th>2018</th>\n      <td>962</td>\n      <td>822</td>\n      <td>4034</td>\n    </tr>\n  </tbody>\n</table>\n</div>"
     },
     "metadata": {},
     "execution_count": 34
    }
   ],
   "source": [
    "# controle por ameacas\n",
    "pd.crosstab(\n",
    "    index = dados.get('yearOfRegistration'),\n",
    "    columns= dados.get('meansOfControlThreats').fillna('missing')\n",
    ")\n"
   ]
  },
  {
   "cell_type": "code",
   "execution_count": 35,
   "metadata": {},
   "outputs": [
    {
     "output_type": "execute_result",
     "data": {
      "text/plain": "meansOfControlPhysicalAbuse  0.0  1.0  missing\nyearOfRegistration                            \n2002                           0    0     1026\n2003                           0    0      357\n2004                           0    0      223\n2005                           0    1     1454\n2006                           0    1     1422\n2007                           0    4     1413\n2008                           0  112      690\n2009                           1  168      418\n2010                           5  143      795\n2011                           0    4     1336\n2012                           0  129     1238\n2013                           0  156     1676\n2014                           0  111     2889\n2015                           0  613     3663\n2016                           0  683    15716\n2017                         205  727     5576\n2018                         978  780     4060",
      "text/html": "<div>\n<style scoped>\n    .dataframe tbody tr th:only-of-type {\n        vertical-align: middle;\n    }\n\n    .dataframe tbody tr th {\n        vertical-align: top;\n    }\n\n    .dataframe thead th {\n        text-align: right;\n    }\n</style>\n<table border=\"1\" class=\"dataframe\">\n  <thead>\n    <tr style=\"text-align: right;\">\n      <th>meansOfControlPhysicalAbuse</th>\n      <th>0.0</th>\n      <th>1.0</th>\n      <th>missing</th>\n    </tr>\n    <tr>\n      <th>yearOfRegistration</th>\n      <th></th>\n      <th></th>\n      <th></th>\n    </tr>\n  </thead>\n  <tbody>\n    <tr>\n      <th>2002</th>\n      <td>0</td>\n      <td>0</td>\n      <td>1026</td>\n    </tr>\n    <tr>\n      <th>2003</th>\n      <td>0</td>\n      <td>0</td>\n      <td>357</td>\n    </tr>\n    <tr>\n      <th>2004</th>\n      <td>0</td>\n      <td>0</td>\n      <td>223</td>\n    </tr>\n    <tr>\n      <th>2005</th>\n      <td>0</td>\n      <td>1</td>\n      <td>1454</td>\n    </tr>\n    <tr>\n      <th>2006</th>\n      <td>0</td>\n      <td>1</td>\n      <td>1422</td>\n    </tr>\n    <tr>\n      <th>2007</th>\n      <td>0</td>\n      <td>4</td>\n      <td>1413</td>\n    </tr>\n    <tr>\n      <th>2008</th>\n      <td>0</td>\n      <td>112</td>\n      <td>690</td>\n    </tr>\n    <tr>\n      <th>2009</th>\n      <td>1</td>\n      <td>168</td>\n      <td>418</td>\n    </tr>\n    <tr>\n      <th>2010</th>\n      <td>5</td>\n      <td>143</td>\n      <td>795</td>\n    </tr>\n    <tr>\n      <th>2011</th>\n      <td>0</td>\n      <td>4</td>\n      <td>1336</td>\n    </tr>\n    <tr>\n      <th>2012</th>\n      <td>0</td>\n      <td>129</td>\n      <td>1238</td>\n    </tr>\n    <tr>\n      <th>2013</th>\n      <td>0</td>\n      <td>156</td>\n      <td>1676</td>\n    </tr>\n    <tr>\n      <th>2014</th>\n      <td>0</td>\n      <td>111</td>\n      <td>2889</td>\n    </tr>\n    <tr>\n      <th>2015</th>\n      <td>0</td>\n      <td>613</td>\n      <td>3663</td>\n    </tr>\n    <tr>\n      <th>2016</th>\n      <td>0</td>\n      <td>683</td>\n      <td>15716</td>\n    </tr>\n    <tr>\n      <th>2017</th>\n      <td>205</td>\n      <td>727</td>\n      <td>5576</td>\n    </tr>\n    <tr>\n      <th>2018</th>\n      <td>978</td>\n      <td>780</td>\n      <td>4060</td>\n    </tr>\n  </tbody>\n</table>\n</div>"
     },
     "metadata": {},
     "execution_count": 35
    }
   ],
   "source": [
    "# controle por abuso fisico\n",
    "pd.crosstab(\n",
    "    index = dados.get('yearOfRegistration'),\n",
    "    columns= dados.get('meansOfControlPhysicalAbuse').fillna('missing')\n",
    ")"
   ]
  },
  {
   "cell_type": "code",
   "execution_count": 36,
   "metadata": {},
   "outputs": [
    {
     "output_type": "execute_result",
     "data": {
      "text/plain": "meansOfControlSexualAbuse  0.0  1.0  missing\nyearOfRegistration                          \n2002                         0    0     1026\n2003                         0    0      357\n2004                         0    0      223\n2005                         0    1     1454\n2006                         0    0     1423\n2007                         0    4     1413\n2008                         3   68      731\n2009                         1  142      444\n2010                         6   58      879\n2011                         0    2     1338\n2012                         0    6     1361\n2013                         0    2     1830\n2014                         0    1     2999\n2015                         0  131     4145\n2016                         0  315    16084\n2017                       208  374     5926\n2018                       981  490     4347",
      "text/html": "<div>\n<style scoped>\n    .dataframe tbody tr th:only-of-type {\n        vertical-align: middle;\n    }\n\n    .dataframe tbody tr th {\n        vertical-align: top;\n    }\n\n    .dataframe thead th {\n        text-align: right;\n    }\n</style>\n<table border=\"1\" class=\"dataframe\">\n  <thead>\n    <tr style=\"text-align: right;\">\n      <th>meansOfControlSexualAbuse</th>\n      <th>0.0</th>\n      <th>1.0</th>\n      <th>missing</th>\n    </tr>\n    <tr>\n      <th>yearOfRegistration</th>\n      <th></th>\n      <th></th>\n      <th></th>\n    </tr>\n  </thead>\n  <tbody>\n    <tr>\n      <th>2002</th>\n      <td>0</td>\n      <td>0</td>\n      <td>1026</td>\n    </tr>\n    <tr>\n      <th>2003</th>\n      <td>0</td>\n      <td>0</td>\n      <td>357</td>\n    </tr>\n    <tr>\n      <th>2004</th>\n      <td>0</td>\n      <td>0</td>\n      <td>223</td>\n    </tr>\n    <tr>\n      <th>2005</th>\n      <td>0</td>\n      <td>1</td>\n      <td>1454</td>\n    </tr>\n    <tr>\n      <th>2006</th>\n      <td>0</td>\n      <td>0</td>\n      <td>1423</td>\n    </tr>\n    <tr>\n      <th>2007</th>\n      <td>0</td>\n      <td>4</td>\n      <td>1413</td>\n    </tr>\n    <tr>\n      <th>2008</th>\n      <td>3</td>\n      <td>68</td>\n      <td>731</td>\n    </tr>\n    <tr>\n      <th>2009</th>\n      <td>1</td>\n      <td>142</td>\n      <td>444</td>\n    </tr>\n    <tr>\n      <th>2010</th>\n      <td>6</td>\n      <td>58</td>\n      <td>879</td>\n    </tr>\n    <tr>\n      <th>2011</th>\n      <td>0</td>\n      <td>2</td>\n      <td>1338</td>\n    </tr>\n    <tr>\n      <th>2012</th>\n      <td>0</td>\n      <td>6</td>\n      <td>1361</td>\n    </tr>\n    <tr>\n      <th>2013</th>\n      <td>0</td>\n      <td>2</td>\n      <td>1830</td>\n    </tr>\n    <tr>\n      <th>2014</th>\n      <td>0</td>\n      <td>1</td>\n      <td>2999</td>\n    </tr>\n    <tr>\n      <th>2015</th>\n      <td>0</td>\n      <td>131</td>\n      <td>4145</td>\n    </tr>\n    <tr>\n      <th>2016</th>\n      <td>0</td>\n      <td>315</td>\n      <td>16084</td>\n    </tr>\n    <tr>\n      <th>2017</th>\n      <td>208</td>\n      <td>374</td>\n      <td>5926</td>\n    </tr>\n    <tr>\n      <th>2018</th>\n      <td>981</td>\n      <td>490</td>\n      <td>4347</td>\n    </tr>\n  </tbody>\n</table>\n</div>"
     },
     "metadata": {},
     "execution_count": 36
    }
   ],
   "source": [
    "# controle por abuso sexual\n",
    "pd.crosstab(\n",
    "    index = dados.get('yearOfRegistration'),\n",
    "    columns= dados.get('meansOfControlSexualAbuse').fillna('missing')\n",
    ")"
   ]
  },
  {
   "cell_type": "code",
   "execution_count": 37,
   "metadata": {},
   "outputs": [
    {
     "output_type": "execute_result",
     "data": {
      "text/plain": "meansOfControlFalsePromises  0.0  1.0  missing\nyearOfRegistration                            \n2002                           0    0     1026\n2003                           0    0      357\n2004                           0    0      223\n2005                           0    0     1455\n2006                           0    1     1422\n2007                           0    4     1413\n2008                           0  122      680\n2009                           0  184      403\n2010                           0  201      742\n2011                           0    4     1336\n2012                           0   71     1296\n2013                           0  176     1656\n2014                           0  177     2823\n2015                           0  596     3680\n2016                           0  597    15802\n2017                          76  527     5905\n2018                         980   96     4742",
      "text/html": "<div>\n<style scoped>\n    .dataframe tbody tr th:only-of-type {\n        vertical-align: middle;\n    }\n\n    .dataframe tbody tr th {\n        vertical-align: top;\n    }\n\n    .dataframe thead th {\n        text-align: right;\n    }\n</style>\n<table border=\"1\" class=\"dataframe\">\n  <thead>\n    <tr style=\"text-align: right;\">\n      <th>meansOfControlFalsePromises</th>\n      <th>0.0</th>\n      <th>1.0</th>\n      <th>missing</th>\n    </tr>\n    <tr>\n      <th>yearOfRegistration</th>\n      <th></th>\n      <th></th>\n      <th></th>\n    </tr>\n  </thead>\n  <tbody>\n    <tr>\n      <th>2002</th>\n      <td>0</td>\n      <td>0</td>\n      <td>1026</td>\n    </tr>\n    <tr>\n      <th>2003</th>\n      <td>0</td>\n      <td>0</td>\n      <td>357</td>\n    </tr>\n    <tr>\n      <th>2004</th>\n      <td>0</td>\n      <td>0</td>\n      <td>223</td>\n    </tr>\n    <tr>\n      <th>2005</th>\n      <td>0</td>\n      <td>0</td>\n      <td>1455</td>\n    </tr>\n    <tr>\n      <th>2006</th>\n      <td>0</td>\n      <td>1</td>\n      <td>1422</td>\n    </tr>\n    <tr>\n      <th>2007</th>\n      <td>0</td>\n      <td>4</td>\n      <td>1413</td>\n    </tr>\n    <tr>\n      <th>2008</th>\n      <td>0</td>\n      <td>122</td>\n      <td>680</td>\n    </tr>\n    <tr>\n      <th>2009</th>\n      <td>0</td>\n      <td>184</td>\n      <td>403</td>\n    </tr>\n    <tr>\n      <th>2010</th>\n      <td>0</td>\n      <td>201</td>\n      <td>742</td>\n    </tr>\n    <tr>\n      <th>2011</th>\n      <td>0</td>\n      <td>4</td>\n      <td>1336</td>\n    </tr>\n    <tr>\n      <th>2012</th>\n      <td>0</td>\n      <td>71</td>\n      <td>1296</td>\n    </tr>\n    <tr>\n      <th>2013</th>\n      <td>0</td>\n      <td>176</td>\n      <td>1656</td>\n    </tr>\n    <tr>\n      <th>2014</th>\n      <td>0</td>\n      <td>177</td>\n      <td>2823</td>\n    </tr>\n    <tr>\n      <th>2015</th>\n      <td>0</td>\n      <td>596</td>\n      <td>3680</td>\n    </tr>\n    <tr>\n      <th>2016</th>\n      <td>0</td>\n      <td>597</td>\n      <td>15802</td>\n    </tr>\n    <tr>\n      <th>2017</th>\n      <td>76</td>\n      <td>527</td>\n      <td>5905</td>\n    </tr>\n    <tr>\n      <th>2018</th>\n      <td>980</td>\n      <td>96</td>\n      <td>4742</td>\n    </tr>\n  </tbody>\n</table>\n</div>"
     },
     "metadata": {},
     "execution_count": 37
    }
   ],
   "source": [
    "# controle por falsas promessas\n",
    "pd.crosstab(\n",
    "    index = dados.get('yearOfRegistration'),\n",
    "    columns= dados.get('meansOfControlFalsePromises').fillna('missing')\n",
    ")\n"
   ]
  },
  {
   "cell_type": "code",
   "execution_count": 38,
   "metadata": {},
   "outputs": [
    {
     "output_type": "execute_result",
     "data": {
      "text/plain": "meansOfControlPsychoactiveSubstances  0.0  1.0  missing\nyearOfRegistration                                     \n2002                                    0    0     1026\n2003                                    0    0      357\n2004                                    0    0      223\n2005                                    0    0     1455\n2006                                    0    0     1423\n2007                                    0    2     1415\n2008                                    1   29      772\n2009                                    0   70      517\n2010                                    0   48      895\n2011                                    0    2     1338\n2012                                    0    0     1367\n2013                                    0    7     1825\n2014                                    0    4     2996\n2015                                    0  202     4074\n2016                                    0  528    15871\n2017                                  214  656     5638\n2018                                  984  734     4100",
      "text/html": "<div>\n<style scoped>\n    .dataframe tbody tr th:only-of-type {\n        vertical-align: middle;\n    }\n\n    .dataframe tbody tr th {\n        vertical-align: top;\n    }\n\n    .dataframe thead th {\n        text-align: right;\n    }\n</style>\n<table border=\"1\" class=\"dataframe\">\n  <thead>\n    <tr style=\"text-align: right;\">\n      <th>meansOfControlPsychoactiveSubstances</th>\n      <th>0.0</th>\n      <th>1.0</th>\n      <th>missing</th>\n    </tr>\n    <tr>\n      <th>yearOfRegistration</th>\n      <th></th>\n      <th></th>\n      <th></th>\n    </tr>\n  </thead>\n  <tbody>\n    <tr>\n      <th>2002</th>\n      <td>0</td>\n      <td>0</td>\n      <td>1026</td>\n    </tr>\n    <tr>\n      <th>2003</th>\n      <td>0</td>\n      <td>0</td>\n      <td>357</td>\n    </tr>\n    <tr>\n      <th>2004</th>\n      <td>0</td>\n      <td>0</td>\n      <td>223</td>\n    </tr>\n    <tr>\n      <th>2005</th>\n      <td>0</td>\n      <td>0</td>\n      <td>1455</td>\n    </tr>\n    <tr>\n      <th>2006</th>\n      <td>0</td>\n      <td>0</td>\n      <td>1423</td>\n    </tr>\n    <tr>\n      <th>2007</th>\n      <td>0</td>\n      <td>2</td>\n      <td>1415</td>\n    </tr>\n    <tr>\n      <th>2008</th>\n      <td>1</td>\n      <td>29</td>\n      <td>772</td>\n    </tr>\n    <tr>\n      <th>2009</th>\n      <td>0</td>\n      <td>70</td>\n      <td>517</td>\n    </tr>\n    <tr>\n      <th>2010</th>\n      <td>0</td>\n      <td>48</td>\n      <td>895</td>\n    </tr>\n    <tr>\n      <th>2011</th>\n      <td>0</td>\n      <td>2</td>\n      <td>1338</td>\n    </tr>\n    <tr>\n      <th>2012</th>\n      <td>0</td>\n      <td>0</td>\n      <td>1367</td>\n    </tr>\n    <tr>\n      <th>2013</th>\n      <td>0</td>\n      <td>7</td>\n      <td>1825</td>\n    </tr>\n    <tr>\n      <th>2014</th>\n      <td>0</td>\n      <td>4</td>\n      <td>2996</td>\n    </tr>\n    <tr>\n      <th>2015</th>\n      <td>0</td>\n      <td>202</td>\n      <td>4074</td>\n    </tr>\n    <tr>\n      <th>2016</th>\n      <td>0</td>\n      <td>528</td>\n      <td>15871</td>\n    </tr>\n    <tr>\n      <th>2017</th>\n      <td>214</td>\n      <td>656</td>\n      <td>5638</td>\n    </tr>\n    <tr>\n      <th>2018</th>\n      <td>984</td>\n      <td>734</td>\n      <td>4100</td>\n    </tr>\n  </tbody>\n</table>\n</div>"
     },
     "metadata": {},
     "execution_count": 38
    }
   ],
   "source": [
    "# controle por substancias psicoativas\n",
    "pd.crosstab(\n",
    "    index = dados.get('yearOfRegistration'),\n",
    "    columns= dados.get('meansOfControlPsychoactiveSubstances').fillna('missing')\n",
    ")"
   ]
  },
  {
   "cell_type": "code",
   "execution_count": 39,
   "metadata": {},
   "outputs": [
    {
     "output_type": "execute_result",
     "data": {
      "text/plain": "meansOfControlExcessiveWorkingHours  0.0  1.0  missing\nyearOfRegistration                                    \n2002                                   0    0     1026\n2003                                   0    0      357\n2004                                   0    0      223\n2005                                   0    0     1455\n2006                                   0    1     1422\n2007                                   0    0     1417\n2008                                   0  102      700\n2009                                   0  154      433\n2010                                   1  174      768\n2011                                   0    4     1336\n2012                                   0   77     1290\n2013                                   0  197     1635\n2014                                   0   90     2910\n2015                                   0  552     3724\n2016                                   0  476    15923\n2017                                 174  253     6081\n2018                                 957   77     4784",
      "text/html": "<div>\n<style scoped>\n    .dataframe tbody tr th:only-of-type {\n        vertical-align: middle;\n    }\n\n    .dataframe tbody tr th {\n        vertical-align: top;\n    }\n\n    .dataframe thead th {\n        text-align: right;\n    }\n</style>\n<table border=\"1\" class=\"dataframe\">\n  <thead>\n    <tr style=\"text-align: right;\">\n      <th>meansOfControlExcessiveWorkingHours</th>\n      <th>0.0</th>\n      <th>1.0</th>\n      <th>missing</th>\n    </tr>\n    <tr>\n      <th>yearOfRegistration</th>\n      <th></th>\n      <th></th>\n      <th></th>\n    </tr>\n  </thead>\n  <tbody>\n    <tr>\n      <th>2002</th>\n      <td>0</td>\n      <td>0</td>\n      <td>1026</td>\n    </tr>\n    <tr>\n      <th>2003</th>\n      <td>0</td>\n      <td>0</td>\n      <td>357</td>\n    </tr>\n    <tr>\n      <th>2004</th>\n      <td>0</td>\n      <td>0</td>\n      <td>223</td>\n    </tr>\n    <tr>\n      <th>2005</th>\n      <td>0</td>\n      <td>0</td>\n      <td>1455</td>\n    </tr>\n    <tr>\n      <th>2006</th>\n      <td>0</td>\n      <td>1</td>\n      <td>1422</td>\n    </tr>\n    <tr>\n      <th>2007</th>\n      <td>0</td>\n      <td>0</td>\n      <td>1417</td>\n    </tr>\n    <tr>\n      <th>2008</th>\n      <td>0</td>\n      <td>102</td>\n      <td>700</td>\n    </tr>\n    <tr>\n      <th>2009</th>\n      <td>0</td>\n      <td>154</td>\n      <td>433</td>\n    </tr>\n    <tr>\n      <th>2010</th>\n      <td>1</td>\n      <td>174</td>\n      <td>768</td>\n    </tr>\n    <tr>\n      <th>2011</th>\n      <td>0</td>\n      <td>4</td>\n      <td>1336</td>\n    </tr>\n    <tr>\n      <th>2012</th>\n      <td>0</td>\n      <td>77</td>\n      <td>1290</td>\n    </tr>\n    <tr>\n      <th>2013</th>\n      <td>0</td>\n      <td>197</td>\n      <td>1635</td>\n    </tr>\n    <tr>\n      <th>2014</th>\n      <td>0</td>\n      <td>90</td>\n      <td>2910</td>\n    </tr>\n    <tr>\n      <th>2015</th>\n      <td>0</td>\n      <td>552</td>\n      <td>3724</td>\n    </tr>\n    <tr>\n      <th>2016</th>\n      <td>0</td>\n      <td>476</td>\n      <td>15923</td>\n    </tr>\n    <tr>\n      <th>2017</th>\n      <td>174</td>\n      <td>253</td>\n      <td>6081</td>\n    </tr>\n    <tr>\n      <th>2018</th>\n      <td>957</td>\n      <td>77</td>\n      <td>4784</td>\n    </tr>\n  </tbody>\n</table>\n</div>"
     },
     "metadata": {},
     "execution_count": 39
    }
   ],
   "source": [
    "# controle por trabalho excessivo\n",
    "pd.crosstab(\n",
    "    index = dados.get('yearOfRegistration'),\n",
    "    columns= dados.get('meansOfControlExcessiveWorkingHours').fillna('missing')\n",
    ")"
   ]
  },
  {
   "cell_type": "code",
   "execution_count": 40,
   "metadata": {},
   "outputs": [
    {
     "output_type": "execute_result",
     "data": {
      "text/plain": "meansOfControlWithholdsDocuments  0.0  1.0  missing\nyearOfRegistration                                 \n2002                                0    0     1026\n2003                                0    0      357\n2004                                0    0      223\n2005                                0    1     1454\n2006                                0    1     1422\n2007                                0    4     1413\n2008                                1  101      700\n2009                                0  153      434\n2010                                0  128      815\n2011                                0    2     1338\n2012                                0   28     1339\n2013                                0  193     1639\n2014                                0   87     2913\n2015                                0  500     3776\n2016                                0  474    15925\n2017                              185  338     5985\n2018                              984   66     4768",
      "text/html": "<div>\n<style scoped>\n    .dataframe tbody tr th:only-of-type {\n        vertical-align: middle;\n    }\n\n    .dataframe tbody tr th {\n        vertical-align: top;\n    }\n\n    .dataframe thead th {\n        text-align: right;\n    }\n</style>\n<table border=\"1\" class=\"dataframe\">\n  <thead>\n    <tr style=\"text-align: right;\">\n      <th>meansOfControlWithholdsDocuments</th>\n      <th>0.0</th>\n      <th>1.0</th>\n      <th>missing</th>\n    </tr>\n    <tr>\n      <th>yearOfRegistration</th>\n      <th></th>\n      <th></th>\n      <th></th>\n    </tr>\n  </thead>\n  <tbody>\n    <tr>\n      <th>2002</th>\n      <td>0</td>\n      <td>0</td>\n      <td>1026</td>\n    </tr>\n    <tr>\n      <th>2003</th>\n      <td>0</td>\n      <td>0</td>\n      <td>357</td>\n    </tr>\n    <tr>\n      <th>2004</th>\n      <td>0</td>\n      <td>0</td>\n      <td>223</td>\n    </tr>\n    <tr>\n      <th>2005</th>\n      <td>0</td>\n      <td>1</td>\n      <td>1454</td>\n    </tr>\n    <tr>\n      <th>2006</th>\n      <td>0</td>\n      <td>1</td>\n      <td>1422</td>\n    </tr>\n    <tr>\n      <th>2007</th>\n      <td>0</td>\n      <td>4</td>\n      <td>1413</td>\n    </tr>\n    <tr>\n      <th>2008</th>\n      <td>1</td>\n      <td>101</td>\n      <td>700</td>\n    </tr>\n    <tr>\n      <th>2009</th>\n      <td>0</td>\n      <td>153</td>\n      <td>434</td>\n    </tr>\n    <tr>\n      <th>2010</th>\n      <td>0</td>\n      <td>128</td>\n      <td>815</td>\n    </tr>\n    <tr>\n      <th>2011</th>\n      <td>0</td>\n      <td>2</td>\n      <td>1338</td>\n    </tr>\n    <tr>\n      <th>2012</th>\n      <td>0</td>\n      <td>28</td>\n      <td>1339</td>\n    </tr>\n    <tr>\n      <th>2013</th>\n      <td>0</td>\n      <td>193</td>\n      <td>1639</td>\n    </tr>\n    <tr>\n      <th>2014</th>\n      <td>0</td>\n      <td>87</td>\n      <td>2913</td>\n    </tr>\n    <tr>\n      <th>2015</th>\n      <td>0</td>\n      <td>500</td>\n      <td>3776</td>\n    </tr>\n    <tr>\n      <th>2016</th>\n      <td>0</td>\n      <td>474</td>\n      <td>15925</td>\n    </tr>\n    <tr>\n      <th>2017</th>\n      <td>185</td>\n      <td>338</td>\n      <td>5985</td>\n    </tr>\n    <tr>\n      <th>2018</th>\n      <td>984</td>\n      <td>66</td>\n      <td>4768</td>\n    </tr>\n  </tbody>\n</table>\n</div>"
     },
     "metadata": {},
     "execution_count": 40
    }
   ],
   "source": [
    "# controle restricao de documentos\n",
    "pd.crosstab(\n",
    "    index = dados.get('yearOfRegistration'),\n",
    "    columns= dados.get('meansOfControlWithholdsDocuments').fillna('missing')\n",
    ")"
   ]
  },
  {
   "cell_type": "markdown",
   "metadata": {},
   "source": [
    "## Propósito para o qual as vítimas foram traficadas"
   ]
  },
  {
   "cell_type": "code",
   "execution_count": 41,
   "metadata": {},
   "outputs": [
    {
     "output_type": "execute_result",
     "data": {
      "text/plain": "   index  isForcedLabour  isSexualExploit  isOtherExploit  isSexAndLabour  \\\n0    0.0        0.334242         0.159802        0.488918        0.478748   \n1    1.0        0.200357         0.328850        0.144834        0.001599   \n2    NaN        0.465401         0.511348        0.366248        0.519652   \n\n   isForcedMarriage  isForcedMilitary  isOrganRemoval  isSlaveryAndPractices  \\\n0          0.222049          0.234187        0.234187               0.024624   \n1          0.003445               NaN             NaN               0.007361   \n2          0.774506          0.765813        0.765813               0.968015   \n\n   isAbduction  \n0     0.334283  \n1     0.000800  \n2     0.664917  ",
      "text/html": "<div>\n<style scoped>\n    .dataframe tbody tr th:only-of-type {\n        vertical-align: middle;\n    }\n\n    .dataframe tbody tr th {\n        vertical-align: top;\n    }\n\n    .dataframe thead th {\n        text-align: right;\n    }\n</style>\n<table border=\"1\" class=\"dataframe\">\n  <thead>\n    <tr style=\"text-align: right;\">\n      <th></th>\n      <th>index</th>\n      <th>isForcedLabour</th>\n      <th>isSexualExploit</th>\n      <th>isOtherExploit</th>\n      <th>isSexAndLabour</th>\n      <th>isForcedMarriage</th>\n      <th>isForcedMilitary</th>\n      <th>isOrganRemoval</th>\n      <th>isSlaveryAndPractices</th>\n      <th>isAbduction</th>\n    </tr>\n  </thead>\n  <tbody>\n    <tr>\n      <th>0</th>\n      <td>0.0</td>\n      <td>0.334242</td>\n      <td>0.159802</td>\n      <td>0.488918</td>\n      <td>0.478748</td>\n      <td>0.222049</td>\n      <td>0.234187</td>\n      <td>0.234187</td>\n      <td>0.024624</td>\n      <td>0.334283</td>\n    </tr>\n    <tr>\n      <th>1</th>\n      <td>1.0</td>\n      <td>0.200357</td>\n      <td>0.328850</td>\n      <td>0.144834</td>\n      <td>0.001599</td>\n      <td>0.003445</td>\n      <td>NaN</td>\n      <td>NaN</td>\n      <td>0.007361</td>\n      <td>0.000800</td>\n    </tr>\n    <tr>\n      <th>2</th>\n      <td>NaN</td>\n      <td>0.465401</td>\n      <td>0.511348</td>\n      <td>0.366248</td>\n      <td>0.519652</td>\n      <td>0.774506</td>\n      <td>0.765813</td>\n      <td>0.765813</td>\n      <td>0.968015</td>\n      <td>0.664917</td>\n    </tr>\n  </tbody>\n</table>\n</div>"
     },
     "metadata": {},
     "execution_count": 41
    }
   ],
   "source": [
    "proposito = (\n",
    "    dados.\n",
    "    get(\n",
    "        dados.columns[dados.columns.str.startswith('is')]\n",
    "        )\n",
    "        .apply(lambda coluna: coluna.value_counts(dropna = False)/dados.shape[0])\n",
    ").reset_index()\n",
    "proposito"
   ]
  },
  {
   "cell_type": "markdown",
   "metadata": {},
   "source": [
    "### Investigando alguns propositos especificos ao longo do tempo"
   ]
  },
  {
   "cell_type": "code",
   "execution_count": 42,
   "metadata": {},
   "outputs": [
    {
     "output_type": "execute_result",
     "data": {
      "text/plain": "isForcedLabour       0.0   1.0  missing\nyearOfRegistration                     \n2002                 919     0      107\n2003                 357     0        0\n2004                 223     0        0\n2005                 614   817       24\n2006                 559   622      242\n2007                 312   251      854\n2008                  38    66      698\n2009                  36    15      536\n2010                  11   260      672\n2011                   0   193     1147\n2012                   0   306     1061\n2013                   0   268     1564\n2014                 154  1563     1283\n2015                1595  1815      866\n2016                3069  2988    10342\n2017                3629   469     2410\n2018                4786   139      893",
      "text/html": "<div>\n<style scoped>\n    .dataframe tbody tr th:only-of-type {\n        vertical-align: middle;\n    }\n\n    .dataframe tbody tr th {\n        vertical-align: top;\n    }\n\n    .dataframe thead th {\n        text-align: right;\n    }\n</style>\n<table border=\"1\" class=\"dataframe\">\n  <thead>\n    <tr style=\"text-align: right;\">\n      <th>isForcedLabour</th>\n      <th>0.0</th>\n      <th>1.0</th>\n      <th>missing</th>\n    </tr>\n    <tr>\n      <th>yearOfRegistration</th>\n      <th></th>\n      <th></th>\n      <th></th>\n    </tr>\n  </thead>\n  <tbody>\n    <tr>\n      <th>2002</th>\n      <td>919</td>\n      <td>0</td>\n      <td>107</td>\n    </tr>\n    <tr>\n      <th>2003</th>\n      <td>357</td>\n      <td>0</td>\n      <td>0</td>\n    </tr>\n    <tr>\n      <th>2004</th>\n      <td>223</td>\n      <td>0</td>\n      <td>0</td>\n    </tr>\n    <tr>\n      <th>2005</th>\n      <td>614</td>\n      <td>817</td>\n      <td>24</td>\n    </tr>\n    <tr>\n      <th>2006</th>\n      <td>559</td>\n      <td>622</td>\n      <td>242</td>\n    </tr>\n    <tr>\n      <th>2007</th>\n      <td>312</td>\n      <td>251</td>\n      <td>854</td>\n    </tr>\n    <tr>\n      <th>2008</th>\n      <td>38</td>\n      <td>66</td>\n      <td>698</td>\n    </tr>\n    <tr>\n      <th>2009</th>\n      <td>36</td>\n      <td>15</td>\n      <td>536</td>\n    </tr>\n    <tr>\n      <th>2010</th>\n      <td>11</td>\n      <td>260</td>\n      <td>672</td>\n    </tr>\n    <tr>\n      <th>2011</th>\n      <td>0</td>\n      <td>193</td>\n      <td>1147</td>\n    </tr>\n    <tr>\n      <th>2012</th>\n      <td>0</td>\n      <td>306</td>\n      <td>1061</td>\n    </tr>\n    <tr>\n      <th>2013</th>\n      <td>0</td>\n      <td>268</td>\n      <td>1564</td>\n    </tr>\n    <tr>\n      <th>2014</th>\n      <td>154</td>\n      <td>1563</td>\n      <td>1283</td>\n    </tr>\n    <tr>\n      <th>2015</th>\n      <td>1595</td>\n      <td>1815</td>\n      <td>866</td>\n    </tr>\n    <tr>\n      <th>2016</th>\n      <td>3069</td>\n      <td>2988</td>\n      <td>10342</td>\n    </tr>\n    <tr>\n      <th>2017</th>\n      <td>3629</td>\n      <td>469</td>\n      <td>2410</td>\n    </tr>\n    <tr>\n      <th>2018</th>\n      <td>4786</td>\n      <td>139</td>\n      <td>893</td>\n    </tr>\n  </tbody>\n</table>\n</div>"
     },
     "metadata": {},
     "execution_count": 42
    }
   ],
   "source": [
    "pd.crosstab(\n",
    "    index = dados.get('yearOfRegistration'),\n",
    "    columns= dados.get('isForcedLabour').fillna('missing')\n",
    ")\n"
   ]
  },
  {
   "cell_type": "code",
   "execution_count": 43,
   "metadata": {},
   "outputs": [
    {
     "output_type": "execute_result",
     "data": {
      "text/plain": "isSexualExploit      0.0   1.0  missing\nyearOfRegistration                     \n2002                  52   867      107\n2003                   0   357        0\n2004                  63   160        0\n2005                 939   492       24\n2006                 760   318      345\n2007                 219   344      854\n2008                  38    23      741\n2009                  51     0      536\n2010                 237    38      668\n2011                 168     0     1172\n2012                 306     0     1061\n2013                 268     0     1564\n2014                1717     0     1283\n2015                1832  1578      866\n2016                 665  3436    12298\n2017                 342  3638     2528\n2018                 137  4788      893",
      "text/html": "<div>\n<style scoped>\n    .dataframe tbody tr th:only-of-type {\n        vertical-align: middle;\n    }\n\n    .dataframe tbody tr th {\n        vertical-align: top;\n    }\n\n    .dataframe thead th {\n        text-align: right;\n    }\n</style>\n<table border=\"1\" class=\"dataframe\">\n  <thead>\n    <tr style=\"text-align: right;\">\n      <th>isSexualExploit</th>\n      <th>0.0</th>\n      <th>1.0</th>\n      <th>missing</th>\n    </tr>\n    <tr>\n      <th>yearOfRegistration</th>\n      <th></th>\n      <th></th>\n      <th></th>\n    </tr>\n  </thead>\n  <tbody>\n    <tr>\n      <th>2002</th>\n      <td>52</td>\n      <td>867</td>\n      <td>107</td>\n    </tr>\n    <tr>\n      <th>2003</th>\n      <td>0</td>\n      <td>357</td>\n      <td>0</td>\n    </tr>\n    <tr>\n      <th>2004</th>\n      <td>63</td>\n      <td>160</td>\n      <td>0</td>\n    </tr>\n    <tr>\n      <th>2005</th>\n      <td>939</td>\n      <td>492</td>\n      <td>24</td>\n    </tr>\n    <tr>\n      <th>2006</th>\n      <td>760</td>\n      <td>318</td>\n      <td>345</td>\n    </tr>\n    <tr>\n      <th>2007</th>\n      <td>219</td>\n      <td>344</td>\n      <td>854</td>\n    </tr>\n    <tr>\n      <th>2008</th>\n      <td>38</td>\n      <td>23</td>\n      <td>741</td>\n    </tr>\n    <tr>\n      <th>2009</th>\n      <td>51</td>\n      <td>0</td>\n      <td>536</td>\n    </tr>\n    <tr>\n      <th>2010</th>\n      <td>237</td>\n      <td>38</td>\n      <td>668</td>\n    </tr>\n    <tr>\n      <th>2011</th>\n      <td>168</td>\n      <td>0</td>\n      <td>1172</td>\n    </tr>\n    <tr>\n      <th>2012</th>\n      <td>306</td>\n      <td>0</td>\n      <td>1061</td>\n    </tr>\n    <tr>\n      <th>2013</th>\n      <td>268</td>\n      <td>0</td>\n      <td>1564</td>\n    </tr>\n    <tr>\n      <th>2014</th>\n      <td>1717</td>\n      <td>0</td>\n      <td>1283</td>\n    </tr>\n    <tr>\n      <th>2015</th>\n      <td>1832</td>\n      <td>1578</td>\n      <td>866</td>\n    </tr>\n    <tr>\n      <th>2016</th>\n      <td>665</td>\n      <td>3436</td>\n      <td>12298</td>\n    </tr>\n    <tr>\n      <th>2017</th>\n      <td>342</td>\n      <td>3638</td>\n      <td>2528</td>\n    </tr>\n    <tr>\n      <th>2018</th>\n      <td>137</td>\n      <td>4788</td>\n      <td>893</td>\n    </tr>\n  </tbody>\n</table>\n</div>"
     },
     "metadata": {},
     "execution_count": 43
    }
   ],
   "source": [
    "pd.crosstab(\n",
    "    index = dados.get('yearOfRegistration'),\n",
    "    columns= dados.get('isSexualExploit').fillna('missing')\n",
    ")"
   ]
  },
  {
   "cell_type": "code",
   "execution_count": 44,
   "metadata": {},
   "outputs": [
    {
     "output_type": "execute_result",
     "data": {
      "text/plain": "isOtherExploit       0.0   1.0  missing\nyearOfRegistration                     \n2002                 919     0      107\n2003                 357     0        0\n2004                 223     0        0\n2005                1420    11       24\n2006                1078     0      345\n2007                 563     0      854\n2008                  61     0      741\n2009                  51     0      536\n2010                 248    12      683\n2011                 168     0     1172\n2012                 306     0     1061\n2013                 268     0     1564\n2014                1704    13     1283\n2015                3404    17      855\n2016                3820  6879     5700\n2017                4063   132     2313\n2018                5193     0      625",
      "text/html": "<div>\n<style scoped>\n    .dataframe tbody tr th:only-of-type {\n        vertical-align: middle;\n    }\n\n    .dataframe tbody tr th {\n        vertical-align: top;\n    }\n\n    .dataframe thead th {\n        text-align: right;\n    }\n</style>\n<table border=\"1\" class=\"dataframe\">\n  <thead>\n    <tr style=\"text-align: right;\">\n      <th>isOtherExploit</th>\n      <th>0.0</th>\n      <th>1.0</th>\n      <th>missing</th>\n    </tr>\n    <tr>\n      <th>yearOfRegistration</th>\n      <th></th>\n      <th></th>\n      <th></th>\n    </tr>\n  </thead>\n  <tbody>\n    <tr>\n      <th>2002</th>\n      <td>919</td>\n      <td>0</td>\n      <td>107</td>\n    </tr>\n    <tr>\n      <th>2003</th>\n      <td>357</td>\n      <td>0</td>\n      <td>0</td>\n    </tr>\n    <tr>\n      <th>2004</th>\n      <td>223</td>\n      <td>0</td>\n      <td>0</td>\n    </tr>\n    <tr>\n      <th>2005</th>\n      <td>1420</td>\n      <td>11</td>\n      <td>24</td>\n    </tr>\n    <tr>\n      <th>2006</th>\n      <td>1078</td>\n      <td>0</td>\n      <td>345</td>\n    </tr>\n    <tr>\n      <th>2007</th>\n      <td>563</td>\n      <td>0</td>\n      <td>854</td>\n    </tr>\n    <tr>\n      <th>2008</th>\n      <td>61</td>\n      <td>0</td>\n      <td>741</td>\n    </tr>\n    <tr>\n      <th>2009</th>\n      <td>51</td>\n      <td>0</td>\n      <td>536</td>\n    </tr>\n    <tr>\n      <th>2010</th>\n      <td>248</td>\n      <td>12</td>\n      <td>683</td>\n    </tr>\n    <tr>\n      <th>2011</th>\n      <td>168</td>\n      <td>0</td>\n      <td>1172</td>\n    </tr>\n    <tr>\n      <th>2012</th>\n      <td>306</td>\n      <td>0</td>\n      <td>1061</td>\n    </tr>\n    <tr>\n      <th>2013</th>\n      <td>268</td>\n      <td>0</td>\n      <td>1564</td>\n    </tr>\n    <tr>\n      <th>2014</th>\n      <td>1704</td>\n      <td>13</td>\n      <td>1283</td>\n    </tr>\n    <tr>\n      <th>2015</th>\n      <td>3404</td>\n      <td>17</td>\n      <td>855</td>\n    </tr>\n    <tr>\n      <th>2016</th>\n      <td>3820</td>\n      <td>6879</td>\n      <td>5700</td>\n    </tr>\n    <tr>\n      <th>2017</th>\n      <td>4063</td>\n      <td>132</td>\n      <td>2313</td>\n    </tr>\n    <tr>\n      <th>2018</th>\n      <td>5193</td>\n      <td>0</td>\n      <td>625</td>\n    </tr>\n  </tbody>\n</table>\n</div>"
     },
     "metadata": {},
     "execution_count": 44
    }
   ],
   "source": [
    "pd.crosstab(\n",
    "    index = dados.get('yearOfRegistration'),\n",
    "    columns= dados.get('isOtherExploit').fillna('missing')\n",
    ")"
   ]
  },
  {
   "cell_type": "markdown",
   "metadata": {},
   "source": [
    "## Tipos de trabalhos que as vítimas foram forçadas a realizar"
   ]
  },
  {
   "cell_type": "code",
   "execution_count": 45,
   "metadata": {},
   "outputs": [
    {
     "output_type": "execute_result",
     "data": {
      "text/plain": "   index  typeOfLabourAgriculture  typeOfLabourAquafarming  \\\n0    0.0                 0.416050                 0.416173   \n1    1.0                 0.003116                 0.002194   \n2    NaN                 0.580834                 0.581633   \n\n   typeOfLabourBegging  typeOfLabourConstruction  typeOfLabourDomesticWork  \\\n0             0.415045                  0.400180                  0.405532   \n1             0.003055                  0.025711                  0.056261   \n2             0.581900                  0.574109                  0.538208   \n\n   typeOfLabourHospitality  typeOfLabourIllicitActivities  \\\n0                 0.442273                       0.416501   \n1                 0.001681                            NaN   \n2                 0.556045                       0.583499   \n\n   typeOfLabourManufacturing  typeOfLabourMiningOrDrilling  \\\n0                   0.411375                        0.4181   \n1                   0.009288                           NaN   \n2                   0.579337                        0.5819   \n\n   typeOfLabourPeddling  typeOfLabourTransportation  typeOfLabourOther  \\\n0              0.415025                      0.4181           0.440715   \n1              0.001476                         NaN           0.003301   \n2              0.583499                      0.5819           0.555984   \n\n   typeOfLabourNotSpecified  typeOfSexProstitution  typeOfSexPornography  \\\n0                  0.418736               0.287946              0.128268   \n1                  0.024009               0.089927              0.003281   \n2                  0.557255               0.622127              0.868452   \n\n   typeOfSexRemoteInteractiveServices  typeOfSexPrivateSexualServices  \n0                            0.131548                        0.106042  \n1                                 NaN                        0.000882  \n2                            0.868452                        0.893076  ",
      "text/html": "<div>\n<style scoped>\n    .dataframe tbody tr th:only-of-type {\n        vertical-align: middle;\n    }\n\n    .dataframe tbody tr th {\n        vertical-align: top;\n    }\n\n    .dataframe thead th {\n        text-align: right;\n    }\n</style>\n<table border=\"1\" class=\"dataframe\">\n  <thead>\n    <tr style=\"text-align: right;\">\n      <th></th>\n      <th>index</th>\n      <th>typeOfLabourAgriculture</th>\n      <th>typeOfLabourAquafarming</th>\n      <th>typeOfLabourBegging</th>\n      <th>typeOfLabourConstruction</th>\n      <th>typeOfLabourDomesticWork</th>\n      <th>typeOfLabourHospitality</th>\n      <th>typeOfLabourIllicitActivities</th>\n      <th>typeOfLabourManufacturing</th>\n      <th>typeOfLabourMiningOrDrilling</th>\n      <th>typeOfLabourPeddling</th>\n      <th>typeOfLabourTransportation</th>\n      <th>typeOfLabourOther</th>\n      <th>typeOfLabourNotSpecified</th>\n      <th>typeOfSexProstitution</th>\n      <th>typeOfSexPornography</th>\n      <th>typeOfSexRemoteInteractiveServices</th>\n      <th>typeOfSexPrivateSexualServices</th>\n    </tr>\n  </thead>\n  <tbody>\n    <tr>\n      <th>0</th>\n      <td>0.0</td>\n      <td>0.416050</td>\n      <td>0.416173</td>\n      <td>0.415045</td>\n      <td>0.400180</td>\n      <td>0.405532</td>\n      <td>0.442273</td>\n      <td>0.416501</td>\n      <td>0.411375</td>\n      <td>0.4181</td>\n      <td>0.415025</td>\n      <td>0.4181</td>\n      <td>0.440715</td>\n      <td>0.418736</td>\n      <td>0.287946</td>\n      <td>0.128268</td>\n      <td>0.131548</td>\n      <td>0.106042</td>\n    </tr>\n    <tr>\n      <th>1</th>\n      <td>1.0</td>\n      <td>0.003116</td>\n      <td>0.002194</td>\n      <td>0.003055</td>\n      <td>0.025711</td>\n      <td>0.056261</td>\n      <td>0.001681</td>\n      <td>NaN</td>\n      <td>0.009288</td>\n      <td>NaN</td>\n      <td>0.001476</td>\n      <td>NaN</td>\n      <td>0.003301</td>\n      <td>0.024009</td>\n      <td>0.089927</td>\n      <td>0.003281</td>\n      <td>NaN</td>\n      <td>0.000882</td>\n    </tr>\n    <tr>\n      <th>2</th>\n      <td>NaN</td>\n      <td>0.580834</td>\n      <td>0.581633</td>\n      <td>0.581900</td>\n      <td>0.574109</td>\n      <td>0.538208</td>\n      <td>0.556045</td>\n      <td>0.583499</td>\n      <td>0.579337</td>\n      <td>0.5819</td>\n      <td>0.583499</td>\n      <td>0.5819</td>\n      <td>0.555984</td>\n      <td>0.557255</td>\n      <td>0.622127</td>\n      <td>0.868452</td>\n      <td>0.868452</td>\n      <td>0.893076</td>\n    </tr>\n  </tbody>\n</table>\n</div>"
     },
     "metadata": {},
     "execution_count": 45
    }
   ],
   "source": [
    "dados.drop(\n",
    "    columns = ['typeOfSexConcatenated','typeOfLabourConcatenated','typeOfExploitConcatenated'], \n",
    "    inplace = True\n",
    "    )\n",
    "trabalho = (\n",
    "    dados.\n",
    "    get(\n",
    "        dados.columns[dados.columns.str.startswith('type')]\n",
    "        )\n",
    "        .apply(lambda coluna: coluna.value_counts(dropna = False)/dados.shape[0])\n",
    ").reset_index()\n",
    "\n",
    "trabalho"
   ]
  },
  {
   "cell_type": "markdown",
   "metadata": {},
   "source": [
    "## O tipo de relacionamento que a pessoa exploradora tinha inicialmente com a vítima"
   ]
  },
  {
   "cell_type": "code",
   "execution_count": 46,
   "metadata": {},
   "outputs": [
    {
     "output_type": "execute_result",
     "data": {
      "text/plain": "   index  recruiterRelationIntimatePartner  recruiterRelationFriend  \\\n0    0.0                          0.786685                 0.777028   \n1    1.0                          0.033318                 0.042975   \n2    NaN                          0.179997                 0.179997   \n\n   recruiterRelationFamily  recruiterRelationOther  recruiterRelationUnknown  \n0                 0.781477                0.728149                  0.195128  \n1                 0.038525                0.091854                  0.803867  \n2                 0.179997                0.179997                  0.001005  ",
      "text/html": "<div>\n<style scoped>\n    .dataframe tbody tr th:only-of-type {\n        vertical-align: middle;\n    }\n\n    .dataframe tbody tr th {\n        vertical-align: top;\n    }\n\n    .dataframe thead th {\n        text-align: right;\n    }\n</style>\n<table border=\"1\" class=\"dataframe\">\n  <thead>\n    <tr style=\"text-align: right;\">\n      <th></th>\n      <th>index</th>\n      <th>recruiterRelationIntimatePartner</th>\n      <th>recruiterRelationFriend</th>\n      <th>recruiterRelationFamily</th>\n      <th>recruiterRelationOther</th>\n      <th>recruiterRelationUnknown</th>\n    </tr>\n  </thead>\n  <tbody>\n    <tr>\n      <th>0</th>\n      <td>0.0</td>\n      <td>0.786685</td>\n      <td>0.777028</td>\n      <td>0.781477</td>\n      <td>0.728149</td>\n      <td>0.195128</td>\n    </tr>\n    <tr>\n      <th>1</th>\n      <td>1.0</td>\n      <td>0.033318</td>\n      <td>0.042975</td>\n      <td>0.038525</td>\n      <td>0.091854</td>\n      <td>0.803867</td>\n    </tr>\n    <tr>\n      <th>2</th>\n      <td>NaN</td>\n      <td>0.179997</td>\n      <td>0.179997</td>\n      <td>0.179997</td>\n      <td>0.179997</td>\n      <td>0.001005</td>\n    </tr>\n  </tbody>\n</table>\n</div>"
     },
     "metadata": {},
     "execution_count": 46
    }
   ],
   "source": [
    "relacionamento = (\n",
    "    dados.\n",
    "    get(\n",
    "        dados.columns[dados.columns.str.startswith('recruiter')]\n",
    "        )\n",
    "        .apply(lambda coluna: coluna.value_counts(dropna = False)/dados.shape[0])\n",
    ").reset_index()\n",
    "\n",
    "relacionamento"
   ]
  },
  {
   "cell_type": "markdown",
   "metadata": {},
   "source": [
    "## Mapas da quantidade de pessoas traficadas"
   ]
  },
  {
   "cell_type": "code",
   "execution_count": 48,
   "metadata": {},
   "outputs": [],
   "source": [
    "# retirando observacoes sem nacionalidade ou pais de exploracao\n",
    "dados.query('citizenship != \"0\" & CountryOfExploitation != \"0\"',inplace=True)\n",
    "\n",
    "# adicionando os nomes dos paises de nascimento e exploracao além de longitude e latitude\n",
    "\n",
    "dados = dados.merge(\n",
    "    lon_lat_country,\n",
    "    left_on = 'citizenship',\n",
    "    right_on = 'country',\n",
    "    how = 'left'\n",
    ")\n",
    "\n",
    "dados.rename(\n",
    "    columns={'name':'nacionalidade',\n",
    "    'latitude':'nacionalidade_lat',\n",
    "    'longitude':'nacionalidade_long'},\n",
    "     inplace = True) \n",
    "\n",
    "dados.drop(columns = 'country',inplace=True)\n",
    "\n",
    "dados = dados.merge(\n",
    "    lon_lat_country,\n",
    "    left_on = 'CountryOfExploitation',\n",
    "    right_on = 'country',\n",
    "    how = 'left'\n",
    ")\n",
    "\n",
    "dados.rename(\n",
    "    columns={'name':'pais_exploracao',\n",
    "    'latitude':'pais_exploracao_lat',\n",
    "    'longitude':'pais_exploracao_long'},\n",
    "     inplace = True) \n",
    "\n",
    "dados.drop(columns = 'country',inplace=True)"
   ]
  },
  {
   "cell_type": "code",
   "execution_count": 49,
   "metadata": {},
   "outputs": [
    {
     "output_type": "execute_result",
     "data": {
      "text/plain": "   yearOfRegistration       Datasource  gender ageBroad majorityStatus  \\\n0                2002  Case Management  Female   18--20          Adult   \n1                2002  Case Management  Female   18--20          Adult   \n2                2002  Case Management  Female   18--20          Adult   \n3                2002  Case Management  Female   18--20          Adult   \n4                2002  Case Management  Female   18--20          Adult   \n\n  majorityStatusAtExploit majorityEntry citizenship  \\\n0                     NaN           NaN          CO   \n1                     NaN           NaN          CO   \n2                     NaN           NaN          CO   \n3                     NaN           NaN          CO   \n4                     NaN           NaN          CO   \n\n   meansOfControlDebtBondage  meansOfControlTakesEarnings  ...  \\\n0                        NaN                          NaN  ...   \n1                        NaN                          NaN  ...   \n2                        NaN                          NaN  ...   \n3                        NaN                          NaN  ...   \n4                        NaN                          NaN  ...   \n\n   recruiterRelationFriend  recruiterRelationFamily  recruiterRelationOther  \\\n0                      0.0                      0.0                     0.0   \n1                      0.0                      0.0                     0.0   \n2                      0.0                      0.0                     0.0   \n3                      0.0                      0.0                     0.0   \n4                      0.0                      0.0                     0.0   \n\n   recruiterRelationUnknown  nacionalidade_lat  nacionalidade_long  \\\n0                       1.0           4.570868          -74.297333   \n1                       1.0           4.570868          -74.297333   \n2                       1.0           4.570868          -74.297333   \n3                       1.0           4.570868          -74.297333   \n4                       1.0           4.570868          -74.297333   \n\n   nacionalidade  pais_exploracao_lat  pais_exploracao_long  pais_exploracao  \n0       Colombia            -22.95764              18.49041          Namibia  \n1       Colombia            -22.95764              18.49041          Namibia  \n2       Colombia            -22.95764              18.49041          Namibia  \n3       Colombia            -22.95764              18.49041          Namibia  \n4       Colombia            -22.95764              18.49041          Namibia  \n\n[5 rows x 65 columns]",
      "text/html": "<div>\n<style scoped>\n    .dataframe tbody tr th:only-of-type {\n        vertical-align: middle;\n    }\n\n    .dataframe tbody tr th {\n        vertical-align: top;\n    }\n\n    .dataframe thead th {\n        text-align: right;\n    }\n</style>\n<table border=\"1\" class=\"dataframe\">\n  <thead>\n    <tr style=\"text-align: right;\">\n      <th></th>\n      <th>yearOfRegistration</th>\n      <th>Datasource</th>\n      <th>gender</th>\n      <th>ageBroad</th>\n      <th>majorityStatus</th>\n      <th>majorityStatusAtExploit</th>\n      <th>majorityEntry</th>\n      <th>citizenship</th>\n      <th>meansOfControlDebtBondage</th>\n      <th>meansOfControlTakesEarnings</th>\n      <th>...</th>\n      <th>recruiterRelationFriend</th>\n      <th>recruiterRelationFamily</th>\n      <th>recruiterRelationOther</th>\n      <th>recruiterRelationUnknown</th>\n      <th>nacionalidade_lat</th>\n      <th>nacionalidade_long</th>\n      <th>nacionalidade</th>\n      <th>pais_exploracao_lat</th>\n      <th>pais_exploracao_long</th>\n      <th>pais_exploracao</th>\n    </tr>\n  </thead>\n  <tbody>\n    <tr>\n      <th>0</th>\n      <td>2002</td>\n      <td>Case Management</td>\n      <td>Female</td>\n      <td>18--20</td>\n      <td>Adult</td>\n      <td>NaN</td>\n      <td>NaN</td>\n      <td>CO</td>\n      <td>NaN</td>\n      <td>NaN</td>\n      <td>...</td>\n      <td>0.0</td>\n      <td>0.0</td>\n      <td>0.0</td>\n      <td>1.0</td>\n      <td>4.570868</td>\n      <td>-74.297333</td>\n      <td>Colombia</td>\n      <td>-22.95764</td>\n      <td>18.49041</td>\n      <td>Namibia</td>\n    </tr>\n    <tr>\n      <th>1</th>\n      <td>2002</td>\n      <td>Case Management</td>\n      <td>Female</td>\n      <td>18--20</td>\n      <td>Adult</td>\n      <td>NaN</td>\n      <td>NaN</td>\n      <td>CO</td>\n      <td>NaN</td>\n      <td>NaN</td>\n      <td>...</td>\n      <td>0.0</td>\n      <td>0.0</td>\n      <td>0.0</td>\n      <td>1.0</td>\n      <td>4.570868</td>\n      <td>-74.297333</td>\n      <td>Colombia</td>\n      <td>-22.95764</td>\n      <td>18.49041</td>\n      <td>Namibia</td>\n    </tr>\n    <tr>\n      <th>2</th>\n      <td>2002</td>\n      <td>Case Management</td>\n      <td>Female</td>\n      <td>18--20</td>\n      <td>Adult</td>\n      <td>NaN</td>\n      <td>NaN</td>\n      <td>CO</td>\n      <td>NaN</td>\n      <td>NaN</td>\n      <td>...</td>\n      <td>0.0</td>\n      <td>0.0</td>\n      <td>0.0</td>\n      <td>1.0</td>\n      <td>4.570868</td>\n      <td>-74.297333</td>\n      <td>Colombia</td>\n      <td>-22.95764</td>\n      <td>18.49041</td>\n      <td>Namibia</td>\n    </tr>\n    <tr>\n      <th>3</th>\n      <td>2002</td>\n      <td>Case Management</td>\n      <td>Female</td>\n      <td>18--20</td>\n      <td>Adult</td>\n      <td>NaN</td>\n      <td>NaN</td>\n      <td>CO</td>\n      <td>NaN</td>\n      <td>NaN</td>\n      <td>...</td>\n      <td>0.0</td>\n      <td>0.0</td>\n      <td>0.0</td>\n      <td>1.0</td>\n      <td>4.570868</td>\n      <td>-74.297333</td>\n      <td>Colombia</td>\n      <td>-22.95764</td>\n      <td>18.49041</td>\n      <td>Namibia</td>\n    </tr>\n    <tr>\n      <th>4</th>\n      <td>2002</td>\n      <td>Case Management</td>\n      <td>Female</td>\n      <td>18--20</td>\n      <td>Adult</td>\n      <td>NaN</td>\n      <td>NaN</td>\n      <td>CO</td>\n      <td>NaN</td>\n      <td>NaN</td>\n      <td>...</td>\n      <td>0.0</td>\n      <td>0.0</td>\n      <td>0.0</td>\n      <td>1.0</td>\n      <td>4.570868</td>\n      <td>-74.297333</td>\n      <td>Colombia</td>\n      <td>-22.95764</td>\n      <td>18.49041</td>\n      <td>Namibia</td>\n    </tr>\n  </tbody>\n</table>\n<p>5 rows × 65 columns</p>\n</div>"
     },
     "metadata": {},
     "execution_count": 49
    }
   ],
   "source": [
    "dados.head()"
   ]
  },
  {
   "cell_type": "code",
   "execution_count": 50,
   "metadata": {},
   "outputs": [
    {
     "output_type": "execute_result",
     "data": {
      "text/plain": "(39071, 65)"
     },
     "metadata": {},
     "execution_count": 50
    }
   ],
   "source": [
    "dados.shape"
   ]
  },
  {
   "cell_type": "markdown",
   "metadata": {},
   "source": [
    "### citizenship: nacionalidade"
   ]
  },
  {
   "cell_type": "code",
   "execution_count": 51,
   "metadata": {},
   "outputs": [
    {
     "output_type": "execute_result",
     "data": {
      "text/plain": "  code  contagem\n0   PH     11365\n1   UA      7761\n2   MD      5432\n3   US      3636\n4   KH      1979",
      "text/html": "<div>\n<style scoped>\n    .dataframe tbody tr th:only-of-type {\n        vertical-align: middle;\n    }\n\n    .dataframe tbody tr th {\n        vertical-align: top;\n    }\n\n    .dataframe thead th {\n        text-align: right;\n    }\n</style>\n<table border=\"1\" class=\"dataframe\">\n  <thead>\n    <tr style=\"text-align: right;\">\n      <th></th>\n      <th>code</th>\n      <th>contagem</th>\n    </tr>\n  </thead>\n  <tbody>\n    <tr>\n      <th>0</th>\n      <td>PH</td>\n      <td>11365</td>\n    </tr>\n    <tr>\n      <th>1</th>\n      <td>UA</td>\n      <td>7761</td>\n    </tr>\n    <tr>\n      <th>2</th>\n      <td>MD</td>\n      <td>5432</td>\n    </tr>\n    <tr>\n      <th>3</th>\n      <td>US</td>\n      <td>3636</td>\n    </tr>\n    <tr>\n      <th>4</th>\n      <td>KH</td>\n      <td>1979</td>\n    </tr>\n  </tbody>\n</table>\n</div>"
     },
     "metadata": {},
     "execution_count": 51
    }
   ],
   "source": [
    "map_chor = dados.get('citizenship').value_counts().reset_index()\n",
    "map_chor.rename(columns={'index':'code','citizenship':'contagem'}, inplace=True)\n",
    "map_chor.head()"
   ]
  },
  {
   "cell_type": "code",
   "execution_count": 52,
   "metadata": {},
   "outputs": [
    {
     "output_type": "execute_result",
     "data": {
      "text/plain": "  code  contagem country           name\n0   PH     11365      PH    Philippines\n1   UA      7761      UA        Ukraine\n2   MD      5432      MD        Moldova\n3   US      3636      US  United States\n4   KH      1979      KH       Cambodia",
      "text/html": "<div>\n<style scoped>\n    .dataframe tbody tr th:only-of-type {\n        vertical-align: middle;\n    }\n\n    .dataframe tbody tr th {\n        vertical-align: top;\n    }\n\n    .dataframe thead th {\n        text-align: right;\n    }\n</style>\n<table border=\"1\" class=\"dataframe\">\n  <thead>\n    <tr style=\"text-align: right;\">\n      <th></th>\n      <th>code</th>\n      <th>contagem</th>\n      <th>country</th>\n      <th>name</th>\n    </tr>\n  </thead>\n  <tbody>\n    <tr>\n      <th>0</th>\n      <td>PH</td>\n      <td>11365</td>\n      <td>PH</td>\n      <td>Philippines</td>\n    </tr>\n    <tr>\n      <th>1</th>\n      <td>UA</td>\n      <td>7761</td>\n      <td>UA</td>\n      <td>Ukraine</td>\n    </tr>\n    <tr>\n      <th>2</th>\n      <td>MD</td>\n      <td>5432</td>\n      <td>MD</td>\n      <td>Moldova</td>\n    </tr>\n    <tr>\n      <th>3</th>\n      <td>US</td>\n      <td>3636</td>\n      <td>US</td>\n      <td>United States</td>\n    </tr>\n    <tr>\n      <th>4</th>\n      <td>KH</td>\n      <td>1979</td>\n      <td>KH</td>\n      <td>Cambodia</td>\n    </tr>\n  </tbody>\n</table>\n</div>"
     },
     "metadata": {},
     "execution_count": 52
    }
   ],
   "source": [
    "map_chor = map_chor.merge(\n",
    "    lon_lat_country.get(['country','name']),\n",
    "    how=\"left\",\n",
    "    left_on='code',\n",
    "    right_on=\"country\")\n",
    "map_chor.drop(columns=['country'],inplace = True)\n",
    "map_chor.head()    "
   ]
  },
  {
   "cell_type": "code",
   "execution_count": 55,
   "metadata": {},
   "outputs": [
    {
     "output_type": "execute_result",
     "data": {
      "text/plain": "  alpha_2 alpha_3\n0      AF     AFG\n1      AL     ALB\n2      DZ     DZA\n3      AS     ASM\n4      AD     AND",
      "text/html": "<div>\n<style scoped>\n    .dataframe tbody tr th:only-of-type {\n        vertical-align: middle;\n    }\n\n    .dataframe tbody tr th {\n        vertical-align: top;\n    }\n\n    .dataframe thead th {\n        text-align: right;\n    }\n</style>\n<table border=\"1\" class=\"dataframe\">\n  <thead>\n    <tr style=\"text-align: right;\">\n      <th></th>\n      <th>alpha_2</th>\n      <th>alpha_3</th>\n    </tr>\n  </thead>\n  <tbody>\n    <tr>\n      <th>0</th>\n      <td>AF</td>\n      <td>AFG</td>\n    </tr>\n    <tr>\n      <th>1</th>\n      <td>AL</td>\n      <td>ALB</td>\n    </tr>\n    <tr>\n      <th>2</th>\n      <td>DZ</td>\n      <td>DZA</td>\n    </tr>\n    <tr>\n      <th>3</th>\n      <td>AS</td>\n      <td>ASM</td>\n    </tr>\n    <tr>\n      <th>4</th>\n      <td>AD</td>\n      <td>AND</td>\n    </tr>\n  </tbody>\n</table>\n</div>"
     },
     "metadata": {},
     "execution_count": 55
    }
   ],
   "source": [
    "# o padrao de codigo do plotly é o de alpha 3\n",
    "alpha = pd.read_csv('alpha2_alpha3.csv')\n",
    "alpha.head()"
   ]
  },
  {
   "cell_type": "code",
   "execution_count": 56,
   "metadata": {},
   "outputs": [
    {
     "output_type": "execute_result",
     "data": {
      "text/plain": "  code  contagem           name alpha_3\n0   PH     11365    Philippines     PHL\n1   UA      7761        Ukraine     UKR\n2   MD      5432        Moldova     MDA\n3   US      3636  United States     USA\n4   KH      1979       Cambodia     KHM",
      "text/html": "<div>\n<style scoped>\n    .dataframe tbody tr th:only-of-type {\n        vertical-align: middle;\n    }\n\n    .dataframe tbody tr th {\n        vertical-align: top;\n    }\n\n    .dataframe thead th {\n        text-align: right;\n    }\n</style>\n<table border=\"1\" class=\"dataframe\">\n  <thead>\n    <tr style=\"text-align: right;\">\n      <th></th>\n      <th>code</th>\n      <th>contagem</th>\n      <th>name</th>\n      <th>alpha_3</th>\n    </tr>\n  </thead>\n  <tbody>\n    <tr>\n      <th>0</th>\n      <td>PH</td>\n      <td>11365</td>\n      <td>Philippines</td>\n      <td>PHL</td>\n    </tr>\n    <tr>\n      <th>1</th>\n      <td>UA</td>\n      <td>7761</td>\n      <td>Ukraine</td>\n      <td>UKR</td>\n    </tr>\n    <tr>\n      <th>2</th>\n      <td>MD</td>\n      <td>5432</td>\n      <td>Moldova</td>\n      <td>MDA</td>\n    </tr>\n    <tr>\n      <th>3</th>\n      <td>US</td>\n      <td>3636</td>\n      <td>United States</td>\n      <td>USA</td>\n    </tr>\n    <tr>\n      <th>4</th>\n      <td>KH</td>\n      <td>1979</td>\n      <td>Cambodia</td>\n      <td>KHM</td>\n    </tr>\n  </tbody>\n</table>\n</div>"
     },
     "metadata": {},
     "execution_count": 56
    }
   ],
   "source": [
    "map_chor = map_chor.merge(alpha, how='left',left_on='code',right_on='alpha_2')\n",
    "map_chor.drop(columns=['alpha_2'],inplace = True)\n",
    "map_chor.head()"
   ]
  },
  {
   "cell_type": "code",
   "execution_count": 58,
   "metadata": {},
   "outputs": [
    {
     "output_type": "display_data",
     "data": {
      "application/vnd.plotly.v1+json": {
       "config": {
        "plotlyServerURL": "https://plot.ly"
       },
       "data": [
        {
         "autocolorscale": false,
         "colorbar": {
          "title": {
           "text": "Quantidade"
          }
         },
         "colorscale": [
          [
           0,
           "rgb(247,251,255)"
          ],
          [
           0.125,
           "rgb(222,235,247)"
          ],
          [
           0.25,
           "rgb(198,219,239)"
          ],
          [
           0.375,
           "rgb(158,202,225)"
          ],
          [
           0.5,
           "rgb(107,174,214)"
          ],
          [
           0.625,
           "rgb(66,146,198)"
          ],
          [
           0.75,
           "rgb(33,113,181)"
          ],
          [
           0.875,
           "rgb(8,81,156)"
          ],
          [
           1,
           "rgb(8,48,107)"
          ]
         ],
         "locations": [
          "PHL",
          "UKR",
          "MDA",
          "USA",
          "KHM",
          "IDN",
          "MMR",
          "MMR",
          "BLR",
          "ROU",
          "GHA",
          "BGR",
          "HTI",
          "KGZ",
          "UZB",
          "VNM",
          "VNM",
          "GNB",
          "LAO",
          "COL",
          "NGA",
          "AFG",
          "MDG",
          "LKA",
          "SLE",
          "SEN",
          "UGA",
          "THA",
          "KAZ",
          "COD",
          "MLI",
          "TJK",
          "BFA",
          "KEN",
          "NER",
          "CIV",
          "CIV",
          "NPL",
          "TKM",
          "CHN",
          "ALB",
          "MEX",
          "BOL",
          "BOL",
          "GIN",
          "ERI",
          "KOR",
          "KOR",
          "BGD"
         ],
         "marker": {
          "line": {
           "color": "darkgray",
           "width": 0.5
          }
         },
         "reversescale": true,
         "text": [
          "Philippines",
          "Ukraine",
          "Moldova",
          "United States",
          "Cambodia",
          "Indonesia",
          "Myanmar [Burma]",
          "Myanmar [Burma]",
          "Belarus",
          "Romania",
          "Ghana",
          "Bulgaria",
          "Haiti",
          "Kyrgyzstan",
          "Uzbekistan",
          "Vietnam",
          "Vietnam",
          "Guinea-Bissau",
          "Laos",
          "Colombia",
          "Nigeria",
          "Afghanistan",
          "Madagascar",
          "Sri Lanka",
          "Sierra Leone",
          "Senegal",
          "Uganda",
          "Thailand",
          "Kazakhstan",
          "Congo [DRC]",
          "Mali",
          "Tajikistan",
          "Burkina Faso",
          "Kenya",
          "Niger",
          "Côte d'Ivoire",
          "Côte d'Ivoire",
          "Nepal",
          "Turkmenistan",
          "China",
          "Albania",
          "Mexico",
          "Bolivia",
          "Bolivia",
          "Guinea",
          "Eritrea",
          "South Korea",
          "South Korea",
          "Bangladesh"
         ],
         "type": "choropleth",
         "z": [
          11365,
          7761,
          5432,
          3636,
          1979,
          1971,
          1250,
          1250,
          1239,
          655,
          544,
          342,
          339,
          286,
          261,
          170,
          170,
          145,
          126,
          124,
          108,
          97,
          94,
          85,
          81,
          70,
          70,
          55,
          54,
          53,
          45,
          43,
          33,
          32,
          31,
          31,
          31,
          27,
          26,
          23,
          22,
          19,
          18,
          18,
          15,
          13,
          12,
          12,
          11
         ]
        }
       ],
       "layout": {
        "geo": {
         "projection": {
          "type": "equirectangular"
         },
         "showcoastlines": false,
         "showframe": false
        },
        "template": {
         "data": {
          "bar": [
           {
            "error_x": {
             "color": "#2a3f5f"
            },
            "error_y": {
             "color": "#2a3f5f"
            },
            "marker": {
             "line": {
              "color": "#E5ECF6",
              "width": 0.5
             }
            },
            "type": "bar"
           }
          ],
          "barpolar": [
           {
            "marker": {
             "line": {
              "color": "#E5ECF6",
              "width": 0.5
             }
            },
            "type": "barpolar"
           }
          ],
          "carpet": [
           {
            "aaxis": {
             "endlinecolor": "#2a3f5f",
             "gridcolor": "white",
             "linecolor": "white",
             "minorgridcolor": "white",
             "startlinecolor": "#2a3f5f"
            },
            "baxis": {
             "endlinecolor": "#2a3f5f",
             "gridcolor": "white",
             "linecolor": "white",
             "minorgridcolor": "white",
             "startlinecolor": "#2a3f5f"
            },
            "type": "carpet"
           }
          ],
          "choropleth": [
           {
            "colorbar": {
             "outlinewidth": 0,
             "ticks": ""
            },
            "type": "choropleth"
           }
          ],
          "contour": [
           {
            "colorbar": {
             "outlinewidth": 0,
             "ticks": ""
            },
            "colorscale": [
             [
              0,
              "#0d0887"
             ],
             [
              0.1111111111111111,
              "#46039f"
             ],
             [
              0.2222222222222222,
              "#7201a8"
             ],
             [
              0.3333333333333333,
              "#9c179e"
             ],
             [
              0.4444444444444444,
              "#bd3786"
             ],
             [
              0.5555555555555556,
              "#d8576b"
             ],
             [
              0.6666666666666666,
              "#ed7953"
             ],
             [
              0.7777777777777778,
              "#fb9f3a"
             ],
             [
              0.8888888888888888,
              "#fdca26"
             ],
             [
              1,
              "#f0f921"
             ]
            ],
            "type": "contour"
           }
          ],
          "contourcarpet": [
           {
            "colorbar": {
             "outlinewidth": 0,
             "ticks": ""
            },
            "type": "contourcarpet"
           }
          ],
          "heatmap": [
           {
            "colorbar": {
             "outlinewidth": 0,
             "ticks": ""
            },
            "colorscale": [
             [
              0,
              "#0d0887"
             ],
             [
              0.1111111111111111,
              "#46039f"
             ],
             [
              0.2222222222222222,
              "#7201a8"
             ],
             [
              0.3333333333333333,
              "#9c179e"
             ],
             [
              0.4444444444444444,
              "#bd3786"
             ],
             [
              0.5555555555555556,
              "#d8576b"
             ],
             [
              0.6666666666666666,
              "#ed7953"
             ],
             [
              0.7777777777777778,
              "#fb9f3a"
             ],
             [
              0.8888888888888888,
              "#fdca26"
             ],
             [
              1,
              "#f0f921"
             ]
            ],
            "type": "heatmap"
           }
          ],
          "heatmapgl": [
           {
            "colorbar": {
             "outlinewidth": 0,
             "ticks": ""
            },
            "colorscale": [
             [
              0,
              "#0d0887"
             ],
             [
              0.1111111111111111,
              "#46039f"
             ],
             [
              0.2222222222222222,
              "#7201a8"
             ],
             [
              0.3333333333333333,
              "#9c179e"
             ],
             [
              0.4444444444444444,
              "#bd3786"
             ],
             [
              0.5555555555555556,
              "#d8576b"
             ],
             [
              0.6666666666666666,
              "#ed7953"
             ],
             [
              0.7777777777777778,
              "#fb9f3a"
             ],
             [
              0.8888888888888888,
              "#fdca26"
             ],
             [
              1,
              "#f0f921"
             ]
            ],
            "type": "heatmapgl"
           }
          ],
          "histogram": [
           {
            "marker": {
             "colorbar": {
              "outlinewidth": 0,
              "ticks": ""
             }
            },
            "type": "histogram"
           }
          ],
          "histogram2d": [
           {
            "colorbar": {
             "outlinewidth": 0,
             "ticks": ""
            },
            "colorscale": [
             [
              0,
              "#0d0887"
             ],
             [
              0.1111111111111111,
              "#46039f"
             ],
             [
              0.2222222222222222,
              "#7201a8"
             ],
             [
              0.3333333333333333,
              "#9c179e"
             ],
             [
              0.4444444444444444,
              "#bd3786"
             ],
             [
              0.5555555555555556,
              "#d8576b"
             ],
             [
              0.6666666666666666,
              "#ed7953"
             ],
             [
              0.7777777777777778,
              "#fb9f3a"
             ],
             [
              0.8888888888888888,
              "#fdca26"
             ],
             [
              1,
              "#f0f921"
             ]
            ],
            "type": "histogram2d"
           }
          ],
          "histogram2dcontour": [
           {
            "colorbar": {
             "outlinewidth": 0,
             "ticks": ""
            },
            "colorscale": [
             [
              0,
              "#0d0887"
             ],
             [
              0.1111111111111111,
              "#46039f"
             ],
             [
              0.2222222222222222,
              "#7201a8"
             ],
             [
              0.3333333333333333,
              "#9c179e"
             ],
             [
              0.4444444444444444,
              "#bd3786"
             ],
             [
              0.5555555555555556,
              "#d8576b"
             ],
             [
              0.6666666666666666,
              "#ed7953"
             ],
             [
              0.7777777777777778,
              "#fb9f3a"
             ],
             [
              0.8888888888888888,
              "#fdca26"
             ],
             [
              1,
              "#f0f921"
             ]
            ],
            "type": "histogram2dcontour"
           }
          ],
          "mesh3d": [
           {
            "colorbar": {
             "outlinewidth": 0,
             "ticks": ""
            },
            "type": "mesh3d"
           }
          ],
          "parcoords": [
           {
            "line": {
             "colorbar": {
              "outlinewidth": 0,
              "ticks": ""
             }
            },
            "type": "parcoords"
           }
          ],
          "pie": [
           {
            "automargin": true,
            "type": "pie"
           }
          ],
          "scatter": [
           {
            "marker": {
             "colorbar": {
              "outlinewidth": 0,
              "ticks": ""
             }
            },
            "type": "scatter"
           }
          ],
          "scatter3d": [
           {
            "line": {
             "colorbar": {
              "outlinewidth": 0,
              "ticks": ""
             }
            },
            "marker": {
             "colorbar": {
              "outlinewidth": 0,
              "ticks": ""
             }
            },
            "type": "scatter3d"
           }
          ],
          "scattercarpet": [
           {
            "marker": {
             "colorbar": {
              "outlinewidth": 0,
              "ticks": ""
             }
            },
            "type": "scattercarpet"
           }
          ],
          "scattergeo": [
           {
            "marker": {
             "colorbar": {
              "outlinewidth": 0,
              "ticks": ""
             }
            },
            "type": "scattergeo"
           }
          ],
          "scattergl": [
           {
            "marker": {
             "colorbar": {
              "outlinewidth": 0,
              "ticks": ""
             }
            },
            "type": "scattergl"
           }
          ],
          "scattermapbox": [
           {
            "marker": {
             "colorbar": {
              "outlinewidth": 0,
              "ticks": ""
             }
            },
            "type": "scattermapbox"
           }
          ],
          "scatterpolar": [
           {
            "marker": {
             "colorbar": {
              "outlinewidth": 0,
              "ticks": ""
             }
            },
            "type": "scatterpolar"
           }
          ],
          "scatterpolargl": [
           {
            "marker": {
             "colorbar": {
              "outlinewidth": 0,
              "ticks": ""
             }
            },
            "type": "scatterpolargl"
           }
          ],
          "scatterternary": [
           {
            "marker": {
             "colorbar": {
              "outlinewidth": 0,
              "ticks": ""
             }
            },
            "type": "scatterternary"
           }
          ],
          "surface": [
           {
            "colorbar": {
             "outlinewidth": 0,
             "ticks": ""
            },
            "colorscale": [
             [
              0,
              "#0d0887"
             ],
             [
              0.1111111111111111,
              "#46039f"
             ],
             [
              0.2222222222222222,
              "#7201a8"
             ],
             [
              0.3333333333333333,
              "#9c179e"
             ],
             [
              0.4444444444444444,
              "#bd3786"
             ],
             [
              0.5555555555555556,
              "#d8576b"
             ],
             [
              0.6666666666666666,
              "#ed7953"
             ],
             [
              0.7777777777777778,
              "#fb9f3a"
             ],
             [
              0.8888888888888888,
              "#fdca26"
             ],
             [
              1,
              "#f0f921"
             ]
            ],
            "type": "surface"
           }
          ],
          "table": [
           {
            "cells": {
             "fill": {
              "color": "#EBF0F8"
             },
             "line": {
              "color": "white"
             }
            },
            "header": {
             "fill": {
              "color": "#C8D4E3"
             },
             "line": {
              "color": "white"
             }
            },
            "type": "table"
           }
          ]
         },
         "layout": {
          "annotationdefaults": {
           "arrowcolor": "#2a3f5f",
           "arrowhead": 0,
           "arrowwidth": 1
          },
          "coloraxis": {
           "colorbar": {
            "outlinewidth": 0,
            "ticks": ""
           }
          },
          "colorscale": {
           "diverging": [
            [
             0,
             "#8e0152"
            ],
            [
             0.1,
             "#c51b7d"
            ],
            [
             0.2,
             "#de77ae"
            ],
            [
             0.3,
             "#f1b6da"
            ],
            [
             0.4,
             "#fde0ef"
            ],
            [
             0.5,
             "#f7f7f7"
            ],
            [
             0.6,
             "#e6f5d0"
            ],
            [
             0.7,
             "#b8e186"
            ],
            [
             0.8,
             "#7fbc41"
            ],
            [
             0.9,
             "#4d9221"
            ],
            [
             1,
             "#276419"
            ]
           ],
           "sequential": [
            [
             0,
             "#0d0887"
            ],
            [
             0.1111111111111111,
             "#46039f"
            ],
            [
             0.2222222222222222,
             "#7201a8"
            ],
            [
             0.3333333333333333,
             "#9c179e"
            ],
            [
             0.4444444444444444,
             "#bd3786"
            ],
            [
             0.5555555555555556,
             "#d8576b"
            ],
            [
             0.6666666666666666,
             "#ed7953"
            ],
            [
             0.7777777777777778,
             "#fb9f3a"
            ],
            [
             0.8888888888888888,
             "#fdca26"
            ],
            [
             1,
             "#f0f921"
            ]
           ],
           "sequentialminus": [
            [
             0,
             "#0d0887"
            ],
            [
             0.1111111111111111,
             "#46039f"
            ],
            [
             0.2222222222222222,
             "#7201a8"
            ],
            [
             0.3333333333333333,
             "#9c179e"
            ],
            [
             0.4444444444444444,
             "#bd3786"
            ],
            [
             0.5555555555555556,
             "#d8576b"
            ],
            [
             0.6666666666666666,
             "#ed7953"
            ],
            [
             0.7777777777777778,
             "#fb9f3a"
            ],
            [
             0.8888888888888888,
             "#fdca26"
            ],
            [
             1,
             "#f0f921"
            ]
           ]
          },
          "colorway": [
           "#636efa",
           "#EF553B",
           "#00cc96",
           "#ab63fa",
           "#FFA15A",
           "#19d3f3",
           "#FF6692",
           "#B6E880",
           "#FF97FF",
           "#FECB52"
          ],
          "font": {
           "color": "#2a3f5f"
          },
          "geo": {
           "bgcolor": "white",
           "lakecolor": "white",
           "landcolor": "#E5ECF6",
           "showlakes": true,
           "showland": true,
           "subunitcolor": "white"
          },
          "hoverlabel": {
           "align": "left"
          },
          "hovermode": "closest",
          "mapbox": {
           "style": "light"
          },
          "paper_bgcolor": "white",
          "plot_bgcolor": "#E5ECF6",
          "polar": {
           "angularaxis": {
            "gridcolor": "white",
            "linecolor": "white",
            "ticks": ""
           },
           "bgcolor": "#E5ECF6",
           "radialaxis": {
            "gridcolor": "white",
            "linecolor": "white",
            "ticks": ""
           }
          },
          "scene": {
           "xaxis": {
            "backgroundcolor": "#E5ECF6",
            "gridcolor": "white",
            "gridwidth": 2,
            "linecolor": "white",
            "showbackground": true,
            "ticks": "",
            "zerolinecolor": "white"
           },
           "yaxis": {
            "backgroundcolor": "#E5ECF6",
            "gridcolor": "white",
            "gridwidth": 2,
            "linecolor": "white",
            "showbackground": true,
            "ticks": "",
            "zerolinecolor": "white"
           },
           "zaxis": {
            "backgroundcolor": "#E5ECF6",
            "gridcolor": "white",
            "gridwidth": 2,
            "linecolor": "white",
            "showbackground": true,
            "ticks": "",
            "zerolinecolor": "white"
           }
          },
          "shapedefaults": {
           "line": {
            "color": "#2a3f5f"
           }
          },
          "ternary": {
           "aaxis": {
            "gridcolor": "white",
            "linecolor": "white",
            "ticks": ""
           },
           "baxis": {
            "gridcolor": "white",
            "linecolor": "white",
            "ticks": ""
           },
           "bgcolor": "#E5ECF6",
           "caxis": {
            "gridcolor": "white",
            "linecolor": "white",
            "ticks": ""
           }
          },
          "title": {
           "x": 0.05
          },
          "xaxis": {
           "automargin": true,
           "gridcolor": "white",
           "linecolor": "white",
           "ticks": "",
           "title": {
            "standoff": 15
           },
           "zerolinecolor": "white",
           "zerolinewidth": 2
          },
          "yaxis": {
           "automargin": true,
           "gridcolor": "white",
           "linecolor": "white",
           "ticks": "",
           "title": {
            "standoff": 15
           },
           "zerolinecolor": "white",
           "zerolinewidth": 2
          }
         }
        },
        "title": {
         "text": "Nacionalidade das pessoas exploradas"
        }
       }
      }
     },
     "metadata": {}
    }
   ],
   "source": [
    "fig = go.Figure(data=go.Choropleth(\n",
    "    locations = map_chor['alpha_3'],\n",
    "    z = map_chor['contagem'],\n",
    "    text = map_chor['name'],\n",
    "    colorscale = 'Blues',\n",
    "    autocolorscale=False,\n",
    "    reversescale=True,\n",
    "    marker_line_color='darkgray',\n",
    "    marker_line_width=0.5,\n",
    "    colorbar_title = 'Quantidade',\n",
    "))\n",
    "\n",
    "fig.update_layout(\n",
    "    title_text='Nacionalidade das pessoas exploradas',\n",
    "    geo=dict(\n",
    "        showframe=False,\n",
    "        showcoastlines=False,\n",
    "        projection_type='equirectangular'\n",
    "    )\n",
    ")\n",
    "\n",
    "fig.show()"
   ]
  },
  {
   "cell_type": "markdown",
   "metadata": {},
   "source": [
    "### Plotando como orthographic"
   ]
  },
  {
   "cell_type": "code",
   "execution_count": 60,
   "metadata": {},
   "outputs": [
    {
     "output_type": "display_data",
     "data": {
      "application/vnd.plotly.v1+json": {
       "config": {
        "plotlyServerURL": "https://plot.ly"
       },
       "data": [
        {
         "autocolorscale": false,
         "colorbar": {
          "title": {
           "text": "Quantidade"
          }
         },
         "colorscale": [
          [
           0,
           "rgb(247,251,255)"
          ],
          [
           0.125,
           "rgb(222,235,247)"
          ],
          [
           0.25,
           "rgb(198,219,239)"
          ],
          [
           0.375,
           "rgb(158,202,225)"
          ],
          [
           0.5,
           "rgb(107,174,214)"
          ],
          [
           0.625,
           "rgb(66,146,198)"
          ],
          [
           0.75,
           "rgb(33,113,181)"
          ],
          [
           0.875,
           "rgb(8,81,156)"
          ],
          [
           1,
           "rgb(8,48,107)"
          ]
         ],
         "locations": [
          "PHL",
          "UKR",
          "MDA",
          "USA",
          "KHM",
          "IDN",
          "MMR",
          "MMR",
          "BLR",
          "ROU",
          "GHA",
          "BGR",
          "HTI",
          "KGZ",
          "UZB",
          "VNM",
          "VNM",
          "GNB",
          "LAO",
          "COL",
          "NGA",
          "AFG",
          "MDG",
          "LKA",
          "SLE",
          "SEN",
          "UGA",
          "THA",
          "KAZ",
          "COD",
          "MLI",
          "TJK",
          "BFA",
          "KEN",
          "NER",
          "CIV",
          "CIV",
          "NPL",
          "TKM",
          "CHN",
          "ALB",
          "MEX",
          "BOL",
          "BOL",
          "GIN",
          "ERI",
          "KOR",
          "KOR",
          "BGD"
         ],
         "marker": {
          "line": {
           "color": "darkgray",
           "width": 0.5
          }
         },
         "reversescale": true,
         "text": [
          "Philippines",
          "Ukraine",
          "Moldova",
          "United States",
          "Cambodia",
          "Indonesia",
          "Myanmar [Burma]",
          "Myanmar [Burma]",
          "Belarus",
          "Romania",
          "Ghana",
          "Bulgaria",
          "Haiti",
          "Kyrgyzstan",
          "Uzbekistan",
          "Vietnam",
          "Vietnam",
          "Guinea-Bissau",
          "Laos",
          "Colombia",
          "Nigeria",
          "Afghanistan",
          "Madagascar",
          "Sri Lanka",
          "Sierra Leone",
          "Senegal",
          "Uganda",
          "Thailand",
          "Kazakhstan",
          "Congo [DRC]",
          "Mali",
          "Tajikistan",
          "Burkina Faso",
          "Kenya",
          "Niger",
          "Côte d'Ivoire",
          "Côte d'Ivoire",
          "Nepal",
          "Turkmenistan",
          "China",
          "Albania",
          "Mexico",
          "Bolivia",
          "Bolivia",
          "Guinea",
          "Eritrea",
          "South Korea",
          "South Korea",
          "Bangladesh"
         ],
         "type": "choropleth",
         "z": [
          11365,
          7761,
          5432,
          3636,
          1979,
          1971,
          1250,
          1250,
          1239,
          655,
          544,
          342,
          339,
          286,
          261,
          170,
          170,
          145,
          126,
          124,
          108,
          97,
          94,
          85,
          81,
          70,
          70,
          55,
          54,
          53,
          45,
          43,
          33,
          32,
          31,
          31,
          31,
          27,
          26,
          23,
          22,
          19,
          18,
          18,
          15,
          13,
          12,
          12,
          11
         ]
        }
       ],
       "layout": {
        "geo": {
         "projection": {
          "type": "orthographic"
         },
         "showcoastlines": false,
         "showframe": false
        },
        "template": {
         "data": {
          "bar": [
           {
            "error_x": {
             "color": "#2a3f5f"
            },
            "error_y": {
             "color": "#2a3f5f"
            },
            "marker": {
             "line": {
              "color": "#E5ECF6",
              "width": 0.5
             }
            },
            "type": "bar"
           }
          ],
          "barpolar": [
           {
            "marker": {
             "line": {
              "color": "#E5ECF6",
              "width": 0.5
             }
            },
            "type": "barpolar"
           }
          ],
          "carpet": [
           {
            "aaxis": {
             "endlinecolor": "#2a3f5f",
             "gridcolor": "white",
             "linecolor": "white",
             "minorgridcolor": "white",
             "startlinecolor": "#2a3f5f"
            },
            "baxis": {
             "endlinecolor": "#2a3f5f",
             "gridcolor": "white",
             "linecolor": "white",
             "minorgridcolor": "white",
             "startlinecolor": "#2a3f5f"
            },
            "type": "carpet"
           }
          ],
          "choropleth": [
           {
            "colorbar": {
             "outlinewidth": 0,
             "ticks": ""
            },
            "type": "choropleth"
           }
          ],
          "contour": [
           {
            "colorbar": {
             "outlinewidth": 0,
             "ticks": ""
            },
            "colorscale": [
             [
              0,
              "#0d0887"
             ],
             [
              0.1111111111111111,
              "#46039f"
             ],
             [
              0.2222222222222222,
              "#7201a8"
             ],
             [
              0.3333333333333333,
              "#9c179e"
             ],
             [
              0.4444444444444444,
              "#bd3786"
             ],
             [
              0.5555555555555556,
              "#d8576b"
             ],
             [
              0.6666666666666666,
              "#ed7953"
             ],
             [
              0.7777777777777778,
              "#fb9f3a"
             ],
             [
              0.8888888888888888,
              "#fdca26"
             ],
             [
              1,
              "#f0f921"
             ]
            ],
            "type": "contour"
           }
          ],
          "contourcarpet": [
           {
            "colorbar": {
             "outlinewidth": 0,
             "ticks": ""
            },
            "type": "contourcarpet"
           }
          ],
          "heatmap": [
           {
            "colorbar": {
             "outlinewidth": 0,
             "ticks": ""
            },
            "colorscale": [
             [
              0,
              "#0d0887"
             ],
             [
              0.1111111111111111,
              "#46039f"
             ],
             [
              0.2222222222222222,
              "#7201a8"
             ],
             [
              0.3333333333333333,
              "#9c179e"
             ],
             [
              0.4444444444444444,
              "#bd3786"
             ],
             [
              0.5555555555555556,
              "#d8576b"
             ],
             [
              0.6666666666666666,
              "#ed7953"
             ],
             [
              0.7777777777777778,
              "#fb9f3a"
             ],
             [
              0.8888888888888888,
              "#fdca26"
             ],
             [
              1,
              "#f0f921"
             ]
            ],
            "type": "heatmap"
           }
          ],
          "heatmapgl": [
           {
            "colorbar": {
             "outlinewidth": 0,
             "ticks": ""
            },
            "colorscale": [
             [
              0,
              "#0d0887"
             ],
             [
              0.1111111111111111,
              "#46039f"
             ],
             [
              0.2222222222222222,
              "#7201a8"
             ],
             [
              0.3333333333333333,
              "#9c179e"
             ],
             [
              0.4444444444444444,
              "#bd3786"
             ],
             [
              0.5555555555555556,
              "#d8576b"
             ],
             [
              0.6666666666666666,
              "#ed7953"
             ],
             [
              0.7777777777777778,
              "#fb9f3a"
             ],
             [
              0.8888888888888888,
              "#fdca26"
             ],
             [
              1,
              "#f0f921"
             ]
            ],
            "type": "heatmapgl"
           }
          ],
          "histogram": [
           {
            "marker": {
             "colorbar": {
              "outlinewidth": 0,
              "ticks": ""
             }
            },
            "type": "histogram"
           }
          ],
          "histogram2d": [
           {
            "colorbar": {
             "outlinewidth": 0,
             "ticks": ""
            },
            "colorscale": [
             [
              0,
              "#0d0887"
             ],
             [
              0.1111111111111111,
              "#46039f"
             ],
             [
              0.2222222222222222,
              "#7201a8"
             ],
             [
              0.3333333333333333,
              "#9c179e"
             ],
             [
              0.4444444444444444,
              "#bd3786"
             ],
             [
              0.5555555555555556,
              "#d8576b"
             ],
             [
              0.6666666666666666,
              "#ed7953"
             ],
             [
              0.7777777777777778,
              "#fb9f3a"
             ],
             [
              0.8888888888888888,
              "#fdca26"
             ],
             [
              1,
              "#f0f921"
             ]
            ],
            "type": "histogram2d"
           }
          ],
          "histogram2dcontour": [
           {
            "colorbar": {
             "outlinewidth": 0,
             "ticks": ""
            },
            "colorscale": [
             [
              0,
              "#0d0887"
             ],
             [
              0.1111111111111111,
              "#46039f"
             ],
             [
              0.2222222222222222,
              "#7201a8"
             ],
             [
              0.3333333333333333,
              "#9c179e"
             ],
             [
              0.4444444444444444,
              "#bd3786"
             ],
             [
              0.5555555555555556,
              "#d8576b"
             ],
             [
              0.6666666666666666,
              "#ed7953"
             ],
             [
              0.7777777777777778,
              "#fb9f3a"
             ],
             [
              0.8888888888888888,
              "#fdca26"
             ],
             [
              1,
              "#f0f921"
             ]
            ],
            "type": "histogram2dcontour"
           }
          ],
          "mesh3d": [
           {
            "colorbar": {
             "outlinewidth": 0,
             "ticks": ""
            },
            "type": "mesh3d"
           }
          ],
          "parcoords": [
           {
            "line": {
             "colorbar": {
              "outlinewidth": 0,
              "ticks": ""
             }
            },
            "type": "parcoords"
           }
          ],
          "pie": [
           {
            "automargin": true,
            "type": "pie"
           }
          ],
          "scatter": [
           {
            "marker": {
             "colorbar": {
              "outlinewidth": 0,
              "ticks": ""
             }
            },
            "type": "scatter"
           }
          ],
          "scatter3d": [
           {
            "line": {
             "colorbar": {
              "outlinewidth": 0,
              "ticks": ""
             }
            },
            "marker": {
             "colorbar": {
              "outlinewidth": 0,
              "ticks": ""
             }
            },
            "type": "scatter3d"
           }
          ],
          "scattercarpet": [
           {
            "marker": {
             "colorbar": {
              "outlinewidth": 0,
              "ticks": ""
             }
            },
            "type": "scattercarpet"
           }
          ],
          "scattergeo": [
           {
            "marker": {
             "colorbar": {
              "outlinewidth": 0,
              "ticks": ""
             }
            },
            "type": "scattergeo"
           }
          ],
          "scattergl": [
           {
            "marker": {
             "colorbar": {
              "outlinewidth": 0,
              "ticks": ""
             }
            },
            "type": "scattergl"
           }
          ],
          "scattermapbox": [
           {
            "marker": {
             "colorbar": {
              "outlinewidth": 0,
              "ticks": ""
             }
            },
            "type": "scattermapbox"
           }
          ],
          "scatterpolar": [
           {
            "marker": {
             "colorbar": {
              "outlinewidth": 0,
              "ticks": ""
             }
            },
            "type": "scatterpolar"
           }
          ],
          "scatterpolargl": [
           {
            "marker": {
             "colorbar": {
              "outlinewidth": 0,
              "ticks": ""
             }
            },
            "type": "scatterpolargl"
           }
          ],
          "scatterternary": [
           {
            "marker": {
             "colorbar": {
              "outlinewidth": 0,
              "ticks": ""
             }
            },
            "type": "scatterternary"
           }
          ],
          "surface": [
           {
            "colorbar": {
             "outlinewidth": 0,
             "ticks": ""
            },
            "colorscale": [
             [
              0,
              "#0d0887"
             ],
             [
              0.1111111111111111,
              "#46039f"
             ],
             [
              0.2222222222222222,
              "#7201a8"
             ],
             [
              0.3333333333333333,
              "#9c179e"
             ],
             [
              0.4444444444444444,
              "#bd3786"
             ],
             [
              0.5555555555555556,
              "#d8576b"
             ],
             [
              0.6666666666666666,
              "#ed7953"
             ],
             [
              0.7777777777777778,
              "#fb9f3a"
             ],
             [
              0.8888888888888888,
              "#fdca26"
             ],
             [
              1,
              "#f0f921"
             ]
            ],
            "type": "surface"
           }
          ],
          "table": [
           {
            "cells": {
             "fill": {
              "color": "#EBF0F8"
             },
             "line": {
              "color": "white"
             }
            },
            "header": {
             "fill": {
              "color": "#C8D4E3"
             },
             "line": {
              "color": "white"
             }
            },
            "type": "table"
           }
          ]
         },
         "layout": {
          "annotationdefaults": {
           "arrowcolor": "#2a3f5f",
           "arrowhead": 0,
           "arrowwidth": 1
          },
          "coloraxis": {
           "colorbar": {
            "outlinewidth": 0,
            "ticks": ""
           }
          },
          "colorscale": {
           "diverging": [
            [
             0,
             "#8e0152"
            ],
            [
             0.1,
             "#c51b7d"
            ],
            [
             0.2,
             "#de77ae"
            ],
            [
             0.3,
             "#f1b6da"
            ],
            [
             0.4,
             "#fde0ef"
            ],
            [
             0.5,
             "#f7f7f7"
            ],
            [
             0.6,
             "#e6f5d0"
            ],
            [
             0.7,
             "#b8e186"
            ],
            [
             0.8,
             "#7fbc41"
            ],
            [
             0.9,
             "#4d9221"
            ],
            [
             1,
             "#276419"
            ]
           ],
           "sequential": [
            [
             0,
             "#0d0887"
            ],
            [
             0.1111111111111111,
             "#46039f"
            ],
            [
             0.2222222222222222,
             "#7201a8"
            ],
            [
             0.3333333333333333,
             "#9c179e"
            ],
            [
             0.4444444444444444,
             "#bd3786"
            ],
            [
             0.5555555555555556,
             "#d8576b"
            ],
            [
             0.6666666666666666,
             "#ed7953"
            ],
            [
             0.7777777777777778,
             "#fb9f3a"
            ],
            [
             0.8888888888888888,
             "#fdca26"
            ],
            [
             1,
             "#f0f921"
            ]
           ],
           "sequentialminus": [
            [
             0,
             "#0d0887"
            ],
            [
             0.1111111111111111,
             "#46039f"
            ],
            [
             0.2222222222222222,
             "#7201a8"
            ],
            [
             0.3333333333333333,
             "#9c179e"
            ],
            [
             0.4444444444444444,
             "#bd3786"
            ],
            [
             0.5555555555555556,
             "#d8576b"
            ],
            [
             0.6666666666666666,
             "#ed7953"
            ],
            [
             0.7777777777777778,
             "#fb9f3a"
            ],
            [
             0.8888888888888888,
             "#fdca26"
            ],
            [
             1,
             "#f0f921"
            ]
           ]
          },
          "colorway": [
           "#636efa",
           "#EF553B",
           "#00cc96",
           "#ab63fa",
           "#FFA15A",
           "#19d3f3",
           "#FF6692",
           "#B6E880",
           "#FF97FF",
           "#FECB52"
          ],
          "font": {
           "color": "#2a3f5f"
          },
          "geo": {
           "bgcolor": "white",
           "lakecolor": "white",
           "landcolor": "#E5ECF6",
           "showlakes": true,
           "showland": true,
           "subunitcolor": "white"
          },
          "hoverlabel": {
           "align": "left"
          },
          "hovermode": "closest",
          "mapbox": {
           "style": "light"
          },
          "paper_bgcolor": "white",
          "plot_bgcolor": "#E5ECF6",
          "polar": {
           "angularaxis": {
            "gridcolor": "white",
            "linecolor": "white",
            "ticks": ""
           },
           "bgcolor": "#E5ECF6",
           "radialaxis": {
            "gridcolor": "white",
            "linecolor": "white",
            "ticks": ""
           }
          },
          "scene": {
           "xaxis": {
            "backgroundcolor": "#E5ECF6",
            "gridcolor": "white",
            "gridwidth": 2,
            "linecolor": "white",
            "showbackground": true,
            "ticks": "",
            "zerolinecolor": "white"
           },
           "yaxis": {
            "backgroundcolor": "#E5ECF6",
            "gridcolor": "white",
            "gridwidth": 2,
            "linecolor": "white",
            "showbackground": true,
            "ticks": "",
            "zerolinecolor": "white"
           },
           "zaxis": {
            "backgroundcolor": "#E5ECF6",
            "gridcolor": "white",
            "gridwidth": 2,
            "linecolor": "white",
            "showbackground": true,
            "ticks": "",
            "zerolinecolor": "white"
           }
          },
          "shapedefaults": {
           "line": {
            "color": "#2a3f5f"
           }
          },
          "ternary": {
           "aaxis": {
            "gridcolor": "white",
            "linecolor": "white",
            "ticks": ""
           },
           "baxis": {
            "gridcolor": "white",
            "linecolor": "white",
            "ticks": ""
           },
           "bgcolor": "#E5ECF6",
           "caxis": {
            "gridcolor": "white",
            "linecolor": "white",
            "ticks": ""
           }
          },
          "title": {
           "x": 0.05
          },
          "xaxis": {
           "automargin": true,
           "gridcolor": "white",
           "linecolor": "white",
           "ticks": "",
           "title": {
            "standoff": 15
           },
           "zerolinecolor": "white",
           "zerolinewidth": 2
          },
          "yaxis": {
           "automargin": true,
           "gridcolor": "white",
           "linecolor": "white",
           "ticks": "",
           "title": {
            "standoff": 15
           },
           "zerolinecolor": "white",
           "zerolinewidth": 2
          }
         }
        },
        "title": {
         "text": "Nacionalidade das pessoas exploradas"
        }
       }
      }
     },
     "metadata": {}
    }
   ],
   "source": [
    "fig = go.Figure(data=go.Choropleth(\n",
    "    locations = map_chor['alpha_3'],\n",
    "    z = map_chor['contagem'],\n",
    "    text = map_chor['name'],\n",
    "    colorscale = 'Blues',\n",
    "    autocolorscale=False,\n",
    "    reversescale=True,\n",
    "    marker_line_color='darkgray',\n",
    "    marker_line_width=0.5,\n",
    "    colorbar_title = 'Quantidade',\n",
    "))\n",
    "\n",
    "fig.update_layout(\n",
    "    title_text='Nacionalidade das pessoas exploradas',\n",
    "    geo=dict(\n",
    "        showframe=False,\n",
    "        showcoastlines=False,\n",
    "        projection_type='orthographic'\n",
    "    )\n",
    ")\n",
    "\n",
    "fig.show()"
   ]
  },
  {
   "cell_type": "markdown",
   "metadata": {},
   "source": [
    "### CountryOfExploitation: pais onde a pessoa foi explorada"
   ]
  },
  {
   "cell_type": "code",
   "execution_count": 61,
   "metadata": {},
   "outputs": [
    {
     "output_type": "execute_result",
     "data": {
      "text/plain": "  code  contagem           name alpha_3\n0   UA      5363        Ukraine     UKR\n1   MD      4504        Moldova     MDA\n2   US      3690  United States     USA\n3   RU      2738         Russia     RUS\n4   RU      2738         Russia     RUS",
      "text/html": "<div>\n<style scoped>\n    .dataframe tbody tr th:only-of-type {\n        vertical-align: middle;\n    }\n\n    .dataframe tbody tr th {\n        vertical-align: top;\n    }\n\n    .dataframe thead th {\n        text-align: right;\n    }\n</style>\n<table border=\"1\" class=\"dataframe\">\n  <thead>\n    <tr style=\"text-align: right;\">\n      <th></th>\n      <th>code</th>\n      <th>contagem</th>\n      <th>name</th>\n      <th>alpha_3</th>\n    </tr>\n  </thead>\n  <tbody>\n    <tr>\n      <th>0</th>\n      <td>UA</td>\n      <td>5363</td>\n      <td>Ukraine</td>\n      <td>UKR</td>\n    </tr>\n    <tr>\n      <th>1</th>\n      <td>MD</td>\n      <td>4504</td>\n      <td>Moldova</td>\n      <td>MDA</td>\n    </tr>\n    <tr>\n      <th>2</th>\n      <td>US</td>\n      <td>3690</td>\n      <td>United States</td>\n      <td>USA</td>\n    </tr>\n    <tr>\n      <th>3</th>\n      <td>RU</td>\n      <td>2738</td>\n      <td>Russia</td>\n      <td>RUS</td>\n    </tr>\n    <tr>\n      <th>4</th>\n      <td>RU</td>\n      <td>2738</td>\n      <td>Russia</td>\n      <td>RUS</td>\n    </tr>\n  </tbody>\n</table>\n</div>"
     },
     "metadata": {},
     "execution_count": 61
    }
   ],
   "source": [
    "map_chor = dados.get('CountryOfExploitation').value_counts().reset_index()\n",
    "map_chor.rename(columns={'index':'code','CountryOfExploitation':'contagem'}, inplace=True)\n",
    "map_chor = map_chor.merge(\n",
    "    lon_lat_country.get(['country','name']),\n",
    "    how=\"left\",\n",
    "    left_on='code',\n",
    "    right_on=\"country\")\n",
    "map_chor.drop(columns=['country'],inplace = True)\n",
    "map_chor = map_chor.merge(alpha, how='left',left_on='code',right_on='alpha_2')\n",
    "map_chor.drop(columns=['alpha_2'],inplace = True)\n",
    "map_chor.head()"
   ]
  },
  {
   "cell_type": "code",
   "execution_count": 62,
   "metadata": {},
   "outputs": [
    {
     "output_type": "display_data",
     "data": {
      "application/vnd.plotly.v1+json": {
       "config": {
        "plotlyServerURL": "https://plot.ly"
       },
       "data": [
        {
         "autocolorscale": false,
         "colorbar": {
          "title": {
           "text": "Quantidade"
          }
         },
         "colorscale": [
          [
           0,
           "rgb(247,251,255)"
          ],
          [
           0.125,
           "rgb(222,235,247)"
          ],
          [
           0.25,
           "rgb(198,219,239)"
          ],
          [
           0.375,
           "rgb(158,202,225)"
          ],
          [
           0.5,
           "rgb(107,174,214)"
          ],
          [
           0.625,
           "rgb(66,146,198)"
          ],
          [
           0.75,
           "rgb(33,113,181)"
          ],
          [
           0.875,
           "rgb(8,81,156)"
          ],
          [
           1,
           "rgb(8,48,107)"
          ]
         ],
         "locations": [
          "UKR",
          "MDA",
          "USA",
          "RUS",
          "RUS",
          "PHL",
          "IDN",
          "KHM",
          "MYS",
          "GHA",
          "ARE",
          "BLR",
          "THA",
          "SEN",
          "BGR",
          "HTI",
          "POL",
          "SAU",
          "ROU",
          "SRB",
          "QAT",
          "KAZ",
          "KWT",
          "TUR",
          "MKD",
          "UZB",
          "BIH",
          "UGA",
          "JPN",
          "JOR",
          "OMN",
          "MDG",
          "TTO",
          "TTO",
          "AFG",
          "SLE",
          "CHN",
          "LBN",
          "TJK",
          "IND",
          "SYR",
          "CZE",
          "SGP",
          "ZAF",
          "TWN",
          "TWN",
          "HKG",
          "BGD",
          "TKM",
          "ITA",
          "AUT",
          "BHR",
          "ALB",
          "MUS",
          "ARG",
          "DNK",
          "VNM",
          "VNM",
          "EGY",
          "ECU",
          "LBY",
          "LBY",
          "CYP"
         ],
         "marker": {
          "line": {
           "color": "darkgray",
           "width": 0.5
          }
         },
         "reversescale": true,
         "text": [
          "Ukraine",
          "Moldova",
          "United States",
          "Russia",
          "Russia",
          "Philippines",
          "Indonesia",
          "Cambodia",
          "Malaysia",
          "Ghana",
          "United Arab Emirates",
          "Belarus",
          "Thailand",
          "Senegal",
          "Bulgaria",
          "Haiti",
          "Poland",
          "Saudi Arabia",
          "Romania",
          "Serbia",
          "Qatar",
          "Kazakhstan",
          "Kuwait",
          "Turkey",
          "Macedonia [FYROM]",
          "Uzbekistan",
          "Bosnia and Herzegovina",
          "Uganda",
          "Japan",
          "Jordan",
          "Oman",
          "Madagascar",
          "Trinidad and Tobago",
          "Trinidad and Tobago",
          "Afghanistan",
          "Sierra Leone",
          "China",
          "Lebanon",
          "Tajikistan",
          "India",
          "Syria",
          "Czech Republic",
          "Singapore",
          "South Africa",
          "Taiwan",
          "Taiwan",
          "Hong Kong",
          "Bangladesh",
          "Turkmenistan",
          "Italy",
          "Austria",
          "Bahrain",
          "Albania",
          "Mauritius",
          "Argentina",
          "Denmark",
          "Vietnam",
          "Vietnam",
          "Egypt",
          "Ecuador",
          "Libya",
          "Libya",
          "Cyprus"
         ],
         "type": "choropleth",
         "z": [
          5363,
          4504,
          3690,
          2738,
          2738,
          1988,
          1777,
          1000,
          930,
          544,
          504,
          400,
          391,
          370,
          356,
          339,
          326,
          278,
          259,
          248,
          239,
          222,
          209,
          197,
          194,
          193,
          127,
          123,
          111,
          108,
          94,
          94,
          85,
          85,
          83,
          81,
          79,
          73,
          54,
          46,
          41,
          38,
          37,
          36,
          33,
          33,
          31,
          26,
          26,
          24,
          24,
          22,
          22,
          20,
          18,
          17,
          16,
          16,
          13,
          13,
          11,
          11,
          11
         ]
        }
       ],
       "layout": {
        "geo": {
         "projection": {
          "type": "equirectangular"
         },
         "showcoastlines": false,
         "showframe": false
        },
        "template": {
         "data": {
          "bar": [
           {
            "error_x": {
             "color": "#2a3f5f"
            },
            "error_y": {
             "color": "#2a3f5f"
            },
            "marker": {
             "line": {
              "color": "#E5ECF6",
              "width": 0.5
             }
            },
            "type": "bar"
           }
          ],
          "barpolar": [
           {
            "marker": {
             "line": {
              "color": "#E5ECF6",
              "width": 0.5
             }
            },
            "type": "barpolar"
           }
          ],
          "carpet": [
           {
            "aaxis": {
             "endlinecolor": "#2a3f5f",
             "gridcolor": "white",
             "linecolor": "white",
             "minorgridcolor": "white",
             "startlinecolor": "#2a3f5f"
            },
            "baxis": {
             "endlinecolor": "#2a3f5f",
             "gridcolor": "white",
             "linecolor": "white",
             "minorgridcolor": "white",
             "startlinecolor": "#2a3f5f"
            },
            "type": "carpet"
           }
          ],
          "choropleth": [
           {
            "colorbar": {
             "outlinewidth": 0,
             "ticks": ""
            },
            "type": "choropleth"
           }
          ],
          "contour": [
           {
            "colorbar": {
             "outlinewidth": 0,
             "ticks": ""
            },
            "colorscale": [
             [
              0,
              "#0d0887"
             ],
             [
              0.1111111111111111,
              "#46039f"
             ],
             [
              0.2222222222222222,
              "#7201a8"
             ],
             [
              0.3333333333333333,
              "#9c179e"
             ],
             [
              0.4444444444444444,
              "#bd3786"
             ],
             [
              0.5555555555555556,
              "#d8576b"
             ],
             [
              0.6666666666666666,
              "#ed7953"
             ],
             [
              0.7777777777777778,
              "#fb9f3a"
             ],
             [
              0.8888888888888888,
              "#fdca26"
             ],
             [
              1,
              "#f0f921"
             ]
            ],
            "type": "contour"
           }
          ],
          "contourcarpet": [
           {
            "colorbar": {
             "outlinewidth": 0,
             "ticks": ""
            },
            "type": "contourcarpet"
           }
          ],
          "heatmap": [
           {
            "colorbar": {
             "outlinewidth": 0,
             "ticks": ""
            },
            "colorscale": [
             [
              0,
              "#0d0887"
             ],
             [
              0.1111111111111111,
              "#46039f"
             ],
             [
              0.2222222222222222,
              "#7201a8"
             ],
             [
              0.3333333333333333,
              "#9c179e"
             ],
             [
              0.4444444444444444,
              "#bd3786"
             ],
             [
              0.5555555555555556,
              "#d8576b"
             ],
             [
              0.6666666666666666,
              "#ed7953"
             ],
             [
              0.7777777777777778,
              "#fb9f3a"
             ],
             [
              0.8888888888888888,
              "#fdca26"
             ],
             [
              1,
              "#f0f921"
             ]
            ],
            "type": "heatmap"
           }
          ],
          "heatmapgl": [
           {
            "colorbar": {
             "outlinewidth": 0,
             "ticks": ""
            },
            "colorscale": [
             [
              0,
              "#0d0887"
             ],
             [
              0.1111111111111111,
              "#46039f"
             ],
             [
              0.2222222222222222,
              "#7201a8"
             ],
             [
              0.3333333333333333,
              "#9c179e"
             ],
             [
              0.4444444444444444,
              "#bd3786"
             ],
             [
              0.5555555555555556,
              "#d8576b"
             ],
             [
              0.6666666666666666,
              "#ed7953"
             ],
             [
              0.7777777777777778,
              "#fb9f3a"
             ],
             [
              0.8888888888888888,
              "#fdca26"
             ],
             [
              1,
              "#f0f921"
             ]
            ],
            "type": "heatmapgl"
           }
          ],
          "histogram": [
           {
            "marker": {
             "colorbar": {
              "outlinewidth": 0,
              "ticks": ""
             }
            },
            "type": "histogram"
           }
          ],
          "histogram2d": [
           {
            "colorbar": {
             "outlinewidth": 0,
             "ticks": ""
            },
            "colorscale": [
             [
              0,
              "#0d0887"
             ],
             [
              0.1111111111111111,
              "#46039f"
             ],
             [
              0.2222222222222222,
              "#7201a8"
             ],
             [
              0.3333333333333333,
              "#9c179e"
             ],
             [
              0.4444444444444444,
              "#bd3786"
             ],
             [
              0.5555555555555556,
              "#d8576b"
             ],
             [
              0.6666666666666666,
              "#ed7953"
             ],
             [
              0.7777777777777778,
              "#fb9f3a"
             ],
             [
              0.8888888888888888,
              "#fdca26"
             ],
             [
              1,
              "#f0f921"
             ]
            ],
            "type": "histogram2d"
           }
          ],
          "histogram2dcontour": [
           {
            "colorbar": {
             "outlinewidth": 0,
             "ticks": ""
            },
            "colorscale": [
             [
              0,
              "#0d0887"
             ],
             [
              0.1111111111111111,
              "#46039f"
             ],
             [
              0.2222222222222222,
              "#7201a8"
             ],
             [
              0.3333333333333333,
              "#9c179e"
             ],
             [
              0.4444444444444444,
              "#bd3786"
             ],
             [
              0.5555555555555556,
              "#d8576b"
             ],
             [
              0.6666666666666666,
              "#ed7953"
             ],
             [
              0.7777777777777778,
              "#fb9f3a"
             ],
             [
              0.8888888888888888,
              "#fdca26"
             ],
             [
              1,
              "#f0f921"
             ]
            ],
            "type": "histogram2dcontour"
           }
          ],
          "mesh3d": [
           {
            "colorbar": {
             "outlinewidth": 0,
             "ticks": ""
            },
            "type": "mesh3d"
           }
          ],
          "parcoords": [
           {
            "line": {
             "colorbar": {
              "outlinewidth": 0,
              "ticks": ""
             }
            },
            "type": "parcoords"
           }
          ],
          "pie": [
           {
            "automargin": true,
            "type": "pie"
           }
          ],
          "scatter": [
           {
            "marker": {
             "colorbar": {
              "outlinewidth": 0,
              "ticks": ""
             }
            },
            "type": "scatter"
           }
          ],
          "scatter3d": [
           {
            "line": {
             "colorbar": {
              "outlinewidth": 0,
              "ticks": ""
             }
            },
            "marker": {
             "colorbar": {
              "outlinewidth": 0,
              "ticks": ""
             }
            },
            "type": "scatter3d"
           }
          ],
          "scattercarpet": [
           {
            "marker": {
             "colorbar": {
              "outlinewidth": 0,
              "ticks": ""
             }
            },
            "type": "scattercarpet"
           }
          ],
          "scattergeo": [
           {
            "marker": {
             "colorbar": {
              "outlinewidth": 0,
              "ticks": ""
             }
            },
            "type": "scattergeo"
           }
          ],
          "scattergl": [
           {
            "marker": {
             "colorbar": {
              "outlinewidth": 0,
              "ticks": ""
             }
            },
            "type": "scattergl"
           }
          ],
          "scattermapbox": [
           {
            "marker": {
             "colorbar": {
              "outlinewidth": 0,
              "ticks": ""
             }
            },
            "type": "scattermapbox"
           }
          ],
          "scatterpolar": [
           {
            "marker": {
             "colorbar": {
              "outlinewidth": 0,
              "ticks": ""
             }
            },
            "type": "scatterpolar"
           }
          ],
          "scatterpolargl": [
           {
            "marker": {
             "colorbar": {
              "outlinewidth": 0,
              "ticks": ""
             }
            },
            "type": "scatterpolargl"
           }
          ],
          "scatterternary": [
           {
            "marker": {
             "colorbar": {
              "outlinewidth": 0,
              "ticks": ""
             }
            },
            "type": "scatterternary"
           }
          ],
          "surface": [
           {
            "colorbar": {
             "outlinewidth": 0,
             "ticks": ""
            },
            "colorscale": [
             [
              0,
              "#0d0887"
             ],
             [
              0.1111111111111111,
              "#46039f"
             ],
             [
              0.2222222222222222,
              "#7201a8"
             ],
             [
              0.3333333333333333,
              "#9c179e"
             ],
             [
              0.4444444444444444,
              "#bd3786"
             ],
             [
              0.5555555555555556,
              "#d8576b"
             ],
             [
              0.6666666666666666,
              "#ed7953"
             ],
             [
              0.7777777777777778,
              "#fb9f3a"
             ],
             [
              0.8888888888888888,
              "#fdca26"
             ],
             [
              1,
              "#f0f921"
             ]
            ],
            "type": "surface"
           }
          ],
          "table": [
           {
            "cells": {
             "fill": {
              "color": "#EBF0F8"
             },
             "line": {
              "color": "white"
             }
            },
            "header": {
             "fill": {
              "color": "#C8D4E3"
             },
             "line": {
              "color": "white"
             }
            },
            "type": "table"
           }
          ]
         },
         "layout": {
          "annotationdefaults": {
           "arrowcolor": "#2a3f5f",
           "arrowhead": 0,
           "arrowwidth": 1
          },
          "coloraxis": {
           "colorbar": {
            "outlinewidth": 0,
            "ticks": ""
           }
          },
          "colorscale": {
           "diverging": [
            [
             0,
             "#8e0152"
            ],
            [
             0.1,
             "#c51b7d"
            ],
            [
             0.2,
             "#de77ae"
            ],
            [
             0.3,
             "#f1b6da"
            ],
            [
             0.4,
             "#fde0ef"
            ],
            [
             0.5,
             "#f7f7f7"
            ],
            [
             0.6,
             "#e6f5d0"
            ],
            [
             0.7,
             "#b8e186"
            ],
            [
             0.8,
             "#7fbc41"
            ],
            [
             0.9,
             "#4d9221"
            ],
            [
             1,
             "#276419"
            ]
           ],
           "sequential": [
            [
             0,
             "#0d0887"
            ],
            [
             0.1111111111111111,
             "#46039f"
            ],
            [
             0.2222222222222222,
             "#7201a8"
            ],
            [
             0.3333333333333333,
             "#9c179e"
            ],
            [
             0.4444444444444444,
             "#bd3786"
            ],
            [
             0.5555555555555556,
             "#d8576b"
            ],
            [
             0.6666666666666666,
             "#ed7953"
            ],
            [
             0.7777777777777778,
             "#fb9f3a"
            ],
            [
             0.8888888888888888,
             "#fdca26"
            ],
            [
             1,
             "#f0f921"
            ]
           ],
           "sequentialminus": [
            [
             0,
             "#0d0887"
            ],
            [
             0.1111111111111111,
             "#46039f"
            ],
            [
             0.2222222222222222,
             "#7201a8"
            ],
            [
             0.3333333333333333,
             "#9c179e"
            ],
            [
             0.4444444444444444,
             "#bd3786"
            ],
            [
             0.5555555555555556,
             "#d8576b"
            ],
            [
             0.6666666666666666,
             "#ed7953"
            ],
            [
             0.7777777777777778,
             "#fb9f3a"
            ],
            [
             0.8888888888888888,
             "#fdca26"
            ],
            [
             1,
             "#f0f921"
            ]
           ]
          },
          "colorway": [
           "#636efa",
           "#EF553B",
           "#00cc96",
           "#ab63fa",
           "#FFA15A",
           "#19d3f3",
           "#FF6692",
           "#B6E880",
           "#FF97FF",
           "#FECB52"
          ],
          "font": {
           "color": "#2a3f5f"
          },
          "geo": {
           "bgcolor": "white",
           "lakecolor": "white",
           "landcolor": "#E5ECF6",
           "showlakes": true,
           "showland": true,
           "subunitcolor": "white"
          },
          "hoverlabel": {
           "align": "left"
          },
          "hovermode": "closest",
          "mapbox": {
           "style": "light"
          },
          "paper_bgcolor": "white",
          "plot_bgcolor": "#E5ECF6",
          "polar": {
           "angularaxis": {
            "gridcolor": "white",
            "linecolor": "white",
            "ticks": ""
           },
           "bgcolor": "#E5ECF6",
           "radialaxis": {
            "gridcolor": "white",
            "linecolor": "white",
            "ticks": ""
           }
          },
          "scene": {
           "xaxis": {
            "backgroundcolor": "#E5ECF6",
            "gridcolor": "white",
            "gridwidth": 2,
            "linecolor": "white",
            "showbackground": true,
            "ticks": "",
            "zerolinecolor": "white"
           },
           "yaxis": {
            "backgroundcolor": "#E5ECF6",
            "gridcolor": "white",
            "gridwidth": 2,
            "linecolor": "white",
            "showbackground": true,
            "ticks": "",
            "zerolinecolor": "white"
           },
           "zaxis": {
            "backgroundcolor": "#E5ECF6",
            "gridcolor": "white",
            "gridwidth": 2,
            "linecolor": "white",
            "showbackground": true,
            "ticks": "",
            "zerolinecolor": "white"
           }
          },
          "shapedefaults": {
           "line": {
            "color": "#2a3f5f"
           }
          },
          "ternary": {
           "aaxis": {
            "gridcolor": "white",
            "linecolor": "white",
            "ticks": ""
           },
           "baxis": {
            "gridcolor": "white",
            "linecolor": "white",
            "ticks": ""
           },
           "bgcolor": "#E5ECF6",
           "caxis": {
            "gridcolor": "white",
            "linecolor": "white",
            "ticks": ""
           }
          },
          "title": {
           "x": 0.05
          },
          "xaxis": {
           "automargin": true,
           "gridcolor": "white",
           "linecolor": "white",
           "ticks": "",
           "title": {
            "standoff": 15
           },
           "zerolinecolor": "white",
           "zerolinewidth": 2
          },
          "yaxis": {
           "automargin": true,
           "gridcolor": "white",
           "linecolor": "white",
           "ticks": "",
           "title": {
            "standoff": 15
           },
           "zerolinecolor": "white",
           "zerolinewidth": 2
          }
         }
        },
        "title": {
         "text": "Último país em que a vítima foi explorada"
        }
       }
      }
     },
     "metadata": {}
    }
   ],
   "source": [
    "fig = go.Figure(data=go.Choropleth(\n",
    "    locations = map_chor['alpha_3'],\n",
    "    z = map_chor['contagem'],\n",
    "    text = map_chor['name'],\n",
    "    colorscale = 'Blues',\n",
    "    autocolorscale=False,\n",
    "    reversescale=True,\n",
    "    marker_line_color='darkgray',\n",
    "    marker_line_width=0.5,\n",
    "    colorbar_title = 'Quantidade',\n",
    "))\n",
    "\n",
    "fig.update_layout(\n",
    "    title_text='Último país em que a vítima foi explorada',\n",
    "    geo=dict(\n",
    "        showframe=False,\n",
    "        showcoastlines=False,\n",
    "        projection_type='equirectangular'\n",
    "    )\n",
    ")\n",
    "\n",
    "fig.show()\n"
   ]
  },
  {
   "cell_type": "code",
   "execution_count": 63,
   "metadata": {},
   "outputs": [
    {
     "output_type": "display_data",
     "data": {
      "application/vnd.plotly.v1+json": {
       "config": {
        "plotlyServerURL": "https://plot.ly"
       },
       "data": [
        {
         "autocolorscale": false,
         "colorbar": {
          "title": {
           "text": "Quantidade"
          }
         },
         "colorscale": [
          [
           0,
           "rgb(247,251,255)"
          ],
          [
           0.125,
           "rgb(222,235,247)"
          ],
          [
           0.25,
           "rgb(198,219,239)"
          ],
          [
           0.375,
           "rgb(158,202,225)"
          ],
          [
           0.5,
           "rgb(107,174,214)"
          ],
          [
           0.625,
           "rgb(66,146,198)"
          ],
          [
           0.75,
           "rgb(33,113,181)"
          ],
          [
           0.875,
           "rgb(8,81,156)"
          ],
          [
           1,
           "rgb(8,48,107)"
          ]
         ],
         "locations": [
          "UKR",
          "MDA",
          "USA",
          "RUS",
          "RUS",
          "PHL",
          "IDN",
          "KHM",
          "MYS",
          "GHA",
          "ARE",
          "BLR",
          "THA",
          "SEN",
          "BGR",
          "HTI",
          "POL",
          "SAU",
          "ROU",
          "SRB",
          "QAT",
          "KAZ",
          "KWT",
          "TUR",
          "MKD",
          "UZB",
          "BIH",
          "UGA",
          "JPN",
          "JOR",
          "OMN",
          "MDG",
          "TTO",
          "TTO",
          "AFG",
          "SLE",
          "CHN",
          "LBN",
          "TJK",
          "IND",
          "SYR",
          "CZE",
          "SGP",
          "ZAF",
          "TWN",
          "TWN",
          "HKG",
          "BGD",
          "TKM",
          "ITA",
          "AUT",
          "BHR",
          "ALB",
          "MUS",
          "ARG",
          "DNK",
          "VNM",
          "VNM",
          "EGY",
          "ECU",
          "LBY",
          "LBY",
          "CYP"
         ],
         "marker": {
          "line": {
           "color": "darkgray",
           "width": 0.5
          }
         },
         "reversescale": true,
         "text": [
          "Ukraine",
          "Moldova",
          "United States",
          "Russia",
          "Russia",
          "Philippines",
          "Indonesia",
          "Cambodia",
          "Malaysia",
          "Ghana",
          "United Arab Emirates",
          "Belarus",
          "Thailand",
          "Senegal",
          "Bulgaria",
          "Haiti",
          "Poland",
          "Saudi Arabia",
          "Romania",
          "Serbia",
          "Qatar",
          "Kazakhstan",
          "Kuwait",
          "Turkey",
          "Macedonia [FYROM]",
          "Uzbekistan",
          "Bosnia and Herzegovina",
          "Uganda",
          "Japan",
          "Jordan",
          "Oman",
          "Madagascar",
          "Trinidad and Tobago",
          "Trinidad and Tobago",
          "Afghanistan",
          "Sierra Leone",
          "China",
          "Lebanon",
          "Tajikistan",
          "India",
          "Syria",
          "Czech Republic",
          "Singapore",
          "South Africa",
          "Taiwan",
          "Taiwan",
          "Hong Kong",
          "Bangladesh",
          "Turkmenistan",
          "Italy",
          "Austria",
          "Bahrain",
          "Albania",
          "Mauritius",
          "Argentina",
          "Denmark",
          "Vietnam",
          "Vietnam",
          "Egypt",
          "Ecuador",
          "Libya",
          "Libya",
          "Cyprus"
         ],
         "type": "choropleth",
         "z": [
          5363,
          4504,
          3690,
          2738,
          2738,
          1988,
          1777,
          1000,
          930,
          544,
          504,
          400,
          391,
          370,
          356,
          339,
          326,
          278,
          259,
          248,
          239,
          222,
          209,
          197,
          194,
          193,
          127,
          123,
          111,
          108,
          94,
          94,
          85,
          85,
          83,
          81,
          79,
          73,
          54,
          46,
          41,
          38,
          37,
          36,
          33,
          33,
          31,
          26,
          26,
          24,
          24,
          22,
          22,
          20,
          18,
          17,
          16,
          16,
          13,
          13,
          11,
          11,
          11
         ]
        }
       ],
       "layout": {
        "geo": {
         "projection": {
          "type": "orthographic"
         },
         "showcoastlines": false,
         "showframe": false
        },
        "template": {
         "data": {
          "bar": [
           {
            "error_x": {
             "color": "#2a3f5f"
            },
            "error_y": {
             "color": "#2a3f5f"
            },
            "marker": {
             "line": {
              "color": "#E5ECF6",
              "width": 0.5
             }
            },
            "type": "bar"
           }
          ],
          "barpolar": [
           {
            "marker": {
             "line": {
              "color": "#E5ECF6",
              "width": 0.5
             }
            },
            "type": "barpolar"
           }
          ],
          "carpet": [
           {
            "aaxis": {
             "endlinecolor": "#2a3f5f",
             "gridcolor": "white",
             "linecolor": "white",
             "minorgridcolor": "white",
             "startlinecolor": "#2a3f5f"
            },
            "baxis": {
             "endlinecolor": "#2a3f5f",
             "gridcolor": "white",
             "linecolor": "white",
             "minorgridcolor": "white",
             "startlinecolor": "#2a3f5f"
            },
            "type": "carpet"
           }
          ],
          "choropleth": [
           {
            "colorbar": {
             "outlinewidth": 0,
             "ticks": ""
            },
            "type": "choropleth"
           }
          ],
          "contour": [
           {
            "colorbar": {
             "outlinewidth": 0,
             "ticks": ""
            },
            "colorscale": [
             [
              0,
              "#0d0887"
             ],
             [
              0.1111111111111111,
              "#46039f"
             ],
             [
              0.2222222222222222,
              "#7201a8"
             ],
             [
              0.3333333333333333,
              "#9c179e"
             ],
             [
              0.4444444444444444,
              "#bd3786"
             ],
             [
              0.5555555555555556,
              "#d8576b"
             ],
             [
              0.6666666666666666,
              "#ed7953"
             ],
             [
              0.7777777777777778,
              "#fb9f3a"
             ],
             [
              0.8888888888888888,
              "#fdca26"
             ],
             [
              1,
              "#f0f921"
             ]
            ],
            "type": "contour"
           }
          ],
          "contourcarpet": [
           {
            "colorbar": {
             "outlinewidth": 0,
             "ticks": ""
            },
            "type": "contourcarpet"
           }
          ],
          "heatmap": [
           {
            "colorbar": {
             "outlinewidth": 0,
             "ticks": ""
            },
            "colorscale": [
             [
              0,
              "#0d0887"
             ],
             [
              0.1111111111111111,
              "#46039f"
             ],
             [
              0.2222222222222222,
              "#7201a8"
             ],
             [
              0.3333333333333333,
              "#9c179e"
             ],
             [
              0.4444444444444444,
              "#bd3786"
             ],
             [
              0.5555555555555556,
              "#d8576b"
             ],
             [
              0.6666666666666666,
              "#ed7953"
             ],
             [
              0.7777777777777778,
              "#fb9f3a"
             ],
             [
              0.8888888888888888,
              "#fdca26"
             ],
             [
              1,
              "#f0f921"
             ]
            ],
            "type": "heatmap"
           }
          ],
          "heatmapgl": [
           {
            "colorbar": {
             "outlinewidth": 0,
             "ticks": ""
            },
            "colorscale": [
             [
              0,
              "#0d0887"
             ],
             [
              0.1111111111111111,
              "#46039f"
             ],
             [
              0.2222222222222222,
              "#7201a8"
             ],
             [
              0.3333333333333333,
              "#9c179e"
             ],
             [
              0.4444444444444444,
              "#bd3786"
             ],
             [
              0.5555555555555556,
              "#d8576b"
             ],
             [
              0.6666666666666666,
              "#ed7953"
             ],
             [
              0.7777777777777778,
              "#fb9f3a"
             ],
             [
              0.8888888888888888,
              "#fdca26"
             ],
             [
              1,
              "#f0f921"
             ]
            ],
            "type": "heatmapgl"
           }
          ],
          "histogram": [
           {
            "marker": {
             "colorbar": {
              "outlinewidth": 0,
              "ticks": ""
             }
            },
            "type": "histogram"
           }
          ],
          "histogram2d": [
           {
            "colorbar": {
             "outlinewidth": 0,
             "ticks": ""
            },
            "colorscale": [
             [
              0,
              "#0d0887"
             ],
             [
              0.1111111111111111,
              "#46039f"
             ],
             [
              0.2222222222222222,
              "#7201a8"
             ],
             [
              0.3333333333333333,
              "#9c179e"
             ],
             [
              0.4444444444444444,
              "#bd3786"
             ],
             [
              0.5555555555555556,
              "#d8576b"
             ],
             [
              0.6666666666666666,
              "#ed7953"
             ],
             [
              0.7777777777777778,
              "#fb9f3a"
             ],
             [
              0.8888888888888888,
              "#fdca26"
             ],
             [
              1,
              "#f0f921"
             ]
            ],
            "type": "histogram2d"
           }
          ],
          "histogram2dcontour": [
           {
            "colorbar": {
             "outlinewidth": 0,
             "ticks": ""
            },
            "colorscale": [
             [
              0,
              "#0d0887"
             ],
             [
              0.1111111111111111,
              "#46039f"
             ],
             [
              0.2222222222222222,
              "#7201a8"
             ],
             [
              0.3333333333333333,
              "#9c179e"
             ],
             [
              0.4444444444444444,
              "#bd3786"
             ],
             [
              0.5555555555555556,
              "#d8576b"
             ],
             [
              0.6666666666666666,
              "#ed7953"
             ],
             [
              0.7777777777777778,
              "#fb9f3a"
             ],
             [
              0.8888888888888888,
              "#fdca26"
             ],
             [
              1,
              "#f0f921"
             ]
            ],
            "type": "histogram2dcontour"
           }
          ],
          "mesh3d": [
           {
            "colorbar": {
             "outlinewidth": 0,
             "ticks": ""
            },
            "type": "mesh3d"
           }
          ],
          "parcoords": [
           {
            "line": {
             "colorbar": {
              "outlinewidth": 0,
              "ticks": ""
             }
            },
            "type": "parcoords"
           }
          ],
          "pie": [
           {
            "automargin": true,
            "type": "pie"
           }
          ],
          "scatter": [
           {
            "marker": {
             "colorbar": {
              "outlinewidth": 0,
              "ticks": ""
             }
            },
            "type": "scatter"
           }
          ],
          "scatter3d": [
           {
            "line": {
             "colorbar": {
              "outlinewidth": 0,
              "ticks": ""
             }
            },
            "marker": {
             "colorbar": {
              "outlinewidth": 0,
              "ticks": ""
             }
            },
            "type": "scatter3d"
           }
          ],
          "scattercarpet": [
           {
            "marker": {
             "colorbar": {
              "outlinewidth": 0,
              "ticks": ""
             }
            },
            "type": "scattercarpet"
           }
          ],
          "scattergeo": [
           {
            "marker": {
             "colorbar": {
              "outlinewidth": 0,
              "ticks": ""
             }
            },
            "type": "scattergeo"
           }
          ],
          "scattergl": [
           {
            "marker": {
             "colorbar": {
              "outlinewidth": 0,
              "ticks": ""
             }
            },
            "type": "scattergl"
           }
          ],
          "scattermapbox": [
           {
            "marker": {
             "colorbar": {
              "outlinewidth": 0,
              "ticks": ""
             }
            },
            "type": "scattermapbox"
           }
          ],
          "scatterpolar": [
           {
            "marker": {
             "colorbar": {
              "outlinewidth": 0,
              "ticks": ""
             }
            },
            "type": "scatterpolar"
           }
          ],
          "scatterpolargl": [
           {
            "marker": {
             "colorbar": {
              "outlinewidth": 0,
              "ticks": ""
             }
            },
            "type": "scatterpolargl"
           }
          ],
          "scatterternary": [
           {
            "marker": {
             "colorbar": {
              "outlinewidth": 0,
              "ticks": ""
             }
            },
            "type": "scatterternary"
           }
          ],
          "surface": [
           {
            "colorbar": {
             "outlinewidth": 0,
             "ticks": ""
            },
            "colorscale": [
             [
              0,
              "#0d0887"
             ],
             [
              0.1111111111111111,
              "#46039f"
             ],
             [
              0.2222222222222222,
              "#7201a8"
             ],
             [
              0.3333333333333333,
              "#9c179e"
             ],
             [
              0.4444444444444444,
              "#bd3786"
             ],
             [
              0.5555555555555556,
              "#d8576b"
             ],
             [
              0.6666666666666666,
              "#ed7953"
             ],
             [
              0.7777777777777778,
              "#fb9f3a"
             ],
             [
              0.8888888888888888,
              "#fdca26"
             ],
             [
              1,
              "#f0f921"
             ]
            ],
            "type": "surface"
           }
          ],
          "table": [
           {
            "cells": {
             "fill": {
              "color": "#EBF0F8"
             },
             "line": {
              "color": "white"
             }
            },
            "header": {
             "fill": {
              "color": "#C8D4E3"
             },
             "line": {
              "color": "white"
             }
            },
            "type": "table"
           }
          ]
         },
         "layout": {
          "annotationdefaults": {
           "arrowcolor": "#2a3f5f",
           "arrowhead": 0,
           "arrowwidth": 1
          },
          "coloraxis": {
           "colorbar": {
            "outlinewidth": 0,
            "ticks": ""
           }
          },
          "colorscale": {
           "diverging": [
            [
             0,
             "#8e0152"
            ],
            [
             0.1,
             "#c51b7d"
            ],
            [
             0.2,
             "#de77ae"
            ],
            [
             0.3,
             "#f1b6da"
            ],
            [
             0.4,
             "#fde0ef"
            ],
            [
             0.5,
             "#f7f7f7"
            ],
            [
             0.6,
             "#e6f5d0"
            ],
            [
             0.7,
             "#b8e186"
            ],
            [
             0.8,
             "#7fbc41"
            ],
            [
             0.9,
             "#4d9221"
            ],
            [
             1,
             "#276419"
            ]
           ],
           "sequential": [
            [
             0,
             "#0d0887"
            ],
            [
             0.1111111111111111,
             "#46039f"
            ],
            [
             0.2222222222222222,
             "#7201a8"
            ],
            [
             0.3333333333333333,
             "#9c179e"
            ],
            [
             0.4444444444444444,
             "#bd3786"
            ],
            [
             0.5555555555555556,
             "#d8576b"
            ],
            [
             0.6666666666666666,
             "#ed7953"
            ],
            [
             0.7777777777777778,
             "#fb9f3a"
            ],
            [
             0.8888888888888888,
             "#fdca26"
            ],
            [
             1,
             "#f0f921"
            ]
           ],
           "sequentialminus": [
            [
             0,
             "#0d0887"
            ],
            [
             0.1111111111111111,
             "#46039f"
            ],
            [
             0.2222222222222222,
             "#7201a8"
            ],
            [
             0.3333333333333333,
             "#9c179e"
            ],
            [
             0.4444444444444444,
             "#bd3786"
            ],
            [
             0.5555555555555556,
             "#d8576b"
            ],
            [
             0.6666666666666666,
             "#ed7953"
            ],
            [
             0.7777777777777778,
             "#fb9f3a"
            ],
            [
             0.8888888888888888,
             "#fdca26"
            ],
            [
             1,
             "#f0f921"
            ]
           ]
          },
          "colorway": [
           "#636efa",
           "#EF553B",
           "#00cc96",
           "#ab63fa",
           "#FFA15A",
           "#19d3f3",
           "#FF6692",
           "#B6E880",
           "#FF97FF",
           "#FECB52"
          ],
          "font": {
           "color": "#2a3f5f"
          },
          "geo": {
           "bgcolor": "white",
           "lakecolor": "white",
           "landcolor": "#E5ECF6",
           "showlakes": true,
           "showland": true,
           "subunitcolor": "white"
          },
          "hoverlabel": {
           "align": "left"
          },
          "hovermode": "closest",
          "mapbox": {
           "style": "light"
          },
          "paper_bgcolor": "white",
          "plot_bgcolor": "#E5ECF6",
          "polar": {
           "angularaxis": {
            "gridcolor": "white",
            "linecolor": "white",
            "ticks": ""
           },
           "bgcolor": "#E5ECF6",
           "radialaxis": {
            "gridcolor": "white",
            "linecolor": "white",
            "ticks": ""
           }
          },
          "scene": {
           "xaxis": {
            "backgroundcolor": "#E5ECF6",
            "gridcolor": "white",
            "gridwidth": 2,
            "linecolor": "white",
            "showbackground": true,
            "ticks": "",
            "zerolinecolor": "white"
           },
           "yaxis": {
            "backgroundcolor": "#E5ECF6",
            "gridcolor": "white",
            "gridwidth": 2,
            "linecolor": "white",
            "showbackground": true,
            "ticks": "",
            "zerolinecolor": "white"
           },
           "zaxis": {
            "backgroundcolor": "#E5ECF6",
            "gridcolor": "white",
            "gridwidth": 2,
            "linecolor": "white",
            "showbackground": true,
            "ticks": "",
            "zerolinecolor": "white"
           }
          },
          "shapedefaults": {
           "line": {
            "color": "#2a3f5f"
           }
          },
          "ternary": {
           "aaxis": {
            "gridcolor": "white",
            "linecolor": "white",
            "ticks": ""
           },
           "baxis": {
            "gridcolor": "white",
            "linecolor": "white",
            "ticks": ""
           },
           "bgcolor": "#E5ECF6",
           "caxis": {
            "gridcolor": "white",
            "linecolor": "white",
            "ticks": ""
           }
          },
          "title": {
           "x": 0.05
          },
          "xaxis": {
           "automargin": true,
           "gridcolor": "white",
           "linecolor": "white",
           "ticks": "",
           "title": {
            "standoff": 15
           },
           "zerolinecolor": "white",
           "zerolinewidth": 2
          },
          "yaxis": {
           "automargin": true,
           "gridcolor": "white",
           "linecolor": "white",
           "ticks": "",
           "title": {
            "standoff": 15
           },
           "zerolinecolor": "white",
           "zerolinewidth": 2
          }
         }
        },
        "title": {
         "text": "Último país em que a vítima foi explorada"
        }
       }
      }
     },
     "metadata": {}
    }
   ],
   "source": [
    "fig = go.Figure(data=go.Choropleth(\n",
    "    locations = map_chor['alpha_3'],\n",
    "    z = map_chor['contagem'],\n",
    "    text = map_chor['name'],\n",
    "    colorscale = 'Blues',\n",
    "    autocolorscale=False,\n",
    "    reversescale=True,\n",
    "    marker_line_color='darkgray',\n",
    "    marker_line_width=0.5,\n",
    "    colorbar_title = 'Quantidade',\n",
    "))\n",
    "\n",
    "fig.update_layout(\n",
    "    title_text='Último país em que a vítima foi explorada',\n",
    "    geo=dict(\n",
    "        showframe=False,\n",
    "        showcoastlines=False,\n",
    "        projection_type='orthographic'\n",
    "    )\n",
    ")\n",
    "\n",
    "fig.show()"
   ]
  },
  {
   "cell_type": "markdown",
   "metadata": {},
   "source": [
    "## Mapas de fluxo de tráfico"
   ]
  },
  {
   "cell_type": "code",
   "execution_count": 64,
   "metadata": {},
   "outputs": [
    {
     "output_type": "execute_result",
     "data": {
      "text/plain": "  nacionalidade pais_exploracao  quantidade\n0   Afghanistan     Afghanistan          83\n1   Afghanistan    Saudi Arabia          14\n2       Albania         Albania          22\n3    Bangladesh      Tajikistan          11\n4       Belarus         Belarus         400",
      "text/html": "<div>\n<style scoped>\n    .dataframe tbody tr th:only-of-type {\n        vertical-align: middle;\n    }\n\n    .dataframe tbody tr th {\n        vertical-align: top;\n    }\n\n    .dataframe thead th {\n        text-align: right;\n    }\n</style>\n<table border=\"1\" class=\"dataframe\">\n  <thead>\n    <tr style=\"text-align: right;\">\n      <th></th>\n      <th>nacionalidade</th>\n      <th>pais_exploracao</th>\n      <th>quantidade</th>\n    </tr>\n  </thead>\n  <tbody>\n    <tr>\n      <th>0</th>\n      <td>Afghanistan</td>\n      <td>Afghanistan</td>\n      <td>83</td>\n    </tr>\n    <tr>\n      <th>1</th>\n      <td>Afghanistan</td>\n      <td>Saudi Arabia</td>\n      <td>14</td>\n    </tr>\n    <tr>\n      <th>2</th>\n      <td>Albania</td>\n      <td>Albania</td>\n      <td>22</td>\n    </tr>\n    <tr>\n      <th>3</th>\n      <td>Bangladesh</td>\n      <td>Tajikistan</td>\n      <td>11</td>\n    </tr>\n    <tr>\n      <th>4</th>\n      <td>Belarus</td>\n      <td>Belarus</td>\n      <td>400</td>\n    </tr>\n  </tbody>\n</table>\n</div>"
     },
     "metadata": {},
     "execution_count": 64
    }
   ],
   "source": [
    "dados_lines = (\n",
    "    dados\n",
    "    .get(['nacionalidade_lat',\n",
    "    'nacionalidade_long',\n",
    "    'nacionalidade',\n",
    "    'pais_exploracao_lat',\n",
    "    'pais_exploracao_long',\n",
    "    'pais_exploracao'])\n",
    ")\n",
    "dados_lines_group = (\n",
    "    dados_lines\n",
    "    .get(['nacionalidade','pais_exploracao'])\n",
    "    .groupby(['nacionalidade','pais_exploracao'])\n",
    "    .agg(\n",
    "       quantidade = ('pais_exploracao','count')\n",
    "    )\n",
    "    .reset_index()\n",
    ")\n",
    "dados_lines_group.head()"
   ]
  },
  {
   "cell_type": "code",
   "execution_count": 65,
   "metadata": {},
   "outputs": [
    {
     "output_type": "execute_result",
     "data": {
      "text/plain": "  nacionalidade pais_exploracao  quantidade  nacionalidade_long  \\\n0   Afghanistan     Afghanistan          83           67.709953   \n1   Afghanistan    Saudi Arabia          14           67.709953   \n2       Albania         Albania          22           20.168331   \n3    Bangladesh      Tajikistan          11           90.356331   \n4       Belarus         Belarus         400           27.953389   \n\n   nacionalidade_lat  \n0          33.939110  \n1          33.939110  \n2          41.153332  \n3          23.684994  \n4          53.709807  ",
      "text/html": "<div>\n<style scoped>\n    .dataframe tbody tr th:only-of-type {\n        vertical-align: middle;\n    }\n\n    .dataframe tbody tr th {\n        vertical-align: top;\n    }\n\n    .dataframe thead th {\n        text-align: right;\n    }\n</style>\n<table border=\"1\" class=\"dataframe\">\n  <thead>\n    <tr style=\"text-align: right;\">\n      <th></th>\n      <th>nacionalidade</th>\n      <th>pais_exploracao</th>\n      <th>quantidade</th>\n      <th>nacionalidade_long</th>\n      <th>nacionalidade_lat</th>\n    </tr>\n  </thead>\n  <tbody>\n    <tr>\n      <th>0</th>\n      <td>Afghanistan</td>\n      <td>Afghanistan</td>\n      <td>83</td>\n      <td>67.709953</td>\n      <td>33.939110</td>\n    </tr>\n    <tr>\n      <th>1</th>\n      <td>Afghanistan</td>\n      <td>Saudi Arabia</td>\n      <td>14</td>\n      <td>67.709953</td>\n      <td>33.939110</td>\n    </tr>\n    <tr>\n      <th>2</th>\n      <td>Albania</td>\n      <td>Albania</td>\n      <td>22</td>\n      <td>20.168331</td>\n      <td>41.153332</td>\n    </tr>\n    <tr>\n      <th>3</th>\n      <td>Bangladesh</td>\n      <td>Tajikistan</td>\n      <td>11</td>\n      <td>90.356331</td>\n      <td>23.684994</td>\n    </tr>\n    <tr>\n      <th>4</th>\n      <td>Belarus</td>\n      <td>Belarus</td>\n      <td>400</td>\n      <td>27.953389</td>\n      <td>53.709807</td>\n    </tr>\n  </tbody>\n</table>\n</div>"
     },
     "metadata": {},
     "execution_count": 65
    }
   ],
   "source": [
    "dados_lines_group = (\n",
    "    dados_lines_group\n",
    "    .merge(\n",
    "        dados_lines\n",
    "        .get(['nacionalidade','nacionalidade_long','nacionalidade_lat'])\n",
    "        .drop_duplicates(),\n",
    "        how = 'outer',\n",
    "        on = 'nacionalidade'\n",
    "        )\n",
    ")\n",
    "dados_lines_group.head()"
   ]
  },
  {
   "cell_type": "code",
   "execution_count": 66,
   "metadata": {},
   "outputs": [
    {
     "output_type": "execute_result",
     "data": {
      "text/plain": "  nacionalidade pais_exploracao  quantidade  nacionalidade_long  \\\n0   Afghanistan     Afghanistan          83           67.709953   \n1   Afghanistan    Saudi Arabia          14           67.709953   \n2       Albania         Albania          22           20.168331   \n3    Bangladesh      Tajikistan          11           90.356331   \n4       Belarus         Belarus         400           27.953389   \n\n   nacionalidade_lat  pais_exploracao_long  pais_exploracao_lat  \n0          33.939110             67.709953            33.939110  \n1          33.939110             45.079162            23.885942  \n2          41.153332             20.168331            41.153332  \n3          23.684994             71.276093            38.861034  \n4          53.709807             27.953389            53.709807  ",
      "text/html": "<div>\n<style scoped>\n    .dataframe tbody tr th:only-of-type {\n        vertical-align: middle;\n    }\n\n    .dataframe tbody tr th {\n        vertical-align: top;\n    }\n\n    .dataframe thead th {\n        text-align: right;\n    }\n</style>\n<table border=\"1\" class=\"dataframe\">\n  <thead>\n    <tr style=\"text-align: right;\">\n      <th></th>\n      <th>nacionalidade</th>\n      <th>pais_exploracao</th>\n      <th>quantidade</th>\n      <th>nacionalidade_long</th>\n      <th>nacionalidade_lat</th>\n      <th>pais_exploracao_long</th>\n      <th>pais_exploracao_lat</th>\n    </tr>\n  </thead>\n  <tbody>\n    <tr>\n      <th>0</th>\n      <td>Afghanistan</td>\n      <td>Afghanistan</td>\n      <td>83</td>\n      <td>67.709953</td>\n      <td>33.939110</td>\n      <td>67.709953</td>\n      <td>33.939110</td>\n    </tr>\n    <tr>\n      <th>1</th>\n      <td>Afghanistan</td>\n      <td>Saudi Arabia</td>\n      <td>14</td>\n      <td>67.709953</td>\n      <td>33.939110</td>\n      <td>45.079162</td>\n      <td>23.885942</td>\n    </tr>\n    <tr>\n      <th>2</th>\n      <td>Albania</td>\n      <td>Albania</td>\n      <td>22</td>\n      <td>20.168331</td>\n      <td>41.153332</td>\n      <td>20.168331</td>\n      <td>41.153332</td>\n    </tr>\n    <tr>\n      <th>3</th>\n      <td>Bangladesh</td>\n      <td>Tajikistan</td>\n      <td>11</td>\n      <td>90.356331</td>\n      <td>23.684994</td>\n      <td>71.276093</td>\n      <td>38.861034</td>\n    </tr>\n    <tr>\n      <th>4</th>\n      <td>Belarus</td>\n      <td>Belarus</td>\n      <td>400</td>\n      <td>27.953389</td>\n      <td>53.709807</td>\n      <td>27.953389</td>\n      <td>53.709807</td>\n    </tr>\n  </tbody>\n</table>\n</div>"
     },
     "metadata": {},
     "execution_count": 66
    }
   ],
   "source": [
    "dados_lines_group = dados_lines_group.merge(\n",
    "        dados_lines\n",
    "        .get(['pais_exploracao','pais_exploracao_long','pais_exploracao_lat'])\n",
    "        .drop_duplicates(),\n",
    "        how = 'left',\n",
    "        on = 'pais_exploracao'\n",
    "        )\n",
    "\n",
    "dados_lines_group.head()"
   ]
  },
  {
   "cell_type": "code",
   "execution_count": 67,
   "metadata": {},
   "outputs": [
    {
     "output_type": "execute_result",
     "data": {
      "text/plain": "       nacionalidade      cor\n0        Afghanistan  #db5f57\n2            Albania  #db7057\n3         Bangladesh  #db8257\n4            Belarus  #db9457\n9            Bolivia  #dba557\n10          Bulgaria  #dbb757\n11      Burkina Faso  #dbc957\n12          Cambodia  #dbda57\n19             China  #cbdb57\n20          Colombia  #b9db57\n22       Congo [DRC]  #a7db57\n23     Côte d'Ivoire  #95db57\n24           Eritrea  #84db57\n25             Ghana  #72db57\n26            Guinea  #60db57\n27     Guinea-Bissau  #57db5f\n28             Haiti  #57db70\n29         Indonesia  #57db82\n43        Kazakhstan  #57db94\n44             Kenya  #57dba5\n46        Kyrgyzstan  #57dbb7\n48              Laos  #57dbc9\n49        Madagascar  #57dbda\n50              Mali  #57cbdb\n51            Mexico  #57b9db\n52           Moldova  #57a7db\n57   Myanmar [Burma]  #5795db\n59           Namibia  #5784db\n63             Nepal  #5772db\n64             Niger  #5760db\n65           Nigeria  #5f57db\n66       Philippines  #7057db\n76           Romania  #8257db\n83           Senegal  #9457db\n84      Sierra Leone  #a557db\n85       South Korea  #b757db\n86         Sri Lanka  #c957db\n87        Tajikistan  #da57db\n88          Thailand  #db57cb\n89      Turkmenistan  #db57b9\n90            Uganda  #db57a7\n91           Ukraine  #db5795\n104    United States  #db5784\n105       Uzbekistan  #db5772\n108          Vietnam  #db5760",
      "text/html": "<div>\n<style scoped>\n    .dataframe tbody tr th:only-of-type {\n        vertical-align: middle;\n    }\n\n    .dataframe tbody tr th {\n        vertical-align: top;\n    }\n\n    .dataframe thead th {\n        text-align: right;\n    }\n</style>\n<table border=\"1\" class=\"dataframe\">\n  <thead>\n    <tr style=\"text-align: right;\">\n      <th></th>\n      <th>nacionalidade</th>\n      <th>cor</th>\n    </tr>\n  </thead>\n  <tbody>\n    <tr>\n      <th>0</th>\n      <td>Afghanistan</td>\n      <td>#db5f57</td>\n    </tr>\n    <tr>\n      <th>2</th>\n      <td>Albania</td>\n      <td>#db7057</td>\n    </tr>\n    <tr>\n      <th>3</th>\n      <td>Bangladesh</td>\n      <td>#db8257</td>\n    </tr>\n    <tr>\n      <th>4</th>\n      <td>Belarus</td>\n      <td>#db9457</td>\n    </tr>\n    <tr>\n      <th>9</th>\n      <td>Bolivia</td>\n      <td>#dba557</td>\n    </tr>\n    <tr>\n      <th>10</th>\n      <td>Bulgaria</td>\n      <td>#dbb757</td>\n    </tr>\n    <tr>\n      <th>11</th>\n      <td>Burkina Faso</td>\n      <td>#dbc957</td>\n    </tr>\n    <tr>\n      <th>12</th>\n      <td>Cambodia</td>\n      <td>#dbda57</td>\n    </tr>\n    <tr>\n      <th>19</th>\n      <td>China</td>\n      <td>#cbdb57</td>\n    </tr>\n    <tr>\n      <th>20</th>\n      <td>Colombia</td>\n      <td>#b9db57</td>\n    </tr>\n    <tr>\n      <th>22</th>\n      <td>Congo [DRC]</td>\n      <td>#a7db57</td>\n    </tr>\n    <tr>\n      <th>23</th>\n      <td>Côte d'Ivoire</td>\n      <td>#95db57</td>\n    </tr>\n    <tr>\n      <th>24</th>\n      <td>Eritrea</td>\n      <td>#84db57</td>\n    </tr>\n    <tr>\n      <th>25</th>\n      <td>Ghana</td>\n      <td>#72db57</td>\n    </tr>\n    <tr>\n      <th>26</th>\n      <td>Guinea</td>\n      <td>#60db57</td>\n    </tr>\n    <tr>\n      <th>27</th>\n      <td>Guinea-Bissau</td>\n      <td>#57db5f</td>\n    </tr>\n    <tr>\n      <th>28</th>\n      <td>Haiti</td>\n      <td>#57db70</td>\n    </tr>\n    <tr>\n      <th>29</th>\n      <td>Indonesia</td>\n      <td>#57db82</td>\n    </tr>\n    <tr>\n      <th>43</th>\n      <td>Kazakhstan</td>\n      <td>#57db94</td>\n    </tr>\n    <tr>\n      <th>44</th>\n      <td>Kenya</td>\n      <td>#57dba5</td>\n    </tr>\n    <tr>\n      <th>46</th>\n      <td>Kyrgyzstan</td>\n      <td>#57dbb7</td>\n    </tr>\n    <tr>\n      <th>48</th>\n      <td>Laos</td>\n      <td>#57dbc9</td>\n    </tr>\n    <tr>\n      <th>49</th>\n      <td>Madagascar</td>\n      <td>#57dbda</td>\n    </tr>\n    <tr>\n      <th>50</th>\n      <td>Mali</td>\n      <td>#57cbdb</td>\n    </tr>\n    <tr>\n      <th>51</th>\n      <td>Mexico</td>\n      <td>#57b9db</td>\n    </tr>\n    <tr>\n      <th>52</th>\n      <td>Moldova</td>\n      <td>#57a7db</td>\n    </tr>\n    <tr>\n      <th>57</th>\n      <td>Myanmar [Burma]</td>\n      <td>#5795db</td>\n    </tr>\n    <tr>\n      <th>59</th>\n      <td>Namibia</td>\n      <td>#5784db</td>\n    </tr>\n    <tr>\n      <th>63</th>\n      <td>Nepal</td>\n      <td>#5772db</td>\n    </tr>\n    <tr>\n      <th>64</th>\n      <td>Niger</td>\n      <td>#5760db</td>\n    </tr>\n    <tr>\n      <th>65</th>\n      <td>Nigeria</td>\n      <td>#5f57db</td>\n    </tr>\n    <tr>\n      <th>66</th>\n      <td>Philippines</td>\n      <td>#7057db</td>\n    </tr>\n    <tr>\n      <th>76</th>\n      <td>Romania</td>\n      <td>#8257db</td>\n    </tr>\n    <tr>\n      <th>83</th>\n      <td>Senegal</td>\n      <td>#9457db</td>\n    </tr>\n    <tr>\n      <th>84</th>\n      <td>Sierra Leone</td>\n      <td>#a557db</td>\n    </tr>\n    <tr>\n      <th>85</th>\n      <td>South Korea</td>\n      <td>#b757db</td>\n    </tr>\n    <tr>\n      <th>86</th>\n      <td>Sri Lanka</td>\n      <td>#c957db</td>\n    </tr>\n    <tr>\n      <th>87</th>\n      <td>Tajikistan</td>\n      <td>#da57db</td>\n    </tr>\n    <tr>\n      <th>88</th>\n      <td>Thailand</td>\n      <td>#db57cb</td>\n    </tr>\n    <tr>\n      <th>89</th>\n      <td>Turkmenistan</td>\n      <td>#db57b9</td>\n    </tr>\n    <tr>\n      <th>90</th>\n      <td>Uganda</td>\n      <td>#db57a7</td>\n    </tr>\n    <tr>\n      <th>91</th>\n      <td>Ukraine</td>\n      <td>#db5795</td>\n    </tr>\n    <tr>\n      <th>104</th>\n      <td>United States</td>\n      <td>#db5784</td>\n    </tr>\n    <tr>\n      <th>105</th>\n      <td>Uzbekistan</td>\n      <td>#db5772</td>\n    </tr>\n    <tr>\n      <th>108</th>\n      <td>Vietnam</td>\n      <td>#db5760</td>\n    </tr>\n  </tbody>\n</table>\n</div>"
     },
     "metadata": {},
     "execution_count": 67
    }
   ],
   "source": [
    "dados_lines_group = ( \n",
    "    dados_lines_group\n",
    "    .assign(\n",
    "        texto = 'Nacionalidade: '+ \n",
    "        dados_lines_group['nacionalidade'] + \n",
    "        '<br>' +\n",
    "        'Pais exploração: ' + \n",
    "        dados_lines_group['pais_exploracao']+\n",
    "        '<br>' +\n",
    "        'Quantidade de pessoas: ' +\n",
    "        dados_lines_group['quantidade'].astype(str)\n",
    "        )\n",
    ")\n",
    "cores = pd.DataFrame(\n",
    "    dict(nacionalidade = dados_lines_group.get('nacionalidade').drop_duplicates(),\n",
    "    cor = sns.color_palette('hls', dados_lines_group.get('nacionalidade').drop_duplicates().shape[0]).as_hex()\n",
    "    )\n",
    "    )\n",
    "cores"
   ]
  },
  {
   "cell_type": "code",
   "execution_count": 68,
   "metadata": {},
   "outputs": [
    {
     "output_type": "execute_result",
     "data": {
      "text/plain": "  nacionalidade pais_exploracao  quantidade  nacionalidade_long  \\\n0   Afghanistan     Afghanistan          83           67.709953   \n1   Afghanistan    Saudi Arabia          14           67.709953   \n2       Albania         Albania          22           20.168331   \n3    Bangladesh      Tajikistan          11           90.356331   \n4       Belarus         Belarus         400           27.953389   \n\n   nacionalidade_lat  pais_exploracao_long  pais_exploracao_lat  \\\n0          33.939110             67.709953            33.939110   \n1          33.939110             45.079162            23.885942   \n2          41.153332             20.168331            41.153332   \n3          23.684994             71.276093            38.861034   \n4          53.709807             27.953389            53.709807   \n\n                                               texto      cor  \n0  Nacionalidade: Afghanistan<br>Pais exploração:...  #db5f57  \n1  Nacionalidade: Afghanistan<br>Pais exploração:...  #db5f57  \n2  Nacionalidade: Albania<br>Pais exploração: Alb...  #db7057  \n3  Nacionalidade: Bangladesh<br>Pais exploração: ...  #db8257  \n4  Nacionalidade: Belarus<br>Pais exploração: Bel...  #db9457  ",
      "text/html": "<div>\n<style scoped>\n    .dataframe tbody tr th:only-of-type {\n        vertical-align: middle;\n    }\n\n    .dataframe tbody tr th {\n        vertical-align: top;\n    }\n\n    .dataframe thead th {\n        text-align: right;\n    }\n</style>\n<table border=\"1\" class=\"dataframe\">\n  <thead>\n    <tr style=\"text-align: right;\">\n      <th></th>\n      <th>nacionalidade</th>\n      <th>pais_exploracao</th>\n      <th>quantidade</th>\n      <th>nacionalidade_long</th>\n      <th>nacionalidade_lat</th>\n      <th>pais_exploracao_long</th>\n      <th>pais_exploracao_lat</th>\n      <th>texto</th>\n      <th>cor</th>\n    </tr>\n  </thead>\n  <tbody>\n    <tr>\n      <th>0</th>\n      <td>Afghanistan</td>\n      <td>Afghanistan</td>\n      <td>83</td>\n      <td>67.709953</td>\n      <td>33.939110</td>\n      <td>67.709953</td>\n      <td>33.939110</td>\n      <td>Nacionalidade: Afghanistan&lt;br&gt;Pais exploração:...</td>\n      <td>#db5f57</td>\n    </tr>\n    <tr>\n      <th>1</th>\n      <td>Afghanistan</td>\n      <td>Saudi Arabia</td>\n      <td>14</td>\n      <td>67.709953</td>\n      <td>33.939110</td>\n      <td>45.079162</td>\n      <td>23.885942</td>\n      <td>Nacionalidade: Afghanistan&lt;br&gt;Pais exploração:...</td>\n      <td>#db5f57</td>\n    </tr>\n    <tr>\n      <th>2</th>\n      <td>Albania</td>\n      <td>Albania</td>\n      <td>22</td>\n      <td>20.168331</td>\n      <td>41.153332</td>\n      <td>20.168331</td>\n      <td>41.153332</td>\n      <td>Nacionalidade: Albania&lt;br&gt;Pais exploração: Alb...</td>\n      <td>#db7057</td>\n    </tr>\n    <tr>\n      <th>3</th>\n      <td>Bangladesh</td>\n      <td>Tajikistan</td>\n      <td>11</td>\n      <td>90.356331</td>\n      <td>23.684994</td>\n      <td>71.276093</td>\n      <td>38.861034</td>\n      <td>Nacionalidade: Bangladesh&lt;br&gt;Pais exploração: ...</td>\n      <td>#db8257</td>\n    </tr>\n    <tr>\n      <th>4</th>\n      <td>Belarus</td>\n      <td>Belarus</td>\n      <td>400</td>\n      <td>27.953389</td>\n      <td>53.709807</td>\n      <td>27.953389</td>\n      <td>53.709807</td>\n      <td>Nacionalidade: Belarus&lt;br&gt;Pais exploração: Bel...</td>\n      <td>#db9457</td>\n    </tr>\n  </tbody>\n</table>\n</div>"
     },
     "metadata": {},
     "execution_count": 68
    }
   ],
   "source": [
    "dados_lines_group = dados_lines_group.merge(\n",
    "    cores,\n",
    "    how = 'left',\n",
    "    on = 'nacionalidade'\n",
    ")\n",
    "dados_lines_group.head()"
   ]
  },
  {
   "cell_type": "code",
   "execution_count": 69,
   "metadata": {},
   "outputs": [],
   "source": [
    "# filtrando as pessoas com nacionalidade e pais diferentes para melhorar a visualizacao\n",
    "\n",
    "dados_lines_group = dados_lines_group.query('nacionalidade != pais_exploracao')"
   ]
  },
  {
   "cell_type": "code",
   "execution_count": 70,
   "metadata": {},
   "outputs": [
    {
     "output_type": "execute_result",
     "data": {
      "text/plain": "  nacionalidade pais_exploracao  quantidade  nacionalidade_long  \\\n0   Afghanistan    Saudi Arabia          14           67.709953   \n1    Bangladesh      Tajikistan          11           90.356331   \n2       Belarus          Cyprus          11           27.953389   \n3       Belarus          Poland          12           27.953389   \n4       Belarus          Russia         751           27.953389   \n\n   nacionalidade_lat  pais_exploracao_long  pais_exploracao_lat  \\\n0          33.939110             45.079162            23.885942   \n1          23.684994             71.276093            38.861034   \n2          53.709807             33.429859            35.126413   \n3          53.709807             19.145136            51.919438   \n4          53.709807            105.318756            61.524010   \n\n                                               texto      cor  \n0  Nacionalidade: Afghanistan<br>Pais exploração:...  #db5f57  \n1  Nacionalidade: Bangladesh<br>Pais exploração: ...  #db8257  \n2  Nacionalidade: Belarus<br>Pais exploração: Cyp...  #db9457  \n3  Nacionalidade: Belarus<br>Pais exploração: Pol...  #db9457  \n4  Nacionalidade: Belarus<br>Pais exploração: Rus...  #db9457  ",
      "text/html": "<div>\n<style scoped>\n    .dataframe tbody tr th:only-of-type {\n        vertical-align: middle;\n    }\n\n    .dataframe tbody tr th {\n        vertical-align: top;\n    }\n\n    .dataframe thead th {\n        text-align: right;\n    }\n</style>\n<table border=\"1\" class=\"dataframe\">\n  <thead>\n    <tr style=\"text-align: right;\">\n      <th></th>\n      <th>nacionalidade</th>\n      <th>pais_exploracao</th>\n      <th>quantidade</th>\n      <th>nacionalidade_long</th>\n      <th>nacionalidade_lat</th>\n      <th>pais_exploracao_long</th>\n      <th>pais_exploracao_lat</th>\n      <th>texto</th>\n      <th>cor</th>\n    </tr>\n  </thead>\n  <tbody>\n    <tr>\n      <th>0</th>\n      <td>Afghanistan</td>\n      <td>Saudi Arabia</td>\n      <td>14</td>\n      <td>67.709953</td>\n      <td>33.939110</td>\n      <td>45.079162</td>\n      <td>23.885942</td>\n      <td>Nacionalidade: Afghanistan&lt;br&gt;Pais exploração:...</td>\n      <td>#db5f57</td>\n    </tr>\n    <tr>\n      <th>1</th>\n      <td>Bangladesh</td>\n      <td>Tajikistan</td>\n      <td>11</td>\n      <td>90.356331</td>\n      <td>23.684994</td>\n      <td>71.276093</td>\n      <td>38.861034</td>\n      <td>Nacionalidade: Bangladesh&lt;br&gt;Pais exploração: ...</td>\n      <td>#db8257</td>\n    </tr>\n    <tr>\n      <th>2</th>\n      <td>Belarus</td>\n      <td>Cyprus</td>\n      <td>11</td>\n      <td>27.953389</td>\n      <td>53.709807</td>\n      <td>33.429859</td>\n      <td>35.126413</td>\n      <td>Nacionalidade: Belarus&lt;br&gt;Pais exploração: Cyp...</td>\n      <td>#db9457</td>\n    </tr>\n    <tr>\n      <th>3</th>\n      <td>Belarus</td>\n      <td>Poland</td>\n      <td>12</td>\n      <td>27.953389</td>\n      <td>53.709807</td>\n      <td>19.145136</td>\n      <td>51.919438</td>\n      <td>Nacionalidade: Belarus&lt;br&gt;Pais exploração: Pol...</td>\n      <td>#db9457</td>\n    </tr>\n    <tr>\n      <th>4</th>\n      <td>Belarus</td>\n      <td>Russia</td>\n      <td>751</td>\n      <td>27.953389</td>\n      <td>53.709807</td>\n      <td>105.318756</td>\n      <td>61.524010</td>\n      <td>Nacionalidade: Belarus&lt;br&gt;Pais exploração: Rus...</td>\n      <td>#db9457</td>\n    </tr>\n  </tbody>\n</table>\n</div>"
     },
     "metadata": {},
     "execution_count": 70
    }
   ],
   "source": [
    "# necessario resetar o indice\n",
    "dados_lines_group = dados_lines_group.reset_index(drop = True)\n",
    "dados_lines_group.head()"
   ]
  },
  {
   "cell_type": "code",
   "execution_count": 71,
   "metadata": {},
   "outputs": [
    {
     "output_type": "display_data",
     "data": {
      "application/vnd.plotly.v1+json": {
       "config": {
        "plotlyServerURL": "https://plot.ly"
       },
       "data": [
        {
         "lat": [
          33.93911,
          23.885942
         ],
         "line": {
          "color": "#db5f57",
          "width": 2
         },
         "lon": [
          67.709953,
          45.079162
         ],
         "mode": "lines",
         "text": "Nacionalidade: Afghanistan<br>Pais exploração: Saudi Arabia<br>Quantidade de pessoas: 14",
         "type": "scattergeo"
        },
        {
         "lat": [
          23.684994,
          38.861034
         ],
         "line": {
          "color": "#db8257",
          "width": 2
         },
         "lon": [
          90.356331,
          71.276093
         ],
         "mode": "lines",
         "text": "Nacionalidade: Bangladesh<br>Pais exploração: Tajikistan<br>Quantidade de pessoas: 11",
         "type": "scattergeo"
        },
        {
         "lat": [
          53.709807,
          35.126413
         ],
         "line": {
          "color": "#db9457",
          "width": 2
         },
         "lon": [
          27.953389,
          33.429859
         ],
         "mode": "lines",
         "text": "Nacionalidade: Belarus<br>Pais exploração: Cyprus<br>Quantidade de pessoas: 11",
         "type": "scattergeo"
        },
        {
         "lat": [
          53.709807,
          51.919438
         ],
         "line": {
          "color": "#db9457",
          "width": 2
         },
         "lon": [
          27.953389,
          19.145136
         ],
         "mode": "lines",
         "text": "Nacionalidade: Belarus<br>Pais exploração: Poland<br>Quantidade de pessoas: 12",
         "type": "scattergeo"
        },
        {
         "lat": [
          53.709807,
          61.52401
         ],
         "line": {
          "color": "#db9457",
          "width": 2
         },
         "lon": [
          27.953389,
          105.318756
         ],
         "mode": "lines",
         "text": "Nacionalidade: Belarus<br>Pais exploração: Russia<br>Quantidade de pessoas: 751",
         "type": "scattergeo"
        },
        {
         "lat": [
          53.709807,
          23.424076
         ],
         "line": {
          "color": "#db9457",
          "width": 2
         },
         "lon": [
          27.953389,
          53.847818
         ],
         "mode": "lines",
         "text": "Nacionalidade: Belarus<br>Pais exploração: United Arab Emirates<br>Quantidade de pessoas: 65",
         "type": "scattergeo"
        },
        {
         "lat": [
          -16.290154,
          -38.416097
         ],
         "line": {
          "color": "#dba557",
          "width": 2
         },
         "lon": [
          -63.588653,
          -63.616672
         ],
         "mode": "lines",
         "text": "Nacionalidade: Bolivia<br>Pais exploração: Argentina<br>Quantidade de pessoas: 18",
         "type": "scattergeo"
        },
        {
         "lat": [
          12.238333,
          14.497401
         ],
         "line": {
          "color": "#dbc957",
          "width": 2
         },
         "lon": [
          -1.561593,
          -14.452362
         ],
         "mode": "lines",
         "text": "Nacionalidade: Burkina Faso<br>Pais exploração: Senegal<br>Quantidade de pessoas: 33",
         "type": "scattergeo"
        },
        {
         "lat": [
          12.565679,
          35.86166
         ],
         "line": {
          "color": "#dbda57",
          "width": 2
         },
         "lon": [
          104.990963,
          104.195397
         ],
         "mode": "lines",
         "text": "Nacionalidade: Cambodia<br>Pais exploração: China<br>Quantidade de pessoas: 79",
         "type": "scattergeo"
        },
        {
         "lat": [
          12.565679,
          -0.789275
         ],
         "line": {
          "color": "#dbda57",
          "width": 2
         },
         "lon": [
          104.990963,
          113.921327
         ],
         "mode": "lines",
         "text": "Nacionalidade: Cambodia<br>Pais exploração: Indonesia<br>Quantidade de pessoas: 253",
         "type": "scattergeo"
        },
        {
         "lat": [
          12.565679,
          4.210484
         ],
         "line": {
          "color": "#dbda57",
          "width": 2
         },
         "lon": [
          104.990963,
          101.975766
         ],
         "mode": "lines",
         "text": "Nacionalidade: Cambodia<br>Pais exploração: Malaysia<br>Quantidade de pessoas: 120",
         "type": "scattergeo"
        },
        {
         "lat": [
          12.565679,
          -20.348404
         ],
         "line": {
          "color": "#dbda57",
          "width": 2
         },
         "lon": [
          104.990963,
          57.552152
         ],
         "mode": "lines",
         "text": "Nacionalidade: Cambodia<br>Pais exploração: Mauritius<br>Quantidade de pessoas: 20",
         "type": "scattergeo"
        },
        {
         "lat": [
          12.565679,
          -22.95764
         ],
         "line": {
          "color": "#dbda57",
          "width": 2
         },
         "lon": [
          104.990963,
          18.49041
         ],
         "mode": "lines",
         "text": "Nacionalidade: Cambodia<br>Pais exploração: Namibia<br>Quantidade de pessoas: 370",
         "type": "scattergeo"
        },
        {
         "lat": [
          12.565679,
          15.870032
         ],
         "line": {
          "color": "#dbda57",
          "width": 2
         },
         "lon": [
          104.990963,
          100.992541
         ],
         "mode": "lines",
         "text": "Nacionalidade: Cambodia<br>Pais exploração: Thailand<br>Quantidade de pessoas: 254",
         "type": "scattergeo"
        },
        {
         "lat": [
          35.86166,
          37.09024
         ],
         "line": {
          "color": "#cbdb57",
          "width": 2
         },
         "lon": [
          104.195397,
          -95.712891
         ],
         "mode": "lines",
         "text": "Nacionalidade: China<br>Pais exploração: United States<br>Quantidade de pessoas: 23",
         "type": "scattergeo"
        },
        {
         "lat": [
          4.570868,
          -1.831239
         ],
         "line": {
          "color": "#b9db57",
          "width": 2
         },
         "lon": [
          -74.297333,
          -78.183406
         ],
         "mode": "lines",
         "text": "Nacionalidade: Colombia<br>Pais exploração: Ecuador<br>Quantidade de pessoas: 13",
         "type": "scattergeo"
        },
        {
         "lat": [
          4.570868,
          -22.95764
         ],
         "line": {
          "color": "#b9db57",
          "width": 2
         },
         "lon": [
          -74.297333,
          18.49041
         ],
         "mode": "lines",
         "text": "Nacionalidade: Colombia<br>Pais exploração: Namibia<br>Quantidade de pessoas: 111",
         "type": "scattergeo"
        },
        {
         "lat": [
          -4.038333,
          1.373333
         ],
         "line": {
          "color": "#a7db57",
          "width": 2
         },
         "lon": [
          21.758664,
          32.290275
         ],
         "mode": "lines",
         "text": "Nacionalidade: Congo [DRC]<br>Pais exploração: Uganda<br>Quantidade de pessoas: 53",
         "type": "scattergeo"
        },
        {
         "lat": [
          7.539989,
          14.497401
         ],
         "line": {
          "color": "#95db57",
          "width": 2
         },
         "lon": [
          -5.54708,
          -14.452362
         ],
         "mode": "lines",
         "text": "Nacionalidade: Côte d'Ivoire<br>Pais exploração: Senegal<br>Quantidade de pessoas: 31",
         "type": "scattergeo"
        },
        {
         "lat": [
          15.179384,
          26.820553
         ],
         "line": {
          "color": "#84db57",
          "width": 2
         },
         "lon": [
          39.782334,
          30.802498
         ],
         "mode": "lines",
         "text": "Nacionalidade: Eritrea<br>Pais exploração: Egypt<br>Quantidade de pessoas: 13",
         "type": "scattergeo"
        },
        {
         "lat": [
          9.945587,
          14.497401
         ],
         "line": {
          "color": "#60db57",
          "width": 2
         },
         "lon": [
          -9.696645,
          -14.452362
         ],
         "mode": "lines",
         "text": "Nacionalidade: Guinea<br>Pais exploração: Senegal<br>Quantidade de pessoas: 15",
         "type": "scattergeo"
        },
        {
         "lat": [
          11.803749,
          14.497401
         ],
         "line": {
          "color": "#57db5f",
          "width": 2
         },
         "lon": [
          -15.180413,
          -14.452362
         ],
         "mode": "lines",
         "text": "Nacionalidade: Guinea-Bissau<br>Pais exploração: Senegal<br>Quantidade de pessoas: 145",
         "type": "scattergeo"
        },
        {
         "lat": [
          -0.789275,
          25.930414
         ],
         "line": {
          "color": "#57db82",
          "width": 2
         },
         "lon": [
          113.921327,
          50.637772
         ],
         "mode": "lines",
         "text": "Nacionalidade: Indonesia<br>Pais exploração: Bahrain<br>Quantidade de pessoas: 22",
         "type": "scattergeo"
        },
        {
         "lat": [
          -0.789275,
          30.585164
         ],
         "line": {
          "color": "#57db82",
          "width": 2
         },
         "lon": [
          113.921327,
          36.238414
         ],
         "mode": "lines",
         "text": "Nacionalidade: Indonesia<br>Pais exploração: Jordan<br>Quantidade de pessoas: 23",
         "type": "scattergeo"
        },
        {
         "lat": [
          -0.789275,
          4.210484
         ],
         "line": {
          "color": "#57db82",
          "width": 2
         },
         "lon": [
          113.921327,
          101.975766
         ],
         "mode": "lines",
         "text": "Nacionalidade: Indonesia<br>Pais exploração: Malaysia<br>Quantidade de pessoas: 553",
         "type": "scattergeo"
        },
        {
         "lat": [
          -0.789275,
          -22.95764
         ],
         "line": {
          "color": "#57db82",
          "width": 2
         },
         "lon": [
          113.921327,
          18.49041
         ],
         "mode": "lines",
         "text": "Nacionalidade: Indonesia<br>Pais exploração: Namibia<br>Quantidade de pessoas: 141",
         "type": "scattergeo"
        },
        {
         "lat": [
          -0.789275,
          21.512583
         ],
         "line": {
          "color": "#57db82",
          "width": 2
         },
         "lon": [
          113.921327,
          55.923255
         ],
         "mode": "lines",
         "text": "Nacionalidade: Indonesia<br>Pais exploração: Oman<br>Quantidade de pessoas: 94",
         "type": "scattergeo"
        },
        {
         "lat": [
          -0.789275,
          25.354826
         ],
         "line": {
          "color": "#57db82",
          "width": 2
         },
         "lon": [
          113.921327,
          51.183884
         ],
         "mode": "lines",
         "text": "Nacionalidade: Indonesia<br>Pais exploração: Qatar<br>Quantidade de pessoas: 152",
         "type": "scattergeo"
        },
        {
         "lat": [
          -0.789275,
          23.885942
         ],
         "line": {
          "color": "#57db82",
          "width": 2
         },
         "lon": [
          113.921327,
          45.079162
         ],
         "mode": "lines",
         "text": "Nacionalidade: Indonesia<br>Pais exploração: Saudi Arabia<br>Quantidade de pessoas: 183",
         "type": "scattergeo"
        },
        {
         "lat": [
          -0.789275,
          1.352083
         ],
         "line": {
          "color": "#57db82",
          "width": 2
         },
         "lon": [
          113.921327,
          103.819836
         ],
         "mode": "lines",
         "text": "Nacionalidade: Indonesia<br>Pais exploração: Singapore<br>Quantidade de pessoas: 37",
         "type": "scattergeo"
        },
        {
         "lat": [
          -0.789275,
          -30.559482
         ],
         "line": {
          "color": "#57db82",
          "width": 2
         },
         "lon": [
          113.921327,
          22.937506
         ],
         "mode": "lines",
         "text": "Nacionalidade: Indonesia<br>Pais exploração: South Africa<br>Quantidade de pessoas: 36",
         "type": "scattergeo"
        },
        {
         "lat": [
          -0.789275,
          34.802075
         ],
         "line": {
          "color": "#57db82",
          "width": 2
         },
         "lon": [
          113.921327,
          38.996815
         ],
         "mode": "lines",
         "text": "Nacionalidade: Indonesia<br>Pais exploração: Syria<br>Quantidade de pessoas: 41",
         "type": "scattergeo"
        },
        {
         "lat": [
          -0.789275,
          23.69781
         ],
         "line": {
          "color": "#57db82",
          "width": 2
         },
         "lon": [
          113.921327,
          120.960515
         ],
         "mode": "lines",
         "text": "Nacionalidade: Indonesia<br>Pais exploração: Taiwan<br>Quantidade de pessoas: 33",
         "type": "scattergeo"
        },
        {
         "lat": [
          -0.789275,
          10.691803
         ],
         "line": {
          "color": "#57db82",
          "width": 2
         },
         "lon": [
          113.921327,
          -61.222503
         ],
         "mode": "lines",
         "text": "Nacionalidade: Indonesia<br>Pais exploração: Trinidad and Tobago<br>Quantidade de pessoas: 85",
         "type": "scattergeo"
        },
        {
         "lat": [
          -0.789275,
          23.424076
         ],
         "line": {
          "color": "#57db82",
          "width": 2
         },
         "lon": [
          113.921327,
          53.847818
         ],
         "mode": "lines",
         "text": "Nacionalidade: Indonesia<br>Pais exploração: United Arab Emirates<br>Quantidade de pessoas: 326",
         "type": "scattergeo"
        },
        {
         "lat": [
          -0.023559,
          26.3351
         ],
         "line": {
          "color": "#57dba5",
          "width": 2
         },
         "lon": [
          37.906193,
          17.228331
         ],
         "mode": "lines",
         "text": "Nacionalidade: Kenya<br>Pais exploração: Libya<br>Quantidade de pessoas: 11",
         "type": "scattergeo"
        },
        {
         "lat": [
          -0.023559,
          23.885942
         ],
         "line": {
          "color": "#57dba5",
          "width": 2
         },
         "lon": [
          37.906193,
          45.079162
         ],
         "mode": "lines",
         "text": "Nacionalidade: Kenya<br>Pais exploração: Saudi Arabia<br>Quantidade de pessoas: 21",
         "type": "scattergeo"
        },
        {
         "lat": [
          41.20438,
          48.019573
         ],
         "line": {
          "color": "#57dbb7",
          "width": 2
         },
         "lon": [
          74.766098,
          66.923684
         ],
         "mode": "lines",
         "text": "Nacionalidade: Kyrgyzstan<br>Pais exploração: Kazakhstan<br>Quantidade de pessoas: 94",
         "type": "scattergeo"
        },
        {
         "lat": [
          41.20438,
          61.52401
         ],
         "line": {
          "color": "#57dbb7",
          "width": 2
         },
         "lon": [
          74.766098,
          105.318756
         ],
         "mode": "lines",
         "text": "Nacionalidade: Kyrgyzstan<br>Pais exploração: Russia<br>Quantidade de pessoas: 192",
         "type": "scattergeo"
        },
        {
         "lat": [
          19.85627,
          15.870032
         ],
         "line": {
          "color": "#57dbc9",
          "width": 2
         },
         "lon": [
          102.495496,
          100.992541
         ],
         "mode": "lines",
         "text": "Nacionalidade: Laos<br>Pais exploração: Thailand<br>Quantidade de pessoas: 126",
         "type": "scattergeo"
        },
        {
         "lat": [
          17.570692,
          14.497401
         ],
         "line": {
          "color": "#57cbdb",
          "width": 2
         },
         "lon": [
          -3.996166,
          -14.452362
         ],
         "mode": "lines",
         "text": "Nacionalidade: Mali<br>Pais exploração: Senegal<br>Quantidade de pessoas: 45",
         "type": "scattergeo"
        },
        {
         "lat": [
          23.634501,
          37.09024
         ],
         "line": {
          "color": "#57b9db",
          "width": 2
         },
         "lon": [
          -102.552784,
          -95.712891
         ],
         "mode": "lines",
         "text": "Nacionalidade: Mexico<br>Pais exploração: United States<br>Quantidade de pessoas: 19",
         "type": "scattergeo"
        },
        {
         "lat": [
          47.411631,
          -22.95764
         ],
         "line": {
          "color": "#57a7db",
          "width": 2
         },
         "lon": [
          28.369885,
          18.49041
         ],
         "mode": "lines",
         "text": "Nacionalidade: Moldova<br>Pais exploração: Namibia<br>Quantidade de pessoas: 682",
         "type": "scattergeo"
        },
        {
         "lat": [
          47.411631,
          44.016521
         ],
         "line": {
          "color": "#57a7db",
          "width": 2
         },
         "lon": [
          28.369885,
          21.005859
         ],
         "mode": "lines",
         "text": "Nacionalidade: Moldova<br>Pais exploração: Serbia<br>Quantidade de pessoas: 159",
         "type": "scattergeo"
        },
        {
         "lat": [
          47.411631,
          38.963745
         ],
         "line": {
          "color": "#57a7db",
          "width": 2
         },
         "lon": [
          28.369885,
          35.243322
         ],
         "mode": "lines",
         "text": "Nacionalidade: Moldova<br>Pais exploração: Turkey<br>Quantidade de pessoas: 23",
         "type": "scattergeo"
        },
        {
         "lat": [
          47.411631,
          48.379433
         ],
         "line": {
          "color": "#57a7db",
          "width": 2
         },
         "lon": [
          28.369885,
          31.16558
         ],
         "mode": "lines",
         "text": "Nacionalidade: Moldova<br>Pais exploração: Ukraine<br>Quantidade de pessoas: 64",
         "type": "scattergeo"
        },
        {
         "lat": [
          21.913965,
          23.684994
         ],
         "line": {
          "color": "#5795db",
          "width": 2
         },
         "lon": [
          95.956223,
          90.356331
         ],
         "mode": "lines",
         "text": "Nacionalidade: Myanmar [Burma]<br>Pais exploração: Bangladesh<br>Quantidade de pessoas: 26",
         "type": "scattergeo"
        },
        {
         "lat": [
          21.913965,
          -0.789275
         ],
         "line": {
          "color": "#5795db",
          "width": 2
         },
         "lon": [
          95.956223,
          113.921327
         ],
         "mode": "lines",
         "text": "Nacionalidade: Myanmar [Burma]<br>Pais exploração: Indonesia<br>Quantidade de pessoas: 1224",
         "type": "scattergeo"
        },
        {
         "lat": [
          -22.95764,
          12.565679
         ],
         "line": {
          "color": "#5784db",
          "width": 2
         },
         "lon": [
          18.49041,
          104.990963
         ],
         "mode": "lines",
         "text": "Nacionalidade: Namibia<br>Pais exploração: Cambodia<br>Quantidade de pessoas: 71",
         "type": "scattergeo"
        },
        {
         "lat": [
          -22.95764,
          20.593684
         ],
         "line": {
          "color": "#5784db",
          "width": 2
         },
         "lon": [
          18.49041,
          78.96288
         ],
         "mode": "lines",
         "text": "Nacionalidade: Namibia<br>Pais exploração: India<br>Quantidade de pessoas: 46",
         "type": "scattergeo"
        },
        {
         "lat": [
          -22.95764,
          15.870032
         ],
         "line": {
          "color": "#5784db",
          "width": 2
         },
         "lon": [
          18.49041,
          100.992541
         ],
         "mode": "lines",
         "text": "Nacionalidade: Namibia<br>Pais exploração: Thailand<br>Quantidade de pessoas: 11",
         "type": "scattergeo"
        },
        {
         "lat": [
          28.394857,
          33.854721
         ],
         "line": {
          "color": "#5772db",
          "width": 2
         },
         "lon": [
          84.124008,
          35.862285
         ],
         "mode": "lines",
         "text": "Nacionalidade: Nepal<br>Pais exploração: Lebanon<br>Quantidade de pessoas: 27",
         "type": "scattergeo"
        },
        {
         "lat": [
          17.607789,
          14.497401
         ],
         "line": {
          "color": "#5760db",
          "width": 2
         },
         "lon": [
          8.081666,
          -14.452362
         ],
         "mode": "lines",
         "text": "Nacionalidade: Niger<br>Pais exploração: Senegal<br>Quantidade de pessoas: 31",
         "type": "scattergeo"
        },
        {
         "lat": [
          9.081999,
          61.52401
         ],
         "line": {
          "color": "#5f57db",
          "width": 2
         },
         "lon": [
          8.675277,
          105.318756
         ],
         "mode": "lines",
         "text": "Nacionalidade: Nigeria<br>Pais exploração: Russia<br>Quantidade de pessoas: 108",
         "type": "scattergeo"
        },
        {
         "lat": [
          12.879721,
          22.396428
         ],
         "line": {
          "color": "#7057db",
          "width": 2
         },
         "lon": [
          121.774017,
          114.109497
         ],
         "mode": "lines",
         "text": "Nacionalidade: Philippines<br>Pais exploração: Hong Kong<br>Quantidade de pessoas: 31",
         "type": "scattergeo"
        },
        {
         "lat": [
          12.879721,
          36.204824
         ],
         "line": {
          "color": "#7057db",
          "width": 2
         },
         "lon": [
          121.774017,
          138.252924
         ],
         "mode": "lines",
         "text": "Nacionalidade: Philippines<br>Pais exploração: Japan<br>Quantidade de pessoas: 111",
         "type": "scattergeo"
        },
        {
         "lat": [
          12.879721,
          29.31166
         ],
         "line": {
          "color": "#7057db",
          "width": 2
         },
         "lon": [
          121.774017,
          47.481766
         ],
         "mode": "lines",
         "text": "Nacionalidade: Philippines<br>Pais exploração: Kuwait<br>Quantidade de pessoas: 209",
         "type": "scattergeo"
        },
        {
         "lat": [
          12.879721,
          33.854721
         ],
         "line": {
          "color": "#7057db",
          "width": 2
         },
         "lon": [
          121.774017,
          35.862285
         ],
         "mode": "lines",
         "text": "Nacionalidade: Philippines<br>Pais exploração: Lebanon<br>Quantidade de pessoas: 46",
         "type": "scattergeo"
        },
        {
         "lat": [
          12.879721,
          4.210484
         ],
         "line": {
          "color": "#7057db",
          "width": 2
         },
         "lon": [
          121.774017,
          101.975766
         ],
         "mode": "lines",
         "text": "Nacionalidade: Philippines<br>Pais exploração: Malaysia<br>Quantidade de pessoas: 149",
         "type": "scattergeo"
        },
        {
         "lat": [
          12.879721,
          -22.95764
         ],
         "line": {
          "color": "#7057db",
          "width": 2
         },
         "lon": [
          121.774017,
          18.49041
         ],
         "mode": "lines",
         "text": "Nacionalidade: Philippines<br>Pais exploração: Namibia<br>Quantidade de pessoas: 8671",
         "type": "scattergeo"
        },
        {
         "lat": [
          12.879721,
          25.354826
         ],
         "line": {
          "color": "#7057db",
          "width": 2
         },
         "lon": [
          121.774017,
          51.183884
         ],
         "mode": "lines",
         "text": "Nacionalidade: Philippines<br>Pais exploração: Qatar<br>Quantidade de pessoas: 87",
         "type": "scattergeo"
        },
        {
         "lat": [
          12.879721,
          23.885942
         ],
         "line": {
          "color": "#7057db",
          "width": 2
         },
         "lon": [
          121.774017,
          45.079162
         ],
         "mode": "lines",
         "text": "Nacionalidade: Philippines<br>Pais exploração: Saudi Arabia<br>Quantidade de pessoas: 60",
         "type": "scattergeo"
        },
        {
         "lat": [
          12.879721,
          23.424076
         ],
         "line": {
          "color": "#7057db",
          "width": 2
         },
         "lon": [
          121.774017,
          53.847818
         ],
         "mode": "lines",
         "text": "Nacionalidade: Philippines<br>Pais exploração: United Arab Emirates<br>Quantidade de pessoas: 13",
         "type": "scattergeo"
        },
        {
         "lat": [
          45.943161,
          43.915886
         ],
         "line": {
          "color": "#8257db",
          "width": 2
         },
         "lon": [
          24.96676,
          17.679076
         ],
         "mode": "lines",
         "text": "Nacionalidade: Romania<br>Pais exploração: Bosnia and Herzegovina<br>Quantidade de pessoas: 114",
         "type": "scattergeo"
        },
        {
         "lat": [
          45.943161,
          56.26392
         ],
         "line": {
          "color": "#8257db",
          "width": 2
         },
         "lon": [
          24.96676,
          9.501785
         ],
         "mode": "lines",
         "text": "Nacionalidade: Romania<br>Pais exploração: Denmark<br>Quantidade de pessoas: 17",
         "type": "scattergeo"
        },
        {
         "lat": [
          45.943161,
          41.87194
         ],
         "line": {
          "color": "#8257db",
          "width": 2
         },
         "lon": [
          24.96676,
          12.56738
         ],
         "mode": "lines",
         "text": "Nacionalidade: Romania<br>Pais exploração: Italy<br>Quantidade de pessoas: 24",
         "type": "scattergeo"
        },
        {
         "lat": [
          45.943161,
          41.608635
         ],
         "line": {
          "color": "#8257db",
          "width": 2
         },
         "lon": [
          24.96676,
          21.745275
         ],
         "mode": "lines",
         "text": "Nacionalidade: Romania<br>Pais exploração: Macedonia [FYROM]<br>Quantidade de pessoas: 140",
         "type": "scattergeo"
        },
        {
         "lat": [
          45.943161,
          -22.95764
         ],
         "line": {
          "color": "#8257db",
          "width": 2
         },
         "lon": [
          24.96676,
          18.49041
         ],
         "mode": "lines",
         "text": "Nacionalidade: Romania<br>Pais exploração: Namibia<br>Quantidade de pessoas: 39",
         "type": "scattergeo"
        },
        {
         "lat": [
          45.943161,
          44.016521
         ],
         "line": {
          "color": "#8257db",
          "width": 2
         },
         "lon": [
          24.96676,
          21.005859
         ],
         "mode": "lines",
         "text": "Nacionalidade: Romania<br>Pais exploração: Serbia<br>Quantidade de pessoas: 62",
         "type": "scattergeo"
        },
        {
         "lat": [
          35.907757,
          37.09024
         ],
         "line": {
          "color": "#b757db",
          "width": 2
         },
         "lon": [
          127.766922,
          -95.712891
         ],
         "mode": "lines",
         "text": "Nacionalidade: South Korea<br>Pais exploração: United States<br>Quantidade de pessoas: 12",
         "type": "scattergeo"
        },
        {
         "lat": [
          7.873054,
          30.585164
         ],
         "line": {
          "color": "#c957db",
          "width": 2
         },
         "lon": [
          80.771797,
          36.238414
         ],
         "mode": "lines",
         "text": "Nacionalidade: Sri Lanka<br>Pais exploração: Jordan<br>Quantidade de pessoas: 85",
         "type": "scattergeo"
        },
        {
         "lat": [
          15.870032,
          -0.789275
         ],
         "line": {
          "color": "#db57cb",
          "width": 2
         },
         "lon": [
          100.992541,
          113.921327
         ],
         "mode": "lines",
         "text": "Nacionalidade: Thailand<br>Pais exploração: Indonesia<br>Quantidade de pessoas: 55",
         "type": "scattergeo"
        },
        {
         "lat": [
          48.379433,
          47.516231
         ],
         "line": {
          "color": "#db5795",
          "width": 2
         },
         "lon": [
          31.16558,
          14.550072
         ],
         "mode": "lines",
         "text": "Nacionalidade: Ukraine<br>Pais exploração: Austria<br>Quantidade de pessoas: 24",
         "type": "scattergeo"
        },
        {
         "lat": [
          48.379433,
          43.915886
         ],
         "line": {
          "color": "#db5795",
          "width": 2
         },
         "lon": [
          31.16558,
          17.679076
         ],
         "mode": "lines",
         "text": "Nacionalidade: Ukraine<br>Pais exploração: Bosnia and Herzegovina<br>Quantidade de pessoas: 13",
         "type": "scattergeo"
        },
        {
         "lat": [
          48.379433,
          42.733883
         ],
         "line": {
          "color": "#db5795",
          "width": 2
         },
         "lon": [
          31.16558,
          25.48583
         ],
         "mode": "lines",
         "text": "Nacionalidade: Ukraine<br>Pais exploração: Bulgaria<br>Quantidade de pessoas: 14",
         "type": "scattergeo"
        },
        {
         "lat": [
          48.379433,
          49.817492
         ],
         "line": {
          "color": "#db5795",
          "width": 2
         },
         "lon": [
          31.16558,
          15.472962
         ],
         "mode": "lines",
         "text": "Nacionalidade: Ukraine<br>Pais exploração: Czech Republic<br>Quantidade de pessoas: 38",
         "type": "scattergeo"
        },
        {
         "lat": [
          48.379433,
          48.019573
         ],
         "line": {
          "color": "#db5795",
          "width": 2
         },
         "lon": [
          31.16558,
          66.923684
         ],
         "mode": "lines",
         "text": "Nacionalidade: Ukraine<br>Pais exploração: Kazakhstan<br>Quantidade de pessoas: 17",
         "type": "scattergeo"
        },
        {
         "lat": [
          48.379433,
          41.608635
         ],
         "line": {
          "color": "#db5795",
          "width": 2
         },
         "lon": [
          31.16558,
          21.745275
         ],
         "mode": "lines",
         "text": "Nacionalidade: Ukraine<br>Pais exploração: Macedonia [FYROM]<br>Quantidade de pessoas: 54",
         "type": "scattergeo"
        },
        {
         "lat": [
          48.379433,
          -22.95764
         ],
         "line": {
          "color": "#db5795",
          "width": 2
         },
         "lon": [
          31.16558,
          18.49041
         ],
         "mode": "lines",
         "text": "Nacionalidade: Ukraine<br>Pais exploração: Namibia<br>Quantidade de pessoas: 11",
         "type": "scattergeo"
        },
        {
         "lat": [
          48.379433,
          51.919438
         ],
         "line": {
          "color": "#db5795",
          "width": 2
         },
         "lon": [
          31.16558,
          19.145136
         ],
         "mode": "lines",
         "text": "Nacionalidade: Ukraine<br>Pais exploração: Poland<br>Quantidade de pessoas: 314",
         "type": "scattergeo"
        },
        {
         "lat": [
          48.379433,
          61.52401
         ],
         "line": {
          "color": "#db5795",
          "width": 2
         },
         "lon": [
          31.16558,
          105.318756
         ],
         "mode": "lines",
         "text": "Nacionalidade: Ukraine<br>Pais exploração: Russia<br>Quantidade de pessoas: 1676",
         "type": "scattergeo"
        },
        {
         "lat": [
          48.379433,
          44.016521
         ],
         "line": {
          "color": "#db5795",
          "width": 2
         },
         "lon": [
          31.16558,
          21.005859
         ],
         "mode": "lines",
         "text": "Nacionalidade: Ukraine<br>Pais exploração: Serbia<br>Quantidade de pessoas: 27",
         "type": "scattergeo"
        },
        {
         "lat": [
          48.379433,
          38.963745
         ],
         "line": {
          "color": "#db5795",
          "width": 2
         },
         "lon": [
          31.16558,
          35.243322
         ],
         "mode": "lines",
         "text": "Nacionalidade: Ukraine<br>Pais exploração: Turkey<br>Quantidade de pessoas: 174",
         "type": "scattergeo"
        },
        {
         "lat": [
          48.379433,
          23.424076
         ],
         "line": {
          "color": "#db5795",
          "width": 2
         },
         "lon": [
          31.16558,
          53.847818
         ],
         "mode": "lines",
         "text": "Nacionalidade: Ukraine<br>Pais exploração: United Arab Emirates<br>Quantidade de pessoas: 100",
         "type": "scattergeo"
        },
        {
         "lat": [
          41.377491,
          48.019573
         ],
         "line": {
          "color": "#db5772",
          "width": 2
         },
         "lon": [
          64.585262,
          66.923684
         ],
         "mode": "lines",
         "text": "Nacionalidade: Uzbekistan<br>Pais exploração: Kazakhstan<br>Quantidade de pessoas: 57",
         "type": "scattergeo"
        },
        {
         "lat": [
          41.377491,
          61.52401
         ],
         "line": {
          "color": "#db5772",
          "width": 2
         },
         "lon": [
          64.585262,
          105.318756
         ],
         "mode": "lines",
         "text": "Nacionalidade: Uzbekistan<br>Pais exploração: Russia<br>Quantidade de pessoas: 11",
         "type": "scattergeo"
        },
        {
         "lat": [
          14.058324,
          12.565679
         ],
         "line": {
          "color": "#db5760",
          "width": 2
         },
         "lon": [
          108.277199,
          104.990963
         ],
         "mode": "lines",
         "text": "Nacionalidade: Vietnam<br>Pais exploração: Cambodia<br>Quantidade de pessoas: 46",
         "type": "scattergeo"
        },
        {
         "lat": [
          14.058324,
          4.210484
         ],
         "line": {
          "color": "#db5760",
          "width": 2
         },
         "lon": [
          108.277199,
          101.975766
         ],
         "mode": "lines",
         "text": "Nacionalidade: Vietnam<br>Pais exploração: Malaysia<br>Quantidade de pessoas: 108",
         "type": "scattergeo"
        }
       ],
       "layout": {
        "geo": {
         "projection": {
          "type": "orthographic"
         },
         "showcoastlines": false,
         "showframe": false
        },
        "showlegend": false,
        "template": {
         "data": {
          "bar": [
           {
            "error_x": {
             "color": "#2a3f5f"
            },
            "error_y": {
             "color": "#2a3f5f"
            },
            "marker": {
             "line": {
              "color": "#E5ECF6",
              "width": 0.5
             }
            },
            "type": "bar"
           }
          ],
          "barpolar": [
           {
            "marker": {
             "line": {
              "color": "#E5ECF6",
              "width": 0.5
             }
            },
            "type": "barpolar"
           }
          ],
          "carpet": [
           {
            "aaxis": {
             "endlinecolor": "#2a3f5f",
             "gridcolor": "white",
             "linecolor": "white",
             "minorgridcolor": "white",
             "startlinecolor": "#2a3f5f"
            },
            "baxis": {
             "endlinecolor": "#2a3f5f",
             "gridcolor": "white",
             "linecolor": "white",
             "minorgridcolor": "white",
             "startlinecolor": "#2a3f5f"
            },
            "type": "carpet"
           }
          ],
          "choropleth": [
           {
            "colorbar": {
             "outlinewidth": 0,
             "ticks": ""
            },
            "type": "choropleth"
           }
          ],
          "contour": [
           {
            "colorbar": {
             "outlinewidth": 0,
             "ticks": ""
            },
            "colorscale": [
             [
              0,
              "#0d0887"
             ],
             [
              0.1111111111111111,
              "#46039f"
             ],
             [
              0.2222222222222222,
              "#7201a8"
             ],
             [
              0.3333333333333333,
              "#9c179e"
             ],
             [
              0.4444444444444444,
              "#bd3786"
             ],
             [
              0.5555555555555556,
              "#d8576b"
             ],
             [
              0.6666666666666666,
              "#ed7953"
             ],
             [
              0.7777777777777778,
              "#fb9f3a"
             ],
             [
              0.8888888888888888,
              "#fdca26"
             ],
             [
              1,
              "#f0f921"
             ]
            ],
            "type": "contour"
           }
          ],
          "contourcarpet": [
           {
            "colorbar": {
             "outlinewidth": 0,
             "ticks": ""
            },
            "type": "contourcarpet"
           }
          ],
          "heatmap": [
           {
            "colorbar": {
             "outlinewidth": 0,
             "ticks": ""
            },
            "colorscale": [
             [
              0,
              "#0d0887"
             ],
             [
              0.1111111111111111,
              "#46039f"
             ],
             [
              0.2222222222222222,
              "#7201a8"
             ],
             [
              0.3333333333333333,
              "#9c179e"
             ],
             [
              0.4444444444444444,
              "#bd3786"
             ],
             [
              0.5555555555555556,
              "#d8576b"
             ],
             [
              0.6666666666666666,
              "#ed7953"
             ],
             [
              0.7777777777777778,
              "#fb9f3a"
             ],
             [
              0.8888888888888888,
              "#fdca26"
             ],
             [
              1,
              "#f0f921"
             ]
            ],
            "type": "heatmap"
           }
          ],
          "heatmapgl": [
           {
            "colorbar": {
             "outlinewidth": 0,
             "ticks": ""
            },
            "colorscale": [
             [
              0,
              "#0d0887"
             ],
             [
              0.1111111111111111,
              "#46039f"
             ],
             [
              0.2222222222222222,
              "#7201a8"
             ],
             [
              0.3333333333333333,
              "#9c179e"
             ],
             [
              0.4444444444444444,
              "#bd3786"
             ],
             [
              0.5555555555555556,
              "#d8576b"
             ],
             [
              0.6666666666666666,
              "#ed7953"
             ],
             [
              0.7777777777777778,
              "#fb9f3a"
             ],
             [
              0.8888888888888888,
              "#fdca26"
             ],
             [
              1,
              "#f0f921"
             ]
            ],
            "type": "heatmapgl"
           }
          ],
          "histogram": [
           {
            "marker": {
             "colorbar": {
              "outlinewidth": 0,
              "ticks": ""
             }
            },
            "type": "histogram"
           }
          ],
          "histogram2d": [
           {
            "colorbar": {
             "outlinewidth": 0,
             "ticks": ""
            },
            "colorscale": [
             [
              0,
              "#0d0887"
             ],
             [
              0.1111111111111111,
              "#46039f"
             ],
             [
              0.2222222222222222,
              "#7201a8"
             ],
             [
              0.3333333333333333,
              "#9c179e"
             ],
             [
              0.4444444444444444,
              "#bd3786"
             ],
             [
              0.5555555555555556,
              "#d8576b"
             ],
             [
              0.6666666666666666,
              "#ed7953"
             ],
             [
              0.7777777777777778,
              "#fb9f3a"
             ],
             [
              0.8888888888888888,
              "#fdca26"
             ],
             [
              1,
              "#f0f921"
             ]
            ],
            "type": "histogram2d"
           }
          ],
          "histogram2dcontour": [
           {
            "colorbar": {
             "outlinewidth": 0,
             "ticks": ""
            },
            "colorscale": [
             [
              0,
              "#0d0887"
             ],
             [
              0.1111111111111111,
              "#46039f"
             ],
             [
              0.2222222222222222,
              "#7201a8"
             ],
             [
              0.3333333333333333,
              "#9c179e"
             ],
             [
              0.4444444444444444,
              "#bd3786"
             ],
             [
              0.5555555555555556,
              "#d8576b"
             ],
             [
              0.6666666666666666,
              "#ed7953"
             ],
             [
              0.7777777777777778,
              "#fb9f3a"
             ],
             [
              0.8888888888888888,
              "#fdca26"
             ],
             [
              1,
              "#f0f921"
             ]
            ],
            "type": "histogram2dcontour"
           }
          ],
          "mesh3d": [
           {
            "colorbar": {
             "outlinewidth": 0,
             "ticks": ""
            },
            "type": "mesh3d"
           }
          ],
          "parcoords": [
           {
            "line": {
             "colorbar": {
              "outlinewidth": 0,
              "ticks": ""
             }
            },
            "type": "parcoords"
           }
          ],
          "pie": [
           {
            "automargin": true,
            "type": "pie"
           }
          ],
          "scatter": [
           {
            "marker": {
             "colorbar": {
              "outlinewidth": 0,
              "ticks": ""
             }
            },
            "type": "scatter"
           }
          ],
          "scatter3d": [
           {
            "line": {
             "colorbar": {
              "outlinewidth": 0,
              "ticks": ""
             }
            },
            "marker": {
             "colorbar": {
              "outlinewidth": 0,
              "ticks": ""
             }
            },
            "type": "scatter3d"
           }
          ],
          "scattercarpet": [
           {
            "marker": {
             "colorbar": {
              "outlinewidth": 0,
              "ticks": ""
             }
            },
            "type": "scattercarpet"
           }
          ],
          "scattergeo": [
           {
            "marker": {
             "colorbar": {
              "outlinewidth": 0,
              "ticks": ""
             }
            },
            "type": "scattergeo"
           }
          ],
          "scattergl": [
           {
            "marker": {
             "colorbar": {
              "outlinewidth": 0,
              "ticks": ""
             }
            },
            "type": "scattergl"
           }
          ],
          "scattermapbox": [
           {
            "marker": {
             "colorbar": {
              "outlinewidth": 0,
              "ticks": ""
             }
            },
            "type": "scattermapbox"
           }
          ],
          "scatterpolar": [
           {
            "marker": {
             "colorbar": {
              "outlinewidth": 0,
              "ticks": ""
             }
            },
            "type": "scatterpolar"
           }
          ],
          "scatterpolargl": [
           {
            "marker": {
             "colorbar": {
              "outlinewidth": 0,
              "ticks": ""
             }
            },
            "type": "scatterpolargl"
           }
          ],
          "scatterternary": [
           {
            "marker": {
             "colorbar": {
              "outlinewidth": 0,
              "ticks": ""
             }
            },
            "type": "scatterternary"
           }
          ],
          "surface": [
           {
            "colorbar": {
             "outlinewidth": 0,
             "ticks": ""
            },
            "colorscale": [
             [
              0,
              "#0d0887"
             ],
             [
              0.1111111111111111,
              "#46039f"
             ],
             [
              0.2222222222222222,
              "#7201a8"
             ],
             [
              0.3333333333333333,
              "#9c179e"
             ],
             [
              0.4444444444444444,
              "#bd3786"
             ],
             [
              0.5555555555555556,
              "#d8576b"
             ],
             [
              0.6666666666666666,
              "#ed7953"
             ],
             [
              0.7777777777777778,
              "#fb9f3a"
             ],
             [
              0.8888888888888888,
              "#fdca26"
             ],
             [
              1,
              "#f0f921"
             ]
            ],
            "type": "surface"
           }
          ],
          "table": [
           {
            "cells": {
             "fill": {
              "color": "#EBF0F8"
             },
             "line": {
              "color": "white"
             }
            },
            "header": {
             "fill": {
              "color": "#C8D4E3"
             },
             "line": {
              "color": "white"
             }
            },
            "type": "table"
           }
          ]
         },
         "layout": {
          "annotationdefaults": {
           "arrowcolor": "#2a3f5f",
           "arrowhead": 0,
           "arrowwidth": 1
          },
          "coloraxis": {
           "colorbar": {
            "outlinewidth": 0,
            "ticks": ""
           }
          },
          "colorscale": {
           "diverging": [
            [
             0,
             "#8e0152"
            ],
            [
             0.1,
             "#c51b7d"
            ],
            [
             0.2,
             "#de77ae"
            ],
            [
             0.3,
             "#f1b6da"
            ],
            [
             0.4,
             "#fde0ef"
            ],
            [
             0.5,
             "#f7f7f7"
            ],
            [
             0.6,
             "#e6f5d0"
            ],
            [
             0.7,
             "#b8e186"
            ],
            [
             0.8,
             "#7fbc41"
            ],
            [
             0.9,
             "#4d9221"
            ],
            [
             1,
             "#276419"
            ]
           ],
           "sequential": [
            [
             0,
             "#0d0887"
            ],
            [
             0.1111111111111111,
             "#46039f"
            ],
            [
             0.2222222222222222,
             "#7201a8"
            ],
            [
             0.3333333333333333,
             "#9c179e"
            ],
            [
             0.4444444444444444,
             "#bd3786"
            ],
            [
             0.5555555555555556,
             "#d8576b"
            ],
            [
             0.6666666666666666,
             "#ed7953"
            ],
            [
             0.7777777777777778,
             "#fb9f3a"
            ],
            [
             0.8888888888888888,
             "#fdca26"
            ],
            [
             1,
             "#f0f921"
            ]
           ],
           "sequentialminus": [
            [
             0,
             "#0d0887"
            ],
            [
             0.1111111111111111,
             "#46039f"
            ],
            [
             0.2222222222222222,
             "#7201a8"
            ],
            [
             0.3333333333333333,
             "#9c179e"
            ],
            [
             0.4444444444444444,
             "#bd3786"
            ],
            [
             0.5555555555555556,
             "#d8576b"
            ],
            [
             0.6666666666666666,
             "#ed7953"
            ],
            [
             0.7777777777777778,
             "#fb9f3a"
            ],
            [
             0.8888888888888888,
             "#fdca26"
            ],
            [
             1,
             "#f0f921"
            ]
           ]
          },
          "colorway": [
           "#636efa",
           "#EF553B",
           "#00cc96",
           "#ab63fa",
           "#FFA15A",
           "#19d3f3",
           "#FF6692",
           "#B6E880",
           "#FF97FF",
           "#FECB52"
          ],
          "font": {
           "color": "#2a3f5f"
          },
          "geo": {
           "bgcolor": "white",
           "lakecolor": "white",
           "landcolor": "#E5ECF6",
           "showlakes": true,
           "showland": true,
           "subunitcolor": "white"
          },
          "hoverlabel": {
           "align": "left"
          },
          "hovermode": "closest",
          "mapbox": {
           "style": "light"
          },
          "paper_bgcolor": "white",
          "plot_bgcolor": "#E5ECF6",
          "polar": {
           "angularaxis": {
            "gridcolor": "white",
            "linecolor": "white",
            "ticks": ""
           },
           "bgcolor": "#E5ECF6",
           "radialaxis": {
            "gridcolor": "white",
            "linecolor": "white",
            "ticks": ""
           }
          },
          "scene": {
           "xaxis": {
            "backgroundcolor": "#E5ECF6",
            "gridcolor": "white",
            "gridwidth": 2,
            "linecolor": "white",
            "showbackground": true,
            "ticks": "",
            "zerolinecolor": "white"
           },
           "yaxis": {
            "backgroundcolor": "#E5ECF6",
            "gridcolor": "white",
            "gridwidth": 2,
            "linecolor": "white",
            "showbackground": true,
            "ticks": "",
            "zerolinecolor": "white"
           },
           "zaxis": {
            "backgroundcolor": "#E5ECF6",
            "gridcolor": "white",
            "gridwidth": 2,
            "linecolor": "white",
            "showbackground": true,
            "ticks": "",
            "zerolinecolor": "white"
           }
          },
          "shapedefaults": {
           "line": {
            "color": "#2a3f5f"
           }
          },
          "ternary": {
           "aaxis": {
            "gridcolor": "white",
            "linecolor": "white",
            "ticks": ""
           },
           "baxis": {
            "gridcolor": "white",
            "linecolor": "white",
            "ticks": ""
           },
           "bgcolor": "#E5ECF6",
           "caxis": {
            "gridcolor": "white",
            "linecolor": "white",
            "ticks": ""
           }
          },
          "title": {
           "x": 0.05
          },
          "xaxis": {
           "automargin": true,
           "gridcolor": "white",
           "linecolor": "white",
           "ticks": "",
           "title": {
            "standoff": 15
           },
           "zerolinecolor": "white",
           "zerolinewidth": 2
          },
          "yaxis": {
           "automargin": true,
           "gridcolor": "white",
           "linecolor": "white",
           "ticks": "",
           "title": {
            "standoff": 15
           },
           "zerolinecolor": "white",
           "zerolinewidth": 2
          }
         }
        },
        "title": {
         "text": "Fluxo do tráfico de pessoas"
        }
       }
      }
     },
     "metadata": {}
    }
   ],
   "source": [
    "fig = go.Figure()\n",
    "\n",
    "for i in range(0,dados_lines_group.shape[0]):\n",
    "    fig.add_trace(\n",
    "        go.Scattergeo(\n",
    "            lon = [dados_lines_group['nacionalidade_long'][i], dados_lines_group['pais_exploracao_long'][i]],\n",
    "            lat = [dados_lines_group['nacionalidade_lat'][i], dados_lines_group['pais_exploracao_lat'][i]],\n",
    "            mode = 'lines',\n",
    "            line = dict(\n",
    "                width = 2, color = dados_lines_group['cor'][i]\n",
    "            ),\n",
    "            text = dados_lines_group['texto'][i],\n",
    "        )\n",
    "    )\n",
    "\n",
    "\n",
    "fig.update_layout(\n",
    "    title_text='Fluxo do tráfico de pessoas',\n",
    "    showlegend = False,\n",
    "    geo=dict(\n",
    "        showframe=False,\n",
    "        showcoastlines=False,\n",
    "        projection_type='orthographic'\n",
    "    )\n",
    ")\n",
    "\n",
    "fig.show()\n"
   ]
  },
  {
   "cell_type": "code",
   "execution_count": 72,
   "metadata": {},
   "outputs": [
    {
     "output_type": "display_data",
     "data": {
      "application/vnd.plotly.v1+json": {
       "config": {
        "plotlyServerURL": "https://plot.ly"
       },
       "data": [
        {
         "lat": [
          33.93911,
          23.885942
         ],
         "line": {
          "color": "#db5f57",
          "width": 2
         },
         "lon": [
          67.709953,
          45.079162
         ],
         "mode": "lines",
         "text": "Nacionalidade: Afghanistan<br>Pais exploração: Saudi Arabia<br>Quantidade de pessoas: 14",
         "type": "scattergeo"
        },
        {
         "lat": [
          23.684994,
          38.861034
         ],
         "line": {
          "color": "#db8257",
          "width": 2
         },
         "lon": [
          90.356331,
          71.276093
         ],
         "mode": "lines",
         "text": "Nacionalidade: Bangladesh<br>Pais exploração: Tajikistan<br>Quantidade de pessoas: 11",
         "type": "scattergeo"
        },
        {
         "lat": [
          53.709807,
          35.126413
         ],
         "line": {
          "color": "#db9457",
          "width": 2
         },
         "lon": [
          27.953389,
          33.429859
         ],
         "mode": "lines",
         "text": "Nacionalidade: Belarus<br>Pais exploração: Cyprus<br>Quantidade de pessoas: 11",
         "type": "scattergeo"
        },
        {
         "lat": [
          53.709807,
          51.919438
         ],
         "line": {
          "color": "#db9457",
          "width": 2
         },
         "lon": [
          27.953389,
          19.145136
         ],
         "mode": "lines",
         "text": "Nacionalidade: Belarus<br>Pais exploração: Poland<br>Quantidade de pessoas: 12",
         "type": "scattergeo"
        },
        {
         "lat": [
          53.709807,
          61.52401
         ],
         "line": {
          "color": "#db9457",
          "width": 2
         },
         "lon": [
          27.953389,
          105.318756
         ],
         "mode": "lines",
         "text": "Nacionalidade: Belarus<br>Pais exploração: Russia<br>Quantidade de pessoas: 751",
         "type": "scattergeo"
        },
        {
         "lat": [
          53.709807,
          23.424076
         ],
         "line": {
          "color": "#db9457",
          "width": 2
         },
         "lon": [
          27.953389,
          53.847818
         ],
         "mode": "lines",
         "text": "Nacionalidade: Belarus<br>Pais exploração: United Arab Emirates<br>Quantidade de pessoas: 65",
         "type": "scattergeo"
        },
        {
         "lat": [
          -16.290154,
          -38.416097
         ],
         "line": {
          "color": "#dba557",
          "width": 2
         },
         "lon": [
          -63.588653,
          -63.616672
         ],
         "mode": "lines",
         "text": "Nacionalidade: Bolivia<br>Pais exploração: Argentina<br>Quantidade de pessoas: 18",
         "type": "scattergeo"
        },
        {
         "lat": [
          12.238333,
          14.497401
         ],
         "line": {
          "color": "#dbc957",
          "width": 2
         },
         "lon": [
          -1.561593,
          -14.452362
         ],
         "mode": "lines",
         "text": "Nacionalidade: Burkina Faso<br>Pais exploração: Senegal<br>Quantidade de pessoas: 33",
         "type": "scattergeo"
        },
        {
         "lat": [
          12.565679,
          35.86166
         ],
         "line": {
          "color": "#dbda57",
          "width": 2
         },
         "lon": [
          104.990963,
          104.195397
         ],
         "mode": "lines",
         "text": "Nacionalidade: Cambodia<br>Pais exploração: China<br>Quantidade de pessoas: 79",
         "type": "scattergeo"
        },
        {
         "lat": [
          12.565679,
          -0.789275
         ],
         "line": {
          "color": "#dbda57",
          "width": 2
         },
         "lon": [
          104.990963,
          113.921327
         ],
         "mode": "lines",
         "text": "Nacionalidade: Cambodia<br>Pais exploração: Indonesia<br>Quantidade de pessoas: 253",
         "type": "scattergeo"
        },
        {
         "lat": [
          12.565679,
          4.210484
         ],
         "line": {
          "color": "#dbda57",
          "width": 2
         },
         "lon": [
          104.990963,
          101.975766
         ],
         "mode": "lines",
         "text": "Nacionalidade: Cambodia<br>Pais exploração: Malaysia<br>Quantidade de pessoas: 120",
         "type": "scattergeo"
        },
        {
         "lat": [
          12.565679,
          -20.348404
         ],
         "line": {
          "color": "#dbda57",
          "width": 2
         },
         "lon": [
          104.990963,
          57.552152
         ],
         "mode": "lines",
         "text": "Nacionalidade: Cambodia<br>Pais exploração: Mauritius<br>Quantidade de pessoas: 20",
         "type": "scattergeo"
        },
        {
         "lat": [
          12.565679,
          -22.95764
         ],
         "line": {
          "color": "#dbda57",
          "width": 2
         },
         "lon": [
          104.990963,
          18.49041
         ],
         "mode": "lines",
         "text": "Nacionalidade: Cambodia<br>Pais exploração: Namibia<br>Quantidade de pessoas: 370",
         "type": "scattergeo"
        },
        {
         "lat": [
          12.565679,
          15.870032
         ],
         "line": {
          "color": "#dbda57",
          "width": 2
         },
         "lon": [
          104.990963,
          100.992541
         ],
         "mode": "lines",
         "text": "Nacionalidade: Cambodia<br>Pais exploração: Thailand<br>Quantidade de pessoas: 254",
         "type": "scattergeo"
        },
        {
         "lat": [
          35.86166,
          37.09024
         ],
         "line": {
          "color": "#cbdb57",
          "width": 2
         },
         "lon": [
          104.195397,
          -95.712891
         ],
         "mode": "lines",
         "text": "Nacionalidade: China<br>Pais exploração: United States<br>Quantidade de pessoas: 23",
         "type": "scattergeo"
        },
        {
         "lat": [
          4.570868,
          -1.831239
         ],
         "line": {
          "color": "#b9db57",
          "width": 2
         },
         "lon": [
          -74.297333,
          -78.183406
         ],
         "mode": "lines",
         "text": "Nacionalidade: Colombia<br>Pais exploração: Ecuador<br>Quantidade de pessoas: 13",
         "type": "scattergeo"
        },
        {
         "lat": [
          4.570868,
          -22.95764
         ],
         "line": {
          "color": "#b9db57",
          "width": 2
         },
         "lon": [
          -74.297333,
          18.49041
         ],
         "mode": "lines",
         "text": "Nacionalidade: Colombia<br>Pais exploração: Namibia<br>Quantidade de pessoas: 111",
         "type": "scattergeo"
        },
        {
         "lat": [
          -4.038333,
          1.373333
         ],
         "line": {
          "color": "#a7db57",
          "width": 2
         },
         "lon": [
          21.758664,
          32.290275
         ],
         "mode": "lines",
         "text": "Nacionalidade: Congo [DRC]<br>Pais exploração: Uganda<br>Quantidade de pessoas: 53",
         "type": "scattergeo"
        },
        {
         "lat": [
          7.539989,
          14.497401
         ],
         "line": {
          "color": "#95db57",
          "width": 2
         },
         "lon": [
          -5.54708,
          -14.452362
         ],
         "mode": "lines",
         "text": "Nacionalidade: Côte d'Ivoire<br>Pais exploração: Senegal<br>Quantidade de pessoas: 31",
         "type": "scattergeo"
        },
        {
         "lat": [
          15.179384,
          26.820553
         ],
         "line": {
          "color": "#84db57",
          "width": 2
         },
         "lon": [
          39.782334,
          30.802498
         ],
         "mode": "lines",
         "text": "Nacionalidade: Eritrea<br>Pais exploração: Egypt<br>Quantidade de pessoas: 13",
         "type": "scattergeo"
        },
        {
         "lat": [
          9.945587,
          14.497401
         ],
         "line": {
          "color": "#60db57",
          "width": 2
         },
         "lon": [
          -9.696645,
          -14.452362
         ],
         "mode": "lines",
         "text": "Nacionalidade: Guinea<br>Pais exploração: Senegal<br>Quantidade de pessoas: 15",
         "type": "scattergeo"
        },
        {
         "lat": [
          11.803749,
          14.497401
         ],
         "line": {
          "color": "#57db5f",
          "width": 2
         },
         "lon": [
          -15.180413,
          -14.452362
         ],
         "mode": "lines",
         "text": "Nacionalidade: Guinea-Bissau<br>Pais exploração: Senegal<br>Quantidade de pessoas: 145",
         "type": "scattergeo"
        },
        {
         "lat": [
          -0.789275,
          25.930414
         ],
         "line": {
          "color": "#57db82",
          "width": 2
         },
         "lon": [
          113.921327,
          50.637772
         ],
         "mode": "lines",
         "text": "Nacionalidade: Indonesia<br>Pais exploração: Bahrain<br>Quantidade de pessoas: 22",
         "type": "scattergeo"
        },
        {
         "lat": [
          -0.789275,
          30.585164
         ],
         "line": {
          "color": "#57db82",
          "width": 2
         },
         "lon": [
          113.921327,
          36.238414
         ],
         "mode": "lines",
         "text": "Nacionalidade: Indonesia<br>Pais exploração: Jordan<br>Quantidade de pessoas: 23",
         "type": "scattergeo"
        },
        {
         "lat": [
          -0.789275,
          4.210484
         ],
         "line": {
          "color": "#57db82",
          "width": 2
         },
         "lon": [
          113.921327,
          101.975766
         ],
         "mode": "lines",
         "text": "Nacionalidade: Indonesia<br>Pais exploração: Malaysia<br>Quantidade de pessoas: 553",
         "type": "scattergeo"
        },
        {
         "lat": [
          -0.789275,
          -22.95764
         ],
         "line": {
          "color": "#57db82",
          "width": 2
         },
         "lon": [
          113.921327,
          18.49041
         ],
         "mode": "lines",
         "text": "Nacionalidade: Indonesia<br>Pais exploração: Namibia<br>Quantidade de pessoas: 141",
         "type": "scattergeo"
        },
        {
         "lat": [
          -0.789275,
          21.512583
         ],
         "line": {
          "color": "#57db82",
          "width": 2
         },
         "lon": [
          113.921327,
          55.923255
         ],
         "mode": "lines",
         "text": "Nacionalidade: Indonesia<br>Pais exploração: Oman<br>Quantidade de pessoas: 94",
         "type": "scattergeo"
        },
        {
         "lat": [
          -0.789275,
          25.354826
         ],
         "line": {
          "color": "#57db82",
          "width": 2
         },
         "lon": [
          113.921327,
          51.183884
         ],
         "mode": "lines",
         "text": "Nacionalidade: Indonesia<br>Pais exploração: Qatar<br>Quantidade de pessoas: 152",
         "type": "scattergeo"
        },
        {
         "lat": [
          -0.789275,
          23.885942
         ],
         "line": {
          "color": "#57db82",
          "width": 2
         },
         "lon": [
          113.921327,
          45.079162
         ],
         "mode": "lines",
         "text": "Nacionalidade: Indonesia<br>Pais exploração: Saudi Arabia<br>Quantidade de pessoas: 183",
         "type": "scattergeo"
        },
        {
         "lat": [
          -0.789275,
          1.352083
         ],
         "line": {
          "color": "#57db82",
          "width": 2
         },
         "lon": [
          113.921327,
          103.819836
         ],
         "mode": "lines",
         "text": "Nacionalidade: Indonesia<br>Pais exploração: Singapore<br>Quantidade de pessoas: 37",
         "type": "scattergeo"
        },
        {
         "lat": [
          -0.789275,
          -30.559482
         ],
         "line": {
          "color": "#57db82",
          "width": 2
         },
         "lon": [
          113.921327,
          22.937506
         ],
         "mode": "lines",
         "text": "Nacionalidade: Indonesia<br>Pais exploração: South Africa<br>Quantidade de pessoas: 36",
         "type": "scattergeo"
        },
        {
         "lat": [
          -0.789275,
          34.802075
         ],
         "line": {
          "color": "#57db82",
          "width": 2
         },
         "lon": [
          113.921327,
          38.996815
         ],
         "mode": "lines",
         "text": "Nacionalidade: Indonesia<br>Pais exploração: Syria<br>Quantidade de pessoas: 41",
         "type": "scattergeo"
        },
        {
         "lat": [
          -0.789275,
          23.69781
         ],
         "line": {
          "color": "#57db82",
          "width": 2
         },
         "lon": [
          113.921327,
          120.960515
         ],
         "mode": "lines",
         "text": "Nacionalidade: Indonesia<br>Pais exploração: Taiwan<br>Quantidade de pessoas: 33",
         "type": "scattergeo"
        },
        {
         "lat": [
          -0.789275,
          10.691803
         ],
         "line": {
          "color": "#57db82",
          "width": 2
         },
         "lon": [
          113.921327,
          -61.222503
         ],
         "mode": "lines",
         "text": "Nacionalidade: Indonesia<br>Pais exploração: Trinidad and Tobago<br>Quantidade de pessoas: 85",
         "type": "scattergeo"
        },
        {
         "lat": [
          -0.789275,
          23.424076
         ],
         "line": {
          "color": "#57db82",
          "width": 2
         },
         "lon": [
          113.921327,
          53.847818
         ],
         "mode": "lines",
         "text": "Nacionalidade: Indonesia<br>Pais exploração: United Arab Emirates<br>Quantidade de pessoas: 326",
         "type": "scattergeo"
        },
        {
         "lat": [
          -0.023559,
          26.3351
         ],
         "line": {
          "color": "#57dba5",
          "width": 2
         },
         "lon": [
          37.906193,
          17.228331
         ],
         "mode": "lines",
         "text": "Nacionalidade: Kenya<br>Pais exploração: Libya<br>Quantidade de pessoas: 11",
         "type": "scattergeo"
        },
        {
         "lat": [
          -0.023559,
          23.885942
         ],
         "line": {
          "color": "#57dba5",
          "width": 2
         },
         "lon": [
          37.906193,
          45.079162
         ],
         "mode": "lines",
         "text": "Nacionalidade: Kenya<br>Pais exploração: Saudi Arabia<br>Quantidade de pessoas: 21",
         "type": "scattergeo"
        },
        {
         "lat": [
          41.20438,
          48.019573
         ],
         "line": {
          "color": "#57dbb7",
          "width": 2
         },
         "lon": [
          74.766098,
          66.923684
         ],
         "mode": "lines",
         "text": "Nacionalidade: Kyrgyzstan<br>Pais exploração: Kazakhstan<br>Quantidade de pessoas: 94",
         "type": "scattergeo"
        },
        {
         "lat": [
          41.20438,
          61.52401
         ],
         "line": {
          "color": "#57dbb7",
          "width": 2
         },
         "lon": [
          74.766098,
          105.318756
         ],
         "mode": "lines",
         "text": "Nacionalidade: Kyrgyzstan<br>Pais exploração: Russia<br>Quantidade de pessoas: 192",
         "type": "scattergeo"
        },
        {
         "lat": [
          19.85627,
          15.870032
         ],
         "line": {
          "color": "#57dbc9",
          "width": 2
         },
         "lon": [
          102.495496,
          100.992541
         ],
         "mode": "lines",
         "text": "Nacionalidade: Laos<br>Pais exploração: Thailand<br>Quantidade de pessoas: 126",
         "type": "scattergeo"
        },
        {
         "lat": [
          17.570692,
          14.497401
         ],
         "line": {
          "color": "#57cbdb",
          "width": 2
         },
         "lon": [
          -3.996166,
          -14.452362
         ],
         "mode": "lines",
         "text": "Nacionalidade: Mali<br>Pais exploração: Senegal<br>Quantidade de pessoas: 45",
         "type": "scattergeo"
        },
        {
         "lat": [
          23.634501,
          37.09024
         ],
         "line": {
          "color": "#57b9db",
          "width": 2
         },
         "lon": [
          -102.552784,
          -95.712891
         ],
         "mode": "lines",
         "text": "Nacionalidade: Mexico<br>Pais exploração: United States<br>Quantidade de pessoas: 19",
         "type": "scattergeo"
        },
        {
         "lat": [
          47.411631,
          -22.95764
         ],
         "line": {
          "color": "#57a7db",
          "width": 2
         },
         "lon": [
          28.369885,
          18.49041
         ],
         "mode": "lines",
         "text": "Nacionalidade: Moldova<br>Pais exploração: Namibia<br>Quantidade de pessoas: 682",
         "type": "scattergeo"
        },
        {
         "lat": [
          47.411631,
          44.016521
         ],
         "line": {
          "color": "#57a7db",
          "width": 2
         },
         "lon": [
          28.369885,
          21.005859
         ],
         "mode": "lines",
         "text": "Nacionalidade: Moldova<br>Pais exploração: Serbia<br>Quantidade de pessoas: 159",
         "type": "scattergeo"
        },
        {
         "lat": [
          47.411631,
          38.963745
         ],
         "line": {
          "color": "#57a7db",
          "width": 2
         },
         "lon": [
          28.369885,
          35.243322
         ],
         "mode": "lines",
         "text": "Nacionalidade: Moldova<br>Pais exploração: Turkey<br>Quantidade de pessoas: 23",
         "type": "scattergeo"
        },
        {
         "lat": [
          47.411631,
          48.379433
         ],
         "line": {
          "color": "#57a7db",
          "width": 2
         },
         "lon": [
          28.369885,
          31.16558
         ],
         "mode": "lines",
         "text": "Nacionalidade: Moldova<br>Pais exploração: Ukraine<br>Quantidade de pessoas: 64",
         "type": "scattergeo"
        },
        {
         "lat": [
          21.913965,
          23.684994
         ],
         "line": {
          "color": "#5795db",
          "width": 2
         },
         "lon": [
          95.956223,
          90.356331
         ],
         "mode": "lines",
         "text": "Nacionalidade: Myanmar [Burma]<br>Pais exploração: Bangladesh<br>Quantidade de pessoas: 26",
         "type": "scattergeo"
        },
        {
         "lat": [
          21.913965,
          -0.789275
         ],
         "line": {
          "color": "#5795db",
          "width": 2
         },
         "lon": [
          95.956223,
          113.921327
         ],
         "mode": "lines",
         "text": "Nacionalidade: Myanmar [Burma]<br>Pais exploração: Indonesia<br>Quantidade de pessoas: 1224",
         "type": "scattergeo"
        },
        {
         "lat": [
          -22.95764,
          12.565679
         ],
         "line": {
          "color": "#5784db",
          "width": 2
         },
         "lon": [
          18.49041,
          104.990963
         ],
         "mode": "lines",
         "text": "Nacionalidade: Namibia<br>Pais exploração: Cambodia<br>Quantidade de pessoas: 71",
         "type": "scattergeo"
        },
        {
         "lat": [
          -22.95764,
          20.593684
         ],
         "line": {
          "color": "#5784db",
          "width": 2
         },
         "lon": [
          18.49041,
          78.96288
         ],
         "mode": "lines",
         "text": "Nacionalidade: Namibia<br>Pais exploração: India<br>Quantidade de pessoas: 46",
         "type": "scattergeo"
        },
        {
         "lat": [
          -22.95764,
          15.870032
         ],
         "line": {
          "color": "#5784db",
          "width": 2
         },
         "lon": [
          18.49041,
          100.992541
         ],
         "mode": "lines",
         "text": "Nacionalidade: Namibia<br>Pais exploração: Thailand<br>Quantidade de pessoas: 11",
         "type": "scattergeo"
        },
        {
         "lat": [
          28.394857,
          33.854721
         ],
         "line": {
          "color": "#5772db",
          "width": 2
         },
         "lon": [
          84.124008,
          35.862285
         ],
         "mode": "lines",
         "text": "Nacionalidade: Nepal<br>Pais exploração: Lebanon<br>Quantidade de pessoas: 27",
         "type": "scattergeo"
        },
        {
         "lat": [
          17.607789,
          14.497401
         ],
         "line": {
          "color": "#5760db",
          "width": 2
         },
         "lon": [
          8.081666,
          -14.452362
         ],
         "mode": "lines",
         "text": "Nacionalidade: Niger<br>Pais exploração: Senegal<br>Quantidade de pessoas: 31",
         "type": "scattergeo"
        },
        {
         "lat": [
          9.081999,
          61.52401
         ],
         "line": {
          "color": "#5f57db",
          "width": 2
         },
         "lon": [
          8.675277,
          105.318756
         ],
         "mode": "lines",
         "text": "Nacionalidade: Nigeria<br>Pais exploração: Russia<br>Quantidade de pessoas: 108",
         "type": "scattergeo"
        },
        {
         "lat": [
          12.879721,
          22.396428
         ],
         "line": {
          "color": "#7057db",
          "width": 2
         },
         "lon": [
          121.774017,
          114.109497
         ],
         "mode": "lines",
         "text": "Nacionalidade: Philippines<br>Pais exploração: Hong Kong<br>Quantidade de pessoas: 31",
         "type": "scattergeo"
        },
        {
         "lat": [
          12.879721,
          36.204824
         ],
         "line": {
          "color": "#7057db",
          "width": 2
         },
         "lon": [
          121.774017,
          138.252924
         ],
         "mode": "lines",
         "text": "Nacionalidade: Philippines<br>Pais exploração: Japan<br>Quantidade de pessoas: 111",
         "type": "scattergeo"
        },
        {
         "lat": [
          12.879721,
          29.31166
         ],
         "line": {
          "color": "#7057db",
          "width": 2
         },
         "lon": [
          121.774017,
          47.481766
         ],
         "mode": "lines",
         "text": "Nacionalidade: Philippines<br>Pais exploração: Kuwait<br>Quantidade de pessoas: 209",
         "type": "scattergeo"
        },
        {
         "lat": [
          12.879721,
          33.854721
         ],
         "line": {
          "color": "#7057db",
          "width": 2
         },
         "lon": [
          121.774017,
          35.862285
         ],
         "mode": "lines",
         "text": "Nacionalidade: Philippines<br>Pais exploração: Lebanon<br>Quantidade de pessoas: 46",
         "type": "scattergeo"
        },
        {
         "lat": [
          12.879721,
          4.210484
         ],
         "line": {
          "color": "#7057db",
          "width": 2
         },
         "lon": [
          121.774017,
          101.975766
         ],
         "mode": "lines",
         "text": "Nacionalidade: Philippines<br>Pais exploração: Malaysia<br>Quantidade de pessoas: 149",
         "type": "scattergeo"
        },
        {
         "lat": [
          12.879721,
          -22.95764
         ],
         "line": {
          "color": "#7057db",
          "width": 2
         },
         "lon": [
          121.774017,
          18.49041
         ],
         "mode": "lines",
         "text": "Nacionalidade: Philippines<br>Pais exploração: Namibia<br>Quantidade de pessoas: 8671",
         "type": "scattergeo"
        },
        {
         "lat": [
          12.879721,
          25.354826
         ],
         "line": {
          "color": "#7057db",
          "width": 2
         },
         "lon": [
          121.774017,
          51.183884
         ],
         "mode": "lines",
         "text": "Nacionalidade: Philippines<br>Pais exploração: Qatar<br>Quantidade de pessoas: 87",
         "type": "scattergeo"
        },
        {
         "lat": [
          12.879721,
          23.885942
         ],
         "line": {
          "color": "#7057db",
          "width": 2
         },
         "lon": [
          121.774017,
          45.079162
         ],
         "mode": "lines",
         "text": "Nacionalidade: Philippines<br>Pais exploração: Saudi Arabia<br>Quantidade de pessoas: 60",
         "type": "scattergeo"
        },
        {
         "lat": [
          12.879721,
          23.424076
         ],
         "line": {
          "color": "#7057db",
          "width": 2
         },
         "lon": [
          121.774017,
          53.847818
         ],
         "mode": "lines",
         "text": "Nacionalidade: Philippines<br>Pais exploração: United Arab Emirates<br>Quantidade de pessoas: 13",
         "type": "scattergeo"
        },
        {
         "lat": [
          45.943161,
          43.915886
         ],
         "line": {
          "color": "#8257db",
          "width": 2
         },
         "lon": [
          24.96676,
          17.679076
         ],
         "mode": "lines",
         "text": "Nacionalidade: Romania<br>Pais exploração: Bosnia and Herzegovina<br>Quantidade de pessoas: 114",
         "type": "scattergeo"
        },
        {
         "lat": [
          45.943161,
          56.26392
         ],
         "line": {
          "color": "#8257db",
          "width": 2
         },
         "lon": [
          24.96676,
          9.501785
         ],
         "mode": "lines",
         "text": "Nacionalidade: Romania<br>Pais exploração: Denmark<br>Quantidade de pessoas: 17",
         "type": "scattergeo"
        },
        {
         "lat": [
          45.943161,
          41.87194
         ],
         "line": {
          "color": "#8257db",
          "width": 2
         },
         "lon": [
          24.96676,
          12.56738
         ],
         "mode": "lines",
         "text": "Nacionalidade: Romania<br>Pais exploração: Italy<br>Quantidade de pessoas: 24",
         "type": "scattergeo"
        },
        {
         "lat": [
          45.943161,
          41.608635
         ],
         "line": {
          "color": "#8257db",
          "width": 2
         },
         "lon": [
          24.96676,
          21.745275
         ],
         "mode": "lines",
         "text": "Nacionalidade: Romania<br>Pais exploração: Macedonia [FYROM]<br>Quantidade de pessoas: 140",
         "type": "scattergeo"
        },
        {
         "lat": [
          45.943161,
          -22.95764
         ],
         "line": {
          "color": "#8257db",
          "width": 2
         },
         "lon": [
          24.96676,
          18.49041
         ],
         "mode": "lines",
         "text": "Nacionalidade: Romania<br>Pais exploração: Namibia<br>Quantidade de pessoas: 39",
         "type": "scattergeo"
        },
        {
         "lat": [
          45.943161,
          44.016521
         ],
         "line": {
          "color": "#8257db",
          "width": 2
         },
         "lon": [
          24.96676,
          21.005859
         ],
         "mode": "lines",
         "text": "Nacionalidade: Romania<br>Pais exploração: Serbia<br>Quantidade de pessoas: 62",
         "type": "scattergeo"
        },
        {
         "lat": [
          35.907757,
          37.09024
         ],
         "line": {
          "color": "#b757db",
          "width": 2
         },
         "lon": [
          127.766922,
          -95.712891
         ],
         "mode": "lines",
         "text": "Nacionalidade: South Korea<br>Pais exploração: United States<br>Quantidade de pessoas: 12",
         "type": "scattergeo"
        },
        {
         "lat": [
          7.873054,
          30.585164
         ],
         "line": {
          "color": "#c957db",
          "width": 2
         },
         "lon": [
          80.771797,
          36.238414
         ],
         "mode": "lines",
         "text": "Nacionalidade: Sri Lanka<br>Pais exploração: Jordan<br>Quantidade de pessoas: 85",
         "type": "scattergeo"
        },
        {
         "lat": [
          15.870032,
          -0.789275
         ],
         "line": {
          "color": "#db57cb",
          "width": 2
         },
         "lon": [
          100.992541,
          113.921327
         ],
         "mode": "lines",
         "text": "Nacionalidade: Thailand<br>Pais exploração: Indonesia<br>Quantidade de pessoas: 55",
         "type": "scattergeo"
        },
        {
         "lat": [
          48.379433,
          47.516231
         ],
         "line": {
          "color": "#db5795",
          "width": 2
         },
         "lon": [
          31.16558,
          14.550072
         ],
         "mode": "lines",
         "text": "Nacionalidade: Ukraine<br>Pais exploração: Austria<br>Quantidade de pessoas: 24",
         "type": "scattergeo"
        },
        {
         "lat": [
          48.379433,
          43.915886
         ],
         "line": {
          "color": "#db5795",
          "width": 2
         },
         "lon": [
          31.16558,
          17.679076
         ],
         "mode": "lines",
         "text": "Nacionalidade: Ukraine<br>Pais exploração: Bosnia and Herzegovina<br>Quantidade de pessoas: 13",
         "type": "scattergeo"
        },
        {
         "lat": [
          48.379433,
          42.733883
         ],
         "line": {
          "color": "#db5795",
          "width": 2
         },
         "lon": [
          31.16558,
          25.48583
         ],
         "mode": "lines",
         "text": "Nacionalidade: Ukraine<br>Pais exploração: Bulgaria<br>Quantidade de pessoas: 14",
         "type": "scattergeo"
        },
        {
         "lat": [
          48.379433,
          49.817492
         ],
         "line": {
          "color": "#db5795",
          "width": 2
         },
         "lon": [
          31.16558,
          15.472962
         ],
         "mode": "lines",
         "text": "Nacionalidade: Ukraine<br>Pais exploração: Czech Republic<br>Quantidade de pessoas: 38",
         "type": "scattergeo"
        },
        {
         "lat": [
          48.379433,
          48.019573
         ],
         "line": {
          "color": "#db5795",
          "width": 2
         },
         "lon": [
          31.16558,
          66.923684
         ],
         "mode": "lines",
         "text": "Nacionalidade: Ukraine<br>Pais exploração: Kazakhstan<br>Quantidade de pessoas: 17",
         "type": "scattergeo"
        },
        {
         "lat": [
          48.379433,
          41.608635
         ],
         "line": {
          "color": "#db5795",
          "width": 2
         },
         "lon": [
          31.16558,
          21.745275
         ],
         "mode": "lines",
         "text": "Nacionalidade: Ukraine<br>Pais exploração: Macedonia [FYROM]<br>Quantidade de pessoas: 54",
         "type": "scattergeo"
        },
        {
         "lat": [
          48.379433,
          -22.95764
         ],
         "line": {
          "color": "#db5795",
          "width": 2
         },
         "lon": [
          31.16558,
          18.49041
         ],
         "mode": "lines",
         "text": "Nacionalidade: Ukraine<br>Pais exploração: Namibia<br>Quantidade de pessoas: 11",
         "type": "scattergeo"
        },
        {
         "lat": [
          48.379433,
          51.919438
         ],
         "line": {
          "color": "#db5795",
          "width": 2
         },
         "lon": [
          31.16558,
          19.145136
         ],
         "mode": "lines",
         "text": "Nacionalidade: Ukraine<br>Pais exploração: Poland<br>Quantidade de pessoas: 314",
         "type": "scattergeo"
        },
        {
         "lat": [
          48.379433,
          61.52401
         ],
         "line": {
          "color": "#db5795",
          "width": 2
         },
         "lon": [
          31.16558,
          105.318756
         ],
         "mode": "lines",
         "text": "Nacionalidade: Ukraine<br>Pais exploração: Russia<br>Quantidade de pessoas: 1676",
         "type": "scattergeo"
        },
        {
         "lat": [
          48.379433,
          44.016521
         ],
         "line": {
          "color": "#db5795",
          "width": 2
         },
         "lon": [
          31.16558,
          21.005859
         ],
         "mode": "lines",
         "text": "Nacionalidade: Ukraine<br>Pais exploração: Serbia<br>Quantidade de pessoas: 27",
         "type": "scattergeo"
        },
        {
         "lat": [
          48.379433,
          38.963745
         ],
         "line": {
          "color": "#db5795",
          "width": 2
         },
         "lon": [
          31.16558,
          35.243322
         ],
         "mode": "lines",
         "text": "Nacionalidade: Ukraine<br>Pais exploração: Turkey<br>Quantidade de pessoas: 174",
         "type": "scattergeo"
        },
        {
         "lat": [
          48.379433,
          23.424076
         ],
         "line": {
          "color": "#db5795",
          "width": 2
         },
         "lon": [
          31.16558,
          53.847818
         ],
         "mode": "lines",
         "text": "Nacionalidade: Ukraine<br>Pais exploração: United Arab Emirates<br>Quantidade de pessoas: 100",
         "type": "scattergeo"
        },
        {
         "lat": [
          41.377491,
          48.019573
         ],
         "line": {
          "color": "#db5772",
          "width": 2
         },
         "lon": [
          64.585262,
          66.923684
         ],
         "mode": "lines",
         "text": "Nacionalidade: Uzbekistan<br>Pais exploração: Kazakhstan<br>Quantidade de pessoas: 57",
         "type": "scattergeo"
        },
        {
         "lat": [
          41.377491,
          61.52401
         ],
         "line": {
          "color": "#db5772",
          "width": 2
         },
         "lon": [
          64.585262,
          105.318756
         ],
         "mode": "lines",
         "text": "Nacionalidade: Uzbekistan<br>Pais exploração: Russia<br>Quantidade de pessoas: 11",
         "type": "scattergeo"
        },
        {
         "lat": [
          14.058324,
          12.565679
         ],
         "line": {
          "color": "#db5760",
          "width": 2
         },
         "lon": [
          108.277199,
          104.990963
         ],
         "mode": "lines",
         "text": "Nacionalidade: Vietnam<br>Pais exploração: Cambodia<br>Quantidade de pessoas: 46",
         "type": "scattergeo"
        },
        {
         "lat": [
          14.058324,
          4.210484
         ],
         "line": {
          "color": "#db5760",
          "width": 2
         },
         "lon": [
          108.277199,
          101.975766
         ],
         "mode": "lines",
         "text": "Nacionalidade: Vietnam<br>Pais exploração: Malaysia<br>Quantidade de pessoas: 108",
         "type": "scattergeo"
        }
       ],
       "layout": {
        "geo": {
         "projection": {
          "type": "equirectangular"
         },
         "showcoastlines": false,
         "showframe": false
        },
        "showlegend": false,
        "template": {
         "data": {
          "bar": [
           {
            "error_x": {
             "color": "#2a3f5f"
            },
            "error_y": {
             "color": "#2a3f5f"
            },
            "marker": {
             "line": {
              "color": "#E5ECF6",
              "width": 0.5
             }
            },
            "type": "bar"
           }
          ],
          "barpolar": [
           {
            "marker": {
             "line": {
              "color": "#E5ECF6",
              "width": 0.5
             }
            },
            "type": "barpolar"
           }
          ],
          "carpet": [
           {
            "aaxis": {
             "endlinecolor": "#2a3f5f",
             "gridcolor": "white",
             "linecolor": "white",
             "minorgridcolor": "white",
             "startlinecolor": "#2a3f5f"
            },
            "baxis": {
             "endlinecolor": "#2a3f5f",
             "gridcolor": "white",
             "linecolor": "white",
             "minorgridcolor": "white",
             "startlinecolor": "#2a3f5f"
            },
            "type": "carpet"
           }
          ],
          "choropleth": [
           {
            "colorbar": {
             "outlinewidth": 0,
             "ticks": ""
            },
            "type": "choropleth"
           }
          ],
          "contour": [
           {
            "colorbar": {
             "outlinewidth": 0,
             "ticks": ""
            },
            "colorscale": [
             [
              0,
              "#0d0887"
             ],
             [
              0.1111111111111111,
              "#46039f"
             ],
             [
              0.2222222222222222,
              "#7201a8"
             ],
             [
              0.3333333333333333,
              "#9c179e"
             ],
             [
              0.4444444444444444,
              "#bd3786"
             ],
             [
              0.5555555555555556,
              "#d8576b"
             ],
             [
              0.6666666666666666,
              "#ed7953"
             ],
             [
              0.7777777777777778,
              "#fb9f3a"
             ],
             [
              0.8888888888888888,
              "#fdca26"
             ],
             [
              1,
              "#f0f921"
             ]
            ],
            "type": "contour"
           }
          ],
          "contourcarpet": [
           {
            "colorbar": {
             "outlinewidth": 0,
             "ticks": ""
            },
            "type": "contourcarpet"
           }
          ],
          "heatmap": [
           {
            "colorbar": {
             "outlinewidth": 0,
             "ticks": ""
            },
            "colorscale": [
             [
              0,
              "#0d0887"
             ],
             [
              0.1111111111111111,
              "#46039f"
             ],
             [
              0.2222222222222222,
              "#7201a8"
             ],
             [
              0.3333333333333333,
              "#9c179e"
             ],
             [
              0.4444444444444444,
              "#bd3786"
             ],
             [
              0.5555555555555556,
              "#d8576b"
             ],
             [
              0.6666666666666666,
              "#ed7953"
             ],
             [
              0.7777777777777778,
              "#fb9f3a"
             ],
             [
              0.8888888888888888,
              "#fdca26"
             ],
             [
              1,
              "#f0f921"
             ]
            ],
            "type": "heatmap"
           }
          ],
          "heatmapgl": [
           {
            "colorbar": {
             "outlinewidth": 0,
             "ticks": ""
            },
            "colorscale": [
             [
              0,
              "#0d0887"
             ],
             [
              0.1111111111111111,
              "#46039f"
             ],
             [
              0.2222222222222222,
              "#7201a8"
             ],
             [
              0.3333333333333333,
              "#9c179e"
             ],
             [
              0.4444444444444444,
              "#bd3786"
             ],
             [
              0.5555555555555556,
              "#d8576b"
             ],
             [
              0.6666666666666666,
              "#ed7953"
             ],
             [
              0.7777777777777778,
              "#fb9f3a"
             ],
             [
              0.8888888888888888,
              "#fdca26"
             ],
             [
              1,
              "#f0f921"
             ]
            ],
            "type": "heatmapgl"
           }
          ],
          "histogram": [
           {
            "marker": {
             "colorbar": {
              "outlinewidth": 0,
              "ticks": ""
             }
            },
            "type": "histogram"
           }
          ],
          "histogram2d": [
           {
            "colorbar": {
             "outlinewidth": 0,
             "ticks": ""
            },
            "colorscale": [
             [
              0,
              "#0d0887"
             ],
             [
              0.1111111111111111,
              "#46039f"
             ],
             [
              0.2222222222222222,
              "#7201a8"
             ],
             [
              0.3333333333333333,
              "#9c179e"
             ],
             [
              0.4444444444444444,
              "#bd3786"
             ],
             [
              0.5555555555555556,
              "#d8576b"
             ],
             [
              0.6666666666666666,
              "#ed7953"
             ],
             [
              0.7777777777777778,
              "#fb9f3a"
             ],
             [
              0.8888888888888888,
              "#fdca26"
             ],
             [
              1,
              "#f0f921"
             ]
            ],
            "type": "histogram2d"
           }
          ],
          "histogram2dcontour": [
           {
            "colorbar": {
             "outlinewidth": 0,
             "ticks": ""
            },
            "colorscale": [
             [
              0,
              "#0d0887"
             ],
             [
              0.1111111111111111,
              "#46039f"
             ],
             [
              0.2222222222222222,
              "#7201a8"
             ],
             [
              0.3333333333333333,
              "#9c179e"
             ],
             [
              0.4444444444444444,
              "#bd3786"
             ],
             [
              0.5555555555555556,
              "#d8576b"
             ],
             [
              0.6666666666666666,
              "#ed7953"
             ],
             [
              0.7777777777777778,
              "#fb9f3a"
             ],
             [
              0.8888888888888888,
              "#fdca26"
             ],
             [
              1,
              "#f0f921"
             ]
            ],
            "type": "histogram2dcontour"
           }
          ],
          "mesh3d": [
           {
            "colorbar": {
             "outlinewidth": 0,
             "ticks": ""
            },
            "type": "mesh3d"
           }
          ],
          "parcoords": [
           {
            "line": {
             "colorbar": {
              "outlinewidth": 0,
              "ticks": ""
             }
            },
            "type": "parcoords"
           }
          ],
          "pie": [
           {
            "automargin": true,
            "type": "pie"
           }
          ],
          "scatter": [
           {
            "marker": {
             "colorbar": {
              "outlinewidth": 0,
              "ticks": ""
             }
            },
            "type": "scatter"
           }
          ],
          "scatter3d": [
           {
            "line": {
             "colorbar": {
              "outlinewidth": 0,
              "ticks": ""
             }
            },
            "marker": {
             "colorbar": {
              "outlinewidth": 0,
              "ticks": ""
             }
            },
            "type": "scatter3d"
           }
          ],
          "scattercarpet": [
           {
            "marker": {
             "colorbar": {
              "outlinewidth": 0,
              "ticks": ""
             }
            },
            "type": "scattercarpet"
           }
          ],
          "scattergeo": [
           {
            "marker": {
             "colorbar": {
              "outlinewidth": 0,
              "ticks": ""
             }
            },
            "type": "scattergeo"
           }
          ],
          "scattergl": [
           {
            "marker": {
             "colorbar": {
              "outlinewidth": 0,
              "ticks": ""
             }
            },
            "type": "scattergl"
           }
          ],
          "scattermapbox": [
           {
            "marker": {
             "colorbar": {
              "outlinewidth": 0,
              "ticks": ""
             }
            },
            "type": "scattermapbox"
           }
          ],
          "scatterpolar": [
           {
            "marker": {
             "colorbar": {
              "outlinewidth": 0,
              "ticks": ""
             }
            },
            "type": "scatterpolar"
           }
          ],
          "scatterpolargl": [
           {
            "marker": {
             "colorbar": {
              "outlinewidth": 0,
              "ticks": ""
             }
            },
            "type": "scatterpolargl"
           }
          ],
          "scatterternary": [
           {
            "marker": {
             "colorbar": {
              "outlinewidth": 0,
              "ticks": ""
             }
            },
            "type": "scatterternary"
           }
          ],
          "surface": [
           {
            "colorbar": {
             "outlinewidth": 0,
             "ticks": ""
            },
            "colorscale": [
             [
              0,
              "#0d0887"
             ],
             [
              0.1111111111111111,
              "#46039f"
             ],
             [
              0.2222222222222222,
              "#7201a8"
             ],
             [
              0.3333333333333333,
              "#9c179e"
             ],
             [
              0.4444444444444444,
              "#bd3786"
             ],
             [
              0.5555555555555556,
              "#d8576b"
             ],
             [
              0.6666666666666666,
              "#ed7953"
             ],
             [
              0.7777777777777778,
              "#fb9f3a"
             ],
             [
              0.8888888888888888,
              "#fdca26"
             ],
             [
              1,
              "#f0f921"
             ]
            ],
            "type": "surface"
           }
          ],
          "table": [
           {
            "cells": {
             "fill": {
              "color": "#EBF0F8"
             },
             "line": {
              "color": "white"
             }
            },
            "header": {
             "fill": {
              "color": "#C8D4E3"
             },
             "line": {
              "color": "white"
             }
            },
            "type": "table"
           }
          ]
         },
         "layout": {
          "annotationdefaults": {
           "arrowcolor": "#2a3f5f",
           "arrowhead": 0,
           "arrowwidth": 1
          },
          "coloraxis": {
           "colorbar": {
            "outlinewidth": 0,
            "ticks": ""
           }
          },
          "colorscale": {
           "diverging": [
            [
             0,
             "#8e0152"
            ],
            [
             0.1,
             "#c51b7d"
            ],
            [
             0.2,
             "#de77ae"
            ],
            [
             0.3,
             "#f1b6da"
            ],
            [
             0.4,
             "#fde0ef"
            ],
            [
             0.5,
             "#f7f7f7"
            ],
            [
             0.6,
             "#e6f5d0"
            ],
            [
             0.7,
             "#b8e186"
            ],
            [
             0.8,
             "#7fbc41"
            ],
            [
             0.9,
             "#4d9221"
            ],
            [
             1,
             "#276419"
            ]
           ],
           "sequential": [
            [
             0,
             "#0d0887"
            ],
            [
             0.1111111111111111,
             "#46039f"
            ],
            [
             0.2222222222222222,
             "#7201a8"
            ],
            [
             0.3333333333333333,
             "#9c179e"
            ],
            [
             0.4444444444444444,
             "#bd3786"
            ],
            [
             0.5555555555555556,
             "#d8576b"
            ],
            [
             0.6666666666666666,
             "#ed7953"
            ],
            [
             0.7777777777777778,
             "#fb9f3a"
            ],
            [
             0.8888888888888888,
             "#fdca26"
            ],
            [
             1,
             "#f0f921"
            ]
           ],
           "sequentialminus": [
            [
             0,
             "#0d0887"
            ],
            [
             0.1111111111111111,
             "#46039f"
            ],
            [
             0.2222222222222222,
             "#7201a8"
            ],
            [
             0.3333333333333333,
             "#9c179e"
            ],
            [
             0.4444444444444444,
             "#bd3786"
            ],
            [
             0.5555555555555556,
             "#d8576b"
            ],
            [
             0.6666666666666666,
             "#ed7953"
            ],
            [
             0.7777777777777778,
             "#fb9f3a"
            ],
            [
             0.8888888888888888,
             "#fdca26"
            ],
            [
             1,
             "#f0f921"
            ]
           ]
          },
          "colorway": [
           "#636efa",
           "#EF553B",
           "#00cc96",
           "#ab63fa",
           "#FFA15A",
           "#19d3f3",
           "#FF6692",
           "#B6E880",
           "#FF97FF",
           "#FECB52"
          ],
          "font": {
           "color": "#2a3f5f"
          },
          "geo": {
           "bgcolor": "white",
           "lakecolor": "white",
           "landcolor": "#E5ECF6",
           "showlakes": true,
           "showland": true,
           "subunitcolor": "white"
          },
          "hoverlabel": {
           "align": "left"
          },
          "hovermode": "closest",
          "mapbox": {
           "style": "light"
          },
          "paper_bgcolor": "white",
          "plot_bgcolor": "#E5ECF6",
          "polar": {
           "angularaxis": {
            "gridcolor": "white",
            "linecolor": "white",
            "ticks": ""
           },
           "bgcolor": "#E5ECF6",
           "radialaxis": {
            "gridcolor": "white",
            "linecolor": "white",
            "ticks": ""
           }
          },
          "scene": {
           "xaxis": {
            "backgroundcolor": "#E5ECF6",
            "gridcolor": "white",
            "gridwidth": 2,
            "linecolor": "white",
            "showbackground": true,
            "ticks": "",
            "zerolinecolor": "white"
           },
           "yaxis": {
            "backgroundcolor": "#E5ECF6",
            "gridcolor": "white",
            "gridwidth": 2,
            "linecolor": "white",
            "showbackground": true,
            "ticks": "",
            "zerolinecolor": "white"
           },
           "zaxis": {
            "backgroundcolor": "#E5ECF6",
            "gridcolor": "white",
            "gridwidth": 2,
            "linecolor": "white",
            "showbackground": true,
            "ticks": "",
            "zerolinecolor": "white"
           }
          },
          "shapedefaults": {
           "line": {
            "color": "#2a3f5f"
           }
          },
          "ternary": {
           "aaxis": {
            "gridcolor": "white",
            "linecolor": "white",
            "ticks": ""
           },
           "baxis": {
            "gridcolor": "white",
            "linecolor": "white",
            "ticks": ""
           },
           "bgcolor": "#E5ECF6",
           "caxis": {
            "gridcolor": "white",
            "linecolor": "white",
            "ticks": ""
           }
          },
          "title": {
           "x": 0.05
          },
          "xaxis": {
           "automargin": true,
           "gridcolor": "white",
           "linecolor": "white",
           "ticks": "",
           "title": {
            "standoff": 15
           },
           "zerolinecolor": "white",
           "zerolinewidth": 2
          },
          "yaxis": {
           "automargin": true,
           "gridcolor": "white",
           "linecolor": "white",
           "ticks": "",
           "title": {
            "standoff": 15
           },
           "zerolinecolor": "white",
           "zerolinewidth": 2
          }
         }
        },
        "title": {
         "text": "Fluxo do tráfico de pessoas"
        }
       }
      }
     },
     "metadata": {}
    }
   ],
   "source": [
    "fig = go.Figure()\n",
    "\n",
    "for i in range(0,dados_lines_group.shape[0]):\n",
    "    fig.add_trace(\n",
    "        go.Scattergeo(\n",
    "            lon = [dados_lines_group['nacionalidade_long'][i], dados_lines_group['pais_exploracao_long'][i]],\n",
    "            lat = [dados_lines_group['nacionalidade_lat'][i], dados_lines_group['pais_exploracao_lat'][i]],\n",
    "            mode = 'lines',\n",
    "            line = dict(\n",
    "                width = 2, color = dados_lines_group['cor'][i]\n",
    "            ),\n",
    "            text = dados_lines_group['texto'][i],\n",
    "        )\n",
    "    )\n",
    "\n",
    "\n",
    "fig.update_layout(\n",
    "    title_text='Fluxo do tráfico de pessoas',\n",
    "    showlegend = False,\n",
    "    geo=dict(\n",
    "        showframe=False,\n",
    "        showcoastlines=False,\n",
    "        projection_type='equirectangular'\n",
    "    )\n",
    ")\n",
    "\n",
    "fig.show()"
   ]
  },
  {
   "cell_type": "code",
   "execution_count": null,
   "metadata": {},
   "outputs": [],
   "source": []
  }
 ],
 "metadata": {
  "language_info": {
   "codemirror_mode": {
    "name": "ipython",
    "version": 3
   },
   "file_extension": ".py",
   "mimetype": "text/x-python",
   "name": "python",
   "nbconvert_exporter": "python",
   "pygments_lexer": "ipython3",
   "version": "3.7.4-final"
  },
  "orig_nbformat": 2,
  "kernelspec": {
   "name": "python37464bitbaseconda59a8c30aeeb94c149e097b050471bca2",
   "display_name": "Python 3.7.4 64-bit ('base': conda)"
  }
 },
 "nbformat": 4,
 "nbformat_minor": 2
}